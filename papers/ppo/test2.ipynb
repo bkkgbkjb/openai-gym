{
 "cells": [
  {
   "cell_type": "code",
   "execution_count": 1,
   "metadata": {},
   "outputs": [
    {
     "name": "stdout",
     "output_type": "stream",
     "text": [
      "env is <OrderEnforcing<TestEnv<TestEnv-v0>>>\n",
      "all observation in episode 0:\n",
      "[array([0.]), array([1.]), array([2.]), array([3.]), array([4.]), array([5.]), array([6.]), array([7.]), array([8.]), array([9.]), array([10.])]\n",
      "true termination\n",
      "\n",
      "all observation in episode 1:\n",
      "[array([0.]), array([1.]), array([2.]), array([3.]), array([4.]), array([5.]), array([6.]), array([7.]), array([8.]), array([9.]), array([10.])]\n",
      "true termination\n",
      "\n",
      "=========\n"
     ]
    },
    {
     "name": "stderr",
     "output_type": "stream",
     "text": [
      "/home/diyuan/.local/lib/python3.9/site-packages/gym/spaces/box.py:84: UserWarning: \u001b[33mWARN: Box bound precision lowered by casting to float32\u001b[0m\n",
      "  logger.warn(f\"Box bound precision lowered by casting to {self.dtype}\")\n"
     ]
    }
   ],
   "source": [
    "import gym\n",
    "import numpy as np\n",
    "from gym import error, spaces, utils\n",
    "from gym.envs.registration import register\n",
    "\n",
    "\"\"\"\n",
    "First kind of termination: true termination\n",
    "As an example, the true termination of the Breakout game in Atari 2600\n",
    "comes when you lose all of your lives.\n",
    "\"\"\"\n",
    "\n",
    "\n",
    "class TestEnv(gym.Env):\n",
    "    \"\"\"\n",
    "    A simple env that always ends after 10 timesteps, which \n",
    "    can be considered as the ``true termination'' from the environment.\n",
    "    At each timestep, its observation is its internal timestep\n",
    "    \"\"\"\n",
    "\n",
    "    def __init__(self):\n",
    "        self.action_space = spaces.Discrete(2)\n",
    "        self.observation_space = spaces.Box(low=np.array([-1.]),\n",
    "                                            high=np.array([10.]))\n",
    "\n",
    "    def step(self, action):\n",
    "        self.t += 1\n",
    "        return np.array([0.])+self.t, 1 if (self.t != 10 and self.t != 8) else 0, self.t == 10, {}\n",
    "\n",
    "    def reset(self):\n",
    "        self.t = 0\n",
    "        return np.array([0.])+self.t\n",
    "\n",
    "\n",
    "if \"TestEnv-v0\" not in gym.envs.registry.env_specs:\n",
    "    register(\n",
    "        \"TestEnv-v0\",\n",
    "        entry_point='__main__:TestEnv'\n",
    "    )\n",
    "\n",
    "env = gym.make(\"TestEnv-v0\")\n",
    "print(f\"env is {env}\")\n",
    "for i in range(2):\n",
    "    all_obs = [env.reset()]\n",
    "    while True:\n",
    "        obs, reward, done, info = env.step(env.action_space.sample())\n",
    "        all_obs += [obs]\n",
    "        if done:\n",
    "            print(f\"all observation in episode {i}:\")\n",
    "            print(all_obs)\n",
    "            print(\"true termination\")\n",
    "            print()\n",
    "            break\n",
    "print(\"=========\")\n"
   ]
  },
  {
   "cell_type": "code",
   "execution_count": 2,
   "metadata": {},
   "outputs": [
    {
     "name": "stdout",
     "output_type": "stream",
     "text": [
      "env is <TimeLimit<OrderEnforcing<TestEnv<TestEnvTimeLimit3-v0>>>>\n",
      "env's timelimit is 8\n",
      "all observation in episode 0:\n",
      "[array([0.]), array([1.]), array([2.]), array([3.]), array([4.]), array([5.]), array([6.]), array([7.]), array([8.])]\n",
      "TimeLimit termination\n",
      "\n",
      "all observation in episode 1:\n",
      "[array([0.]), array([1.]), array([2.]), array([3.]), array([4.]), array([5.]), array([6.]), array([7.]), array([8.])]\n",
      "TimeLimit termination\n",
      "\n",
      "=========\n"
     ]
    }
   ],
   "source": [
    "\"\"\"\n",
    "Second kind of termination: TimeLimit termination\n",
    "As an example, TimeLimit termination comes when the episode of \"CartPole-v0\"\n",
    "exceeds length 200.\n",
    "\"\"\"\n",
    "if \"TestEnvTimeLimit3-v0\" not in gym.envs.registry.env_specs:\n",
    "    register(\n",
    "        \"TestEnvTimeLimit3-v0\",\n",
    "        entry_point='__main__:TestEnv',\n",
    "        max_episode_steps=8\n",
    "    )\n",
    "\n",
    "env = gym.make(\"TestEnvTimeLimit3-v0\")\n",
    "# equivalent to below\n",
    "# env = TestEnv()\n",
    "# env = gym.wrappers.TimeLimit(env, max_episode_steps=8)\n",
    "print(f\"env is {env}\")\n",
    "print(f\"env's timelimit is {env._max_episode_steps}\")\n",
    "for i in range(2):\n",
    "    all_obs = [env.reset()]\n",
    "    while True:\n",
    "        obs, reward, done, info = env.step(env.action_space.sample())\n",
    "        all_obs += [obs]\n",
    "        if done:\n",
    "            print(f\"all observation in episode {i}:\")\n",
    "            print(all_obs)\n",
    "            print(\"TimeLimit termination\")\n",
    "            print()\n",
    "            break\n",
    "print(\"=========\")"
   ]
  },
  {
   "cell_type": "code",
   "execution_count": 3,
   "metadata": {},
   "outputs": [
    {
     "name": "stdout",
     "output_type": "stream",
     "text": [
      "envs is <SyncVectorEnv instance>\n",
      "envs' timelimit is 8\n",
      "all observation in trajectory 0:\n",
      "[array([[0.]]), array([[1.]]), array([[2.]]), array([[3.]]), array([[4.]])]\n",
      "early termination by `n_steps`\n",
      "\n",
      "[array([1.]), array([1.]), array([1.]), array([1.]), array([1.])]\n",
      "[array([False]), array([False]), array([False]), array([False]), array([False])]\n",
      "all observation in trajectory 1:\n",
      "[array([[5.]]), array([[6.]]), array([[7.]]), array([[0.]]), array([[1.]])]\n",
      "early termination by `n_steps`\n",
      "\n",
      "[array([1.]), array([1.]), array([0.]), array([1.]), array([1.])]\n",
      "[array([False]), array([False]), array([ True]), array([False]), array([False])]\n",
      "all observation in trajectory 2:\n",
      "[array([[2.]]), array([[3.]]), array([[4.]]), array([[5.]]), array([[6.]])]\n",
      "early termination by `n_steps`\n",
      "\n",
      "[array([1.]), array([1.]), array([1.]), array([1.]), array([1.])]\n",
      "[array([False]), array([False]), array([False]), array([False]), array([False])]\n",
      "=========\n"
     ]
    }
   ],
   "source": [
    "from gym.vector import SyncVectorEnv\n",
    "\"\"\"\n",
    "Third kind of termination: early termination induced by fixed \n",
    "trajectory length of `n_steps`\n",
    "This is usually combined with TimeLimit wrapped env,\n",
    "but you can use it without the TimeLimit\n",
    "\"\"\"\n",
    "n_steps = 5\n",
    "envs = SyncVectorEnv([\n",
    "    lambda: gym.make(\"TestEnvTimeLimit3-v0\")])\n",
    "print(f\"envs is {envs}\")\n",
    "print(f\"envs' timelimit is {envs.envs[0]._max_episode_steps}\")\n",
    "obss = envs.reset()\n",
    "for i in range(3):\n",
    "    all_obss = []\n",
    "    all_rwds = []\n",
    "    all_done = []\n",
    "    for j in range(n_steps):\n",
    "        all_obss += [obss.astype(\"float\")]\n",
    "        obss, rewards, dones, infos = envs.step(np.array([1., 1.]))\n",
    "        all_rwds.append(rewards)\n",
    "        all_done.append(dones)\n",
    "        # print(infos)\n",
    "\n",
    "    print(f\"all observation in trajectory {i}:\")\n",
    "    print(all_obss)\n",
    "    print(\"early termination by `n_steps`\")\n",
    "    print()\n",
    "    print(all_rwds)\n",
    "    print(all_done)\n",
    "print(\"=========\")\n"
   ]
  }
 ],
 "metadata": {
  "interpreter": {
   "hash": "916dbcbb3f70747c44a77c7bcd40155683ae19c65e1c03b4aa3499c5328201f1"
  },
  "kernelspec": {
   "display_name": "Python 3.9.7 64-bit",
   "language": "python",
   "name": "python3"
  },
  "language_info": {
   "codemirror_mode": {
    "name": "ipython",
    "version": 3
   },
   "file_extension": ".py",
   "mimetype": "text/x-python",
   "name": "python",
   "nbconvert_exporter": "python",
   "pygments_lexer": "ipython3",
   "version": "3.9.7"
  },
  "orig_nbformat": 4
 },
 "nbformat": 4,
 "nbformat_minor": 2
}

{
 "cells": [
  {
   "cell_type": "code",
   "execution_count": 7,
   "metadata": {},
   "outputs": [],
   "source": [
    "import setup\n",
    "import argparse\n",
    "import os\n",
    "import random\n",
    "import time\n",
    "import gym\n",
    "import numpy as np\n",
    "import torch\n",
    "import torch.nn as nn\n",
    "import torch.optim as optim\n",
    "from torch.distributions.categorical import Categorical\n",
    "from typing import List, Tuple, Literal, Any, Optional, cast, Callable, Union, Iterable\n",
    "from utils.env import PreprocessObservation, FrameStack, ToTensorEnv\n",
    "\n",
    "from utils.env_sb3 import WarpFrame, MaxAndSkipEnv, NoopResetEnv, EpisodicLifeEnv"
   ]
  },
  {
   "cell_type": "code",
   "execution_count": 8,
   "metadata": {},
   "outputs": [],
   "source": [
    "env = gym.make('PongDeterministic-v4')\n",
    "env = WarpFrame(env)\n",
    "env = ToTensorEnv(env)\n",
    "env = FrameStack(env, num_stack=4)"
   ]
  },
  {
   "cell_type": "code",
   "execution_count": 9,
   "metadata": {},
   "outputs": [],
   "source": [
    "def make_env():\n",
    "    def thunk():\n",
    "        env = gym.make('PongDeterministic-v4')\n",
    "        env.seed(0)\n",
    "        env = WarpFrame(env)\n",
    "        env = ToTensorEnv(env)\n",
    "        env = FrameStack(env, num_stack=4)\n",
    "        return env\n",
    "\n",
    "    return thunk\n"
   ]
  },
  {
   "cell_type": "code",
   "execution_count": 10,
   "metadata": {},
   "outputs": [
    {
     "data": {
      "text/plain": [
       "SyncVectorEnv(4)"
      ]
     },
     "execution_count": 10,
     "metadata": {},
     "output_type": "execute_result"
    }
   ],
   "source": [
    "# envs = gym.vector.make('PongDeterministic-v4', 3, False, )\n",
    "envs = gym.vector.SyncVectorEnv([make_env() for _ in range(4)])\n",
    "envs\n"
   ]
  },
  {
   "cell_type": "code",
   "execution_count": 12,
   "metadata": {},
   "outputs": [
    {
     "data": {
      "text/plain": [
       "((), (4, 1, 84, 84))"
      ]
     },
     "execution_count": 12,
     "metadata": {},
     "output_type": "execute_result"
    }
   ],
   "source": [
    "(envs.single_action_space.shape, envs.single_observation_space.shape)"
   ]
  },
  {
   "cell_type": "code",
   "execution_count": 68,
   "metadata": {},
   "outputs": [],
   "source": [
    "State = torch.Tensor"
   ]
  },
  {
   "cell_type": "code",
   "execution_count": 69,
   "metadata": {},
   "outputs": [],
   "source": [
    "class ActorCritic(nn.Module):\n",
    "    def __init__(self, n_actions: int):\n",
    "        super().__init__()\n",
    "\n",
    "        self.n_actions = n_actions\n",
    "\n",
    "        self.base = nn.Sequential(\n",
    "            nn.Conv2d(4, 32, (8, 8), 4),\n",
    "            nn.ReLU(),\n",
    "            nn.Conv2d(32, 64, (4, 4), 2),\n",
    "            nn.ReLU(),\n",
    "            nn.Conv2d(64, 64, (3, 3), 1),\n",
    "            nn.ReLU(),\n",
    "            nn.Flatten(),\n",
    "            nn.Linear(7 * 7 * 64, 512),\n",
    "            nn.ReLU(),\n",
    "            # nn.Linear(256, n_actions),\n",
    "            # nn.Softmax(dim=1),\n",
    "        )\n",
    "\n",
    "        self.actor = nn.Sequential(\n",
    "            nn.Linear(512, n_actions), nn.Softmax(dim=1))\n",
    "        self.critic = nn.Linear(512, 1)\n",
    "\n",
    "    def forward(self, s: State) -> Tuple[torch.Tensor, torch.Tensor]:\n",
    "        base = self.base(s)\n",
    "        action = self.actor(base)\n",
    "        value = self.critic(base)\n",
    "\n",
    "        assert action.shape == (s.size(0), self.n_actions)\n",
    "        assert value.shape == (s.size(0), 1)\n",
    "\n",
    "        return (action, value)"
   ]
  },
  {
   "cell_type": "code",
   "execution_count": 71,
   "metadata": {},
   "outputs": [
    {
     "name": "stdout",
     "output_type": "stream",
     "text": [
      "(3, 4, 1, 84, 84)\n"
     ]
    },
    {
     "data": {
      "text/plain": [
       "array([[[[0.2509804 , 0.2509804 , 0.2509804 , ..., 0.41960785,\n",
       "          0.41960785, 0.41960785],\n",
       "         [0.41960785, 0.41960785, 0.41960785, ..., 0.41960785,\n",
       "          0.41960785, 0.41960785],\n",
       "         [0.41960785, 0.41960785, 0.41960785, ..., 0.41960785,\n",
       "          0.41960785, 0.41960785],\n",
       "         ...,\n",
       "         [0.2901961 , 0.2901961 , 0.2901961 , ..., 0.2901961 ,\n",
       "          0.2901961 , 0.2901961 ],\n",
       "         [0.2901961 , 0.2901961 , 0.2901961 , ..., 0.2901961 ,\n",
       "          0.2901961 , 0.2901961 ],\n",
       "         [0.2901961 , 0.2901961 , 0.2901961 , ..., 0.2901961 ,\n",
       "          0.2901961 , 0.2901961 ]]],\n",
       "\n",
       "\n",
       "       [[[0.2509804 , 0.2509804 , 0.2509804 , ..., 0.41960785,\n",
       "          0.41960785, 0.41960785],\n",
       "         [0.41960785, 0.41960785, 0.41960785, ..., 0.41960785,\n",
       "          0.41960785, 0.41960785],\n",
       "         [0.41960785, 0.41960785, 0.41960785, ..., 0.41960785,\n",
       "          0.41960785, 0.41960785],\n",
       "         ...,\n",
       "         [0.2901961 , 0.2901961 , 0.2901961 , ..., 0.2901961 ,\n",
       "          0.2901961 , 0.2901961 ],\n",
       "         [0.2901961 , 0.2901961 , 0.2901961 , ..., 0.2901961 ,\n",
       "          0.2901961 , 0.2901961 ],\n",
       "         [0.2901961 , 0.2901961 , 0.2901961 , ..., 0.2901961 ,\n",
       "          0.2901961 , 0.2901961 ]]],\n",
       "\n",
       "\n",
       "       [[[0.2509804 , 0.2509804 , 0.2509804 , ..., 0.41960785,\n",
       "          0.41960785, 0.41960785],\n",
       "         [0.41960785, 0.41960785, 0.41960785, ..., 0.41960785,\n",
       "          0.41960785, 0.41960785],\n",
       "         [0.41960785, 0.41960785, 0.41960785, ..., 0.41960785,\n",
       "          0.41960785, 0.41960785],\n",
       "         ...,\n",
       "         [0.2901961 , 0.2901961 , 0.2901961 , ..., 0.2901961 ,\n",
       "          0.2901961 , 0.2901961 ],\n",
       "         [0.2901961 , 0.2901961 , 0.2901961 , ..., 0.2901961 ,\n",
       "          0.2901961 , 0.2901961 ],\n",
       "         [0.2901961 , 0.2901961 , 0.2901961 , ..., 0.2901961 ,\n",
       "          0.2901961 , 0.2901961 ]]],\n",
       "\n",
       "\n",
       "       [[[0.2509804 , 0.2509804 , 0.2509804 , ..., 0.41960785,\n",
       "          0.41960785, 0.41960785],\n",
       "         [0.41960785, 0.41960785, 0.41960785, ..., 0.41960785,\n",
       "          0.41960785, 0.41960785],\n",
       "         [0.41960785, 0.41960785, 0.41960785, ..., 0.41960785,\n",
       "          0.41960785, 0.41960785],\n",
       "         ...,\n",
       "         [0.2901961 , 0.2901961 , 0.2901961 , ..., 0.2901961 ,\n",
       "          0.2901961 , 0.2901961 ],\n",
       "         [0.2901961 , 0.2901961 , 0.2901961 , ..., 0.2901961 ,\n",
       "          0.2901961 , 0.2901961 ],\n",
       "         [0.2901961 , 0.2901961 , 0.2901961 , ..., 0.2901961 ,\n",
       "          0.2901961 , 0.2901961 ]]]], dtype=float32)"
      ]
     },
     "execution_count": 71,
     "metadata": {},
     "output_type": "execute_result"
    }
   ],
   "source": [
    "os = (envs.reset())\n",
    "print(os.shape)\n",
    "os[0]"
   ]
  },
  {
   "cell_type": "code",
   "execution_count": 58,
   "metadata": {},
   "outputs": [
    {
     "data": {
      "text/plain": [
       "tensor([[[0.2510, 0.2510, 0.2510,  ..., 0.4196, 0.4196, 0.4196],\n",
       "         [0.4196, 0.4196, 0.4196,  ..., 0.4196, 0.4196, 0.4196],\n",
       "         [0.4196, 0.4196, 0.4196,  ..., 0.4196, 0.4196, 0.4196],\n",
       "         ...,\n",
       "         [0.2902, 0.2902, 0.2902,  ..., 0.2902, 0.2902, 0.2902],\n",
       "         [0.2902, 0.2902, 0.2902,  ..., 0.2902, 0.2902, 0.2902],\n",
       "         [0.2902, 0.2902, 0.2902,  ..., 0.2902, 0.2902, 0.2902]]])"
      ]
     },
     "execution_count": 58,
     "metadata": {},
     "output_type": "execute_result"
    }
   ],
   "source": [
    "env.reset()[0]"
   ]
  }
 ],
 "metadata": {
  "interpreter": {
   "hash": "916dbcbb3f70747c44a77c7bcd40155683ae19c65e1c03b4aa3499c5328201f1"
  },
  "kernelspec": {
   "display_name": "Python 3.9.7 64-bit",
   "language": "python",
   "name": "python3"
  },
  "language_info": {
   "codemirror_mode": {
    "name": "ipython",
    "version": 3
   },
   "file_extension": ".py",
   "mimetype": "text/x-python",
   "name": "python",
   "nbconvert_exporter": "python",
   "pygments_lexer": "ipython3",
   "version": "3.9.7"
  },
  "orig_nbformat": 4
 },
 "nbformat": 4,
 "nbformat_minor": 2
}

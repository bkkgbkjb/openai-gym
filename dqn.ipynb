{
 "cells": [
  {
   "cell_type": "code",
   "execution_count": 59,
   "metadata": {},
   "outputs": [],
   "source": [
    "import gym\n",
    "import numpy as np\n",
    "import numpy.typing as npt\n",
    "\n",
    "from typing import List, Tuple, Literal, Any, Optional, cast\n",
    "from utils.agent import Agent\n",
    "from utils.algorithm import AlgorithmInterface\n",
    "from utils.preprocess import PreprocessInterface\n"
   ]
  },
  {
   "cell_type": "code",
   "execution_count": 60,
   "metadata": {},
   "outputs": [],
   "source": [
    "env = gym.make('StarGunner-v0')\n",
    "env.reset()\n",
    "env.action_space\n",
    "env._max_episode_steps = 3"
   ]
  },
  {
   "cell_type": "code",
   "execution_count": 61,
   "metadata": {},
   "outputs": [],
   "source": [
    "# shape is (210, 160, 3)\n",
    "Observation = npt.NDArray[np.uint8]\n",
    "Action = int\n",
    "State = Any\n",
    "Reward = int\n"
   ]
  },
  {
   "cell_type": "code",
   "execution_count": 62,
   "metadata": {},
   "outputs": [],
   "source": [
    "class RandomAlgorithm(AlgorithmInterface[State, Action]):\n",
    "    def __init__(self, n_actions: int):\n",
    "        self.n_actions = n_actions\n",
    "\n",
    "    def allowed_actions(self, state: State) -> List[Action]:\n",
    "        return list(range(self.n_actions))\n",
    "\n",
    "    def take_action(self, state: State) -> int:\n",
    "        return np.random.choice(self.allowed_actions(state))\n",
    "\n",
    "    def after_step(\n",
    "        self,\n",
    "        sa: Tuple[State, Action],\n",
    "        episode: List[Tuple[State, Optional[Action], Optional[Reward]]],\n",
    "    ):\n",
    "        pass\n",
    "\n",
    "    def on_termination(\n",
    "        self, episode: List[Tuple[State, Optional[Action], Optional[Reward]]]\n",
    "    ):\n",
    "        pass\n",
    "\n",
    "\n",
    "class DummyPreprocess(PreprocessInterface[Observation, Action, State]):\n",
    "    def transform_one(\n",
    "        self, h: List[Tuple[Observation, Optional[Action], Optional[Reward]]]\n",
    "    ) -> State:\n",
    "        return cast(State, None)\n",
    "\n",
    "    def transform_many(\n",
    "        self, h: List[Tuple[Observation, Optional[Action], Optional[Reward]]]\n",
    "    ) -> List[Tuple[State, Optional[Action], Optional[Reward]]]:\n",
    "        return cast(State, None)\n"
   ]
  },
  {
   "cell_type": "code",
   "execution_count": 63,
   "metadata": {},
   "outputs": [],
   "source": [
    "agent = Agent(env, RandomAlgorithm(18), DummyPreprocess())\n",
    "agent.reset()\n"
   ]
  },
  {
   "cell_type": "code",
   "execution_count": 64,
   "metadata": {},
   "outputs": [
    {
     "name": "stdout",
     "output_type": "stream",
     "text": [
      "[((210, 160, 3), 10, 0.0), ((210, 160, 3), 4, 0.0), ((210, 160, 3), 5, 0.0), ((210, 160, 3), None, None)]\n"
     ]
    }
   ],
   "source": [
    "end = False\n",
    "while not end:\n",
    "  (o, end, episode) = agent.step()\n",
    "  # env.render()\n",
    "  if end:\n",
    "    print([(o.shape,a,r) for (o,a,r) in cast(Any, episode)])\n",
    "\n"
   ]
  },
  {
   "cell_type": "code",
   "execution_count": null,
   "metadata": {},
   "outputs": [],
   "source": []
  }
 ],
 "metadata": {
  "interpreter": {
   "hash": "31f2aee4e71d21fbe5cf8b01ff0e069b9275f58929596ceb00d14d90e3e16cd6"
  },
  "kernelspec": {
   "display_name": "Python 3.8.9 64-bit",
   "language": "python",
   "name": "python3"
  },
  "language_info": {
   "codemirror_mode": {
    "name": "ipython",
    "version": 3
   },
   "file_extension": ".py",
   "mimetype": "text/x-python",
   "name": "python",
   "nbconvert_exporter": "python",
   "pygments_lexer": "ipython3",
   "version": "3.8.9"
  },
  "orig_nbformat": 4
 },
 "nbformat": 4,
 "nbformat_minor": 2
}

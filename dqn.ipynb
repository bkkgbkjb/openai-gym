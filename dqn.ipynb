{
 "cells": [
  {
   "cell_type": "code",
   "execution_count": 9,
   "metadata": {},
   "outputs": [],
   "source": [
    "import gym\n",
    "import numpy as np\n",
    "import numpy.typing as npt\n",
    "\n",
    "from typing import List, Tuple, Literal, Any, Optional, cast\n",
    "from utils.agent import Agent\n",
    "from tqdm.autonotebook import tqdm\n",
    "from utils.algorithm import AlgorithmInterface\n",
    "from utils.preprocess import PreprocessInterface\n",
    "import torch\n",
    "from torchvision import transforms\n"
   ]
  },
  {
   "cell_type": "code",
   "execution_count": 10,
   "metadata": {},
   "outputs": [
    {
     "data": {
      "text/plain": [
       "<torch._C.Generator at 0x7efeb09ab970>"
      ]
     },
     "execution_count": 10,
     "metadata": {},
     "output_type": "execute_result"
    }
   ],
   "source": [
    "RANDOM_SEED = 0\n",
    "np.random.seed(RANDOM_SEED)\n",
    "torch.manual_seed(RANDOM_SEED)\n",
    "\n"
   ]
  },
  {
   "cell_type": "code",
   "execution_count": 11,
   "metadata": {},
   "outputs": [],
   "source": [
    "env = gym.make('StarGunner-v0')\n",
    "env.seed(RANDOM_SEED)\n",
    "env.reset()\n",
    "env.action_space\n",
    "env._max_episode_steps = 1_8000"
   ]
  },
  {
   "cell_type": "code",
   "execution_count": 12,
   "metadata": {},
   "outputs": [],
   "source": [
    "# shape is (210, 160, 3)\n",
    "Observation = npt.NDArray[np.uint8]\n",
    "Action = int\n",
    "\n",
    "# shape is (4, 210, 160, 3)\n",
    "State = torch.Tensor\n",
    "Reward = int\n",
    "\n",
    "Episode = List[Tuple[Observation, Optional[Action], Optional[Reward]]]\n"
   ]
  },
  {
   "cell_type": "code",
   "execution_count": 13,
   "metadata": {},
   "outputs": [],
   "source": [
    "class RandomAlgorithm(AlgorithmInterface[State, Action]):\n",
    "    def __init__(self, n_actions: int):\n",
    "        self.n_actions = n_actions\n",
    "\n",
    "        self.times = 0\n",
    "        self.last_action = None\n",
    "\n",
    "    def allowed_actions(self, state: State) -> List[Action]:\n",
    "        return list(range(self.n_actions))\n",
    "\n",
    "    def take_action(self, state: State) -> int:\n",
    "        self.times += 1\n",
    "\n",
    "        if self.times % 10 == 0:\n",
    "            act = np.random.choice(self.allowed_actions(state))\n",
    "            self.last_action = act\n",
    "            return act\n",
    "\n",
    "        if self.last_action is not None:\n",
    "            return self.last_action\n",
    "\n",
    "        act = np.random.choice(self.allowed_actions(state))\n",
    "        self.last_action = act\n",
    "        return act\n",
    "\n",
    "    def after_step(\n",
    "        self,\n",
    "        sa: Tuple[State, Action],\n",
    "        episode: List[Tuple[State, Optional[Action], Optional[Reward]]],\n",
    "    ):\n",
    "        pass\n",
    "\n",
    "    def on_termination(\n",
    "        self, episode: List[Tuple[State, Optional[Action], Optional[Reward]]]\n",
    "    ):\n",
    "        pass\n",
    "\n",
    "\n",
    "class Preprocess(PreprocessInterface[Observation, Action, State]):\n",
    "    def __init__(self):\n",
    "        self.trfm = transforms.Compose(\n",
    "            [transforms.Grayscale(),\n",
    "                transforms.Resize((84, 84))])\n",
    "\n",
    "    def transform_one(\n",
    "        self, h: List[Tuple[Observation, Optional[Action], Optional[Reward]]]\n",
    "    ) -> State:\n",
    "\n",
    "        # last_4 is (1-4, 3, 160, 210)\n",
    "        last_4 = np.asarray([np.asarray(np.transpose(o))\n",
    "                            for (o, _, _) in h[-4:]])\n",
    "\n",
    "        while last_4.shape[0] < 4:\n",
    "            last_4 = np.insert(last_4, 0, last_4[-1:], axis=0)\n",
    "\n",
    "        assert last_4.shape == (4, 3, 160, 210)\n",
    "\n",
    "        # # now last_4 is (3, 160, 210)\n",
    "        # last_4 = torch.from_numpy(np.transpose(last_4))\n",
    "\n",
    "        # return shape is (4, 1, 84, 84)\n",
    "        rlt = self.trfm(torch.from_numpy(last_4))\n",
    "        assert rlt.shape == (4, 1, 84, 84)\n",
    "        return rlt\n",
    "\n",
    "    def transform_many(\n",
    "        self, h: List[Tuple[Observation, Optional[Action], Optional[Reward]]]\n",
    "    ) -> List[Tuple[State, Optional[Action], Optional[Reward]]]:\n",
    "        return cast(Any, None)\n"
   ]
  },
  {
   "cell_type": "code",
   "execution_count": 14,
   "metadata": {},
   "outputs": [],
   "source": [
    "agent = Agent(env, RandomAlgorithm(18), Preprocess())\n"
   ]
  },
  {
   "cell_type": "code",
   "execution_count": 15,
   "metadata": {},
   "outputs": [
    {
     "name": "stderr",
     "output_type": "stream",
     "text": [
      "100%|██████████| 30/30 [01:41<00:00,  3.38s/it]\n"
     ]
    }
   ],
   "source": [
    "EVALUATION_TIMES = 30\n",
    "\n",
    "rwds: List[int] = []\n",
    "\n",
    "for _ in tqdm(range(EVALUATION_TIMES)):\n",
    "    agent.reset()\n",
    "\n",
    "    end = False\n",
    "\n",
    "    while not end:\n",
    "        (o, end, episode) = agent.step()\n",
    "        # env.render()\n",
    "        if end:\n",
    "            rwds.append(np.sum([r if r is not None else 0 for (_,\n",
    "                                                               _, r) in cast(Episode, episode)]))\n"
   ]
  },
  {
   "cell_type": "code",
   "execution_count": 17,
   "metadata": {},
   "outputs": [
    {
     "data": {
      "text/plain": [
       "670.0"
      ]
     },
     "execution_count": 17,
     "metadata": {},
     "output_type": "execute_result"
    }
   ],
   "source": [
    "np.mean(rwds)"
   ]
  }
 ],
 "metadata": {
  "interpreter": {
   "hash": "31f2aee4e71d21fbe5cf8b01ff0e069b9275f58929596ceb00d14d90e3e16cd6"
  },
  "kernelspec": {
   "display_name": "Python 3.8.9 64-bit",
   "language": "python",
   "name": "python3"
  },
  "language_info": {
   "codemirror_mode": {
    "name": "ipython",
    "version": 3
   },
   "file_extension": ".py",
   "mimetype": "text/x-python",
   "name": "python",
   "nbconvert_exporter": "python",
   "pygments_lexer": "ipython3",
   "version": "3.9.7"
  },
  "orig_nbformat": 4
 },
 "nbformat": 4,
 "nbformat_minor": 2
}

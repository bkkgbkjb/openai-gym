{
 "cells": [
  {
   "cell_type": "code",
   "execution_count": 4,
   "metadata": {},
   "outputs": [],
   "source": [
    "from typing import Literal, List, Tuple, cast, Dict, Optional, Callable, Protocol, Union\n"
   ]
  },
  {
   "cell_type": "code",
   "execution_count": 5,
   "metadata": {},
   "outputs": [],
   "source": [
    "def get_splitting_point( nums: List[float], n_partitions: int) -> List[float]:\n",
    "    assert len(nums) >= 2, f\"unexpected nums encountered: {nums}\"\n",
    "    assert n_partitions >= 2, f\"unexpected n_partitions encountered: {n_partitions}\"\n",
    "\n",
    "    (l, r) = (nums[0], nums[-1])\n",
    "\n",
    "    delta = (r - l) / n_partitions\n",
    "\n",
    "    return [l, *[l + i * delta for i in range(1, n_partitions)], r]"
   ]
  },
  {
   "cell_type": "code",
   "execution_count": 7,
   "metadata": {},
   "outputs": [
    {
     "data": {
      "text/plain": [
       "[2,\n",
       " 3.2857142857142856,\n",
       " 4.571428571428571,\n",
       " 5.857142857142858,\n",
       " 7.142857142857143,\n",
       " 8.428571428571429,\n",
       " 9.714285714285715,\n",
       " 11]"
      ]
     },
     "execution_count": 7,
     "metadata": {},
     "output_type": "execute_result"
    }
   ],
   "source": [
    "get_splitting_point([2,11], n_partitions=7)"
   ]
  }
 ],
 "metadata": {
  "interpreter": {
   "hash": "31f2aee4e71d21fbe5cf8b01ff0e069b9275f58929596ceb00d14d90e3e16cd6"
  },
  "kernelspec": {
   "display_name": "Python 3.8.9 64-bit",
   "language": "python",
   "name": "python3"
  },
  "language_info": {
   "codemirror_mode": {
    "name": "ipython",
    "version": 3
   },
   "file_extension": ".py",
   "mimetype": "text/x-python",
   "name": "python",
   "nbconvert_exporter": "python",
   "pygments_lexer": "ipython3",
   "version": "3.8.9"
  },
  "orig_nbformat": 4
 },
 "nbformat": 4,
 "nbformat_minor": 2
}

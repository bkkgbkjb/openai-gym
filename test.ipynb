{
 "cells": [
  {
   "cell_type": "code",
   "execution_count": 1,
   "metadata": {},
   "outputs": [],
   "source": [
    "import gym\n",
    "import gym_bandits\n",
    "import numpy as np\n",
    "import pprint\n",
    "import json\n",
    "import matplotlib.pyplot as plt\n",
    "import plotly.graph_objects as go"
   ]
  },
  {
   "cell_type": "code",
   "execution_count": 2,
   "metadata": {},
   "outputs": [],
   "source": [
    "np.random.seed(0)"
   ]
  },
  {
   "cell_type": "code",
   "execution_count": 3,
   "metadata": {},
   "outputs": [],
   "source": [
    "all_gyms = {\n",
    "    # \"BanditTwoArmedDeterministicFixed-v0\": 2,\n",
    "    # \"BanditTwoArmedHighLowFixed-v0\": 2,\n",
    "    # \"BanditTwoArmedHighHighFixed-v0\": 2,\n",
    "    # \"BanditTwoArmedLowLowFixed-v0\": 2,\n",
    "    \"BanditTenArmedRandomFixed-v0\": 10,\n",
    "    \"BanditTenArmedRandomRandom-v0\": 10,\n",
    "    \"BanditTenArmedUniformDistributedReward-v0\": 10,\n",
    "    \"BanditTenArmedGaussian-v0\": 10,\n",
    "}\n",
    "RUN_PER_ARM = 50\n",
    "SIGMA = 0.3\n",
    "GRADE_TIMES = 3\n",
    "result_table = {}\n"
   ]
  },
  {
   "cell_type": "code",
   "execution_count": 4,
   "metadata": {},
   "outputs": [],
   "source": [
    "class SigmaGreedy:\n",
    "    def __init__(self, narms, sigma, **kwargs):\n",
    "        self.knlgs = []\n",
    "        self.narms = narms\n",
    "        self.reduce_sigma = kwargs.get(\"reduce_sigma\", False)\n",
    "        self.max_try = kwargs.get(\"max_try\", False)\n",
    "        self.times = 0\n",
    "        self.explore_times = 0\n",
    "\n",
    "        for _ in range(narms):\n",
    "            self.knlgs.append({\"reward\": 0, \"times\": 0})\n",
    "\n",
    "        self.sigma = sigma\n",
    "\n",
    "    def reset(self):\n",
    "        self.knlgs = []\n",
    "        self.times = 0\n",
    "        self.explore_times = 0\n",
    "        for _ in range(self.narms):\n",
    "            self.knlgs.append({\"reward\": 0, \"times\": 0})\n",
    "\n",
    "    def step(self):\n",
    "        self.times += 1\n",
    "        if self._check_sigma():\n",
    "            return self._explore()\n",
    "        else:\n",
    "            return self._exploit()\n",
    "\n",
    "    def _explore(self):\n",
    "        self.explore_times +=1 \n",
    "        if self.max_try:\n",
    "            return np.argmin([knlg[\"times\"] for knlg in self.knlgs])\n",
    "        else:\n",
    "            return np.random.randint(0, self.narms)\n",
    "\n",
    "    def _exploit(self):\n",
    "        # return np.random.randint(0, self.narms)\n",
    "        return self._argmax()\n",
    "\n",
    "    def _check_sigma(self):\n",
    "        rand = np.random.random()\n",
    "        if self.reduce_sigma:\n",
    "            return rand < (self.sigma / np.sqrt(self.explore_times + 1))\n",
    "        else:\n",
    "            return rand < self.sigma\n",
    "\n",
    "    def _argmax(self):\n",
    "\n",
    "        return np.argmax([knlg[\"reward\"] for knlg in self.knlgs])\n",
    "        # return idx\n",
    "\n",
    "    def review(self, act, reward):\n",
    "        old_knlg = self.knlgs[act]\n",
    "        old_tries = old_knlg[\"times\"]\n",
    "        old_reward = old_knlg[\"reward\"]\n",
    "\n",
    "        self.knlgs[act] = {\n",
    "            \"reward\": (old_reward * old_tries + reward) / (old_tries + 1),\n",
    "            \"times\": old_tries + 1,\n",
    "        }\n",
    "\n",
    "    def glance(self):\n",
    "        print(\"inspect knlgs:\", self.knlgs)\n",
    "        print(\"inspect times:\", self.times, \", \", \"explore times:\", self.explore_times)\n",
    "\n",
    "    def inspect_knlg(self):\n",
    "        return self.knlgs\n",
    "\n",
    "    def get_name(self):\n",
    "        name = \"SG\"\n",
    "        if self.max_try:\n",
    "            name += \"_MAX_TRY\"\n",
    "        if self.reduce_sigma:\n",
    "            name += \"_REDUCE_SIGMA\"\n",
    "        return name\n",
    "\n",
    "\n",
    "# agent = SigmaGreedy(10, 0.3)\n"
   ]
  },
  {
   "cell_type": "code",
   "execution_count": 5,
   "metadata": {},
   "outputs": [],
   "source": [
    "class SoftMax:\n",
    "    def __init__(self, narms, miu):\n",
    "        self.miu = miu\n",
    "        self.narms = narms\n",
    "        self.knlgs = []\n",
    "        self.times = 0\n",
    "        self.explore_times = 0\n",
    "\n",
    "        for _ in range(narms):\n",
    "            self.knlgs.append({\"reward\": 0, \"times\": 0})\n",
    "\n",
    "    def reset(self):\n",
    "        self.knlgs = []\n",
    "        for _ in range(self.narms):\n",
    "            self.knlgs.append({\"reward\": 0, \"times\": 0})\n",
    "\n",
    "        self.times = 0\n",
    "        self.explore_times = 0\n",
    "\n",
    "    def step(self):\n",
    "        self.times += 1\n",
    "        probs = [np.exp(knlg[\"reward\"] / self.miu) for knlg in self.knlgs]\n",
    "        choice = np.random.choice(self.narms, p=probs / np.sum(probs))\n",
    "        largest = np.argmax([knlg[\"reward\"] for knlg in self.knlgs])\n",
    "        if choice != largest:\n",
    "            self.explore_times += 1\n",
    "        return choice\n",
    "\n",
    "    def review(self, act, reward):\n",
    "        old_knlg = self.knlgs[act]\n",
    "        old_tries = old_knlg[\"times\"]\n",
    "        old_reward = old_knlg[\"reward\"]\n",
    "\n",
    "        self.knlgs[act] = {\n",
    "            \"reward\": (old_reward * old_tries + reward) / (old_tries + 1),\n",
    "            \"times\": old_tries + 1,\n",
    "        }\n",
    "\n",
    "    def glance(self):\n",
    "        print(\"inspect knlgs:\", self.knlgs)\n",
    "        print(\"inspect times:\", self.times, \", \", \"explore times:\", self.explore_times)\n",
    "\n",
    "    def inspect_knlg(self):\n",
    "        return self.knlgs\n",
    "\n",
    "    def get_name(self):\n",
    "        return \"SM\"\n"
   ]
  },
  {
   "cell_type": "code",
   "execution_count": 6,
   "metadata": {},
   "outputs": [],
   "source": [
    "def run(env, agent, narms):\n",
    "    total_reward = 0\n",
    "    for _ in range(narms * RUN_PER_ARM):\n",
    "        act = agent.step()\n",
    "        obs, rwd, done, info = env.step(act)\n",
    "        total_reward += rwd\n",
    "        agent.review(act, rwd)\n",
    "\n",
    "    return total_reward\n"
   ]
  },
  {
   "cell_type": "code",
   "execution_count": null,
   "metadata": {},
   "outputs": [],
   "source": []
  },
  {
   "cell_type": "code",
   "execution_count": 7,
   "metadata": {},
   "outputs": [
    {
     "name": "stdout",
     "output_type": "stream",
     "text": [
      "gym BanditTenArmedRandomFixed-v0 start\n",
      "gym arms: 10\n",
      "gym props: [0.5488135  0.71518937 0.60276338 0.54488318 0.4236548  0.64589411\n",
      " 0.43758721 0.891773   0.96366276 0.38344152] [1 1 1 1 1 1 1 1 1 1]\n",
      "gym total max reward: 481.83138025051466\n",
      "agent name is: SG\n",
      "inspect knlgs: [{'reward': 0.6071428571428571, 'times': 28}, {'reward': 0.6842105263157895, 'times': 19}, {'reward': 0.6842105263157895, 'times': 19}, {'reward': 0.5294117647058824, 'times': 17}, {'reward': 0.3, 'times': 10}, {'reward': 0.6470588235294118, 'times': 17}, {'reward': 0.4166666666666667, 'times': 12}, {'reward': 0.8888888888888888, 'times': 18}, {'reward': 0.9680232558139535, 'times': 344}, {'reward': 0.5625, 'times': 16}]\n",
      "inspect times: 500 ,  explore times: 136\n",
      "inspect knlgs: [{'reward': 0.5, 'times': 18}, {'reward': 0.65, 'times': 20}, {'reward': 0.7931034482758621, 'times': 29}, {'reward': 0.625, 'times': 16}, {'reward': 0.4, 'times': 10}, {'reward': 0.4375, 'times': 16}, {'reward': 0.4, 'times': 15}, {'reward': 0.881578947368421, 'times': 152}, {'reward': 0.9528301886792453, 'times': 212}, {'reward': 0.25, 'times': 12}]\n",
      "inspect times: 500 ,  explore times: 144\n",
      "inspect knlgs: [{'reward': 0.6451612903225806, 'times': 31}, {'reward': 0.6923076923076923, 'times': 13}, {'reward': 0.7, 'times': 20}, {'reward': 0.6923076923076923, 'times': 13}, {'reward': 0.6521739130434783, 'times': 23}, {'reward': 0.4444444444444444, 'times': 9}, {'reward': 0.625, 'times': 16}, {'reward': 0.8333333333333335, 'times': 48}, {'reward': 0.9587301587301588, 'times': 315}, {'reward': 0.16666666666666666, 'times': 12}]\n",
      "inspect times: 500 ,  explore times: 158\n",
      "total rewards: [429, 411, 425]\n",
      "grade of agent: 0.875133260202839\n",
      "agent name is: SG_REDUCE_SIGMA\n",
      "inspect knlgs: [{'reward': 0.8333333333333334, 'times': 6}, {'reward': 0.7777777777777778, 'times': 9}, {'reward': 0.75, 'times': 8}, {'reward': 0.6, 'times': 5}, {'reward': 0.6666666666666666, 'times': 3}, {'reward': 0.8571428571428571, 'times': 7}, {'reward': 0.3333333333333333, 'times': 6}, {'reward': 0.9047619047619048, 'times': 21}, {'reward': 0.9629629629629629, 'times': 432}, {'reward': 0.6666666666666666, 'times': 3}]\n",
      "inspect times: 500 ,  explore times: 37\n",
      "inspect knlgs: [{'reward': 0.75, 'times': 8}, {'reward': 0.6666666666666666, 'times': 3}, {'reward': 0.6666666666666666, 'times': 3}, {'reward': 0.3333333333333333, 'times': 3}, {'reward': 0.8, 'times': 5}, {'reward': 0.6, 'times': 5}, {'reward': 0.2, 'times': 5}, {'reward': 0.6666666666666666, 'times': 3}, {'reward': 0.9673202614379085, 'times': 459}, {'reward': 0.6666666666666666, 'times': 6}]\n",
      "inspect times: 500 ,  explore times: 34\n",
      "inspect knlgs: [{'reward': 0.6363636363636364, 'times': 11}, {'reward': 0.5, 'times': 2}, {'reward': 0.6666666666666666, 'times': 6}, {'reward': 0.5, 'times': 4}, {'reward': 0.6, 'times': 5}, {'reward': 0.5, 'times': 2}, {'reward': 0.75, 'times': 4}, {'reward': 0.8571428571428571, 'times': 7}, {'reward': 0.9714912280701754, 'times': 456}, {'reward': 0.3333333333333333, 'times': 3}]\n",
      "inspect times: 500 ,  explore times: 38\n",
      "total rewards: [468, 469, 471]\n",
      "grade of agent: 0.9740613678779424\n",
      "agent name is: SG_MAX_TRY\n",
      "inspect knlgs: [{'reward': 0.42857142857142855, 'times': 21}, {'reward': 0.7142857142857143, 'times': 21}, {'reward': 0.6, 'times': 20}, {'reward': 0.5, 'times': 20}, {'reward': 0.5, 'times': 20}, {'reward': 0.7, 'times': 20}, {'reward': 0.3, 'times': 20}, {'reward': 0.8951612903225806, 'times': 124}, {'reward': 0.9719626168224299, 'times': 214}, {'reward': 0.55, 'times': 20}]\n",
      "inspect times: 500 ,  explore times: 150\n",
      "inspect knlgs: [{'reward': 0.55, 'times': 20}, {'reward': 0.7142857142857143, 'times': 21}, {'reward': 0.4, 'times': 20}, {'reward': 0.6, 'times': 20}, {'reward': 0.3, 'times': 20}, {'reward': 0.75, 'times': 20}, {'reward': 0.35, 'times': 20}, {'reward': 0.9473684210526315, 'times': 19}, {'reward': 0.9657320872274143, 'times': 321}, {'reward': 0.2631578947368421, 'times': 19}]\n",
      "inspect times: 500 ,  explore times: 151\n",
      "inspect knlgs: [{'reward': 0.5454545454545454, 'times': 22}, {'reward': 0.7272727272727273, 'times': 22}, {'reward': 0.5909090909090909, 'times': 22}, {'reward': 0.45454545454545453, 'times': 22}, {'reward': 0.2727272727272727, 'times': 22}, {'reward': 0.6666666666666666, 'times': 21}, {'reward': 0.42857142857142855, 'times': 21}, {'reward': 0.9523809523809523, 'times': 21}, {'reward': 0.9738562091503268, 'times': 306}, {'reward': 0.2857142857142857, 'times': 21}]\n",
      "inspect times: 500 ,  explore times: 161\n",
      "total rewards: [406, 407, 404]\n",
      "grade of agent: 0.8419266226615455\n",
      "agent name is: SG_MAX_TRY_REDUCE_SIGMA\n",
      "inspect knlgs: [{'reward': 0.7727272727272727, 'times': 22}, {'reward': 0.8333333333333334, 'times': 6}, {'reward': 0.5, 'times': 6}, {'reward': 0.3333333333333333, 'times': 6}, {'reward': 0.0, 'times': 6}, {'reward': 0.6666666666666666, 'times': 6}, {'reward': 0.6, 'times': 5}, {'reward': 0.8181818181818182, 'times': 11}, {'reward': 0.9578454332552693, 'times': 427}, {'reward': 0.2, 'times': 5}]\n",
      "inspect times: 500 ,  explore times: 37\n",
      "inspect knlgs: [{'reward': 0.5714285714285714, 'times': 7}, {'reward': 0.6086956521739131, 'times': 23}, {'reward': 0.6666666666666666, 'times': 6}, {'reward': 0.6666666666666666, 'times': 6}, {'reward': 0.16666666666666666, 'times': 6}, {'reward': 0.6666666666666666, 'times': 6}, {'reward': 0.16666666666666666, 'times': 6}, {'reward': 0.9166666666666666, 'times': 12}, {'reward': 0.9478672985781991, 'times': 422}, {'reward': 0.5, 'times': 6}]\n",
      "inspect times: 500 ,  explore times: 36\n",
      "inspect knlgs: [{'reward': 0.16666666666666666, 'times': 6}, {'reward': 0.5, 'times': 6}, {'reward': 0.8181818181818182, 'times': 11}, {'reward': 0.5, 'times': 6}, {'reward': 0.3333333333333333, 'times': 6}, {'reward': 0.6, 'times': 5}, {'reward': 0.2, 'times': 5}, {'reward': 0.903370786516854, 'times': 445}, {'reward': 0.8, 'times': 5}, {'reward': 0.2, 'times': 5}]\n",
      "inspect times: 500 ,  explore times: 39\n",
      "total rewards: [453, 446, 429]\n",
      "grade of agent: 0.9187169719757867\n",
      "agent name is: SM\n",
      "inspect knlgs: [{'reward': 0.48936170212765945, 'times': 47}, {'reward': 0.5, 'times': 6}, {'reward': 0.6562500000000001, 'times': 64}, {'reward': 0.5588235294117647, 'times': 34}, {'reward': 0.0, 'times': 3}, {'reward': 0.5806451612903226, 'times': 31}, {'reward': 0.42857142857142855, 'times': 14}, {'reward': 0.8848920863309353, 'times': 139}, {'reward': 0.9810126582278481, 'times': 158}, {'reward': 0.25, 'times': 4}]\n",
      "inspect times: 500 ,  explore times: 318\n",
      "inspect knlgs: [{'reward': 0.4166666666666667, 'times': 12}, {'reward': 0.7920792079207921, 'times': 101}, {'reward': 0.7333333333333333, 'times': 15}, {'reward': 0.6756756756756754, 'times': 37}, {'reward': 0.5609756097560976, 'times': 41}, {'reward': 0.6086956521739131, 'times': 46}, {'reward': 0.38095238095238093, 'times': 21}, {'reward': 0.896551724137931, 'times': 87}, {'reward': 0.9640287769784173, 'times': 139}, {'reward': 0.0, 'times': 1}]\n",
      "inspect times: 500 ,  explore times: 350\n",
      "inspect knlgs: [{'reward': 0.6222222222222223, 'times': 45}, {'reward': 0.7377049180327869, 'times': 61}, {'reward': 0.6428571428571429, 'times': 28}, {'reward': 0.5454545454545454, 'times': 22}, {'reward': 0.3333333333333333, 'times': 21}, {'reward': 0.625, 'times': 48}, {'reward': 0.3, 'times': 10}, {'reward': 0.8461538461538461, 'times': 65}, {'reward': 0.9776536312849162, 'times': 179}, {'reward': 0.38095238095238093, 'times': 21}]\n",
      "inspect times: 500 ,  explore times: 325\n",
      "total rewards: [390, 392, 381]\n",
      "grade of agent: 0.8045691554275903\n",
      "gym BanditTenArmedRandomRandom-v0 start\n",
      "gym arms: 10\n",
      "gym props: [0.16602428 0.99699836 0.77469914 0.604371   0.79817423 0.26050042\n",
      " 0.80403405 0.13179987 0.77517781 0.83094717] [0.21872578 0.97293572 0.15347596 0.70133613 0.7052754  0.98545322\n",
      " 0.13763634 0.67261792 0.34614494 0.25324626]\n",
      "gym total max reward: 485.0076574431206\n",
      "agent name is: SG\n",
      "inspect knlgs: [{'reward': 0.042062649404096084, 'times': 26}, {'reward': 0.9699235373090531, 'times': 323}, {'reward': 0.12058825452435513, 'times': 14}, {'reward': 0.44630480887668517, 'times': 11}, {'reward': 0.5567963647353732, 'times': 19}, {'reward': 0.17917331288994706, 'times': 11}, {'reward': 0.10866026918354026, 'times': 19}, {'reward': 0.042038620134377064, 'times': 16}, {'reward': 0.2701619039361922, 'times': 41}, {'reward': 0.17727238014817656, 'times': 20}]\n",
      "inspect times: 500 ,  explore times: 146\n",
      "inspect knlgs: [{'reward': 0.04101108316899369, 'times': 16}, {'reward': 0.972935722207528, 'times': 357}, {'reward': 0.15347596030372473, 'times': 15}, {'reward': 0.4508589395795085, 'times': 14}, {'reward': 0.5485475297022565, 'times': 9}, {'reward': 0.30795413152959644, 'times': 16}, {'reward': 0.10322725572436325, 'times': 16}, {'reward': 0.03956576012647253, 'times': 17}, {'reward': 0.29669566235849676, 'times': 21}, {'reward': 0.19993125580621418, 'times': 19}]\n",
      "inspect times: 500 ,  explore times: 159\n",
      "inspect knlgs: [{'reward': 0.056445361780980564, 'times': 31}, {'reward': 0.9668738173962667, 'times': 321}, {'reward': 0.09975937419742106, 'times': 20}, {'reward': 0.601145252772678, 'times': 14}, {'reward': 0.5360093004519192, 'times': 25}, {'reward': 0.28155806311277387, 'times': 14}, {'reward': 0.12814417951989926, 'times': 29}, {'reward': 0.061147083831821186, 'times': 11}, {'reward': 0.2769159515345969, 'times': 10}, {'reward': 0.18233730529526732, 'times': 25}]\n",
      "inspect times: 500 ,  explore times: 156\n",
      "total rewards: [350.8858059690612, 378.8261453728406, 351.58595929300907]\n",
      "grade of agent: 0.7431483428085327\n",
      "agent name is: SG_REDUCE_SIGMA\n",
      "inspect knlgs: [{'reward': 0.025732444341329375, 'times': 17}, {'reward': 0.9678418179027762, 'times': 382}, {'reward': 0.11510697022779351, 'times': 4}, {'reward': 0.4675574188231939, 'times': 3}, {'reward': 0.5454129723896718, 'times': 75}, {'reward': 0.0, 'times': 3}, {'reward': 0.13763634096581767, 'times': 3}, {'reward': 0.1121029870250055, 'times': 6}, {'reward': 0.2596087045636847, 'times': 4}, {'reward': 0.2532462573545379, 'times': 3}]\n",
      "inspect times: 500 ,  explore times: 39\n",
      "inspect knlgs: [{'reward': 0.05468144422532492, 'times': 4}, {'reward': 0.970749349798072, 'times': 445}, {'reward': 0.15347596030372468, 'times': 4}, {'reward': 0.2630010480880466, 'times': 8}, {'reward': 0.35263769766573627, 'times': 2}, {'reward': 0.19709064417894173, 'times': 5}, {'reward': 0.13763634096581767, 'times': 1}, {'reward': 0.13452358443000662, 'times': 5}, {'reward': 0.3461449394182462, 'times': 2}, {'reward': 0.232142402574993, 'times': 24}]\n",
      "inspect times: 500 ,  explore times: 33\n",
      "inspect knlgs: [{'reward': 0.0, 'times': 3}, {'reward': 0.9708206445505542, 'times': 460}, {'reward': 0.15347596030372468, 'times': 5}, {'reward': 0.5610689025878328, 'times': 10}, {'reward': 0.7052753953314725, 'times': 5}, {'reward': 0.0, 'times': 3}, {'reward': 0.13763634096581767, 'times': 3}, {'reward': 0.16815448053750826, 'times': 4}, {'reward': 0.23076329294549747, 'times': 3}, {'reward': 0.2532462573545379, 'times': 4}]\n",
      "inspect times: 500 ,  explore times: 40\n",
      "total rewards: [415.8057995946347, 443.6847890829409, 459.2727441506114]\n",
      "grade of agent: 0.9063522417910452\n",
      "agent name is: SG_MAX_TRY\n",
      "inspect knlgs: [{'reward': 0.01367036105633123, 'times': 16}, {'reward': 0.9702027566957091, 'times': 356}, {'reward': 0.12469921774677631, 'times': 16}, {'reward': 0.4821685881614189, 'times': 16}, {'reward': 0.4848768342903874, 'times': 16}, {'reward': 0.18477247891775786, 'times': 16}, {'reward': 0.11182952703472686, 'times': 16}, {'reward': 0.1261158604031312, 'times': 16}, {'reward': 0.21634058713640383, 'times': 16}, {'reward': 0.17410680193124484, 'times': 16}]\n",
      "inspect times: 500 ,  explore times: 144\n",
      "inspect knlgs: [{'reward': 0.06075716025036103, 'times': 18}, {'reward': 0.9729357222075282, 'times': 339}, {'reward': 0.11937019134734145, 'times': 18}, {'reward': 0.31170494588212927, 'times': 18}, {'reward': 0.5877294961095606, 'times': 18}, {'reward': 0.16424220348245144, 'times': 18}, {'reward': 0.09175756064387845, 'times': 18}, {'reward': 0.1121029870250055, 'times': 18}, {'reward': 0.3269146650061213, 'times': 18}, {'reward': 0.19365890268288197, 'times': 17}]\n",
      "inspect times: 500 ,  explore times: 161\n",
      "inspect knlgs: [{'reward': 0.03859866651199406, 'times': 17}, {'reward': 0.9701318728639906, 'times': 347}, {'reward': 0.07222398131939985, 'times': 17}, {'reward': 0.5363158627677814, 'times': 17}, {'reward': 0.6637886073707978, 'times': 17}, {'reward': 0.28983918261609076, 'times': 17}, {'reward': 0.09715506421116542, 'times': 17}, {'reward': 0.03956576012647253, 'times': 17}, {'reward': 0.22397613727062984, 'times': 17}, {'reward': 0.19365890268288197, 'times': 17}]\n",
      "inspect times: 500 ,  explore times: 148\n",
      "total rewards: [376.0894654905232, 365.0598369494043, 373.2728366867171]\n",
      "grade of agent: 0.7659137761533443\n",
      "agent name is: SG_MAX_TRY_REDUCE_SIGMA\n",
      "inspect knlgs: [{'reward': 0.0, 'times': 4}, {'reward': 0.9708388779786314, 'times': 464}, {'reward': 0.07673798015186234, 'times': 4}, {'reward': 0.35066806411739543, 'times': 4}, {'reward': 0.35263769766573627, 'times': 4}, {'reward': 0.0, 'times': 4}, {'reward': 0.10322725572436325, 'times': 4}, {'reward': 0.0, 'times': 4}, {'reward': 0.1730724697091231, 'times': 4}, {'reward': 0.12662312867726894, 'times': 4}]\n",
      "inspect times: 500 ,  explore times: 35\n",
      "inspect knlgs: [{'reward': 0.043745155380259935, 'times': 5}, {'reward': 0.9708343491574027, 'times': 463}, {'reward': 0.11510697022779351, 'times': 4}, {'reward': 0.35066806411739543, 'times': 4}, {'reward': 0.7052753953314725, 'times': 4}, {'reward': 0.24636330522367716, 'times': 4}, {'reward': 0.10322725572436325, 'times': 4}, {'reward': 0.3363089610750165, 'times': 4}, {'reward': 0.2596087045636847, 'times': 4}, {'reward': 0.2532462573545379, 'times': 4}]\n",
      "inspect times: 500 ,  explore times: 35\n",
      "inspect knlgs: [{'reward': 0.10936288845064984, 'times': 6}, {'reward': 0.9686963508689321, 'times': 459}, {'reward': 0.09208557618223481, 'times': 5}, {'reward': 0.28053445129391635, 'times': 5}, {'reward': 0.4231652371988835, 'times': 5}, {'reward': 0.49272661044735433, 'times': 4}, {'reward': 0.10322725572436325, 'times': 4}, {'reward': 0.0, 'times': 4}, {'reward': 0.2596087045636847, 'times': 4}, {'reward': 0.12662312867726894, 'times': 4}]\n",
      "inspect times: 500 ,  explore times: 35\n",
      "total rewards: [455.2011057662679, 459.19424909125047, 453.1954715005696]\n",
      "grade of agent: 0.9399101267581346\n",
      "agent name is: SM\n",
      "inspect knlgs: [{'reward': 0.021872577690129968, 'times': 10}, {'reward': 0.9695457022695237, 'times': 287}, {'reward': 0.11510697022779355, 'times': 20}, {'reward': 0.46087802712571985, 'times': 35}, {'reward': 0.550458845136759, 'times': 41}, {'reward': 0.408602555005123, 'times': 41}, {'reward': 0.12043179834509046, 'times': 8}, {'reward': 0.0, 'times': 5}, {'reward': 0.28506053834443806, 'times': 34}, {'reward': 0.19993125580621418, 'times': 19}]\n",
      "inspect times: 500 ,  explore times: 211\n",
      "inspect knlgs: [{'reward': 0.07290859230043323, 'times': 12}, {'reward': 0.9699963393609798, 'times': 331}, {'reward': 0.15347596030372465, 'times': 7}, {'reward': 0.3974238059997149, 'times': 30}, {'reward': 0.5116703848483235, 'times': 51}, {'reward': 0.0, 'times': 3}, {'reward': 0.11010907277265414, 'times': 10}, {'reward': 0.05173984016538716, 'times': 13}, {'reward': 0.28594581951942066, 'times': 23}, {'reward': 0.20259700588363033, 'times': 20}]\n",
      "inspect times: 500 ,  explore times: 166\n",
      "inspect knlgs: [{'reward': 0.0, 'times': 5}, {'reward': 0.972935722207528, 'times': 357}, {'reward': 0.14167011720343817, 'times': 13}, {'reward': 0.23377870941159695, 'times': 9}, {'reward': 0.5832084999856408, 'times': 52}, {'reward': 0.2074638359778334, 'times': 19}, {'reward': 0.045878780321939226, 'times': 3}, {'reward': 0.0, 'times': 9}, {'reward': 0.2674756350050083, 'times': 22}, {'reward': 0.20720148329007648, 'times': 11}]\n",
      "inspect times: 500 ,  explore times: 144\n",
      "total rewards: [350.6869366388173, 373.43832958196714, 393.8537442465353]\n",
      "grade of agent: 0.7683583226713838\n",
      "gym BanditTenArmedUniformDistributedReward-v0 start\n",
      "gym arms: 10\n",
      "gym props: [1 1 1 1 1 1 1 1 1 1] [0.05084087 0.74957315 0.24760647 0.80654016 0.48532237 0.25354689\n",
      " 0.04875783 0.89888578 0.56213164 0.15015461]\n",
      "gym total max reward: 449.4428900773018\n",
      "agent name is: SG\n",
      "inspect knlgs: [{'reward': 0.050840874816515225, 'times': 27}, {'reward': 0.7495731510287166, 'times': 22}, {'reward': 0.24760646543089504, 'times': 16}, {'reward': 0.8065401603275609, 'times': 22}, {'reward': 0.4853223724578753, 'times': 16}, {'reward': 0.2535468865108959, 'times': 16}, {'reward': 0.04875783327702354, 'times': 12}, {'reward': 0.8988857801546087, 'times': 335}, {'reward': 0.5621316362740255, 'times': 13}, {'reward': 0.15015460559082738, 'times': 21}]\n",
      "inspect times: 500 ,  explore times: 163\n",
      "inspect knlgs: [{'reward': 0.050840874816515225, 'times': 27}, {'reward': 0.7495731510287166, 'times': 19}, {'reward': 0.24760646543089504, 'times': 16}, {'reward': 0.8065401603275609, 'times': 25}, {'reward': 0.4853223724578753, 'times': 12}, {'reward': 0.2535468865108959, 'times': 17}, {'reward': 0.04875783327702354, 'times': 21}, {'reward': 0.8988857801546087, 'times': 335}, {'reward': 0.5621316362740256, 'times': 15}, {'reward': 0.15015460559082738, 'times': 13}]\n",
      "inspect times: 500 ,  explore times: 151\n",
      "inspect knlgs: [{'reward': 0.050840874816515225, 'times': 17}, {'reward': 0.7495731510287166, 'times': 17}, {'reward': 0.24760646543089504, 'times': 15}, {'reward': 0.8065401603275594, 'times': 70}, {'reward': 0.4853223724578753, 'times': 16}, {'reward': 0.2535468865108959, 'times': 18}, {'reward': 0.04875783327702354, 'times': 16}, {'reward': 0.8988857801546077, 'times': 291}, {'reward': 0.5621316362740257, 'times': 24}, {'reward': 0.15015460559082738, 'times': 16}]\n",
      "inspect times: 500 ,  explore times: 162\n",
      "total rewards: [363.5635964003671, 362.40860175225765, 364.35746887773786]\n",
      "grade of agent: 0.8086527351249095\n",
      "agent name is: SG_REDUCE_SIGMA\n",
      "inspect knlgs: [{'reward': 0.050840874816515225, 'times': 5}, {'reward': 0.7495731510287178, 'times': 67}, {'reward': 0.24760646543089515, 'times': 2}, {'reward': 0.8065401603275609, 'times': 2}, {'reward': 0.48532237245787535, 'times': 5}, {'reward': 0.25354688651089596, 'times': 3}, {'reward': 0.04875783327702354, 'times': 4}, {'reward': 0.8988857801546097, 'times': 407}, {'reward': 0.5621316362740256, 'times': 2}, {'reward': 0.15015460559082738, 'times': 3}]\n",
      "inspect times: 500 ,  explore times: 32\n",
      "inspect knlgs: [{'reward': 0.050840874816515225, 'times': 8}, {'reward': 0.7495731510287168, 'times': 2}, {'reward': 0.24760646543089515, 'times': 2}, {'reward': 0.8065401603275609, 'times': 7}, {'reward': 0.48532237245787535, 'times': 1}, {'reward': 0.25354688651089596, 'times': 4}, {'reward': 0.04875783327702354, 'times': 2}, {'reward': 0.8988857801546104, 'times': 468}, {'reward': 0.5621316362740256, 'times': 4}, {'reward': 0.15015460559082738, 'times': 2}]\n",
      "inspect times: 500 ,  explore times: 37\n",
      "inspect knlgs: [{'reward': 0.050840874816515225, 'times': 3}, {'reward': 0.7495731510287168, 'times': 2}, {'reward': 0, 'times': 0}, {'reward': 0.8065401603275609, 'times': 1}, {'reward': 0.48532237245787535, 'times': 4}, {'reward': 0.25354688651089596, 'times': 4}, {'reward': 0.04875783327702354, 'times': 8}, {'reward': 0.8988857801546103, 'times': 465}, {'reward': 0.5621316362740255, 'times': 9}, {'reward': 0.15015460559082738, 'times': 4}]\n",
      "inspect times: 500 ,  explore times: 40\n",
      "total rewards: [423.38742221170116, 432.8712738074353, 429.4454397096493]\n",
      "grade of agent: 0.9535539546953722\n",
      "agent name is: SG_MAX_TRY\n",
      "inspect knlgs: [{'reward': 0.050840874816515225, 'times': 18}, {'reward': 0.7495731510287166, 'times': 18}, {'reward': 0.24760646543089504, 'times': 17}, {'reward': 0.8065401603275609, 'times': 17}, {'reward': 0.4853223724578753, 'times': 17}, {'reward': 0.2535468865108959, 'times': 17}, {'reward': 0.04875783327702354, 'times': 17}, {'reward': 0.8988857801546088, 'times': 345}, {'reward': 0.5621316362740256, 'times': 17}, {'reward': 0.15015460559082738, 'times': 17}]\n",
      "inspect times: 500 ,  explore times: 142\n",
      "inspect knlgs: [{'reward': 0.050840874816515225, 'times': 16}, {'reward': 0.7495731510287166, 'times': 16}, {'reward': 0.24760646543089504, 'times': 16}, {'reward': 0.8065401603275609, 'times': 16}, {'reward': 0.4853223724578753, 'times': 16}, {'reward': 0.2535468865108959, 'times': 16}, {'reward': 0.04875783327702354, 'times': 15}, {'reward': 0.8988857801546091, 'times': 359}, {'reward': 0.5621316362740256, 'times': 15}, {'reward': 0.15015460559082738, 'times': 15}]\n",
      "inspect times: 500 ,  explore times: 117\n",
      "inspect knlgs: [{'reward': 0.050840874816515225, 'times': 19}, {'reward': 0.7495731510287166, 'times': 19}, {'reward': 0.247606465430895, 'times': 19}, {'reward': 0.8065401603275609, 'times': 19}, {'reward': 0.4853223724578754, 'times': 19}, {'reward': 0.2535468865108959, 'times': 19}, {'reward': 0.04875783327702354, 'times': 18}, {'reward': 0.8988857801546086, 'times': 332}, {'reward': 0.5621316362740257, 'times': 18}, {'reward': 0.15015460559082738, 'times': 18}]\n",
      "inspect times: 500 ,  explore times: 155\n",
      "total rewards: [367.9420659363294, 375.6105347717926, 361.40404066476117]\n",
      "grade of agent: 0.8195009612773689\n",
      "agent name is: SG_MAX_TRY_REDUCE_SIGMA\n",
      "inspect knlgs: [{'reward': 0.050840874816515225, 'times': 5}, {'reward': 0.7495731510287168, 'times': 5}, {'reward': 0.24760646543089515, 'times': 5}, {'reward': 0.8065401603275609, 'times': 28}, {'reward': 0.48532237245787535, 'times': 5}, {'reward': 0.25354688651089596, 'times': 4}, {'reward': 0.04875783327702354, 'times': 4}, {'reward': 0.8988857801546101, 'times': 436}, {'reward': 0.5621316362740256, 'times': 4}, {'reward': 0.15015460559082738, 'times': 4}]\n",
      "inspect times: 500 ,  explore times: 35\n",
      "inspect knlgs: [{'reward': 0.050840874816515225, 'times': 4}, {'reward': 0.7495731510287166, 'times': 14}, {'reward': 0.24760646543089515, 'times': 4}, {'reward': 0.8065401603275595, 'times': 66}, {'reward': 0.48532237245787535, 'times': 4}, {'reward': 0.25354688651089596, 'times': 4}, {'reward': 0.04875783327702354, 'times': 4}, {'reward': 0.8988857801546095, 'times': 392}, {'reward': 0.5621316362740256, 'times': 4}, {'reward': 0.15015460559082738, 'times': 4}]\n",
      "inspect times: 500 ,  explore times: 28\n",
      "inspect knlgs: [{'reward': 0.050840874816515225, 'times': 5}, {'reward': 0.7495731510287168, 'times': 5}, {'reward': 0.24760646543089515, 'times': 5}, {'reward': 0.8065401603275609, 'times': 24}, {'reward': 0.48532237245787535, 'times': 5}, {'reward': 0.25354688651089596, 'times': 5}, {'reward': 0.04875783327702354, 'times': 5}, {'reward': 0.8988857801546101, 'times': 438}, {'reward': 0.5621316362740256, 'times': 4}, {'reward': 0.15015460559082738, 'times': 4}]\n",
      "inspect times: 500 ,  explore times: 37\n",
      "total rewards: [426.2224028018632, 423.28234321406114, 425.0963184406501]\n",
      "grade of agent: 0.9453192627264612\n",
      "agent name is: SM\n",
      "inspect knlgs: [{'reward': 0.050840874816515225, 'times': 5}, {'reward': 0.7495731510287171, 'times': 110}, {'reward': 0.2476064654308951, 'times': 10}, {'reward': 0.8065401603275586, 'times': 122}, {'reward': 0.48532237245787563, 'times': 29}, {'reward': 0.2535468865108959, 'times': 14}, {'reward': 0.04875783327702354, 'times': 2}, {'reward': 0.8988857801546025, 'times': 160}, {'reward': 0.5621316362740253, 'times': 45}, {'reward': 0.15015460559082738, 'times': 3}]\n",
      "inspect times: 500 ,  explore times: 325\n",
      "inspect knlgs: [{'reward': 0.050840874816515225, 'times': 8}, {'reward': 0.7495731510287166, 'times': 128}, {'reward': 0.247606465430895, 'times': 21}, {'reward': 0.806540160327558, 'times': 203}, {'reward': 0.4853223724578758, 'times': 45}, {'reward': 0.2535468865108959, 'times': 16}, {'reward': 0.04875783327702354, 'times': 8}, {'reward': 0.8988857801546036, 'times': 2}, {'reward': 0.5621316362740253, 'times': 52}, {'reward': 0.15015460559082738, 'times': 17}]\n",
      "inspect times: 500 ,  explore times: 297\n",
      "inspect knlgs: [{'reward': 0.050840874816515225, 'times': 6}, {'reward': 0.749573151028716, 'times': 143}, {'reward': 0.24760646543089504, 'times': 18}, {'reward': 0.8065401603275594, 'times': 72}, {'reward': 0.4853223724578757, 'times': 34}, {'reward': 0.2535468865108959, 'times': 15}, {'reward': 0.04875783327702354, 'times': 2}, {'reward': 0.8988857801546036, 'times': 175}, {'reward': 0.5621316362740255, 'times': 34}, {'reward': 0.15015460559082738, 'times': 1}]\n",
      "inspect times: 500 ,  explore times: 315\n",
      "total rewards: [370.8708483543395, 325.14704320334965, 366.99113516109645]\n",
      "grade of agent: 0.7883901382412597\n",
      "gym BanditTenArmedGaussian-v0 start\n",
      "gym arms: 10\n",
      "gym props: [1 1 1 1 1 1 1 1 1 1] [[-1.7299440410467526, 1], [0.4871962876978841, 1], [0.5364418368922167, 1], [-0.40193129836225633, 1], [0.22953988149203808, 1], [-1.579185437276867, 1], [0.5633355574244836, 1], [0.2599476359960253, 1], [0.11122775068862598, 1], [0.16794647106162996, 1]]\n",
      "gym total max reward: 281.6677787122418\n",
      "agent name is: SG\n",
      "inspect knlgs: [{'reward': -1.9773254319399682, 'times': 16}, {'reward': 0.32519605446093125, 'times': 14}, {'reward': 0.034932905384059805, 'times': 14}, {'reward': -0.3151149949817377, 'times': 18}, {'reward': 0.14656146855801114, 'times': 18}, {'reward': -1.502358387576532, 'times': 13}, {'reward': 0.5899568340561668, 'times': 358}, {'reward': 0.2737767468787801, 'times': 16}, {'reward': -0.07351548329264893, 'times': 14}, {'reward': 0.08854882755128524, 'times': 19}]\n",
      "inspect times: 500 ,  explore times: 149\n",
      "inspect knlgs: [{'reward': -1.608402892536362, 'times': 19}, {'reward': 0.3749788697857293, 'times': 22}, {'reward': 0.551244517661496, 'times': 314}, {'reward': -0.1956743117191948, 'times': 24}, {'reward': 0.13021352624851296, 'times': 16}, {'reward': -1.4494428870107008, 'times': 13}, {'reward': 0.39068092159313017, 'times': 27}, {'reward': 0.3161958427239344, 'times': 25}, {'reward': 0.1400430394680494, 'times': 25}, {'reward': 0.024850760905142207, 'times': 15}]\n",
      "inspect times: 500 ,  explore times: 165\n",
      "inspect knlgs: [{'reward': -1.482325896196962, 'times': 21}, {'reward': 0.47483038153818286, 'times': 282}, {'reward': 0.7112968548646801, 'times': 76}, {'reward': -0.11910513241283295, 'times': 12}, {'reward': 0.26762790460401753, 'times': 33}, {'reward': -1.8851423014311084, 'times': 9}, {'reward': 0.2030543318138015, 'times': 18}, {'reward': -0.2260599219919071, 'times': 15}, {'reward': 0.3056488728651343, 'times': 18}, {'reward': 0.14887220157084555, 'times': 16}]\n",
      "inspect times: 500 ,  explore times: 142\n",
      "total rewards: [167.078161512214, 151.6522524817725, 155.41577737292147]\n",
      "grade of agent: 0.5611175377539445\n",
      "agent name is: SG_REDUCE_SIGMA\n",
      "inspect knlgs: [{'reward': -0.9667910566025039, 'times': 7}, {'reward': -0.008035343838973752, 'times': 3}, {'reward': 0.4732190550937858, 'times': 24}, {'reward': -0.5703517862482589, 'times': 6}, {'reward': -0.3380981826774212, 'times': 3}, {'reward': -1.2938394320564215, 'times': 4}, {'reward': 0.5654673656706787, 'times': 440}, {'reward': 0.3932580163057688, 'times': 3}, {'reward': 0.08633100015968079, 'times': 5}, {'reward': 0.24414336061136205, 'times': 5}]\n",
      "inspect times: 500 ,  explore times: 37\n",
      "inspect knlgs: [{'reward': -2.3163602867398345, 'times': 4}, {'reward': 0.535196525024563, 'times': 9}, {'reward': 0.3221400870564045, 'times': 4}, {'reward': -0.15232944010083643, 'times': 4}, {'reward': 0.6071929043030369, 'times': 5}, {'reward': -1.8369631755193159, 'times': 2}, {'reward': 0.6460536160265841, 'times': 454}, {'reward': -0.10764073487206635, 'times': 5}, {'reward': 0.2884571835316123, 'times': 7}, {'reward': 0.25838278192852476, 'times': 6}]\n",
      "inspect times: 500 ,  explore times: 33\n",
      "inspect knlgs: [{'reward': -2.2057369101184756, 'times': 7}, {'reward': 0.5397994796220641, 'times': 266}, {'reward': 0.11485664325460954, 'times': 5}, {'reward': 0.11280275161896895, 'times': 6}, {'reward': 0.5174623005759403, 'times': 24}, {'reward': -2.0237876096666723, 'times': 4}, {'reward': 0.6083081290650971, 'times': 175}, {'reward': -0.14116340001969688, 'times': 3}, {'reward': 0.1811821772533036, 'times': 5}, {'reward': -0.3159117286395421, 'times': 5}]\n",
      "inspect times: 500 ,  explore times: 42\n",
      "total rewards: [246.5916376486401, 291.9322433145619, 239.0783323391843]\n",
      "grade of agent: 0.9202356725093056\n",
      "agent name is: SG_MAX_TRY\n",
      "inspect knlgs: [{'reward': -2.0964200968716624, 'times': 28}, {'reward': 0.5020879057891053, 'times': 36}, {'reward': 0.5570571305851684, 'times': 170}, {'reward': -0.46933472260341036, 'times': 27}, {'reward': 0.23680205711589475, 'times': 27}, {'reward': -1.1187884193536972, 'times': 27}, {'reward': 0.5028863003838745, 'times': 94}, {'reward': 0.49589897052586607, 'times': 37}, {'reward': 0.036163210943681065, 'times': 27}, {'reward': 0.20536910094683802, 'times': 27}]\n",
      "inspect times: 500 ,  explore times: 147\n",
      "inspect knlgs: [{'reward': -2.1378547640073804, 'times': 22}, {'reward': 0.31323235860254006, 'times': 22}, {'reward': 0.42575163479501194, 'times': 86}, {'reward': -0.42068125456908506, 'times': 22}, {'reward': 0.31663196421453454, 'times': 22}, {'reward': -1.4209386048165908, 'times': 22}, {'reward': 0.5069263325659703, 'times': 238}, {'reward': 0.25522370105865755, 'times': 22}, {'reward': -0.07081986843343703, 'times': 22}, {'reward': 0.15082479541560512, 'times': 22}]\n",
      "inspect times: 500 ,  explore times: 156\n",
      "inspect knlgs: [{'reward': -2.697530703586475, 'times': 21}, {'reward': 0.41701241017171947, 'times': 27}, {'reward': 0.525385493962428, 'times': 307}, {'reward': -0.2871479956479563, 'times': 21}, {'reward': 0.21712928360797565, 'times': 21}, {'reward': -1.4169474728803468, 'times': 21}, {'reward': 0.38586866740846465, 'times': 21}, {'reward': 0.4138484169974395, 'times': 21}, {'reward': 0.0031251970246125417, 'times': 20}, {'reward': 0.20708966430366846, 'times': 20}]\n",
      "inspect times: 500 ,  explore times: 159\n",
      "total rewards: [89.73039137135223, 90.94671094729851, 105.67660306154848]\n",
      "grade of agent: 0.33887878678607475\n",
      "agent name is: SG_MAX_TRY_REDUCE_SIGMA\n",
      "inspect knlgs: [{'reward': -1.1120346326014687, 'times': 6}, {'reward': 0.43030872068551745, 'times': 383}, {'reward': 0.0606772136389532, 'times': 6}, {'reward': -0.4331373328149087, 'times': 6}, {'reward': 0.3505418091153515, 'times': 70}, {'reward': -1.6140564888245663, 'times': 5}, {'reward': -0.441449379901165, 'times': 5}, {'reward': -0.2254017972811841, 'times': 5}, {'reward': 0.306293376961537, 'times': 9}, {'reward': -0.5029353686347098, 'times': 5}]\n",
      "inspect times: 500 ,  explore times: 35\n",
      "inspect knlgs: [{'reward': -2.0723991290519677, 'times': 5}, {'reward': 0.5351647051774858, 'times': 427}, {'reward': 0.5055129495500056, 'times': 17}, {'reward': 0.3128415747081871, 'times': 5}, {'reward': 0.5230258610231039, 'times': 22}, {'reward': -1.4796665410490812, 'times': 5}, {'reward': 0.3262494030610144, 'times': 5}, {'reward': -0.004644452393444664, 'times': 5}, {'reward': 0.05936501452464511, 'times': 5}, {'reward': 0.42519859351654965, 'times': 4}]\n",
      "inspect times: 500 ,  explore times: 32\n",
      "inspect knlgs: [{'reward': -1.9344483900744014, 'times': 5}, {'reward': 0.5128561213093926, 'times': 455}, {'reward': 0.239575426533687, 'times': 5}, {'reward': -0.9450948159190509, 'times': 5}, {'reward': 0.12989395762467315, 'times': 4}, {'reward': -0.6980565091910846, 'times': 4}, {'reward': 0.35819170811601914, 'times': 6}, {'reward': 0.1746952128628204, 'times': 4}, {'reward': 0.2904493536609081, 'times': 8}, {'reward': 0.1702805204261167, 'times': 4}]\n",
      "inspect times: 500 ,  explore times: 31\n",
      "total rewards: [169.27662336940904, 236.02514191870753, 223.7296941033481]\n",
      "grade of agent: 0.744412989263849\n",
      "agent name is: SM\n",
      "inspect knlgs: [{'reward': -1.9905312479720794, 'times': 1}, {'reward': 0.3476699227517828, 'times': 50}, {'reward': 0.40694546464596726, 'times': 51}, {'reward': -2.958964842662594, 'times': 1}, {'reward': 0.4630516540158361, 'times': 132}, {'reward': -1.7422984428453192, 'times': 1}, {'reward': 0.48805723416230273, 'times': 137}, {'reward': 0.03389372156335381, 'times': 25}, {'reward': 0.07045710806337378, 'times': 23}, {'reward': 0.3417223835843071, 'times': 79}]\n",
      "inspect times: 500 ,  explore times: 336\n",
      "inspect knlgs: [{'reward': -2.7330326399205687, 'times': 1}, {'reward': 0.38837965961083765, 'times': 136}, {'reward': 0.450450285742267, 'times': 138}, {'reward': -0.19838354215464374, 'times': 21}, {'reward': 0.27823865736752956, 'times': 107}, {'reward': -0.7415385390252959, 'times': 2}, {'reward': -1.9500116320054481, 'times': 1}, {'reward': 0.10716754328490971, 'times': 50}, {'reward': -0.0903495408076048, 'times': 43}, {'reward': -1.2190413969826444, 'times': 1}]\n",
      "inspect times: 500 ,  explore times: 295\n",
      "inspect knlgs: [{'reward': -1.9075217621458298, 'times': 1}, {'reward': -4.364921365482233, 'times': 1}, {'reward': 0.5662108782837191, 'times': 137}, {'reward': -0.41136308360886686, 'times': 4}, {'reward': 0.28497128831491114, 'times': 101}, {'reward': -1.6433306429380812, 'times': 2}, {'reward': 0.5914155033153281, 'times': 216}, {'reward': -0.008983931535756273, 'times': 4}, {'reward': -0.7161265421072618, 'times': 2}, {'reward': 0.43800325732676604, 'times': 32}]\n",
      "inspect times: 500 ,  explore times: 257\n",
      "total rewards: [188.8965045390812, 134.67543925514414, 235.44209783694546]\n",
      "grade of agent: 0.6615524669842485\n"
     ]
    }
   ],
   "source": [
    "for (name, arms) in all_gyms.items():\n",
    "    env = gym.make(name)\n",
    "    # env.seed(0)\n",
    "\n",
    "    print(\"gym\", name, \"start\")\n",
    "    print(\"gym arms:\", arms)\n",
    "    print(\"gym props:\", env.p_dist, env.r_dist)\n",
    "    if type(env.r_dist).__name__ == \"list\":\n",
    "        mean_reward = np.multiply(env.p_dist, [r[0] for r in env.r_dist])\n",
    "    else:\n",
    "        mean_reward = np.multiply(env.p_dist, env.r_dist)\n",
    "\n",
    "    max_reward = arms * RUN_PER_ARM * np.max(mean_reward)\n",
    "    print(\"gym total max reward:\", arms * RUN_PER_ARM * np.max(mean_reward))\n",
    "    result_table[name] = {}\n",
    "\n",
    "    def format_knlgs(lknlgs):\n",
    "        lng = len(lknlgs[0])\n",
    "        rlt = []\n",
    "        for i in range(lng):\n",
    "            rlt.append(\n",
    "                {\n",
    "                    \"reward\": np.mean([knlg[i][\"reward\"] for knlg in lknlgs]),\n",
    "                    \"times\": np.mean([knlg[i][\"times\"] for knlg in lknlgs]),\n",
    "                }\n",
    "            )\n",
    "        return rlt\n",
    "\n",
    "    agents = [\n",
    "        SigmaGreedy(arms, SIGMA),\n",
    "        SigmaGreedy(arms, SIGMA, reduce_sigma=True),\n",
    "        SigmaGreedy(arms, SIGMA, max_try=True),\n",
    "        SigmaGreedy(arms, SIGMA, reduce_sigma=True, max_try=True),\n",
    "        SoftMax(arms, 0.25),\n",
    "    ]\n",
    "\n",
    "    for agent in agents:\n",
    "\n",
    "        total_rewards = []\n",
    "        total_knlgs = []\n",
    "\n",
    "        print(\"agent name is:\", agent.get_name())\n",
    "\n",
    "        for _ in range(GRADE_TIMES):\n",
    "            env.reset()\n",
    "            env.seed(0)\n",
    "            agent.reset()\n",
    "            # agent = SigmaGreedy(arms, SIGMA)\n",
    "            total_reward = run(env, agent, arms)\n",
    "            # print(\"totoal reward:\", total_reward)\n",
    "            total_rewards.append(total_reward)\n",
    "            agent.glance()\n",
    "            total_knlgs.append(agent.inspect_knlg())\n",
    "            # del agent\n",
    "\n",
    "        # print('final agent state:', agent.glance())\n",
    "        print(\"total rewards:\", total_rewards)\n",
    "        grade = np.mean(total_rewards) / max_reward\n",
    "        print(\"grade of agent:\", grade)\n",
    "\n",
    "        result_table[name][agent.get_name()] = {\n",
    "            \"grade\": grade,\n",
    "            \"knlgs\": format_knlgs(total_knlgs),\n",
    "        }\n",
    "        env.close()\n"
   ]
  },
  {
   "cell_type": "code",
   "execution_count": 8,
   "metadata": {},
   "outputs": [
    {
     "name": "stdout",
     "output_type": "stream",
     "text": [
      "{\n",
      "    \"BanditTenArmedRandomFixed-v0\": {\n",
      "        \"SG\": {\n",
      "            \"grade\": 0.875133260202839,\n",
      "            \"knlgs\": [\n",
      "                {\n",
      "                    \"reward\": 0.5841013824884792,\n",
      "                    \"times\": 25.666666666666668\n",
      "                },\n",
      "                {\n",
      "                    \"reward\": 0.6755060728744939,\n",
      "                    \"times\": 17.333333333333332\n",
      "                },\n",
      "                {\n",
      "                    \"reward\": 0.7257713248638838,\n",
      "                    \"times\": 22.666666666666668\n",
      "                },\n",
      "                {\n",
      "                    \"reward\": 0.6155731523378581,\n",
      "                    \"times\": 15.333333333333334\n",
      "                },\n",
      "                {\n",
      "                    \"reward\": 0.4507246376811594,\n",
      "                    \"times\": 14.333333333333334\n",
      "                },\n",
      "                {\n",
      "                    \"reward\": 0.5096677559912853,\n",
      "                    \"times\": 14.0\n",
      "                },\n",
      "                {\n",
      "                    \"reward\": 0.48055555555555557,\n",
      "                    \"times\": 14.333333333333334\n",
      "                },\n",
      "                {\n",
      "                    \"reward\": 0.8679337231968812,\n",
      "                    \"times\": 72.66666666666667\n",
      "                },\n",
      "                {\n",
      "                    \"reward\": 0.9598612010744526,\n",
      "                    \"times\": 290.3333333333333\n",
      "                },\n",
      "                {\n",
      "                    \"reward\": 0.3263888888888889,\n",
      "                    \"times\": 13.333333333333334\n",
      "                }\n",
      "            ]\n",
      "        },\n",
      "        \"SG_REDUCE_SIGMA\": {\n",
      "            \"grade\": 0.9740613678779424,\n",
      "            \"knlgs\": [\n",
      "                {\n",
      "                    \"reward\": 0.73989898989899,\n",
      "                    \"times\": 8.333333333333334\n",
      "                },\n",
      "                {\n",
      "                    \"reward\": 0.6481481481481481,\n",
      "                    \"times\": 4.666666666666667\n",
      "                },\n",
      "                {\n",
      "                    \"reward\": 0.6944444444444443,\n",
      "                    \"times\": 5.666666666666667\n",
      "                },\n",
      "                {\n",
      "                    \"reward\": 0.4777777777777778,\n",
      "                    \"times\": 4.0\n",
      "                },\n",
      "                {\n",
      "                    \"reward\": 0.688888888888889,\n",
      "                    \"times\": 4.333333333333333\n",
      "                },\n",
      "                {\n",
      "                    \"reward\": 0.6523809523809524,\n",
      "                    \"times\": 4.666666666666667\n",
      "                },\n",
      "                {\n",
      "                    \"reward\": 0.42777777777777776,\n",
      "                    \"times\": 5.0\n",
      "                },\n",
      "                {\n",
      "                    \"reward\": 0.8095238095238094,\n",
      "                    \"times\": 10.333333333333334\n",
      "                },\n",
      "                {\n",
      "                    \"reward\": 0.9672581508236823,\n",
      "                    \"times\": 449.0\n",
      "                },\n",
      "                {\n",
      "                    \"reward\": 0.5555555555555555,\n",
      "                    \"times\": 4.0\n",
      "                }\n",
      "            ]\n",
      "        },\n",
      "        \"SG_MAX_TRY\": {\n",
      "            \"grade\": 0.8419266226615455,\n",
      "            \"knlgs\": [\n",
      "                {\n",
      "                    \"reward\": 0.508008658008658,\n",
      "                    \"times\": 21.0\n",
      "                },\n",
      "                {\n",
      "                    \"reward\": 0.7186147186147186,\n",
      "                    \"times\": 21.333333333333332\n",
      "                },\n",
      "                {\n",
      "                    \"reward\": 0.5303030303030303,\n",
      "                    \"times\": 20.666666666666668\n",
      "                },\n",
      "                {\n",
      "                    \"reward\": 0.5181818181818182,\n",
      "                    \"times\": 20.666666666666668\n",
      "                },\n",
      "                {\n",
      "                    \"reward\": 0.3575757575757576,\n",
      "                    \"times\": 20.666666666666668\n",
      "                },\n",
      "                {\n",
      "                    \"reward\": 0.7055555555555556,\n",
      "                    \"times\": 20.333333333333332\n",
      "                },\n",
      "                {\n",
      "                    \"reward\": 0.3595238095238095,\n",
      "                    \"times\": 20.333333333333332\n",
      "                },\n",
      "                {\n",
      "                    \"reward\": 0.9316368879187215,\n",
      "                    \"times\": 54.666666666666664\n",
      "                },\n",
      "                {\n",
      "                    \"reward\": 0.9705169710667237,\n",
      "                    \"times\": 280.3333333333333\n",
      "                },\n",
      "                {\n",
      "                    \"reward\": 0.3662907268170426,\n",
      "                    \"times\": 20.0\n",
      "                }\n",
      "            ]\n",
      "        },\n",
      "        \"SG_MAX_TRY_REDUCE_SIGMA\": {\n",
      "            \"grade\": 0.9187169719757867,\n",
      "            \"knlgs\": [\n",
      "                {\n",
      "                    \"reward\": 0.5036075036075036,\n",
      "                    \"times\": 11.666666666666666\n",
      "                },\n",
      "                {\n",
      "                    \"reward\": 0.6473429951690822,\n",
      "                    \"times\": 11.666666666666666\n",
      "                },\n",
      "                {\n",
      "                    \"reward\": 0.6616161616161617,\n",
      "                    \"times\": 7.666666666666667\n",
      "                },\n",
      "                {\n",
      "                    \"reward\": 0.5,\n",
      "                    \"times\": 6.0\n",
      "                },\n",
      "                {\n",
      "                    \"reward\": 0.16666666666666666,\n",
      "                    \"times\": 6.0\n",
      "                },\n",
      "                {\n",
      "                    \"reward\": 0.6444444444444444,\n",
      "                    \"times\": 5.666666666666667\n",
      "                },\n",
      "                {\n",
      "                    \"reward\": 0.3222222222222222,\n",
      "                    \"times\": 5.333333333333333\n",
      "                },\n",
      "                {\n",
      "                    \"reward\": 0.8794064237884464,\n",
      "                    \"times\": 156.0\n",
      "                },\n",
      "                {\n",
      "                    \"reward\": 0.9019042439444895,\n",
      "                    \"times\": 284.6666666666667\n",
      "                },\n",
      "                {\n",
      "                    \"reward\": 0.3,\n",
      "                    \"times\": 5.333333333333333\n",
      "                }\n",
      "            ]\n",
      "        },\n",
      "        \"SM\": {\n",
      "            \"grade\": 0.8045691554275903,\n",
      "            \"knlgs\": [\n",
      "                {\n",
      "                    \"reward\": 0.5094168636721829,\n",
      "                    \"times\": 34.666666666666664\n",
      "                },\n",
      "                {\n",
      "                    \"reward\": 0.676594708651193,\n",
      "                    \"times\": 56.0\n",
      "                },\n",
      "                {\n",
      "                    \"reward\": 0.6774801587301588,\n",
      "                    \"times\": 35.666666666666664\n",
      "                },\n",
      "                {\n",
      "                    \"reward\": 0.5933179168473285,\n",
      "                    \"times\": 31.0\n",
      "                },\n",
      "                {\n",
      "                    \"reward\": 0.2981029810298103,\n",
      "                    \"times\": 21.666666666666668\n",
      "                },\n",
      "                {\n",
      "                    \"reward\": 0.6047802711547452,\n",
      "                    \"times\": 41.666666666666664\n",
      "                },\n",
      "                {\n",
      "                    \"reward\": 0.36984126984126986,\n",
      "                    \"times\": 15.0\n",
      "                },\n",
      "                {\n",
      "                    \"reward\": 0.8758658855409042,\n",
      "                    \"times\": 97.0\n",
      "                },\n",
      "                {\n",
      "                    \"reward\": 0.9742316888303938,\n",
      "                    \"times\": 158.66666666666666\n",
      "                },\n",
      "                {\n",
      "                    \"reward\": 0.21031746031746032,\n",
      "                    \"times\": 8.666666666666666\n",
      "                }\n",
      "            ]\n",
      "        }\n",
      "    },\n",
      "    \"BanditTenArmedRandomRandom-v0\": {\n",
      "        \"SG\": {\n",
      "            \"grade\": 0.7431483428085327,\n",
      "            \"knlgs\": [\n",
      "                {\n",
      "                    \"reward\": 0.04650636478469011,\n",
      "                    \"times\": 24.333333333333332\n",
      "                },\n",
      "                {\n",
      "                    \"reward\": 0.9699110256376159,\n",
      "                    \"times\": 333.6666666666667\n",
      "                },\n",
      "                {\n",
      "                    \"reward\": 0.12460786300850031,\n",
      "                    \"times\": 16.333333333333332\n",
      "                },\n",
      "                {\n",
      "                    \"reward\": 0.4994363337429572,\n",
      "                    \"times\": 13.0\n",
      "                },\n",
      "                {\n",
      "                    \"reward\": 0.5471177316298497,\n",
      "                    \"times\": 17.666666666666668\n",
      "                },\n",
      "                {\n",
      "                    \"reward\": 0.25622850251077245,\n",
      "                    \"times\": 13.666666666666666\n",
      "                },\n",
      "                {\n",
      "                    \"reward\": 0.11334390147593426,\n",
      "                    \"times\": 21.333333333333332\n",
      "                },\n",
      "                {\n",
      "                    \"reward\": 0.047583821364223594,\n",
      "                    \"times\": 14.666666666666666\n",
      "                },\n",
      "                {\n",
      "                    \"reward\": 0.2812578392764286,\n",
      "                    \"times\": 24.0\n",
      "                },\n",
      "                {\n",
      "                    \"reward\": 0.18651364708321938,\n",
      "                    \"times\": 21.333333333333332\n",
      "                }\n",
      "            ]\n",
      "        },\n",
      "        \"SG_REDUCE_SIGMA\": {\n",
      "            \"grade\": 0.9063522417910452,\n",
      "            \"knlgs\": [\n",
      "                {\n",
      "                    \"reward\": 0.0268046295222181,\n",
      "                    \"times\": 8.0\n",
      "                },\n",
      "                {\n",
      "                    \"reward\": 0.9698039374171342,\n",
      "                    \"times\": 429.0\n",
      "                },\n",
      "                {\n",
      "                    \"reward\": 0.14068629694508095,\n",
      "                    \"times\": 4.333333333333333\n",
      "                },\n",
      "                {\n",
      "                    \"reward\": 0.4305424564996911,\n",
      "                    \"times\": 7.0\n",
      "                },\n",
      "                {\n",
      "                    \"reward\": 0.5344420217956268,\n",
      "                    \"times\": 27.333333333333332\n",
      "                },\n",
      "                {\n",
      "                    \"reward\": 0.06569688139298058,\n",
      "                    \"times\": 3.6666666666666665\n",
      "                },\n",
      "                {\n",
      "                    \"reward\": 0.13763634096581767,\n",
      "                    \"times\": 2.3333333333333335\n",
      "                },\n",
      "                {\n",
      "                    \"reward\": 0.13826035066417344,\n",
      "                    \"times\": 5.0\n",
      "                },\n",
      "                {\n",
      "                    \"reward\": 0.27883897897580945,\n",
      "                    \"times\": 3.0\n",
      "                },\n",
      "                {\n",
      "                    \"reward\": 0.24621163909468957,\n",
      "                    \"times\": 10.333333333333334\n",
      "                }\n",
      "            ]\n",
      "        },\n",
      "        \"SG_MAX_TRY\": {\n",
      "            \"grade\": 0.7659137761533443,\n",
      "            \"knlgs\": [\n",
      "                {\n",
      "                    \"reward\": 0.0376753959395621,\n",
      "                    \"times\": 17.0\n",
      "                },\n",
      "                {\n",
      "                    \"reward\": 0.9710901172557427,\n",
      "                    \"times\": 347.3333333333333\n",
      "                },\n",
      "                {\n",
      "                    \"reward\": 0.10543113013783921,\n",
      "                    \"times\": 17.0\n",
      "                },\n",
      "                {\n",
      "                    \"reward\": 0.4433964656037765,\n",
      "                    \"times\": 17.0\n",
      "                },\n",
      "                {\n",
      "                    \"reward\": 0.5787983125902486,\n",
      "                    \"times\": 17.0\n",
      "                },\n",
      "                {\n",
      "                    \"reward\": 0.21295128833876667,\n",
      "                    \"times\": 17.0\n",
      "                },\n",
      "                {\n",
      "                    \"reward\": 0.1002473839632569,\n",
      "                    \"times\": 17.0\n",
      "                },\n",
      "                {\n",
      "                    \"reward\": 0.09259486918486974,\n",
      "                    \"times\": 17.0\n",
      "                },\n",
      "                {\n",
      "                    \"reward\": 0.25574379647105167,\n",
      "                    \"times\": 17.0\n",
      "                },\n",
      "                {\n",
      "                    \"reward\": 0.1871415357656696,\n",
      "                    \"times\": 16.666666666666668\n",
      "                }\n",
      "            ]\n",
      "        },\n",
      "        \"SG_MAX_TRY_REDUCE_SIGMA\": {\n",
      "            \"grade\": 0.9399101267581346,\n",
      "            \"knlgs\": [\n",
      "                {\n",
      "                    \"reward\": 0.051036014610303264,\n",
      "                    \"times\": 5.0\n",
      "                },\n",
      "                {\n",
      "                    \"reward\": 0.9701231926683221,\n",
      "                    \"times\": 462.0\n",
      "                },\n",
      "                {\n",
      "                    \"reward\": 0.09464350885396355,\n",
      "                    \"times\": 4.333333333333333\n",
      "                },\n",
      "                {\n",
      "                    \"reward\": 0.32729019317623576,\n",
      "                    \"times\": 4.333333333333333\n",
      "                },\n",
      "                {\n",
      "                    \"reward\": 0.4936927767320307,\n",
      "                    \"times\": 4.333333333333333\n",
      "                },\n",
      "                {\n",
      "                    \"reward\": 0.2463633052236772,\n",
      "                    \"times\": 4.0\n",
      "                },\n",
      "                {\n",
      "                    \"reward\": 0.10322725572436325,\n",
      "                    \"times\": 4.0\n",
      "                },\n",
      "                {\n",
      "                    \"reward\": 0.1121029870250055,\n",
      "                    \"times\": 4.0\n",
      "                },\n",
      "                {\n",
      "                    \"reward\": 0.23076329294549747,\n",
      "                    \"times\": 4.0\n",
      "                },\n",
      "                {\n",
      "                    \"reward\": 0.16883083823635858,\n",
      "                    \"times\": 4.0\n",
      "                }\n",
      "            ]\n",
      "        },\n",
      "        \"SM\": {\n",
      "            \"grade\": 0.7683583226713838,\n",
      "            \"knlgs\": [\n",
      "                {\n",
      "                    \"reward\": 0.031593723330187735,\n",
      "                    \"times\": 9.0\n",
      "                },\n",
      "                {\n",
      "                    \"reward\": 0.9708259212793439,\n",
      "                    \"times\": 325.0\n",
      "                },\n",
      "                {\n",
      "                    \"reward\": 0.13675101591165215,\n",
      "                    \"times\": 13.333333333333334\n",
      "                },\n",
      "                {\n",
      "                    \"reward\": 0.3640268475123439,\n",
      "                    \"times\": 24.666666666666668\n",
      "                },\n",
      "                {\n",
      "                    \"reward\": 0.5484459099902411,\n",
      "                    \"times\": 48.0\n",
      "                },\n",
      "                {\n",
      "                    \"reward\": 0.20535546366098548,\n",
      "                    \"times\": 21.0\n",
      "                },\n",
      "                {\n",
      "                    \"reward\": 0.09213988381322795,\n",
      "                    \"times\": 7.0\n",
      "                },\n",
      "                {\n",
      "                    \"reward\": 0.017246613388462385,\n",
      "                    \"times\": 9.0\n",
      "                },\n",
      "                {\n",
      "                    \"reward\": 0.2794939976229556,\n",
      "                    \"times\": 26.333333333333332\n",
      "                },\n",
      "                {\n",
      "                    \"reward\": 0.20324324832664034,\n",
      "                    \"times\": 16.666666666666668\n",
      "                }\n",
      "            ]\n",
      "        }\n",
      "    },\n",
      "    \"BanditTenArmedUniformDistributedReward-v0\": {\n",
      "        \"SG\": {\n",
      "            \"grade\": 0.8086527351249095,\n",
      "            \"knlgs\": [\n",
      "                {\n",
      "                    \"reward\": 0.050840874816515225,\n",
      "                    \"times\": 23.666666666666668\n",
      "                },\n",
      "                {\n",
      "                    \"reward\": 0.7495731510287166,\n",
      "                    \"times\": 19.333333333333332\n",
      "                },\n",
      "                {\n",
      "                    \"reward\": 0.24760646543089504,\n",
      "                    \"times\": 15.666666666666666\n",
      "                },\n",
      "                {\n",
      "                    \"reward\": 0.8065401603275605,\n",
      "                    \"times\": 39.0\n",
      "                },\n",
      "                {\n",
      "                    \"reward\": 0.4853223724578753,\n",
      "                    \"times\": 14.666666666666666\n",
      "                },\n",
      "                {\n",
      "                    \"reward\": 0.2535468865108959,\n",
      "                    \"times\": 17.0\n",
      "                },\n",
      "                {\n",
      "                    \"reward\": 0.04875783327702354,\n",
      "                    \"times\": 16.333333333333332\n",
      "                },\n",
      "                {\n",
      "                    \"reward\": 0.8988857801546084,\n",
      "                    \"times\": 320.3333333333333\n",
      "                },\n",
      "                {\n",
      "                    \"reward\": 0.5621316362740257,\n",
      "                    \"times\": 17.333333333333332\n",
      "                },\n",
      "                {\n",
      "                    \"reward\": 0.15015460559082738,\n",
      "                    \"times\": 16.666666666666668\n",
      "                }\n",
      "            ]\n",
      "        },\n",
      "        \"SG_REDUCE_SIGMA\": {\n",
      "            \"grade\": 0.9535539546953722,\n",
      "            \"knlgs\": [\n",
      "                {\n",
      "                    \"reward\": 0.050840874816515225,\n",
      "                    \"times\": 5.333333333333333\n",
      "                },\n",
      "                {\n",
      "                    \"reward\": 0.7495731510287172,\n",
      "                    \"times\": 23.666666666666668\n",
      "                },\n",
      "                {\n",
      "                    \"reward\": 0.1650709769539301,\n",
      "                    \"times\": 1.3333333333333333\n",
      "                },\n",
      "                {\n",
      "                    \"reward\": 0.8065401603275609,\n",
      "                    \"times\": 3.3333333333333335\n",
      "                },\n",
      "                {\n",
      "                    \"reward\": 0.4853223724578754,\n",
      "                    \"times\": 3.3333333333333335\n",
      "                },\n",
      "                {\n",
      "                    \"reward\": 0.25354688651089596,\n",
      "                    \"times\": 3.6666666666666665\n",
      "                },\n",
      "                {\n",
      "                    \"reward\": 0.04875783327702354,\n",
      "                    \"times\": 4.666666666666667\n",
      "                },\n",
      "                {\n",
      "                    \"reward\": 0.8988857801546102,\n",
      "                    \"times\": 446.6666666666667\n",
      "                },\n",
      "                {\n",
      "                    \"reward\": 0.5621316362740255,\n",
      "                    \"times\": 5.0\n",
      "                },\n",
      "                {\n",
      "                    \"reward\": 0.15015460559082738,\n",
      "                    \"times\": 3.0\n",
      "                }\n",
      "            ]\n",
      "        },\n",
      "        \"SG_MAX_TRY\": {\n",
      "            \"grade\": 0.8195009612773689,\n",
      "            \"knlgs\": [\n",
      "                {\n",
      "                    \"reward\": 0.050840874816515225,\n",
      "                    \"times\": 17.666666666666668\n",
      "                },\n",
      "                {\n",
      "                    \"reward\": 0.7495731510287166,\n",
      "                    \"times\": 17.666666666666668\n",
      "                },\n",
      "                {\n",
      "                    \"reward\": 0.24760646543089504,\n",
      "                    \"times\": 17.333333333333332\n",
      "                },\n",
      "                {\n",
      "                    \"reward\": 0.8065401603275609,\n",
      "                    \"times\": 17.333333333333332\n",
      "                },\n",
      "                {\n",
      "                    \"reward\": 0.4853223724578753,\n",
      "                    \"times\": 17.333333333333332\n",
      "                },\n",
      "                {\n",
      "                    \"reward\": 0.2535468865108959,\n",
      "                    \"times\": 17.333333333333332\n",
      "                },\n",
      "                {\n",
      "                    \"reward\": 0.04875783327702354,\n",
      "                    \"times\": 16.666666666666668\n",
      "                },\n",
      "                {\n",
      "                    \"reward\": 0.8988857801546088,\n",
      "                    \"times\": 345.3333333333333\n",
      "                },\n",
      "                {\n",
      "                    \"reward\": 0.5621316362740257,\n",
      "                    \"times\": 16.666666666666668\n",
      "                },\n",
      "                {\n",
      "                    \"reward\": 0.15015460559082738,\n",
      "                    \"times\": 16.666666666666668\n",
      "                }\n",
      "            ]\n",
      "        },\n",
      "        \"SG_MAX_TRY_REDUCE_SIGMA\": {\n",
      "            \"grade\": 0.9453192627264612,\n",
      "            \"knlgs\": [\n",
      "                {\n",
      "                    \"reward\": 0.050840874816515225,\n",
      "                    \"times\": 4.666666666666667\n",
      "                },\n",
      "                {\n",
      "                    \"reward\": 0.7495731510287168,\n",
      "                    \"times\": 8.0\n",
      "                },\n",
      "                {\n",
      "                    \"reward\": 0.24760646543089515,\n",
      "                    \"times\": 4.666666666666667\n",
      "                },\n",
      "                {\n",
      "                    \"reward\": 0.8065401603275605,\n",
      "                    \"times\": 39.333333333333336\n",
      "                },\n",
      "                {\n",
      "                    \"reward\": 0.4853223724578754,\n",
      "                    \"times\": 4.666666666666667\n",
      "                },\n",
      "                {\n",
      "                    \"reward\": 0.25354688651089596,\n",
      "                    \"times\": 4.333333333333333\n",
      "                },\n",
      "                {\n",
      "                    \"reward\": 0.04875783327702354,\n",
      "                    \"times\": 4.333333333333333\n",
      "                },\n",
      "                {\n",
      "                    \"reward\": 0.8988857801546098,\n",
      "                    \"times\": 422.0\n",
      "                },\n",
      "                {\n",
      "                    \"reward\": 0.5621316362740256,\n",
      "                    \"times\": 4.0\n",
      "                },\n",
      "                {\n",
      "                    \"reward\": 0.15015460559082738,\n",
      "                    \"times\": 4.0\n",
      "                }\n",
      "            ]\n",
      "        },\n",
      "        \"SM\": {\n",
      "            \"grade\": 0.7883901382412597,\n",
      "            \"knlgs\": [\n",
      "                {\n",
      "                    \"reward\": 0.050840874816515225,\n",
      "                    \"times\": 6.333333333333333\n",
      "                },\n",
      "                {\n",
      "                    \"reward\": 0.7495731510287166,\n",
      "                    \"times\": 127.0\n",
      "                },\n",
      "                {\n",
      "                    \"reward\": 0.24760646543089504,\n",
      "                    \"times\": 16.333333333333332\n",
      "                },\n",
      "                {\n",
      "                    \"reward\": 0.8065401603275587,\n",
      "                    \"times\": 132.33333333333334\n",
      "                },\n",
      "                {\n",
      "                    \"reward\": 0.4853223724578757,\n",
      "                    \"times\": 36.0\n",
      "                },\n",
      "                {\n",
      "                    \"reward\": 0.2535468865108959,\n",
      "                    \"times\": 15.0\n",
      "                },\n",
      "                {\n",
      "                    \"reward\": 0.04875783327702354,\n",
      "                    \"times\": 4.0\n",
      "                },\n",
      "                {\n",
      "                    \"reward\": 0.8988857801546032,\n",
      "                    \"times\": 112.33333333333333\n",
      "                },\n",
      "                {\n",
      "                    \"reward\": 0.5621316362740254,\n",
      "                    \"times\": 43.666666666666664\n",
      "                },\n",
      "                {\n",
      "                    \"reward\": 0.15015460559082738,\n",
      "                    \"times\": 7.0\n",
      "                }\n",
      "            ]\n",
      "        }\n",
      "    },\n",
      "    \"BanditTenArmedGaussian-v0\": {\n",
      "        \"SG\": {\n",
      "            \"grade\": 0.5611175377539445,\n",
      "            \"knlgs\": [\n",
      "                {\n",
      "                    \"reward\": -1.6893514068910973,\n",
      "                    \"times\": 18.666666666666668\n",
      "                },\n",
      "                {\n",
      "                    \"reward\": 0.3916684352616145,\n",
      "                    \"times\": 106.0\n",
      "                },\n",
      "                {\n",
      "                    \"reward\": 0.43249142597007867,\n",
      "                    \"times\": 134.66666666666666\n",
      "                },\n",
      "                {\n",
      "                    \"reward\": -0.2099648130379218,\n",
      "                    \"times\": 18.0\n",
      "                },\n",
      "                {\n",
      "                    \"reward\": 0.18146763313684722,\n",
      "                    \"times\": 22.333333333333332\n",
      "                },\n",
      "                {\n",
      "                    \"reward\": -1.612314525339447,\n",
      "                    \"times\": 11.666666666666666\n",
      "                },\n",
      "                {\n",
      "                    \"reward\": 0.39456402915436617,\n",
      "                    \"times\": 134.33333333333334\n",
      "                },\n",
      "                {\n",
      "                    \"reward\": 0.12130422253693583,\n",
      "                    \"times\": 18.666666666666668\n",
      "                },\n",
      "                {\n",
      "                    \"reward\": 0.12405880968017828,\n",
      "                    \"times\": 19.0\n",
      "                },\n",
      "                {\n",
      "                    \"reward\": 0.08742393000909099,\n",
      "                    \"times\": 16.666666666666668\n",
      "                }\n",
      "            ]\n",
      "        },\n",
      "        \"SG_REDUCE_SIGMA\": {\n",
      "            \"grade\": 0.9202356725093056,\n",
      "            \"knlgs\": [\n",
      "                {\n",
      "                    \"reward\": -1.8296294178202714,\n",
      "                    \"times\": 6.0\n",
      "                },\n",
      "                {\n",
      "                    \"reward\": 0.35565355360255113,\n",
      "                    \"times\": 92.66666666666667\n",
      "                },\n",
      "                {\n",
      "                    \"reward\": 0.30340526180159993,\n",
      "                    \"times\": 11.0\n",
      "                },\n",
      "                {\n",
      "                    \"reward\": -0.20329282491004216,\n",
      "                    \"times\": 5.333333333333333\n",
      "                },\n",
      "                {\n",
      "                    \"reward\": 0.26218567406718535,\n",
      "                    \"times\": 10.666666666666666\n",
      "                },\n",
      "                {\n",
      "                    \"reward\": -1.7181967390808033,\n",
      "                    \"times\": 3.3333333333333335\n",
      "                },\n",
      "                {\n",
      "                    \"reward\": 0.6066097035874533,\n",
      "                    \"times\": 356.3333333333333\n",
      "                },\n",
      "                {\n",
      "                    \"reward\": 0.04815129380466853,\n",
      "                    \"times\": 3.6666666666666665\n",
      "                },\n",
      "                {\n",
      "                    \"reward\": 0.1853234536481989,\n",
      "                    \"times\": 5.666666666666667\n",
      "                },\n",
      "                {\n",
      "                    \"reward\": 0.06220480463344824,\n",
      "                    \"times\": 5.333333333333333\n",
      "                }\n",
      "            ]\n",
      "        },\n",
      "        \"SG_MAX_TRY\": {\n",
      "            \"grade\": 0.33887878678607475,\n",
      "            \"knlgs\": [\n",
      "                {\n",
      "                    \"reward\": -2.310601854821839,\n",
      "                    \"times\": 23.666666666666668\n",
      "                },\n",
      "                {\n",
      "                    \"reward\": 0.4107775581877883,\n",
      "                    \"times\": 28.333333333333332\n",
      "                },\n",
      "                {\n",
      "                    \"reward\": 0.5027314197808694,\n",
      "                    \"times\": 187.66666666666666\n",
      "                },\n",
      "                {\n",
      "                    \"reward\": -0.3923879909401506,\n",
      "                    \"times\": 23.333333333333332\n",
      "                },\n",
      "                {\n",
      "                    \"reward\": 0.2568544349794683,\n",
      "                    \"times\": 23.333333333333332\n",
      "                },\n",
      "                {\n",
      "                    \"reward\": -1.3188914990168783,\n",
      "                    \"times\": 23.333333333333332\n",
      "                },\n",
      "                {\n",
      "                    \"reward\": 0.4652271001194364,\n",
      "                    \"times\": 117.66666666666667\n",
      "                },\n",
      "                {\n",
      "                    \"reward\": 0.3883236961939877,\n",
      "                    \"times\": 26.666666666666668\n",
      "                },\n",
      "                {\n",
      "                    \"reward\": -0.010510486821714474,\n",
      "                    \"times\": 23.0\n",
      "                },\n",
      "                {\n",
      "                    \"reward\": 0.18776118688870388,\n",
      "                    \"times\": 23.0\n",
      "                }\n",
      "            ]\n",
      "        },\n",
      "        \"SG_MAX_TRY_REDUCE_SIGMA\": {\n",
      "            \"grade\": 0.744412989263849,\n",
      "            \"knlgs\": [\n",
      "                {\n",
      "                    \"reward\": -1.706294050575946,\n",
      "                    \"times\": 5.333333333333333\n",
      "                },\n",
      "                {\n",
      "                    \"reward\": 0.49277651572413195,\n",
      "                    \"times\": 421.6666666666667\n",
      "                },\n",
      "                {\n",
      "                    \"reward\": 0.2685885299075486,\n",
      "                    \"times\": 9.333333333333334\n",
      "                },\n",
      "                {\n",
      "                    \"reward\": -0.3551301913419242,\n",
      "                    \"times\": 5.333333333333333\n",
      "                },\n",
      "                {\n",
      "                    \"reward\": 0.3344872092543762,\n",
      "                    \"times\": 32.0\n",
      "                },\n",
      "                {\n",
      "                    \"reward\": -1.2639265130215773,\n",
      "                    \"times\": 4.666666666666667\n",
      "                },\n",
      "                {\n",
      "                    \"reward\": 0.08099724375862284,\n",
      "                    \"times\": 5.333333333333333\n",
      "                },\n",
      "                {\n",
      "                    \"reward\": -0.01845034560393612,\n",
      "                    \"times\": 4.666666666666667\n",
      "                },\n",
      "                {\n",
      "                    \"reward\": 0.21870258171569676,\n",
      "                    \"times\": 7.333333333333333\n",
      "                },\n",
      "                {\n",
      "                    \"reward\": 0.030847915102652185,\n",
      "                    \"times\": 4.333333333333333\n",
      "                }\n",
      "            ]\n",
      "        },\n",
      "        \"SM\": {\n",
      "            \"grade\": 0.6615524669842485,\n",
      "            \"knlgs\": [\n",
      "                {\n",
      "                    \"reward\": -2.210361883346159,\n",
      "                    \"times\": 1.0\n",
      "                },\n",
      "                {\n",
      "                    \"reward\": -1.2096239277065373,\n",
      "                    \"times\": 62.333333333333336\n",
      "                },\n",
      "                {\n",
      "                    \"reward\": 0.4745355428906511,\n",
      "                    \"times\": 108.66666666666667\n",
      "                },\n",
      "                {\n",
      "                    \"reward\": -1.1895704894753683,\n",
      "                    \"times\": 8.666666666666666\n",
      "                },\n",
      "                {\n",
      "                    \"reward\": 0.34208719989942554,\n",
      "                    \"times\": 113.33333333333333\n",
      "                },\n",
      "                {\n",
      "                    \"reward\": -1.3757225416028989,\n",
      "                    \"times\": 1.6666666666666667\n",
      "                },\n",
      "                {\n",
      "                    \"reward\": -0.29017963150927245,\n",
      "                    \"times\": 118.0\n",
      "                },\n",
      "                {\n",
      "                    \"reward\": 0.04402577777083575,\n",
      "                    \"times\": 26.333333333333332\n",
      "                },\n",
      "                {\n",
      "                    \"reward\": -0.24533965828383095,\n",
      "                    \"times\": 22.666666666666668\n",
      "                },\n",
      "                {\n",
      "                    \"reward\": -0.14643858535719043,\n",
      "                    \"times\": 37.333333333333336\n",
      "                }\n",
      "            ]\n",
      "        }\n",
      "    }\n",
      "}\n"
     ]
    }
   ],
   "source": [
    "print(json.dumps(result_table, indent=4))\n"
   ]
  },
  {
   "cell_type": "code",
   "execution_count": 9,
   "metadata": {},
   "outputs": [
    {
     "data": {
      "application/vnd.plotly.v1+json": {
       "config": {
        "plotlyServerURL": "https://plot.ly"
       },
       "data": [
        {
         "name": "SG",
         "type": "bar",
         "x": [
          "BTARF",
          "BTARR",
          "BTAUDR",
          "BTAG"
         ],
         "y": [
          0.875133260202839,
          0.7431483428085327,
          0.8086527351249095,
          0.5611175377539445
         ]
        },
        {
         "name": "SG_REDUCE_SIGMA",
         "type": "bar",
         "x": [
          "BTARF",
          "BTARR",
          "BTAUDR",
          "BTAG"
         ],
         "y": [
          0.9740613678779424,
          0.9063522417910452,
          0.9535539546953722,
          0.9202356725093056
         ]
        },
        {
         "name": "SG_MAX_TRY",
         "type": "bar",
         "x": [
          "BTARF",
          "BTARR",
          "BTAUDR",
          "BTAG"
         ],
         "y": [
          0.8419266226615455,
          0.7659137761533443,
          0.8195009612773689,
          0.33887878678607475
         ]
        },
        {
         "name": "SG_MAX_TRY_REDUCE_SIGMA",
         "type": "bar",
         "x": [
          "BTARF",
          "BTARR",
          "BTAUDR",
          "BTAG"
         ],
         "y": [
          0.9187169719757867,
          0.9399101267581346,
          0.9453192627264612,
          0.744412989263849
         ]
        },
        {
         "name": "SM",
         "type": "bar",
         "x": [
          "BTARF",
          "BTARR",
          "BTAUDR",
          "BTAG"
         ],
         "y": [
          0.8045691554275903,
          0.7683583226713838,
          0.7883901382412597,
          0.6615524669842485
         ]
        }
       ],
       "layout": {
        "barmode": "group",
        "template": {
         "data": {
          "bar": [
           {
            "error_x": {
             "color": "#2a3f5f"
            },
            "error_y": {
             "color": "#2a3f5f"
            },
            "marker": {
             "line": {
              "color": "#E5ECF6",
              "width": 0.5
             },
             "pattern": {
              "fillmode": "overlay",
              "size": 10,
              "solidity": 0.2
             }
            },
            "type": "bar"
           }
          ],
          "barpolar": [
           {
            "marker": {
             "line": {
              "color": "#E5ECF6",
              "width": 0.5
             },
             "pattern": {
              "fillmode": "overlay",
              "size": 10,
              "solidity": 0.2
             }
            },
            "type": "barpolar"
           }
          ],
          "carpet": [
           {
            "aaxis": {
             "endlinecolor": "#2a3f5f",
             "gridcolor": "white",
             "linecolor": "white",
             "minorgridcolor": "white",
             "startlinecolor": "#2a3f5f"
            },
            "baxis": {
             "endlinecolor": "#2a3f5f",
             "gridcolor": "white",
             "linecolor": "white",
             "minorgridcolor": "white",
             "startlinecolor": "#2a3f5f"
            },
            "type": "carpet"
           }
          ],
          "choropleth": [
           {
            "colorbar": {
             "outlinewidth": 0,
             "ticks": ""
            },
            "type": "choropleth"
           }
          ],
          "contour": [
           {
            "colorbar": {
             "outlinewidth": 0,
             "ticks": ""
            },
            "colorscale": [
             [
              0,
              "#0d0887"
             ],
             [
              0.1111111111111111,
              "#46039f"
             ],
             [
              0.2222222222222222,
              "#7201a8"
             ],
             [
              0.3333333333333333,
              "#9c179e"
             ],
             [
              0.4444444444444444,
              "#bd3786"
             ],
             [
              0.5555555555555556,
              "#d8576b"
             ],
             [
              0.6666666666666666,
              "#ed7953"
             ],
             [
              0.7777777777777778,
              "#fb9f3a"
             ],
             [
              0.8888888888888888,
              "#fdca26"
             ],
             [
              1,
              "#f0f921"
             ]
            ],
            "type": "contour"
           }
          ],
          "contourcarpet": [
           {
            "colorbar": {
             "outlinewidth": 0,
             "ticks": ""
            },
            "type": "contourcarpet"
           }
          ],
          "heatmap": [
           {
            "colorbar": {
             "outlinewidth": 0,
             "ticks": ""
            },
            "colorscale": [
             [
              0,
              "#0d0887"
             ],
             [
              0.1111111111111111,
              "#46039f"
             ],
             [
              0.2222222222222222,
              "#7201a8"
             ],
             [
              0.3333333333333333,
              "#9c179e"
             ],
             [
              0.4444444444444444,
              "#bd3786"
             ],
             [
              0.5555555555555556,
              "#d8576b"
             ],
             [
              0.6666666666666666,
              "#ed7953"
             ],
             [
              0.7777777777777778,
              "#fb9f3a"
             ],
             [
              0.8888888888888888,
              "#fdca26"
             ],
             [
              1,
              "#f0f921"
             ]
            ],
            "type": "heatmap"
           }
          ],
          "heatmapgl": [
           {
            "colorbar": {
             "outlinewidth": 0,
             "ticks": ""
            },
            "colorscale": [
             [
              0,
              "#0d0887"
             ],
             [
              0.1111111111111111,
              "#46039f"
             ],
             [
              0.2222222222222222,
              "#7201a8"
             ],
             [
              0.3333333333333333,
              "#9c179e"
             ],
             [
              0.4444444444444444,
              "#bd3786"
             ],
             [
              0.5555555555555556,
              "#d8576b"
             ],
             [
              0.6666666666666666,
              "#ed7953"
             ],
             [
              0.7777777777777778,
              "#fb9f3a"
             ],
             [
              0.8888888888888888,
              "#fdca26"
             ],
             [
              1,
              "#f0f921"
             ]
            ],
            "type": "heatmapgl"
           }
          ],
          "histogram": [
           {
            "marker": {
             "pattern": {
              "fillmode": "overlay",
              "size": 10,
              "solidity": 0.2
             }
            },
            "type": "histogram"
           }
          ],
          "histogram2d": [
           {
            "colorbar": {
             "outlinewidth": 0,
             "ticks": ""
            },
            "colorscale": [
             [
              0,
              "#0d0887"
             ],
             [
              0.1111111111111111,
              "#46039f"
             ],
             [
              0.2222222222222222,
              "#7201a8"
             ],
             [
              0.3333333333333333,
              "#9c179e"
             ],
             [
              0.4444444444444444,
              "#bd3786"
             ],
             [
              0.5555555555555556,
              "#d8576b"
             ],
             [
              0.6666666666666666,
              "#ed7953"
             ],
             [
              0.7777777777777778,
              "#fb9f3a"
             ],
             [
              0.8888888888888888,
              "#fdca26"
             ],
             [
              1,
              "#f0f921"
             ]
            ],
            "type": "histogram2d"
           }
          ],
          "histogram2dcontour": [
           {
            "colorbar": {
             "outlinewidth": 0,
             "ticks": ""
            },
            "colorscale": [
             [
              0,
              "#0d0887"
             ],
             [
              0.1111111111111111,
              "#46039f"
             ],
             [
              0.2222222222222222,
              "#7201a8"
             ],
             [
              0.3333333333333333,
              "#9c179e"
             ],
             [
              0.4444444444444444,
              "#bd3786"
             ],
             [
              0.5555555555555556,
              "#d8576b"
             ],
             [
              0.6666666666666666,
              "#ed7953"
             ],
             [
              0.7777777777777778,
              "#fb9f3a"
             ],
             [
              0.8888888888888888,
              "#fdca26"
             ],
             [
              1,
              "#f0f921"
             ]
            ],
            "type": "histogram2dcontour"
           }
          ],
          "mesh3d": [
           {
            "colorbar": {
             "outlinewidth": 0,
             "ticks": ""
            },
            "type": "mesh3d"
           }
          ],
          "parcoords": [
           {
            "line": {
             "colorbar": {
              "outlinewidth": 0,
              "ticks": ""
             }
            },
            "type": "parcoords"
           }
          ],
          "pie": [
           {
            "automargin": true,
            "type": "pie"
           }
          ],
          "scatter": [
           {
            "marker": {
             "colorbar": {
              "outlinewidth": 0,
              "ticks": ""
             }
            },
            "type": "scatter"
           }
          ],
          "scatter3d": [
           {
            "line": {
             "colorbar": {
              "outlinewidth": 0,
              "ticks": ""
             }
            },
            "marker": {
             "colorbar": {
              "outlinewidth": 0,
              "ticks": ""
             }
            },
            "type": "scatter3d"
           }
          ],
          "scattercarpet": [
           {
            "marker": {
             "colorbar": {
              "outlinewidth": 0,
              "ticks": ""
             }
            },
            "type": "scattercarpet"
           }
          ],
          "scattergeo": [
           {
            "marker": {
             "colorbar": {
              "outlinewidth": 0,
              "ticks": ""
             }
            },
            "type": "scattergeo"
           }
          ],
          "scattergl": [
           {
            "marker": {
             "colorbar": {
              "outlinewidth": 0,
              "ticks": ""
             }
            },
            "type": "scattergl"
           }
          ],
          "scattermapbox": [
           {
            "marker": {
             "colorbar": {
              "outlinewidth": 0,
              "ticks": ""
             }
            },
            "type": "scattermapbox"
           }
          ],
          "scatterpolar": [
           {
            "marker": {
             "colorbar": {
              "outlinewidth": 0,
              "ticks": ""
             }
            },
            "type": "scatterpolar"
           }
          ],
          "scatterpolargl": [
           {
            "marker": {
             "colorbar": {
              "outlinewidth": 0,
              "ticks": ""
             }
            },
            "type": "scatterpolargl"
           }
          ],
          "scatterternary": [
           {
            "marker": {
             "colorbar": {
              "outlinewidth": 0,
              "ticks": ""
             }
            },
            "type": "scatterternary"
           }
          ],
          "surface": [
           {
            "colorbar": {
             "outlinewidth": 0,
             "ticks": ""
            },
            "colorscale": [
             [
              0,
              "#0d0887"
             ],
             [
              0.1111111111111111,
              "#46039f"
             ],
             [
              0.2222222222222222,
              "#7201a8"
             ],
             [
              0.3333333333333333,
              "#9c179e"
             ],
             [
              0.4444444444444444,
              "#bd3786"
             ],
             [
              0.5555555555555556,
              "#d8576b"
             ],
             [
              0.6666666666666666,
              "#ed7953"
             ],
             [
              0.7777777777777778,
              "#fb9f3a"
             ],
             [
              0.8888888888888888,
              "#fdca26"
             ],
             [
              1,
              "#f0f921"
             ]
            ],
            "type": "surface"
           }
          ],
          "table": [
           {
            "cells": {
             "fill": {
              "color": "#EBF0F8"
             },
             "line": {
              "color": "white"
             }
            },
            "header": {
             "fill": {
              "color": "#C8D4E3"
             },
             "line": {
              "color": "white"
             }
            },
            "type": "table"
           }
          ]
         },
         "layout": {
          "annotationdefaults": {
           "arrowcolor": "#2a3f5f",
           "arrowhead": 0,
           "arrowwidth": 1
          },
          "autotypenumbers": "strict",
          "coloraxis": {
           "colorbar": {
            "outlinewidth": 0,
            "ticks": ""
           }
          },
          "colorscale": {
           "diverging": [
            [
             0,
             "#8e0152"
            ],
            [
             0.1,
             "#c51b7d"
            ],
            [
             0.2,
             "#de77ae"
            ],
            [
             0.3,
             "#f1b6da"
            ],
            [
             0.4,
             "#fde0ef"
            ],
            [
             0.5,
             "#f7f7f7"
            ],
            [
             0.6,
             "#e6f5d0"
            ],
            [
             0.7,
             "#b8e186"
            ],
            [
             0.8,
             "#7fbc41"
            ],
            [
             0.9,
             "#4d9221"
            ],
            [
             1,
             "#276419"
            ]
           ],
           "sequential": [
            [
             0,
             "#0d0887"
            ],
            [
             0.1111111111111111,
             "#46039f"
            ],
            [
             0.2222222222222222,
             "#7201a8"
            ],
            [
             0.3333333333333333,
             "#9c179e"
            ],
            [
             0.4444444444444444,
             "#bd3786"
            ],
            [
             0.5555555555555556,
             "#d8576b"
            ],
            [
             0.6666666666666666,
             "#ed7953"
            ],
            [
             0.7777777777777778,
             "#fb9f3a"
            ],
            [
             0.8888888888888888,
             "#fdca26"
            ],
            [
             1,
             "#f0f921"
            ]
           ],
           "sequentialminus": [
            [
             0,
             "#0d0887"
            ],
            [
             0.1111111111111111,
             "#46039f"
            ],
            [
             0.2222222222222222,
             "#7201a8"
            ],
            [
             0.3333333333333333,
             "#9c179e"
            ],
            [
             0.4444444444444444,
             "#bd3786"
            ],
            [
             0.5555555555555556,
             "#d8576b"
            ],
            [
             0.6666666666666666,
             "#ed7953"
            ],
            [
             0.7777777777777778,
             "#fb9f3a"
            ],
            [
             0.8888888888888888,
             "#fdca26"
            ],
            [
             1,
             "#f0f921"
            ]
           ]
          },
          "colorway": [
           "#636efa",
           "#EF553B",
           "#00cc96",
           "#ab63fa",
           "#FFA15A",
           "#19d3f3",
           "#FF6692",
           "#B6E880",
           "#FF97FF",
           "#FECB52"
          ],
          "font": {
           "color": "#2a3f5f"
          },
          "geo": {
           "bgcolor": "white",
           "lakecolor": "white",
           "landcolor": "#E5ECF6",
           "showlakes": true,
           "showland": true,
           "subunitcolor": "white"
          },
          "hoverlabel": {
           "align": "left"
          },
          "hovermode": "closest",
          "mapbox": {
           "style": "light"
          },
          "paper_bgcolor": "white",
          "plot_bgcolor": "#E5ECF6",
          "polar": {
           "angularaxis": {
            "gridcolor": "white",
            "linecolor": "white",
            "ticks": ""
           },
           "bgcolor": "#E5ECF6",
           "radialaxis": {
            "gridcolor": "white",
            "linecolor": "white",
            "ticks": ""
           }
          },
          "scene": {
           "xaxis": {
            "backgroundcolor": "#E5ECF6",
            "gridcolor": "white",
            "gridwidth": 2,
            "linecolor": "white",
            "showbackground": true,
            "ticks": "",
            "zerolinecolor": "white"
           },
           "yaxis": {
            "backgroundcolor": "#E5ECF6",
            "gridcolor": "white",
            "gridwidth": 2,
            "linecolor": "white",
            "showbackground": true,
            "ticks": "",
            "zerolinecolor": "white"
           },
           "zaxis": {
            "backgroundcolor": "#E5ECF6",
            "gridcolor": "white",
            "gridwidth": 2,
            "linecolor": "white",
            "showbackground": true,
            "ticks": "",
            "zerolinecolor": "white"
           }
          },
          "shapedefaults": {
           "line": {
            "color": "#2a3f5f"
           }
          },
          "ternary": {
           "aaxis": {
            "gridcolor": "white",
            "linecolor": "white",
            "ticks": ""
           },
           "baxis": {
            "gridcolor": "white",
            "linecolor": "white",
            "ticks": ""
           },
           "bgcolor": "#E5ECF6",
           "caxis": {
            "gridcolor": "white",
            "linecolor": "white",
            "ticks": ""
           }
          },
          "title": {
           "x": 0.05
          },
          "xaxis": {
           "automargin": true,
           "gridcolor": "white",
           "linecolor": "white",
           "ticks": "",
           "title": {
            "standoff": 15
           },
           "zerolinecolor": "white",
           "zerolinewidth": 2
          },
          "yaxis": {
           "automargin": true,
           "gridcolor": "white",
           "linecolor": "white",
           "ticks": "",
           "title": {
            "standoff": 15
           },
           "zerolinecolor": "white",
           "zerolinewidth": 2
          }
         }
        }
       }
      }
     },
     "metadata": {},
     "output_type": "display_data"
    }
   ],
   "source": [
    "rows = [(\"\".join([char for char in key if char.isupper()])) for key in all_gyms.keys()]\n",
    "# agent_names = [ result_table.values()]\n",
    "agent_names = list(list(result_table.items())[0][1].keys())\n",
    "fig = go.Figure(\n",
    "    data=[\n",
    "        # go.Bar(name=\"SF Zoo\", x=rows, y=[20, 14, 23]),\n",
    "        # go.Bar(name=\"LA Zoo\", x=rows, y=[12, 18, 29]),\n",
    "        go.Bar(\n",
    "            name=agent_name,\n",
    "            x=rows,\n",
    "            y=[rlt[agent_name][\"grade\"] for rlt in result_table.values()],\n",
    "        )\n",
    "        for agent_name in agent_names\n",
    "    ]\n",
    ")\n",
    "# Change the bar mode\n",
    "fig.update_layout(barmode=\"group\")\n",
    "# fig.show()\n",
    "fig\n"
   ]
  },
  {
   "cell_type": "code",
   "execution_count": 10,
   "metadata": {},
   "outputs": [],
   "source": [
    "# fig, ax = plt.subplots()\n",
    "# ax.set_ylabel(\"score\")\n",
    "# ax.set_xlabel(\"bandit type\")\n",
    "# ax.set_ylim(0, 1.05)\n",
    "# rows = [(\"\".join([char for char in key if char.isupper()])) for key in all_gyms.keys()]\n",
    "\n",
    "# agent_names = list(list(result_table.items())[0][1].keys())\n",
    "# print(agent_names)\n",
    "# for i, agent_name in enumerate(agent_names):\n",
    "\n",
    "#     scores = [rlt[agent_name][\"grade\"] for rlt in result_table.values()]\n",
    "#     for idx, score in enumerate(scores):\n",
    "#         ax.text(idx, score * 1.02, str(round(score, 2)), ha=\"center\")\n",
    "#     ax.bar(\n",
    "#         [row + (i - 1) * 0.2 for row in rows],\n",
    "#         scores,\n",
    "#         label=agent_name,\n",
    "#     )\n",
    "\n",
    "# ax.legend()\n"
   ]
  }
 ],
 "metadata": {
  "interpreter": {
   "hash": "916dbcbb3f70747c44a77c7bcd40155683ae19c65e1c03b4aa3499c5328201f1"
  },
  "kernelspec": {
   "display_name": "Python 3.8.10 64-bit",
   "language": "python",
   "name": "python3"
  },
  "language_info": {
   "codemirror_mode": {
    "name": "ipython",
    "version": 3
   },
   "file_extension": ".py",
   "mimetype": "text/x-python",
   "name": "python",
   "nbconvert_exporter": "python",
   "pygments_lexer": "ipython3",
   "version": "3.8.10"
  },
  "orig_nbformat": 4
 },
 "nbformat": 4,
 "nbformat_minor": 2
}

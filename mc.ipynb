{
 "cells": [
  {
   "cell_type": "code",
   "execution_count": 1,
   "metadata": {},
   "outputs": [],
   "source": [
    "import numpy as np\n",
    "# from gym.envs.toy_text import BlackjackEnv\n",
    "import gym\n",
    "from typing import Literal, List, Tuple\n",
    "import plotly.graph_objects as go\n",
    "from copy import deepcopy\n",
    "import math"
   ]
  },
  {
   "cell_type": "code",
   "execution_count": 2,
   "metadata": {},
   "outputs": [],
   "source": [
    "# env = BlackjackEnv()\n",
    "np.random.seed(0)\n",
    "env = gym.make('Blackjack-v1')\n",
    "env.seed(0)\n",
    "\n",
    "obs = env.reset()\n"
   ]
  },
  {
   "cell_type": "code",
   "execution_count": 3,
   "metadata": {},
   "outputs": [
    {
     "data": {
      "text/plain": [
       "(18, 1, False)"
      ]
     },
     "execution_count": 3,
     "metadata": {},
     "output_type": "execute_result"
    }
   ],
   "source": [
    "obs"
   ]
  },
  {
   "cell_type": "code",
   "execution_count": 4,
   "metadata": {},
   "outputs": [],
   "source": [
    "MySum = Literal[12, 13, 14, 15, 16, 17, 18, 19, 20, 21]\n",
    "DealerShowing = Literal[1, 2, 3, 4, 5, 6, 7, 8, 9, 10]\n",
    "UsableAce = bool\n",
    "\n",
    "Observation = Tuple[MySum, DealerShowing, UsableAce]\n",
    "\n",
    "Values = List[float]\n",
    "Action_Values = List[float]\n",
    "\n",
    "State = Tuple[MySum, DealerShowing, UsableAce]\n",
    "Action = Literal[0, 1]\n",
    "Reward = Literal[-1, 0, 1]\n",
    "Policy = List[Action]\n",
    "Step = Tuple[State, Action, Reward]\n",
    "Episode = List[Step]\n",
    "\n",
    "TOTAL_NUM_OF_STATES = 200\n",
    "TOTAL_NUM_OF_STATE_ACTION_PAIR = 400\n"
   ]
  },
  {
   "cell_type": "code",
   "execution_count": 5,
   "metadata": {},
   "outputs": [],
   "source": [
    "def get_state_index(s: State) -> int:\n",
    "    my_sum, dealer_show, usable_ace = s\n",
    "    idx = int(usable_ace) + (dealer_show - 1) * 2 + (my_sum - 12) * 20\n",
    "    assert idx >= 0, \"idx is illegal\"\n",
    "    return idx\n",
    "\n",
    "\n",
    "def get_state_from_index(i: int) -> State:\n",
    "    my_sum = i // 20 + 12\n",
    "    dealer_show = (i % 20) // 2 + 1\n",
    "    usable_ace = i % 20 % 2\n",
    "\n",
    "    return (my_sum, dealer_show, usable_ace)\n",
    "\n",
    "\n",
    "def get_state_index_with_action(s: State, a: Action) -> int:\n",
    "    my_sum, dealer_show, usable_ace = s\n",
    "    idx = a + (usable_ace) * 2 + (dealer_show - 1) * 4 + (my_sum - 12) * 40\n",
    "    assert idx >= 0, \"idx is illegal\"\n",
    "    return idx\n",
    "\n",
    "\n",
    "def get_state_from_index_with_action(i: int) -> Tuple[State, Action]:\n",
    "    my_sum = i // 40 + 12\n",
    "    dealer_show = (i % 40) // 4 + 1\n",
    "    usable_ace = (i % 40 % 4) // 2\n",
    "    act = i % 40 % 4 % 2\n",
    "    return ((my_sum, dealer_show, usable_ace), act)\n"
   ]
  },
  {
   "cell_type": "code",
   "execution_count": 6,
   "metadata": {},
   "outputs": [],
   "source": [
    "class Agent:\n",
    "    def __init__(self, env: gym.Env, gamma: float, improve: bool = False):\n",
    "        self.env = env\n",
    "        self.gamma = gamma\n",
    "        self.improve = improve\n",
    "\n",
    "        self.clear()\n",
    "\n",
    "    def close(self):\n",
    "        self.env.close()\n",
    "\n",
    "    def step(self, obs: Observation, random_act=False) -> Tuple[Observation, bool]:\n",
    "        assert not self.end, \"cannot step on a ended agent, reset it first\"\n",
    "        (my_sum, dealer_showup, usable_ace) = obs\n",
    "\n",
    "        assert my_sum <= 21, f\"bad sum appears in step: {my_sum}\"\n",
    "\n",
    "        act = (\n",
    "            self.take_action((my_sum, dealer_showup, usable_ace))\n",
    "            if not random_act\n",
    "            else self.take_random_action()\n",
    "        )\n",
    "\n",
    "        (obs, rwd, done, info) = self.env.step(act)\n",
    "\n",
    "        self.current_episode.append(((my_sum, dealer_showup, usable_ace), act, rwd))\n",
    "\n",
    "        (my_sum, dealer_showup, usable_ace) = obs\n",
    "\n",
    "        if done:\n",
    "            self.win_times += 1 if rwd > 0 else 0\n",
    "            self.evaluate(self.improve)\n",
    "            self.episodes.append(self.current_episode)\n",
    "            self.current_episode = []\n",
    "            self.end = True\n",
    "\n",
    "        return ((my_sum, dealer_showup, usable_ace), done)\n",
    "\n",
    "    def reset(self) -> Observation:\n",
    "        assert (\n",
    "            len(self.current_episode) == 0\n",
    "        ), \"when reset, current episode has some dirty elements, step it first or clear\"\n",
    "\n",
    "        # self.current_episode = []\n",
    "        self.end = False\n",
    "\n",
    "        while True:\n",
    "            (my_sum, dealer_showup, usable_ace) = self.env.reset()\n",
    "            assert my_sum <= 21, f\"too large sum appears in reset: {my_sum}\"\n",
    "            if my_sum < 12 or my_sum == 21:\n",
    "                continue\n",
    "\n",
    "            assert my_sum >= 12, f\"too small sum appears in reset: {my_sum}\"\n",
    "            assert my_sum != 21, f\"no meaning sum appears in reset: {my_sum}\"\n",
    "\n",
    "            return (my_sum, dealer_showup, usable_ace)\n",
    "\n",
    "    def clear(self):\n",
    "        self.current_episode: List[Episode] = []\n",
    "        self.episodes = [[] for _ in range(TOTAL_NUM_OF_STATES)]\n",
    "\n",
    "        self.Q = [float(\"nan\") for _ in range(TOTAL_NUM_OF_STATE_ACTION_PAIR)]\n",
    "        self.q_returns = [[] for _ in range(TOTAL_NUM_OF_STATE_ACTION_PAIR)]\n",
    "\n",
    "        self.pai = [\n",
    "            1 if get_state_from_index(i)[0] >= 20 else 0\n",
    "            for i in range(TOTAL_NUM_OF_STATES)\n",
    "        ]\n",
    "\n",
    "        (my_sum, dealer_showup, usable_ace) = self.env.reset()\n",
    "        assert my_sum <= 21, f\"bad sum appears in init state: {my_sum}\"\n",
    "\n",
    "        self.returns = [[] for _ in range(TOTAL_NUM_OF_STATES)]\n",
    "        self.V = [float(\"nan\") for _ in range(TOTAL_NUM_OF_STATES)]\n",
    "        self.win_times = 0\n",
    "        self.end = True\n",
    "\n",
    "    def take_action(self, s: State) -> Literal[0, 1]:\n",
    "        my_sum, deal_show, usable_ace = s\n",
    "        assert my_sum <= 21, f\"bad my_sum feed into agent: {my_sum}\"\n",
    "\n",
    "        new_act = self.pai[get_state_index((my_sum, deal_show, usable_ace))]\n",
    "        # old_act = 0 if my_sum == 20 or my_sum == 21 else 1\n",
    "\n",
    "        # assert old_act == new_act, \"act is not same\"\n",
    "        return new_act\n",
    "\n",
    "    def take_random_action(self) -> Literal[0, 1]:\n",
    "        return np.random.choice([0, 1])\n",
    "\n",
    "    def state_exists(self, s: State, es: List[Episode]):\n",
    "        for e in es:\n",
    "            (_s) = e[0]\n",
    "            if s[0] == _s[0] and s[1] == _s[1] and s[2] == _s[2]:\n",
    "                return True\n",
    "\n",
    "        return False\n",
    "\n",
    "    def state_action_exists(self, s: State, a: Action, es: List[Episode]):\n",
    "        for e in es:\n",
    "            (_s, _a) = (e[0], e[1])\n",
    "            if s[0] == _s[0] and s[1] == _s[1] and s[2] == _s[2] and _a == a:\n",
    "                return True\n",
    "\n",
    "        return False\n",
    "\n",
    "    def evaluate(self, improve=False):\n",
    "        episode = self.current_episode\n",
    "\n",
    "        G = 0\n",
    "        l = len(episode)\n",
    "        for i, v in enumerate(reversed(episode)):\n",
    "            state, action, reward = v\n",
    "            G = self.gamma * G + reward\n",
    "            if not self.state_exists(state, episode[: l - i - 1]):\n",
    "                idx = get_state_index(state)\n",
    "                self.returns[idx].append(G)\n",
    "                self.V[idx] = np.mean(self.returns[idx])\n",
    "            if not self.state_action_exists(state, action, episode[: l - i - 1]):\n",
    "                idx = get_state_index_with_action(state, action)\n",
    "                state_idx = get_state_index(state)\n",
    "                self.q_returns[idx].append(G)\n",
    "                self.Q[idx] = np.mean(self.q_returns[idx])\n",
    "                if improve:\n",
    "                    # self.pai[state_idx] = np.argmax(\n",
    "                    new_act = np.argmax(\n",
    "                        [self.Q[get_state_index_with_action(state, a)] for a in [0, 1]]\n",
    "                    )\n",
    "                    # old_act = self.pai[state_idx]\n",
    "                    self.pai[state_idx] = new_act\n"
   ]
  },
  {
   "cell_type": "code",
   "execution_count": 7,
   "metadata": {},
   "outputs": [],
   "source": [
    "TOTAL_EPISODES = 400_000\n",
    "\n",
    "agent = Agent(env, 1, True)\n",
    "\n",
    "\n",
    "for i in range(TOTAL_EPISODES):\n",
    "    (my_sum, dealer_showup, usable_ace) = agent.reset()\n",
    "\n",
    "    start = True\n",
    "    while True:\n",
    "        (obs, done) = agent.step(\n",
    "            (my_sum, dealer_showup, usable_ace), random_act=True if start else False\n",
    "        )\n",
    "        start = False\n",
    "\n",
    "        (my_sum, dealer_showup, usable_ace) = obs\n",
    "\n",
    "        if done:\n",
    "            break\n",
    "\n",
    "\n",
    "agent.close()\n"
   ]
  },
  {
   "cell_type": "code",
   "execution_count": 8,
   "metadata": {},
   "outputs": [
    {
     "name": "stdout",
     "output_type": "stream",
     "text": [
      "win: 123810\n",
      "win rate: 0.309525\n"
     ]
    }
   ],
   "source": [
    "# win_times = np.sum(np.fromiter((r[0] for r in result), dtype=\"int\"))\n",
    "print(f\"win: {agent.win_times}\")\n",
    "print(f\"win rate: {agent.win_times/TOTAL_EPISODES}\")\n"
   ]
  },
  {
   "cell_type": "code",
   "execution_count": 9,
   "metadata": {},
   "outputs": [],
   "source": [
    "(V, R) = (agent.V, agent.returns)\n"
   ]
  },
  {
   "cell_type": "code",
   "execution_count": 10,
   "metadata": {},
   "outputs": [],
   "source": [
    "for r in R:\n",
    "    assert len(r) > 0\n",
    "\n",
    "for v in V:\n",
    "    assert not math.isnan(v)\n"
   ]
  },
  {
   "cell_type": "code",
   "execution_count": 11,
   "metadata": {},
   "outputs": [],
   "source": [
    "V = [(get_state_from_index(i), v) for (i, v) in enumerate(V)]\n"
   ]
  },
  {
   "cell_type": "code",
   "execution_count": 12,
   "metadata": {},
   "outputs": [
    {
     "data": {
      "application/vnd.plotly.v1+json": {
       "config": {
        "plotlyServerURL": "https://plot.ly"
       },
       "data": [
        {
         "color": "rgba(244,22,100,0.6)",
         "opacity": 0.5,
         "type": "mesh3d",
         "x": [
          12,
          12,
          12,
          12,
          12,
          12,
          12,
          12,
          12,
          12,
          13,
          13,
          13,
          13,
          13,
          13,
          13,
          13,
          13,
          13,
          14,
          14,
          14,
          14,
          14,
          14,
          14,
          14,
          14,
          14,
          15,
          15,
          15,
          15,
          15,
          15,
          15,
          15,
          15,
          15,
          16,
          16,
          16,
          16,
          16,
          16,
          16,
          16,
          16,
          16,
          17,
          17,
          17,
          17,
          17,
          17,
          17,
          17,
          17,
          17,
          18,
          18,
          18,
          18,
          18,
          18,
          18,
          18,
          18,
          18,
          19,
          19,
          19,
          19,
          19,
          19,
          19,
          19,
          19,
          19,
          20,
          20,
          20,
          20,
          20,
          20,
          20,
          20,
          20,
          20,
          21,
          21,
          21,
          21,
          21,
          21,
          21,
          21,
          21,
          21
         ],
         "y": [
          1,
          2,
          3,
          4,
          5,
          6,
          7,
          8,
          9,
          10,
          1,
          2,
          3,
          4,
          5,
          6,
          7,
          8,
          9,
          10,
          1,
          2,
          3,
          4,
          5,
          6,
          7,
          8,
          9,
          10,
          1,
          2,
          3,
          4,
          5,
          6,
          7,
          8,
          9,
          10,
          1,
          2,
          3,
          4,
          5,
          6,
          7,
          8,
          9,
          10,
          1,
          2,
          3,
          4,
          5,
          6,
          7,
          8,
          9,
          10,
          1,
          2,
          3,
          4,
          5,
          6,
          7,
          8,
          9,
          10,
          1,
          2,
          3,
          4,
          5,
          6,
          7,
          8,
          9,
          10,
          1,
          2,
          3,
          4,
          5,
          6,
          7,
          8,
          9,
          10,
          1,
          2,
          3,
          4,
          5,
          6,
          7,
          8,
          9,
          10
         ],
         "z": [
          -0.636080062386275,
          -0.26891405043746786,
          -0.27148033126293997,
          -0.1935151827071539,
          -0.1545242416385792,
          -0.13934010152284265,
          -0.327815400050163,
          -0.3679609154024171,
          -0.4408291786932564,
          -0.48786423310918986,
          -0.6526451612903226,
          -0.30825688073394497,
          -0.2743271221532091,
          -0.24954557257855103,
          -0.2230405049973698,
          -0.1653937318936002,
          -0.3786934128490106,
          -0.40797217763509896,
          -0.4503582395087001,
          -0.5112673280336377,
          -0.6585106382978724,
          -0.33035472515569997,
          -0.28900804289544235,
          -0.27710191943768586,
          -0.2471156426079957,
          -0.20885051268213708,
          -0.3712574850299401,
          -0.42583609905539954,
          -0.4641880809185347,
          -0.5526592943654555,
          -0.6812107990182711,
          -0.32263513513513514,
          -0.3280067283431455,
          -0.27972413793103446,
          -0.2698808534220006,
          -0.2447163515016685,
          -0.3993961021136426,
          -0.4455179817498658,
          -0.4998637973304277,
          -0.5367813723470019,
          -0.7118691070438159,
          -0.3593567251461988,
          -0.33121754183496827,
          -0.3242130038246543,
          -0.28951170182028313,
          -0.2610568638713383,
          -0.4437067773167358,
          -0.4836206896551724,
          -0.5389558232931727,
          -0.5833629576964096,
          -0.6530789245446661,
          -0.29074355083459785,
          -0.24334140435835352,
          -0.26324036352240676,
          -0.18859102244389028,
          -0.17363245236631838,
          -0.24554102259215219,
          -0.4280851063829787,
          -0.4890207715133531,
          -0.5178871899919526,
          -0.5102892931702953,
          -0.1597084161696488,
          -0.1401107852720756,
          -0.08565670137722539,
          -0.09230277866496327,
          -0.02435769102435769,
          0.08629130966952264,
          -0.14455327990501632,
          -0.35411622276029053,
          -0.3933106224837411,
          -0.33086340206185566,
          0.014391014391014392,
          0.04636890555744971,
          0.0201949860724234,
          0.03197674418604651,
          0.0741777466759972,
          0.2105606258148631,
          0.19399538106235567,
          -0.024893547330494595,
          -0.263080684596577,
          -0.2372443915028787,
          0.02674979887369268,
          0.023208469055374593,
          0.04147936248467511,
          0.06557052297939778,
          0.07728480883254958,
          0.16168261562998404,
          0.1648863857059623,
          0.14136022143139582,
          -0.06876266745761037,
          0.6491365777080063,
          0.872778297474275,
          0.8764976958525346,
          0.8841405508072174,
          0.8818652849740932,
          0.9182509505703422,
          0.9188767550702028,
          0.9277597402597403,
          0.9405857740585774,
          0.8883078853796277
         ]
        }
       ],
       "layout": {
        "scene": {
         "xaxis": {
          "nticks": 4,
          "range": [
           10,
           25
          ],
          "title": {
           "text": "my sum"
          }
         },
         "yaxis": {
          "nticks": 4,
          "range": [
           0,
           12
          ],
          "title": {
           "text": "dealer show"
          }
         },
         "zaxis": {
          "nticks": 4,
          "range": [
           -1.2,
           1.2
          ],
          "title": {
           "text": "state value"
          }
         }
        },
        "template": {
         "data": {
          "bar": [
           {
            "error_x": {
             "color": "#2a3f5f"
            },
            "error_y": {
             "color": "#2a3f5f"
            },
            "marker": {
             "line": {
              "color": "#E5ECF6",
              "width": 0.5
             },
             "pattern": {
              "fillmode": "overlay",
              "size": 10,
              "solidity": 0.2
             }
            },
            "type": "bar"
           }
          ],
          "barpolar": [
           {
            "marker": {
             "line": {
              "color": "#E5ECF6",
              "width": 0.5
             },
             "pattern": {
              "fillmode": "overlay",
              "size": 10,
              "solidity": 0.2
             }
            },
            "type": "barpolar"
           }
          ],
          "carpet": [
           {
            "aaxis": {
             "endlinecolor": "#2a3f5f",
             "gridcolor": "white",
             "linecolor": "white",
             "minorgridcolor": "white",
             "startlinecolor": "#2a3f5f"
            },
            "baxis": {
             "endlinecolor": "#2a3f5f",
             "gridcolor": "white",
             "linecolor": "white",
             "minorgridcolor": "white",
             "startlinecolor": "#2a3f5f"
            },
            "type": "carpet"
           }
          ],
          "choropleth": [
           {
            "colorbar": {
             "outlinewidth": 0,
             "ticks": ""
            },
            "type": "choropleth"
           }
          ],
          "contour": [
           {
            "colorbar": {
             "outlinewidth": 0,
             "ticks": ""
            },
            "colorscale": [
             [
              0,
              "#0d0887"
             ],
             [
              0.1111111111111111,
              "#46039f"
             ],
             [
              0.2222222222222222,
              "#7201a8"
             ],
             [
              0.3333333333333333,
              "#9c179e"
             ],
             [
              0.4444444444444444,
              "#bd3786"
             ],
             [
              0.5555555555555556,
              "#d8576b"
             ],
             [
              0.6666666666666666,
              "#ed7953"
             ],
             [
              0.7777777777777778,
              "#fb9f3a"
             ],
             [
              0.8888888888888888,
              "#fdca26"
             ],
             [
              1,
              "#f0f921"
             ]
            ],
            "type": "contour"
           }
          ],
          "contourcarpet": [
           {
            "colorbar": {
             "outlinewidth": 0,
             "ticks": ""
            },
            "type": "contourcarpet"
           }
          ],
          "heatmap": [
           {
            "colorbar": {
             "outlinewidth": 0,
             "ticks": ""
            },
            "colorscale": [
             [
              0,
              "#0d0887"
             ],
             [
              0.1111111111111111,
              "#46039f"
             ],
             [
              0.2222222222222222,
              "#7201a8"
             ],
             [
              0.3333333333333333,
              "#9c179e"
             ],
             [
              0.4444444444444444,
              "#bd3786"
             ],
             [
              0.5555555555555556,
              "#d8576b"
             ],
             [
              0.6666666666666666,
              "#ed7953"
             ],
             [
              0.7777777777777778,
              "#fb9f3a"
             ],
             [
              0.8888888888888888,
              "#fdca26"
             ],
             [
              1,
              "#f0f921"
             ]
            ],
            "type": "heatmap"
           }
          ],
          "heatmapgl": [
           {
            "colorbar": {
             "outlinewidth": 0,
             "ticks": ""
            },
            "colorscale": [
             [
              0,
              "#0d0887"
             ],
             [
              0.1111111111111111,
              "#46039f"
             ],
             [
              0.2222222222222222,
              "#7201a8"
             ],
             [
              0.3333333333333333,
              "#9c179e"
             ],
             [
              0.4444444444444444,
              "#bd3786"
             ],
             [
              0.5555555555555556,
              "#d8576b"
             ],
             [
              0.6666666666666666,
              "#ed7953"
             ],
             [
              0.7777777777777778,
              "#fb9f3a"
             ],
             [
              0.8888888888888888,
              "#fdca26"
             ],
             [
              1,
              "#f0f921"
             ]
            ],
            "type": "heatmapgl"
           }
          ],
          "histogram": [
           {
            "marker": {
             "pattern": {
              "fillmode": "overlay",
              "size": 10,
              "solidity": 0.2
             }
            },
            "type": "histogram"
           }
          ],
          "histogram2d": [
           {
            "colorbar": {
             "outlinewidth": 0,
             "ticks": ""
            },
            "colorscale": [
             [
              0,
              "#0d0887"
             ],
             [
              0.1111111111111111,
              "#46039f"
             ],
             [
              0.2222222222222222,
              "#7201a8"
             ],
             [
              0.3333333333333333,
              "#9c179e"
             ],
             [
              0.4444444444444444,
              "#bd3786"
             ],
             [
              0.5555555555555556,
              "#d8576b"
             ],
             [
              0.6666666666666666,
              "#ed7953"
             ],
             [
              0.7777777777777778,
              "#fb9f3a"
             ],
             [
              0.8888888888888888,
              "#fdca26"
             ],
             [
              1,
              "#f0f921"
             ]
            ],
            "type": "histogram2d"
           }
          ],
          "histogram2dcontour": [
           {
            "colorbar": {
             "outlinewidth": 0,
             "ticks": ""
            },
            "colorscale": [
             [
              0,
              "#0d0887"
             ],
             [
              0.1111111111111111,
              "#46039f"
             ],
             [
              0.2222222222222222,
              "#7201a8"
             ],
             [
              0.3333333333333333,
              "#9c179e"
             ],
             [
              0.4444444444444444,
              "#bd3786"
             ],
             [
              0.5555555555555556,
              "#d8576b"
             ],
             [
              0.6666666666666666,
              "#ed7953"
             ],
             [
              0.7777777777777778,
              "#fb9f3a"
             ],
             [
              0.8888888888888888,
              "#fdca26"
             ],
             [
              1,
              "#f0f921"
             ]
            ],
            "type": "histogram2dcontour"
           }
          ],
          "mesh3d": [
           {
            "colorbar": {
             "outlinewidth": 0,
             "ticks": ""
            },
            "type": "mesh3d"
           }
          ],
          "parcoords": [
           {
            "line": {
             "colorbar": {
              "outlinewidth": 0,
              "ticks": ""
             }
            },
            "type": "parcoords"
           }
          ],
          "pie": [
           {
            "automargin": true,
            "type": "pie"
           }
          ],
          "scatter": [
           {
            "marker": {
             "colorbar": {
              "outlinewidth": 0,
              "ticks": ""
             }
            },
            "type": "scatter"
           }
          ],
          "scatter3d": [
           {
            "line": {
             "colorbar": {
              "outlinewidth": 0,
              "ticks": ""
             }
            },
            "marker": {
             "colorbar": {
              "outlinewidth": 0,
              "ticks": ""
             }
            },
            "type": "scatter3d"
           }
          ],
          "scattercarpet": [
           {
            "marker": {
             "colorbar": {
              "outlinewidth": 0,
              "ticks": ""
             }
            },
            "type": "scattercarpet"
           }
          ],
          "scattergeo": [
           {
            "marker": {
             "colorbar": {
              "outlinewidth": 0,
              "ticks": ""
             }
            },
            "type": "scattergeo"
           }
          ],
          "scattergl": [
           {
            "marker": {
             "colorbar": {
              "outlinewidth": 0,
              "ticks": ""
             }
            },
            "type": "scattergl"
           }
          ],
          "scattermapbox": [
           {
            "marker": {
             "colorbar": {
              "outlinewidth": 0,
              "ticks": ""
             }
            },
            "type": "scattermapbox"
           }
          ],
          "scatterpolar": [
           {
            "marker": {
             "colorbar": {
              "outlinewidth": 0,
              "ticks": ""
             }
            },
            "type": "scatterpolar"
           }
          ],
          "scatterpolargl": [
           {
            "marker": {
             "colorbar": {
              "outlinewidth": 0,
              "ticks": ""
             }
            },
            "type": "scatterpolargl"
           }
          ],
          "scatterternary": [
           {
            "marker": {
             "colorbar": {
              "outlinewidth": 0,
              "ticks": ""
             }
            },
            "type": "scatterternary"
           }
          ],
          "surface": [
           {
            "colorbar": {
             "outlinewidth": 0,
             "ticks": ""
            },
            "colorscale": [
             [
              0,
              "#0d0887"
             ],
             [
              0.1111111111111111,
              "#46039f"
             ],
             [
              0.2222222222222222,
              "#7201a8"
             ],
             [
              0.3333333333333333,
              "#9c179e"
             ],
             [
              0.4444444444444444,
              "#bd3786"
             ],
             [
              0.5555555555555556,
              "#d8576b"
             ],
             [
              0.6666666666666666,
              "#ed7953"
             ],
             [
              0.7777777777777778,
              "#fb9f3a"
             ],
             [
              0.8888888888888888,
              "#fdca26"
             ],
             [
              1,
              "#f0f921"
             ]
            ],
            "type": "surface"
           }
          ],
          "table": [
           {
            "cells": {
             "fill": {
              "color": "#EBF0F8"
             },
             "line": {
              "color": "white"
             }
            },
            "header": {
             "fill": {
              "color": "#C8D4E3"
             },
             "line": {
              "color": "white"
             }
            },
            "type": "table"
           }
          ]
         },
         "layout": {
          "annotationdefaults": {
           "arrowcolor": "#2a3f5f",
           "arrowhead": 0,
           "arrowwidth": 1
          },
          "autotypenumbers": "strict",
          "coloraxis": {
           "colorbar": {
            "outlinewidth": 0,
            "ticks": ""
           }
          },
          "colorscale": {
           "diverging": [
            [
             0,
             "#8e0152"
            ],
            [
             0.1,
             "#c51b7d"
            ],
            [
             0.2,
             "#de77ae"
            ],
            [
             0.3,
             "#f1b6da"
            ],
            [
             0.4,
             "#fde0ef"
            ],
            [
             0.5,
             "#f7f7f7"
            ],
            [
             0.6,
             "#e6f5d0"
            ],
            [
             0.7,
             "#b8e186"
            ],
            [
             0.8,
             "#7fbc41"
            ],
            [
             0.9,
             "#4d9221"
            ],
            [
             1,
             "#276419"
            ]
           ],
           "sequential": [
            [
             0,
             "#0d0887"
            ],
            [
             0.1111111111111111,
             "#46039f"
            ],
            [
             0.2222222222222222,
             "#7201a8"
            ],
            [
             0.3333333333333333,
             "#9c179e"
            ],
            [
             0.4444444444444444,
             "#bd3786"
            ],
            [
             0.5555555555555556,
             "#d8576b"
            ],
            [
             0.6666666666666666,
             "#ed7953"
            ],
            [
             0.7777777777777778,
             "#fb9f3a"
            ],
            [
             0.8888888888888888,
             "#fdca26"
            ],
            [
             1,
             "#f0f921"
            ]
           ],
           "sequentialminus": [
            [
             0,
             "#0d0887"
            ],
            [
             0.1111111111111111,
             "#46039f"
            ],
            [
             0.2222222222222222,
             "#7201a8"
            ],
            [
             0.3333333333333333,
             "#9c179e"
            ],
            [
             0.4444444444444444,
             "#bd3786"
            ],
            [
             0.5555555555555556,
             "#d8576b"
            ],
            [
             0.6666666666666666,
             "#ed7953"
            ],
            [
             0.7777777777777778,
             "#fb9f3a"
            ],
            [
             0.8888888888888888,
             "#fdca26"
            ],
            [
             1,
             "#f0f921"
            ]
           ]
          },
          "colorway": [
           "#636efa",
           "#EF553B",
           "#00cc96",
           "#ab63fa",
           "#FFA15A",
           "#19d3f3",
           "#FF6692",
           "#B6E880",
           "#FF97FF",
           "#FECB52"
          ],
          "font": {
           "color": "#2a3f5f"
          },
          "geo": {
           "bgcolor": "white",
           "lakecolor": "white",
           "landcolor": "#E5ECF6",
           "showlakes": true,
           "showland": true,
           "subunitcolor": "white"
          },
          "hoverlabel": {
           "align": "left"
          },
          "hovermode": "closest",
          "mapbox": {
           "style": "light"
          },
          "paper_bgcolor": "white",
          "plot_bgcolor": "#E5ECF6",
          "polar": {
           "angularaxis": {
            "gridcolor": "white",
            "linecolor": "white",
            "ticks": ""
           },
           "bgcolor": "#E5ECF6",
           "radialaxis": {
            "gridcolor": "white",
            "linecolor": "white",
            "ticks": ""
           }
          },
          "scene": {
           "xaxis": {
            "backgroundcolor": "#E5ECF6",
            "gridcolor": "white",
            "gridwidth": 2,
            "linecolor": "white",
            "showbackground": true,
            "ticks": "",
            "zerolinecolor": "white"
           },
           "yaxis": {
            "backgroundcolor": "#E5ECF6",
            "gridcolor": "white",
            "gridwidth": 2,
            "linecolor": "white",
            "showbackground": true,
            "ticks": "",
            "zerolinecolor": "white"
           },
           "zaxis": {
            "backgroundcolor": "#E5ECF6",
            "gridcolor": "white",
            "gridwidth": 2,
            "linecolor": "white",
            "showbackground": true,
            "ticks": "",
            "zerolinecolor": "white"
           }
          },
          "shapedefaults": {
           "line": {
            "color": "#2a3f5f"
           }
          },
          "ternary": {
           "aaxis": {
            "gridcolor": "white",
            "linecolor": "white",
            "ticks": ""
           },
           "baxis": {
            "gridcolor": "white",
            "linecolor": "white",
            "ticks": ""
           },
           "bgcolor": "#E5ECF6",
           "caxis": {
            "gridcolor": "white",
            "linecolor": "white",
            "ticks": ""
           }
          },
          "title": {
           "x": 0.05
          },
          "xaxis": {
           "automargin": true,
           "gridcolor": "white",
           "linecolor": "white",
           "ticks": "",
           "title": {
            "standoff": 15
           },
           "zerolinecolor": "white",
           "zerolinewidth": 2
          },
          "yaxis": {
           "automargin": true,
           "gridcolor": "white",
           "linecolor": "white",
           "ticks": "",
           "title": {
            "standoff": 15
           },
           "zerolinecolor": "white",
           "zerolinewidth": 2
          }
         }
        },
        "title": {
         "text": "no usable ace"
        },
        "width": 700
       }
      }
     },
     "metadata": {},
     "output_type": "display_data"
    }
   ],
   "source": [
    "fig = go.Figure(\n",
    "    data=[\n",
    "        go.Mesh3d(\n",
    "            x=[v[0][0] for v in V if v[0][2] % 2 == 0],\n",
    "            y=[v[0][1] for v in V if v[0][2] % 2 == 0],\n",
    "            z=[v[1] for v in V if v[0][2] % 2 == 0],\n",
    "            opacity=0.5,\n",
    "            color=\"rgba(244,22,100,0.6)\",\n",
    "        )\n",
    "    ]\n",
    ")\n",
    "\n",
    "fig.update_layout(\n",
    "    title=\"no usable ace\",\n",
    "    scene=dict(\n",
    "        xaxis=dict(\n",
    "            nticks=4,\n",
    "            title=\"my sum\",\n",
    "            range=[10, 25],\n",
    "        ),\n",
    "        yaxis=dict(\n",
    "            title=\"dealer show\",\n",
    "            nticks=4,\n",
    "            range=[0, 12],\n",
    "        ),\n",
    "        zaxis=dict(\n",
    "            title=\"state value\",\n",
    "            nticks=4,\n",
    "            range=[-1.2, 1.2],\n",
    "        ),\n",
    "    ),\n",
    "    width=700,\n",
    ")\n",
    "\n",
    "fig.show()\n"
   ]
  },
  {
   "cell_type": "code",
   "execution_count": 13,
   "metadata": {},
   "outputs": [
    {
     "data": {
      "application/vnd.plotly.v1+json": {
       "config": {
        "plotlyServerURL": "https://plot.ly"
       },
       "data": [
        {
         "color": "rgba(244,22,100,0.6)",
         "opacity": 0.5,
         "type": "mesh3d",
         "x": [
          12,
          12,
          12,
          12,
          12,
          12,
          12,
          12,
          12,
          12,
          13,
          13,
          13,
          13,
          13,
          13,
          13,
          13,
          13,
          13,
          14,
          14,
          14,
          14,
          14,
          14,
          14,
          14,
          14,
          14,
          15,
          15,
          15,
          15,
          15,
          15,
          15,
          15,
          15,
          15,
          16,
          16,
          16,
          16,
          16,
          16,
          16,
          16,
          16,
          16,
          17,
          17,
          17,
          17,
          17,
          17,
          17,
          17,
          17,
          17,
          18,
          18,
          18,
          18,
          18,
          18,
          18,
          18,
          18,
          18,
          19,
          19,
          19,
          19,
          19,
          19,
          19,
          19,
          19,
          19,
          20,
          20,
          20,
          20,
          20,
          20,
          20,
          20,
          20,
          20,
          21,
          21,
          21,
          21,
          21,
          21,
          21,
          21,
          21,
          21
         ],
         "y": [
          1,
          2,
          3,
          4,
          5,
          6,
          7,
          8,
          9,
          10,
          1,
          2,
          3,
          4,
          5,
          6,
          7,
          8,
          9,
          10,
          1,
          2,
          3,
          4,
          5,
          6,
          7,
          8,
          9,
          10,
          1,
          2,
          3,
          4,
          5,
          6,
          7,
          8,
          9,
          10,
          1,
          2,
          3,
          4,
          5,
          6,
          7,
          8,
          9,
          10,
          1,
          2,
          3,
          4,
          5,
          6,
          7,
          8,
          9,
          10,
          1,
          2,
          3,
          4,
          5,
          6,
          7,
          8,
          9,
          10,
          1,
          2,
          3,
          4,
          5,
          6,
          7,
          8,
          9,
          10,
          1,
          2,
          3,
          4,
          5,
          6,
          7,
          8,
          9,
          10,
          1,
          2,
          3,
          4,
          5,
          6,
          7,
          8,
          9,
          10
         ],
         "z": [
          -0.4743083003952569,
          -0.09583333333333334,
          -0.10465116279069768,
          -0.04247104247104247,
          -0.03404255319148936,
          0.08823529411764706,
          -0.0035842293906810036,
          -0.1940928270042194,
          -0.1440329218106996,
          -0.35819430814524045,
          -0.5781893004115226,
          -0.17407407407407408,
          -0.10433070866141732,
          -0.021526418786692758,
          -0.05856832971800434,
          0.056818181818181816,
          -0.07291666666666667,
          -0.1192468619246862,
          -0.27049180327868855,
          -0.3454281567489115,
          -0.5786618444846293,
          -0.08817635270541083,
          -0.07142857142857142,
          -0.05128205128205128,
          0.0037105751391465678,
          -0.044,
          -0.12845849802371542,
          -0.22718052738336714,
          -0.29981378026070765,
          -0.38325581395348834,
          -0.5104529616724739,
          -0.10902255639097744,
          -0.09883720930232558,
          -0.08407871198568873,
          -0.10218978102189781,
          0.019963702359346643,
          -0.2125237191650854,
          -0.23694779116465864,
          -0.24423076923076922,
          -0.3997220935618342,
          -0.5607638888888888,
          -0.19895287958115182,
          -0.09563758389261745,
          -0.05228758169934641,
          -0.03963963963963964,
          -0.04006677796327212,
          -0.2189922480620155,
          -0.33916083916083917,
          -0.32130584192439865,
          -0.4007029876977153,
          -0.48628884826325414,
          -0.12413793103448276,
          -0.08141592920353982,
          -0.1109350237717908,
          0.028428093645484948,
          0.04830917874396135,
          -0.017543859649122806,
          -0.24473257698541329,
          -0.27843803056027167,
          -0.36476109215017066,
          -0.33163265306122447,
          0.10362694300518134,
          0.07094594594594594,
          0.1095890410958904,
          0.2152777777777778,
          0.20500782472613457,
          0.3838383838383838,
          0.1310116086235489,
          -0.14093959731543623,
          -0.21793325291515883,
          -0.20032051282051283,
          0.2723076923076923,
          0.3240418118466899,
          0.3516320474777448,
          0.2857142857142857,
          0.39486356340288925,
          0.40916271721958924,
          0.411214953271028,
          0.1507293354943274,
          -0.05029940119760479,
          -0.025796661608497723,
          0.45988538681948427,
          0.4872944693572496,
          0.506079027355623,
          0.5206847360912982,
          0.5158227848101266,
          0.5787878787878787,
          0.5879765395894428,
          0.559322033898305,
          0.24972046216921356,
          0.6633165829145728,
          0.8526315789473684,
          0.8894736842105263,
          0.8763440860215054,
          0.8858695652173914,
          0.8711340206185567,
          0.358695652173913,
          0.9226519337016574,
          0.9387755102040817,
          0.8861671469740634
         ]
        }
       ],
       "layout": {
        "scene": {
         "xaxis": {
          "nticks": 4,
          "range": [
           10,
           25
          ],
          "title": {
           "text": "my sum"
          }
         },
         "yaxis": {
          "nticks": 4,
          "range": [
           0,
           12
          ],
          "title": {
           "text": "dealer show"
          }
         },
         "zaxis": {
          "nticks": 4,
          "range": [
           -1.2,
           1.2
          ],
          "title": {
           "text": "state value"
          }
         }
        },
        "template": {
         "data": {
          "bar": [
           {
            "error_x": {
             "color": "#2a3f5f"
            },
            "error_y": {
             "color": "#2a3f5f"
            },
            "marker": {
             "line": {
              "color": "#E5ECF6",
              "width": 0.5
             },
             "pattern": {
              "fillmode": "overlay",
              "size": 10,
              "solidity": 0.2
             }
            },
            "type": "bar"
           }
          ],
          "barpolar": [
           {
            "marker": {
             "line": {
              "color": "#E5ECF6",
              "width": 0.5
             },
             "pattern": {
              "fillmode": "overlay",
              "size": 10,
              "solidity": 0.2
             }
            },
            "type": "barpolar"
           }
          ],
          "carpet": [
           {
            "aaxis": {
             "endlinecolor": "#2a3f5f",
             "gridcolor": "white",
             "linecolor": "white",
             "minorgridcolor": "white",
             "startlinecolor": "#2a3f5f"
            },
            "baxis": {
             "endlinecolor": "#2a3f5f",
             "gridcolor": "white",
             "linecolor": "white",
             "minorgridcolor": "white",
             "startlinecolor": "#2a3f5f"
            },
            "type": "carpet"
           }
          ],
          "choropleth": [
           {
            "colorbar": {
             "outlinewidth": 0,
             "ticks": ""
            },
            "type": "choropleth"
           }
          ],
          "contour": [
           {
            "colorbar": {
             "outlinewidth": 0,
             "ticks": ""
            },
            "colorscale": [
             [
              0,
              "#0d0887"
             ],
             [
              0.1111111111111111,
              "#46039f"
             ],
             [
              0.2222222222222222,
              "#7201a8"
             ],
             [
              0.3333333333333333,
              "#9c179e"
             ],
             [
              0.4444444444444444,
              "#bd3786"
             ],
             [
              0.5555555555555556,
              "#d8576b"
             ],
             [
              0.6666666666666666,
              "#ed7953"
             ],
             [
              0.7777777777777778,
              "#fb9f3a"
             ],
             [
              0.8888888888888888,
              "#fdca26"
             ],
             [
              1,
              "#f0f921"
             ]
            ],
            "type": "contour"
           }
          ],
          "contourcarpet": [
           {
            "colorbar": {
             "outlinewidth": 0,
             "ticks": ""
            },
            "type": "contourcarpet"
           }
          ],
          "heatmap": [
           {
            "colorbar": {
             "outlinewidth": 0,
             "ticks": ""
            },
            "colorscale": [
             [
              0,
              "#0d0887"
             ],
             [
              0.1111111111111111,
              "#46039f"
             ],
             [
              0.2222222222222222,
              "#7201a8"
             ],
             [
              0.3333333333333333,
              "#9c179e"
             ],
             [
              0.4444444444444444,
              "#bd3786"
             ],
             [
              0.5555555555555556,
              "#d8576b"
             ],
             [
              0.6666666666666666,
              "#ed7953"
             ],
             [
              0.7777777777777778,
              "#fb9f3a"
             ],
             [
              0.8888888888888888,
              "#fdca26"
             ],
             [
              1,
              "#f0f921"
             ]
            ],
            "type": "heatmap"
           }
          ],
          "heatmapgl": [
           {
            "colorbar": {
             "outlinewidth": 0,
             "ticks": ""
            },
            "colorscale": [
             [
              0,
              "#0d0887"
             ],
             [
              0.1111111111111111,
              "#46039f"
             ],
             [
              0.2222222222222222,
              "#7201a8"
             ],
             [
              0.3333333333333333,
              "#9c179e"
             ],
             [
              0.4444444444444444,
              "#bd3786"
             ],
             [
              0.5555555555555556,
              "#d8576b"
             ],
             [
              0.6666666666666666,
              "#ed7953"
             ],
             [
              0.7777777777777778,
              "#fb9f3a"
             ],
             [
              0.8888888888888888,
              "#fdca26"
             ],
             [
              1,
              "#f0f921"
             ]
            ],
            "type": "heatmapgl"
           }
          ],
          "histogram": [
           {
            "marker": {
             "pattern": {
              "fillmode": "overlay",
              "size": 10,
              "solidity": 0.2
             }
            },
            "type": "histogram"
           }
          ],
          "histogram2d": [
           {
            "colorbar": {
             "outlinewidth": 0,
             "ticks": ""
            },
            "colorscale": [
             [
              0,
              "#0d0887"
             ],
             [
              0.1111111111111111,
              "#46039f"
             ],
             [
              0.2222222222222222,
              "#7201a8"
             ],
             [
              0.3333333333333333,
              "#9c179e"
             ],
             [
              0.4444444444444444,
              "#bd3786"
             ],
             [
              0.5555555555555556,
              "#d8576b"
             ],
             [
              0.6666666666666666,
              "#ed7953"
             ],
             [
              0.7777777777777778,
              "#fb9f3a"
             ],
             [
              0.8888888888888888,
              "#fdca26"
             ],
             [
              1,
              "#f0f921"
             ]
            ],
            "type": "histogram2d"
           }
          ],
          "histogram2dcontour": [
           {
            "colorbar": {
             "outlinewidth": 0,
             "ticks": ""
            },
            "colorscale": [
             [
              0,
              "#0d0887"
             ],
             [
              0.1111111111111111,
              "#46039f"
             ],
             [
              0.2222222222222222,
              "#7201a8"
             ],
             [
              0.3333333333333333,
              "#9c179e"
             ],
             [
              0.4444444444444444,
              "#bd3786"
             ],
             [
              0.5555555555555556,
              "#d8576b"
             ],
             [
              0.6666666666666666,
              "#ed7953"
             ],
             [
              0.7777777777777778,
              "#fb9f3a"
             ],
             [
              0.8888888888888888,
              "#fdca26"
             ],
             [
              1,
              "#f0f921"
             ]
            ],
            "type": "histogram2dcontour"
           }
          ],
          "mesh3d": [
           {
            "colorbar": {
             "outlinewidth": 0,
             "ticks": ""
            },
            "type": "mesh3d"
           }
          ],
          "parcoords": [
           {
            "line": {
             "colorbar": {
              "outlinewidth": 0,
              "ticks": ""
             }
            },
            "type": "parcoords"
           }
          ],
          "pie": [
           {
            "automargin": true,
            "type": "pie"
           }
          ],
          "scatter": [
           {
            "marker": {
             "colorbar": {
              "outlinewidth": 0,
              "ticks": ""
             }
            },
            "type": "scatter"
           }
          ],
          "scatter3d": [
           {
            "line": {
             "colorbar": {
              "outlinewidth": 0,
              "ticks": ""
             }
            },
            "marker": {
             "colorbar": {
              "outlinewidth": 0,
              "ticks": ""
             }
            },
            "type": "scatter3d"
           }
          ],
          "scattercarpet": [
           {
            "marker": {
             "colorbar": {
              "outlinewidth": 0,
              "ticks": ""
             }
            },
            "type": "scattercarpet"
           }
          ],
          "scattergeo": [
           {
            "marker": {
             "colorbar": {
              "outlinewidth": 0,
              "ticks": ""
             }
            },
            "type": "scattergeo"
           }
          ],
          "scattergl": [
           {
            "marker": {
             "colorbar": {
              "outlinewidth": 0,
              "ticks": ""
             }
            },
            "type": "scattergl"
           }
          ],
          "scattermapbox": [
           {
            "marker": {
             "colorbar": {
              "outlinewidth": 0,
              "ticks": ""
             }
            },
            "type": "scattermapbox"
           }
          ],
          "scatterpolar": [
           {
            "marker": {
             "colorbar": {
              "outlinewidth": 0,
              "ticks": ""
             }
            },
            "type": "scatterpolar"
           }
          ],
          "scatterpolargl": [
           {
            "marker": {
             "colorbar": {
              "outlinewidth": 0,
              "ticks": ""
             }
            },
            "type": "scatterpolargl"
           }
          ],
          "scatterternary": [
           {
            "marker": {
             "colorbar": {
              "outlinewidth": 0,
              "ticks": ""
             }
            },
            "type": "scatterternary"
           }
          ],
          "surface": [
           {
            "colorbar": {
             "outlinewidth": 0,
             "ticks": ""
            },
            "colorscale": [
             [
              0,
              "#0d0887"
             ],
             [
              0.1111111111111111,
              "#46039f"
             ],
             [
              0.2222222222222222,
              "#7201a8"
             ],
             [
              0.3333333333333333,
              "#9c179e"
             ],
             [
              0.4444444444444444,
              "#bd3786"
             ],
             [
              0.5555555555555556,
              "#d8576b"
             ],
             [
              0.6666666666666666,
              "#ed7953"
             ],
             [
              0.7777777777777778,
              "#fb9f3a"
             ],
             [
              0.8888888888888888,
              "#fdca26"
             ],
             [
              1,
              "#f0f921"
             ]
            ],
            "type": "surface"
           }
          ],
          "table": [
           {
            "cells": {
             "fill": {
              "color": "#EBF0F8"
             },
             "line": {
              "color": "white"
             }
            },
            "header": {
             "fill": {
              "color": "#C8D4E3"
             },
             "line": {
              "color": "white"
             }
            },
            "type": "table"
           }
          ]
         },
         "layout": {
          "annotationdefaults": {
           "arrowcolor": "#2a3f5f",
           "arrowhead": 0,
           "arrowwidth": 1
          },
          "autotypenumbers": "strict",
          "coloraxis": {
           "colorbar": {
            "outlinewidth": 0,
            "ticks": ""
           }
          },
          "colorscale": {
           "diverging": [
            [
             0,
             "#8e0152"
            ],
            [
             0.1,
             "#c51b7d"
            ],
            [
             0.2,
             "#de77ae"
            ],
            [
             0.3,
             "#f1b6da"
            ],
            [
             0.4,
             "#fde0ef"
            ],
            [
             0.5,
             "#f7f7f7"
            ],
            [
             0.6,
             "#e6f5d0"
            ],
            [
             0.7,
             "#b8e186"
            ],
            [
             0.8,
             "#7fbc41"
            ],
            [
             0.9,
             "#4d9221"
            ],
            [
             1,
             "#276419"
            ]
           ],
           "sequential": [
            [
             0,
             "#0d0887"
            ],
            [
             0.1111111111111111,
             "#46039f"
            ],
            [
             0.2222222222222222,
             "#7201a8"
            ],
            [
             0.3333333333333333,
             "#9c179e"
            ],
            [
             0.4444444444444444,
             "#bd3786"
            ],
            [
             0.5555555555555556,
             "#d8576b"
            ],
            [
             0.6666666666666666,
             "#ed7953"
            ],
            [
             0.7777777777777778,
             "#fb9f3a"
            ],
            [
             0.8888888888888888,
             "#fdca26"
            ],
            [
             1,
             "#f0f921"
            ]
           ],
           "sequentialminus": [
            [
             0,
             "#0d0887"
            ],
            [
             0.1111111111111111,
             "#46039f"
            ],
            [
             0.2222222222222222,
             "#7201a8"
            ],
            [
             0.3333333333333333,
             "#9c179e"
            ],
            [
             0.4444444444444444,
             "#bd3786"
            ],
            [
             0.5555555555555556,
             "#d8576b"
            ],
            [
             0.6666666666666666,
             "#ed7953"
            ],
            [
             0.7777777777777778,
             "#fb9f3a"
            ],
            [
             0.8888888888888888,
             "#fdca26"
            ],
            [
             1,
             "#f0f921"
            ]
           ]
          },
          "colorway": [
           "#636efa",
           "#EF553B",
           "#00cc96",
           "#ab63fa",
           "#FFA15A",
           "#19d3f3",
           "#FF6692",
           "#B6E880",
           "#FF97FF",
           "#FECB52"
          ],
          "font": {
           "color": "#2a3f5f"
          },
          "geo": {
           "bgcolor": "white",
           "lakecolor": "white",
           "landcolor": "#E5ECF6",
           "showlakes": true,
           "showland": true,
           "subunitcolor": "white"
          },
          "hoverlabel": {
           "align": "left"
          },
          "hovermode": "closest",
          "mapbox": {
           "style": "light"
          },
          "paper_bgcolor": "white",
          "plot_bgcolor": "#E5ECF6",
          "polar": {
           "angularaxis": {
            "gridcolor": "white",
            "linecolor": "white",
            "ticks": ""
           },
           "bgcolor": "#E5ECF6",
           "radialaxis": {
            "gridcolor": "white",
            "linecolor": "white",
            "ticks": ""
           }
          },
          "scene": {
           "xaxis": {
            "backgroundcolor": "#E5ECF6",
            "gridcolor": "white",
            "gridwidth": 2,
            "linecolor": "white",
            "showbackground": true,
            "ticks": "",
            "zerolinecolor": "white"
           },
           "yaxis": {
            "backgroundcolor": "#E5ECF6",
            "gridcolor": "white",
            "gridwidth": 2,
            "linecolor": "white",
            "showbackground": true,
            "ticks": "",
            "zerolinecolor": "white"
           },
           "zaxis": {
            "backgroundcolor": "#E5ECF6",
            "gridcolor": "white",
            "gridwidth": 2,
            "linecolor": "white",
            "showbackground": true,
            "ticks": "",
            "zerolinecolor": "white"
           }
          },
          "shapedefaults": {
           "line": {
            "color": "#2a3f5f"
           }
          },
          "ternary": {
           "aaxis": {
            "gridcolor": "white",
            "linecolor": "white",
            "ticks": ""
           },
           "baxis": {
            "gridcolor": "white",
            "linecolor": "white",
            "ticks": ""
           },
           "bgcolor": "#E5ECF6",
           "caxis": {
            "gridcolor": "white",
            "linecolor": "white",
            "ticks": ""
           }
          },
          "title": {
           "x": 0.05
          },
          "xaxis": {
           "automargin": true,
           "gridcolor": "white",
           "linecolor": "white",
           "ticks": "",
           "title": {
            "standoff": 15
           },
           "zerolinecolor": "white",
           "zerolinewidth": 2
          },
          "yaxis": {
           "automargin": true,
           "gridcolor": "white",
           "linecolor": "white",
           "ticks": "",
           "title": {
            "standoff": 15
           },
           "zerolinecolor": "white",
           "zerolinewidth": 2
          }
         }
        },
        "title": {
         "text": "has usable ace"
        },
        "width": 700
       }
      }
     },
     "metadata": {},
     "output_type": "display_data"
    }
   ],
   "source": [
    "fig = go.Figure(\n",
    "    data=[\n",
    "        go.Mesh3d(\n",
    "            x=[v[0][0] for v in V if v[0][2] % 2 == 1],\n",
    "            y=[v[0][1] for v in V if v[0][2] % 2 == 1],\n",
    "            z=[v[1] for v in V if v[0][2] % 2 == 1],\n",
    "            opacity=0.5,\n",
    "            color=\"rgba(244,22,100,0.6)\",\n",
    "        )\n",
    "    ]\n",
    ")\n",
    "\n",
    "fig.update_layout(\n",
    "    title=\"has usable ace\",\n",
    "    scene=dict(\n",
    "        xaxis=dict(\n",
    "            nticks=4,\n",
    "            title=\"my sum\",\n",
    "            range=[10, 25],\n",
    "        ),\n",
    "        yaxis=dict(\n",
    "            title=\"dealer show\",\n",
    "            nticks=4,\n",
    "            range=[0, 12],\n",
    "        ),\n",
    "        zaxis=dict(\n",
    "            title=\"state value\",\n",
    "            nticks=4,\n",
    "            range=[-1.2, 1.2],\n",
    "        ),\n",
    "    ),\n",
    "    width=700,\n",
    ")\n",
    "\n",
    "fig.show()\n"
   ]
  },
  {
   "cell_type": "code",
   "execution_count": 14,
   "metadata": {},
   "outputs": [
    {
     "data": {
      "text/plain": [
       "0"
      ]
     },
     "execution_count": 14,
     "metadata": {},
     "output_type": "execute_result"
    }
   ],
   "source": [
    "len([v for v in agent.Q if math.isnan(v)])\n"
   ]
  },
  {
   "cell_type": "code",
   "execution_count": 31,
   "metadata": {},
   "outputs": [
    {
     "data": {
      "text/plain": [
       "0"
      ]
     },
     "execution_count": 31,
     "metadata": {},
     "output_type": "execute_result"
    }
   ],
   "source": [
    "agent.pai[get_state_index((12, 5, 0))]\n"
   ]
  }
 ],
 "metadata": {
  "interpreter": {
   "hash": "916dbcbb3f70747c44a77c7bcd40155683ae19c65e1c03b4aa3499c5328201f1"
  },
  "kernelspec": {
   "display_name": "Python 3.8.10 64-bit",
   "language": "python",
   "name": "python3"
  },
  "language_info": {
   "codemirror_mode": {
    "name": "ipython",
    "version": 3
   },
   "file_extension": ".py",
   "mimetype": "text/x-python",
   "name": "python",
   "nbconvert_exporter": "python",
   "pygments_lexer": "ipython3",
   "version": "3.8.9"
  },
  "orig_nbformat": 4
 },
 "nbformat": 4,
 "nbformat_minor": 2
}

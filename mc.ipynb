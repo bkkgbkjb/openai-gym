{
 "cells": [
  {
   "cell_type": "code",
   "execution_count": 1,
   "metadata": {},
   "outputs": [],
   "source": [
    "import numpy as np\n",
    "# from gym.envs.toy_text import BlackjackEnv\n",
    "import gym\n",
    "from typing import Literal, List, Tuple\n",
    "import plotly.graph_objects as go\n",
    "from copy import deepcopy\n",
    "import math"
   ]
  },
  {
   "cell_type": "code",
   "execution_count": 2,
   "metadata": {},
   "outputs": [],
   "source": [
    "# env = BlackjackEnv()\n",
    "np.random.seed(0)\n",
    "env = gym.make('Blackjack-v1')\n",
    "env.seed(0)\n",
    "\n",
    "obs = env.reset()\n"
   ]
  },
  {
   "cell_type": "code",
   "execution_count": 3,
   "metadata": {},
   "outputs": [
    {
     "data": {
      "text/plain": [
       "(18, 1, False)"
      ]
     },
     "execution_count": 3,
     "metadata": {},
     "output_type": "execute_result"
    }
   ],
   "source": [
    "obs"
   ]
  },
  {
   "cell_type": "code",
   "execution_count": 4,
   "metadata": {},
   "outputs": [],
   "source": [
    "MySum = Literal[12, 13, 14, 15, 16, 17, 18, 19, 20, 21]\n",
    "DealerShowing = Literal[1, 2, 3, 4, 5, 6, 7, 8, 9, 10]\n",
    "UsableAce = bool\n",
    "\n",
    "Observation = Tuple[MySum, DealerShowing, UsableAce]\n",
    "\n",
    "Values = List[float]\n",
    "Action_Values = List[float]\n",
    "\n",
    "State = Tuple[MySum, DealerShowing, UsableAce]\n",
    "Action = Literal[0, 1]\n",
    "Reward = Literal[-1, 0, 1]\n",
    "Policy = List[Action]\n",
    "Step = Tuple[State, Action, Reward]\n",
    "Episode = List[Step]\n",
    "\n",
    "TOTAL_NUM_OF_STATES = 200\n",
    "TOTAL_NUM_OF_STATE_ACTION_PAIR = 400\n"
   ]
  },
  {
   "cell_type": "code",
   "execution_count": 5,
   "metadata": {},
   "outputs": [],
   "source": [
    "def get_state_index(s: State) -> int:\n",
    "    my_sum, dealer_show, usable_ace = s\n",
    "    idx = int(usable_ace) + (dealer_show - 1) * 2 + (my_sum - 12) * 20\n",
    "    assert idx >= 0, \"idx is illegal\"\n",
    "    return idx\n",
    "\n",
    "\n",
    "def get_state_from_index(i: int) -> State:\n",
    "    my_sum = i // 20 + 12\n",
    "    dealer_show = (i % 20) // 2 + 1\n",
    "    usable_ace = i % 20 % 2\n",
    "\n",
    "    return (my_sum, dealer_show, usable_ace)\n",
    "\n",
    "\n",
    "def get_state_index_with_action(s: State, a: Action) -> int:\n",
    "    my_sum, dealer_show, usable_ace = s\n",
    "    idx = a + (usable_ace) * 2 + (dealer_show - 1) * 4 + (my_sum - 12) * 40\n",
    "    assert idx >= 0, \"idx is illegal\"\n",
    "    return idx\n",
    "\n",
    "\n",
    "def get_state_from_index_with_action(i: int) -> Tuple[State, Action]:\n",
    "    my_sum = i // 40 + 12\n",
    "    dealer_show = (i % 40) // 4 + 1\n",
    "    usable_ace = (i % 40 % 4) // 2\n",
    "    act = i % 40 % 4 % 2\n",
    "    return ((my_sum, dealer_show, usable_ace), act)\n"
   ]
  },
  {
   "cell_type": "code",
   "execution_count": 6,
   "metadata": {},
   "outputs": [],
   "source": [
    "class Agent:\n",
    "    def __init__(self, env: gym.Env, gamma: float, improve: bool = False):\n",
    "        self.env = env\n",
    "        self.gamma = gamma\n",
    "        self.improve = improve\n",
    "\n",
    "        self.clear()\n",
    "\n",
    "    def close(self):\n",
    "        self.env.close()\n",
    "\n",
    "    def step(self, obs: Observation, random_act=False) -> Tuple[Observation, bool]:\n",
    "        assert not self.end, \"cannot step on a ended agent, reset it first\"\n",
    "        (my_sum, dealer_showup, usable_ace) = obs\n",
    "\n",
    "        assert my_sum <= 21, f\"bad sum appears in step: {my_sum}\"\n",
    "\n",
    "        act = (\n",
    "            self.take_action((my_sum, dealer_showup, usable_ace))\n",
    "            if not random_act\n",
    "            else self.take_random_action()\n",
    "        )\n",
    "\n",
    "        (obs, rwd, done, info) = self.env.step(act)\n",
    "\n",
    "        self.current_episode.append(((my_sum, dealer_showup, usable_ace), act, rwd))\n",
    "\n",
    "        (my_sum, dealer_showup, usable_ace) = obs\n",
    "\n",
    "        if done:\n",
    "            self.win_times += 1 if rwd > 0 else 0\n",
    "            self.evaluate(self.improve)\n",
    "            self.episodes.append(self.current_episode)\n",
    "            self.current_episode = []\n",
    "            self.end = True\n",
    "\n",
    "        return ((my_sum, dealer_showup, usable_ace), done)\n",
    "\n",
    "    def reset(self) -> Observation:\n",
    "        assert (\n",
    "            len(self.current_episode) == 0\n",
    "        ), \"when reset, current episode has some dirty elements, step it first or clear\"\n",
    "\n",
    "        # self.current_episode = []\n",
    "        self.end = False\n",
    "\n",
    "        while True:\n",
    "            (my_sum, dealer_showup, usable_ace) = self.env.reset()\n",
    "            assert my_sum <= 21, f\"too large sum appears in reset: {my_sum}\"\n",
    "            if my_sum < 12:\n",
    "                continue\n",
    "\n",
    "            assert my_sum >= 12, f\"too small sum appears in reset: {my_sum}\"\n",
    "\n",
    "            return (my_sum, dealer_showup, usable_ace)\n",
    "\n",
    "    def clear(self):\n",
    "        self.current_episode: List[Episode] = []\n",
    "        self.episodes = [[] for _ in range(TOTAL_NUM_OF_STATES)]\n",
    "\n",
    "        self.Q = [float(\"nan\") for _ in range(TOTAL_NUM_OF_STATE_ACTION_PAIR)]\n",
    "        self.q_returns = [[] for _ in range(TOTAL_NUM_OF_STATE_ACTION_PAIR)]\n",
    "\n",
    "        self.pai = [\n",
    "            1 if get_state_from_index(i)[0] >= 20 else 0\n",
    "            for i in range(TOTAL_NUM_OF_STATES)\n",
    "        ]\n",
    "\n",
    "        (my_sum, dealer_showup, usable_ace) = self.env.reset()\n",
    "        assert my_sum <= 21, f\"bad sum appears in init state: {my_sum}\"\n",
    "\n",
    "        self.returns = [[] for _ in range(TOTAL_NUM_OF_STATES)]\n",
    "        self.V = [float(\"nan\") for _ in range(TOTAL_NUM_OF_STATES)]\n",
    "        self.win_times = 0\n",
    "        self.end = True\n",
    "\n",
    "    def take_action(self, s: State) -> Literal[0, 1]:\n",
    "        my_sum, deal_show, usable_ace = s\n",
    "        assert my_sum <= 21, f\"bad my_sum feed into agent: {my_sum}\"\n",
    "\n",
    "        new_act = self.pai[get_state_index((my_sum, deal_show, usable_ace))]\n",
    "        # old_act = 0 if my_sum == 20 or my_sum == 21 else 1\n",
    "\n",
    "        # assert old_act == new_act, \"act is not same\"\n",
    "        return new_act\n",
    "\n",
    "    def take_random_action(self) -> Literal[0, 1]:\n",
    "        return np.random.choice([0, 1])\n",
    "\n",
    "    def state_exists(self, s: State, es: List[Episode]):\n",
    "        for e in es:\n",
    "            (_s) = e[0]\n",
    "            if s[0] == _s[0] and s[1] == _s[1] and s[2] == _s[2]:\n",
    "                return True\n",
    "\n",
    "        return False\n",
    "\n",
    "    def state_action_exists(self, s: State, a: Action, es: List[Episode]):\n",
    "        for e in es:\n",
    "            (_s, _a) = (e[0], e[1])\n",
    "            if s[0] == _s[0] and s[1] == _s[1] and s[2] == _s[2] and _a == a:\n",
    "                return True\n",
    "\n",
    "        return False\n",
    "\n",
    "    def evaluate(self, improve=False):\n",
    "        episode = self.current_episode\n",
    "\n",
    "        G = 0\n",
    "        l = len(episode)\n",
    "        for i, v in enumerate(reversed(episode)):\n",
    "            state, action, reward = v\n",
    "            G = self.gamma * G + reward\n",
    "            if not self.state_exists(state, episode[: l - i - 1]):\n",
    "                idx = get_state_index(state)\n",
    "                self.returns[idx].append(G)\n",
    "                self.V[idx] = np.mean(self.returns[idx])\n",
    "            if not self.state_action_exists(state, action, episode[: l - i - 1]):\n",
    "                idx = get_state_index_with_action(state, action)\n",
    "                state_idx = get_state_index(state)\n",
    "                self.q_returns[idx].append(G)\n",
    "                self.Q[idx] = np.mean(self.q_returns[idx])\n",
    "                if improve:\n",
    "                    # self.pai[state_idx] = np.argmax(\n",
    "                    new_act = np.argmax(\n",
    "                        [self.Q[get_state_index_with_action(state, a)] for a in [0, 1]]\n",
    "                    )\n",
    "                    # old_act = self.pai[state_idx]\n",
    "                    self.pai[state_idx] = new_act\n"
   ]
  },
  {
   "cell_type": "code",
   "execution_count": 7,
   "metadata": {},
   "outputs": [],
   "source": [
    "TOTAL_EPISODES = 400_000\n",
    "\n",
    "agent = Agent(env, 1, True)\n",
    "\n",
    "\n",
    "for i in range(TOTAL_EPISODES):\n",
    "    (my_sum, dealer_showup, usable_ace) = agent.reset()\n",
    "\n",
    "    start = True\n",
    "    while True:\n",
    "        (obs, done) = agent.step(\n",
    "            (my_sum, dealer_showup, usable_ace), random_act=True if start else False\n",
    "        )\n",
    "        start = False\n",
    "\n",
    "        (my_sum, dealer_showup, usable_ace) = obs\n",
    "\n",
    "        if done:\n",
    "            break\n",
    "\n",
    "\n",
    "agent.close()\n"
   ]
  },
  {
   "cell_type": "code",
   "execution_count": 8,
   "metadata": {},
   "outputs": [
    {
     "name": "stdout",
     "output_type": "stream",
     "text": [
      "win: 134659\n",
      "win rate: 0.3366475\n"
     ]
    }
   ],
   "source": [
    "# win_times = np.sum(np.fromiter((r[0] for r in result), dtype=\"int\"))\n",
    "print(f\"win: {agent.win_times}\")\n",
    "print(f\"win rate: {agent.win_times/TOTAL_EPISODES}\")\n"
   ]
  },
  {
   "cell_type": "code",
   "execution_count": 9,
   "metadata": {},
   "outputs": [],
   "source": [
    "(V, R) = (agent.V, agent.returns)\n"
   ]
  },
  {
   "cell_type": "code",
   "execution_count": 10,
   "metadata": {},
   "outputs": [],
   "source": [
    "for r in R:\n",
    "    assert len(r) > 0\n",
    "\n",
    "for v in V:\n",
    "    assert not math.isnan(v)\n"
   ]
  },
  {
   "cell_type": "code",
   "execution_count": 11,
   "metadata": {},
   "outputs": [],
   "source": [
    "V = [(get_state_from_index(i), v) for (i, v) in enumerate(V)]\n"
   ]
  },
  {
   "cell_type": "code",
   "execution_count": 12,
   "metadata": {},
   "outputs": [
    {
     "data": {
      "application/vnd.plotly.v1+json": {
       "config": {
        "plotlyServerURL": "https://plot.ly"
       },
       "data": [
        {
         "color": "rgba(244,22,100,0.6)",
         "opacity": 0.5,
         "type": "mesh3d",
         "x": [
          12,
          12,
          12,
          12,
          12,
          12,
          12,
          12,
          12,
          12,
          13,
          13,
          13,
          13,
          13,
          13,
          13,
          13,
          13,
          13,
          14,
          14,
          14,
          14,
          14,
          14,
          14,
          14,
          14,
          14,
          15,
          15,
          15,
          15,
          15,
          15,
          15,
          15,
          15,
          15,
          16,
          16,
          16,
          16,
          16,
          16,
          16,
          16,
          16,
          16,
          17,
          17,
          17,
          17,
          17,
          17,
          17,
          17,
          17,
          17,
          18,
          18,
          18,
          18,
          18,
          18,
          18,
          18,
          18,
          18,
          19,
          19,
          19,
          19,
          19,
          19,
          19,
          19,
          19,
          19,
          20,
          20,
          20,
          20,
          20,
          20,
          20,
          20,
          20,
          20,
          21,
          21,
          21,
          21,
          21,
          21,
          21,
          21,
          21,
          21
         ],
         "y": [
          1,
          2,
          3,
          4,
          5,
          6,
          7,
          8,
          9,
          10,
          1,
          2,
          3,
          4,
          5,
          6,
          7,
          8,
          9,
          10,
          1,
          2,
          3,
          4,
          5,
          6,
          7,
          8,
          9,
          10,
          1,
          2,
          3,
          4,
          5,
          6,
          7,
          8,
          9,
          10,
          1,
          2,
          3,
          4,
          5,
          6,
          7,
          8,
          9,
          10,
          1,
          2,
          3,
          4,
          5,
          6,
          7,
          8,
          9,
          10,
          1,
          2,
          3,
          4,
          5,
          6,
          7,
          8,
          9,
          10,
          1,
          2,
          3,
          4,
          5,
          6,
          7,
          8,
          9,
          10,
          1,
          2,
          3,
          4,
          5,
          6,
          7,
          8,
          9,
          10,
          1,
          2,
          3,
          4,
          5,
          6,
          7,
          8,
          9,
          10
         ],
         "z": [
          -0.6190984262469992,
          -0.27330340639028256,
          -0.23641742872512103,
          -0.2117584463953179,
          -0.1493212669683258,
          -0.1661721068249258,
          -0.33840503672612804,
          -0.39956919763058696,
          -0.42393345854574727,
          -0.4951338199513382,
          -0.6487057580559957,
          -0.2758046614872364,
          -0.2437703141928494,
          -0.20738714090287277,
          -0.1979936642027455,
          -0.17634051962410172,
          -0.37848493382145876,
          -0.41305555555555556,
          -0.4446514103246408,
          -0.5245957796656618,
          -0.6650982562967064,
          -0.3308947664603264,
          -0.29575861087389693,
          -0.2870581527936146,
          -0.21288674425205792,
          -0.18421791631564166,
          -0.3773326015367728,
          -0.4418604651162791,
          -0.48608745031232253,
          -0.528303194069147,
          -0.6771452846219201,
          -0.32401129943502827,
          -0.30657151352958667,
          -0.2875912408759124,
          -0.2393878140340745,
          -0.25111573936328474,
          -0.3933635847986387,
          -0.442159383033419,
          -0.5081779053084649,
          -0.5558268112299849,
          -0.7001150086256469,
          -0.3633071816535908,
          -0.34389561975768873,
          -0.2851011649294911,
          -0.290121533187909,
          -0.2510612492419648,
          -0.4352665495020504,
          -0.47524467472654003,
          -0.5236695089679506,
          -0.5565650010815488,
          -0.6752669039145908,
          -0.28534031413612565,
          -0.2498416719442685,
          -0.2583497053045187,
          -0.2120822622107969,
          -0.19657577679137603,
          -0.2203288490284006,
          -0.42939046469523234,
          -0.4634891536816376,
          -0.5293331353037279,
          -0.49152019734813446,
          -0.1279310344827586,
          -0.09382151029748284,
          -0.08906197087707417,
          -0.09837662337662338,
          -0.01386001386001386,
          0.09517684887459807,
          -0.13373134328358208,
          -0.3651721897335932,
          -0.3930336362187151,
          -0.3179054054054054,
          -0.004270462633451958,
          0.006152732537097358,
          0.07695035460992908,
          0.07743752199929602,
          0.08096118299445472,
          0.21897810218978103,
          0.18517276081851727,
          -0.025876744977868574,
          -0.2409367447287274,
          -0.21639812359779725,
          0.056951061065396276,
          0.03923625681913554,
          0.09775233248515691,
          0.05305602716468591,
          0.09537382153036615,
          0.15808898913266353,
          0.17663817663817663,
          0.16045611891671757,
          -0.06108424535505218,
          0.6261046906866078,
          0.8711610486891386,
          0.8755868544600939,
          0.8916797488226059,
          0.8863819500402901,
          0.8903436988543372,
          0.9251191286589516,
          0.934597776324395,
          0.9395790902919212,
          0.8840704906703525
         ]
        }
       ],
       "layout": {
        "scene": {
         "xaxis": {
          "nticks": 4,
          "range": [
           10,
           25
          ],
          "title": {
           "text": "my sum"
          }
         },
         "yaxis": {
          "nticks": 4,
          "range": [
           0,
           12
          ],
          "title": {
           "text": "dealer show"
          }
         },
         "zaxis": {
          "nticks": 4,
          "range": [
           -1.2,
           1.2
          ],
          "title": {
           "text": "state value"
          }
         }
        },
        "template": {
         "data": {
          "bar": [
           {
            "error_x": {
             "color": "#2a3f5f"
            },
            "error_y": {
             "color": "#2a3f5f"
            },
            "marker": {
             "line": {
              "color": "#E5ECF6",
              "width": 0.5
             },
             "pattern": {
              "fillmode": "overlay",
              "size": 10,
              "solidity": 0.2
             }
            },
            "type": "bar"
           }
          ],
          "barpolar": [
           {
            "marker": {
             "line": {
              "color": "#E5ECF6",
              "width": 0.5
             },
             "pattern": {
              "fillmode": "overlay",
              "size": 10,
              "solidity": 0.2
             }
            },
            "type": "barpolar"
           }
          ],
          "carpet": [
           {
            "aaxis": {
             "endlinecolor": "#2a3f5f",
             "gridcolor": "white",
             "linecolor": "white",
             "minorgridcolor": "white",
             "startlinecolor": "#2a3f5f"
            },
            "baxis": {
             "endlinecolor": "#2a3f5f",
             "gridcolor": "white",
             "linecolor": "white",
             "minorgridcolor": "white",
             "startlinecolor": "#2a3f5f"
            },
            "type": "carpet"
           }
          ],
          "choropleth": [
           {
            "colorbar": {
             "outlinewidth": 0,
             "ticks": ""
            },
            "type": "choropleth"
           }
          ],
          "contour": [
           {
            "colorbar": {
             "outlinewidth": 0,
             "ticks": ""
            },
            "colorscale": [
             [
              0,
              "#0d0887"
             ],
             [
              0.1111111111111111,
              "#46039f"
             ],
             [
              0.2222222222222222,
              "#7201a8"
             ],
             [
              0.3333333333333333,
              "#9c179e"
             ],
             [
              0.4444444444444444,
              "#bd3786"
             ],
             [
              0.5555555555555556,
              "#d8576b"
             ],
             [
              0.6666666666666666,
              "#ed7953"
             ],
             [
              0.7777777777777778,
              "#fb9f3a"
             ],
             [
              0.8888888888888888,
              "#fdca26"
             ],
             [
              1,
              "#f0f921"
             ]
            ],
            "type": "contour"
           }
          ],
          "contourcarpet": [
           {
            "colorbar": {
             "outlinewidth": 0,
             "ticks": ""
            },
            "type": "contourcarpet"
           }
          ],
          "heatmap": [
           {
            "colorbar": {
             "outlinewidth": 0,
             "ticks": ""
            },
            "colorscale": [
             [
              0,
              "#0d0887"
             ],
             [
              0.1111111111111111,
              "#46039f"
             ],
             [
              0.2222222222222222,
              "#7201a8"
             ],
             [
              0.3333333333333333,
              "#9c179e"
             ],
             [
              0.4444444444444444,
              "#bd3786"
             ],
             [
              0.5555555555555556,
              "#d8576b"
             ],
             [
              0.6666666666666666,
              "#ed7953"
             ],
             [
              0.7777777777777778,
              "#fb9f3a"
             ],
             [
              0.8888888888888888,
              "#fdca26"
             ],
             [
              1,
              "#f0f921"
             ]
            ],
            "type": "heatmap"
           }
          ],
          "heatmapgl": [
           {
            "colorbar": {
             "outlinewidth": 0,
             "ticks": ""
            },
            "colorscale": [
             [
              0,
              "#0d0887"
             ],
             [
              0.1111111111111111,
              "#46039f"
             ],
             [
              0.2222222222222222,
              "#7201a8"
             ],
             [
              0.3333333333333333,
              "#9c179e"
             ],
             [
              0.4444444444444444,
              "#bd3786"
             ],
             [
              0.5555555555555556,
              "#d8576b"
             ],
             [
              0.6666666666666666,
              "#ed7953"
             ],
             [
              0.7777777777777778,
              "#fb9f3a"
             ],
             [
              0.8888888888888888,
              "#fdca26"
             ],
             [
              1,
              "#f0f921"
             ]
            ],
            "type": "heatmapgl"
           }
          ],
          "histogram": [
           {
            "marker": {
             "pattern": {
              "fillmode": "overlay",
              "size": 10,
              "solidity": 0.2
             }
            },
            "type": "histogram"
           }
          ],
          "histogram2d": [
           {
            "colorbar": {
             "outlinewidth": 0,
             "ticks": ""
            },
            "colorscale": [
             [
              0,
              "#0d0887"
             ],
             [
              0.1111111111111111,
              "#46039f"
             ],
             [
              0.2222222222222222,
              "#7201a8"
             ],
             [
              0.3333333333333333,
              "#9c179e"
             ],
             [
              0.4444444444444444,
              "#bd3786"
             ],
             [
              0.5555555555555556,
              "#d8576b"
             ],
             [
              0.6666666666666666,
              "#ed7953"
             ],
             [
              0.7777777777777778,
              "#fb9f3a"
             ],
             [
              0.8888888888888888,
              "#fdca26"
             ],
             [
              1,
              "#f0f921"
             ]
            ],
            "type": "histogram2d"
           }
          ],
          "histogram2dcontour": [
           {
            "colorbar": {
             "outlinewidth": 0,
             "ticks": ""
            },
            "colorscale": [
             [
              0,
              "#0d0887"
             ],
             [
              0.1111111111111111,
              "#46039f"
             ],
             [
              0.2222222222222222,
              "#7201a8"
             ],
             [
              0.3333333333333333,
              "#9c179e"
             ],
             [
              0.4444444444444444,
              "#bd3786"
             ],
             [
              0.5555555555555556,
              "#d8576b"
             ],
             [
              0.6666666666666666,
              "#ed7953"
             ],
             [
              0.7777777777777778,
              "#fb9f3a"
             ],
             [
              0.8888888888888888,
              "#fdca26"
             ],
             [
              1,
              "#f0f921"
             ]
            ],
            "type": "histogram2dcontour"
           }
          ],
          "mesh3d": [
           {
            "colorbar": {
             "outlinewidth": 0,
             "ticks": ""
            },
            "type": "mesh3d"
           }
          ],
          "parcoords": [
           {
            "line": {
             "colorbar": {
              "outlinewidth": 0,
              "ticks": ""
             }
            },
            "type": "parcoords"
           }
          ],
          "pie": [
           {
            "automargin": true,
            "type": "pie"
           }
          ],
          "scatter": [
           {
            "marker": {
             "colorbar": {
              "outlinewidth": 0,
              "ticks": ""
             }
            },
            "type": "scatter"
           }
          ],
          "scatter3d": [
           {
            "line": {
             "colorbar": {
              "outlinewidth": 0,
              "ticks": ""
             }
            },
            "marker": {
             "colorbar": {
              "outlinewidth": 0,
              "ticks": ""
             }
            },
            "type": "scatter3d"
           }
          ],
          "scattercarpet": [
           {
            "marker": {
             "colorbar": {
              "outlinewidth": 0,
              "ticks": ""
             }
            },
            "type": "scattercarpet"
           }
          ],
          "scattergeo": [
           {
            "marker": {
             "colorbar": {
              "outlinewidth": 0,
              "ticks": ""
             }
            },
            "type": "scattergeo"
           }
          ],
          "scattergl": [
           {
            "marker": {
             "colorbar": {
              "outlinewidth": 0,
              "ticks": ""
             }
            },
            "type": "scattergl"
           }
          ],
          "scattermapbox": [
           {
            "marker": {
             "colorbar": {
              "outlinewidth": 0,
              "ticks": ""
             }
            },
            "type": "scattermapbox"
           }
          ],
          "scatterpolar": [
           {
            "marker": {
             "colorbar": {
              "outlinewidth": 0,
              "ticks": ""
             }
            },
            "type": "scatterpolar"
           }
          ],
          "scatterpolargl": [
           {
            "marker": {
             "colorbar": {
              "outlinewidth": 0,
              "ticks": ""
             }
            },
            "type": "scatterpolargl"
           }
          ],
          "scatterternary": [
           {
            "marker": {
             "colorbar": {
              "outlinewidth": 0,
              "ticks": ""
             }
            },
            "type": "scatterternary"
           }
          ],
          "surface": [
           {
            "colorbar": {
             "outlinewidth": 0,
             "ticks": ""
            },
            "colorscale": [
             [
              0,
              "#0d0887"
             ],
             [
              0.1111111111111111,
              "#46039f"
             ],
             [
              0.2222222222222222,
              "#7201a8"
             ],
             [
              0.3333333333333333,
              "#9c179e"
             ],
             [
              0.4444444444444444,
              "#bd3786"
             ],
             [
              0.5555555555555556,
              "#d8576b"
             ],
             [
              0.6666666666666666,
              "#ed7953"
             ],
             [
              0.7777777777777778,
              "#fb9f3a"
             ],
             [
              0.8888888888888888,
              "#fdca26"
             ],
             [
              1,
              "#f0f921"
             ]
            ],
            "type": "surface"
           }
          ],
          "table": [
           {
            "cells": {
             "fill": {
              "color": "#EBF0F8"
             },
             "line": {
              "color": "white"
             }
            },
            "header": {
             "fill": {
              "color": "#C8D4E3"
             },
             "line": {
              "color": "white"
             }
            },
            "type": "table"
           }
          ]
         },
         "layout": {
          "annotationdefaults": {
           "arrowcolor": "#2a3f5f",
           "arrowhead": 0,
           "arrowwidth": 1
          },
          "autotypenumbers": "strict",
          "coloraxis": {
           "colorbar": {
            "outlinewidth": 0,
            "ticks": ""
           }
          },
          "colorscale": {
           "diverging": [
            [
             0,
             "#8e0152"
            ],
            [
             0.1,
             "#c51b7d"
            ],
            [
             0.2,
             "#de77ae"
            ],
            [
             0.3,
             "#f1b6da"
            ],
            [
             0.4,
             "#fde0ef"
            ],
            [
             0.5,
             "#f7f7f7"
            ],
            [
             0.6,
             "#e6f5d0"
            ],
            [
             0.7,
             "#b8e186"
            ],
            [
             0.8,
             "#7fbc41"
            ],
            [
             0.9,
             "#4d9221"
            ],
            [
             1,
             "#276419"
            ]
           ],
           "sequential": [
            [
             0,
             "#0d0887"
            ],
            [
             0.1111111111111111,
             "#46039f"
            ],
            [
             0.2222222222222222,
             "#7201a8"
            ],
            [
             0.3333333333333333,
             "#9c179e"
            ],
            [
             0.4444444444444444,
             "#bd3786"
            ],
            [
             0.5555555555555556,
             "#d8576b"
            ],
            [
             0.6666666666666666,
             "#ed7953"
            ],
            [
             0.7777777777777778,
             "#fb9f3a"
            ],
            [
             0.8888888888888888,
             "#fdca26"
            ],
            [
             1,
             "#f0f921"
            ]
           ],
           "sequentialminus": [
            [
             0,
             "#0d0887"
            ],
            [
             0.1111111111111111,
             "#46039f"
            ],
            [
             0.2222222222222222,
             "#7201a8"
            ],
            [
             0.3333333333333333,
             "#9c179e"
            ],
            [
             0.4444444444444444,
             "#bd3786"
            ],
            [
             0.5555555555555556,
             "#d8576b"
            ],
            [
             0.6666666666666666,
             "#ed7953"
            ],
            [
             0.7777777777777778,
             "#fb9f3a"
            ],
            [
             0.8888888888888888,
             "#fdca26"
            ],
            [
             1,
             "#f0f921"
            ]
           ]
          },
          "colorway": [
           "#636efa",
           "#EF553B",
           "#00cc96",
           "#ab63fa",
           "#FFA15A",
           "#19d3f3",
           "#FF6692",
           "#B6E880",
           "#FF97FF",
           "#FECB52"
          ],
          "font": {
           "color": "#2a3f5f"
          },
          "geo": {
           "bgcolor": "white",
           "lakecolor": "white",
           "landcolor": "#E5ECF6",
           "showlakes": true,
           "showland": true,
           "subunitcolor": "white"
          },
          "hoverlabel": {
           "align": "left"
          },
          "hovermode": "closest",
          "mapbox": {
           "style": "light"
          },
          "paper_bgcolor": "white",
          "plot_bgcolor": "#E5ECF6",
          "polar": {
           "angularaxis": {
            "gridcolor": "white",
            "linecolor": "white",
            "ticks": ""
           },
           "bgcolor": "#E5ECF6",
           "radialaxis": {
            "gridcolor": "white",
            "linecolor": "white",
            "ticks": ""
           }
          },
          "scene": {
           "xaxis": {
            "backgroundcolor": "#E5ECF6",
            "gridcolor": "white",
            "gridwidth": 2,
            "linecolor": "white",
            "showbackground": true,
            "ticks": "",
            "zerolinecolor": "white"
           },
           "yaxis": {
            "backgroundcolor": "#E5ECF6",
            "gridcolor": "white",
            "gridwidth": 2,
            "linecolor": "white",
            "showbackground": true,
            "ticks": "",
            "zerolinecolor": "white"
           },
           "zaxis": {
            "backgroundcolor": "#E5ECF6",
            "gridcolor": "white",
            "gridwidth": 2,
            "linecolor": "white",
            "showbackground": true,
            "ticks": "",
            "zerolinecolor": "white"
           }
          },
          "shapedefaults": {
           "line": {
            "color": "#2a3f5f"
           }
          },
          "ternary": {
           "aaxis": {
            "gridcolor": "white",
            "linecolor": "white",
            "ticks": ""
           },
           "baxis": {
            "gridcolor": "white",
            "linecolor": "white",
            "ticks": ""
           },
           "bgcolor": "#E5ECF6",
           "caxis": {
            "gridcolor": "white",
            "linecolor": "white",
            "ticks": ""
           }
          },
          "title": {
           "x": 0.05
          },
          "xaxis": {
           "automargin": true,
           "gridcolor": "white",
           "linecolor": "white",
           "ticks": "",
           "title": {
            "standoff": 15
           },
           "zerolinecolor": "white",
           "zerolinewidth": 2
          },
          "yaxis": {
           "automargin": true,
           "gridcolor": "white",
           "linecolor": "white",
           "ticks": "",
           "title": {
            "standoff": 15
           },
           "zerolinecolor": "white",
           "zerolinewidth": 2
          }
         }
        },
        "title": {
         "text": "no usable ace"
        },
        "width": 700
       }
      }
     },
     "metadata": {},
     "output_type": "display_data"
    }
   ],
   "source": [
    "fig = go.Figure(\n",
    "    data=[\n",
    "        go.Mesh3d(\n",
    "            x=[v[0][0] for v in V if v[0][2] % 2 == 0],\n",
    "            y=[v[0][1] for v in V if v[0][2] % 2 == 0],\n",
    "            z=[v[1] for v in V if v[0][2] % 2 == 0],\n",
    "            opacity=0.5,\n",
    "            color=\"rgba(244,22,100,0.6)\",\n",
    "        )\n",
    "    ]\n",
    ")\n",
    "\n",
    "fig.update_layout(\n",
    "    title=\"no usable ace\",\n",
    "    scene=dict(\n",
    "        xaxis=dict(\n",
    "            nticks=4,\n",
    "            title=\"my sum\",\n",
    "            range=[10, 25],\n",
    "        ),\n",
    "        yaxis=dict(\n",
    "            title=\"dealer show\",\n",
    "            nticks=4,\n",
    "            range=[0, 12],\n",
    "        ),\n",
    "        zaxis=dict(\n",
    "            title=\"state value\",\n",
    "            nticks=4,\n",
    "            range=[-1.2, 1.2],\n",
    "        ),\n",
    "    ),\n",
    "    width=700,\n",
    ")\n",
    "\n",
    "fig.show()\n"
   ]
  },
  {
   "cell_type": "code",
   "execution_count": 13,
   "metadata": {},
   "outputs": [
    {
     "data": {
      "application/vnd.plotly.v1+json": {
       "config": {
        "plotlyServerURL": "https://plot.ly"
       },
       "data": [
        {
         "color": "rgba(244,22,100,0.6)",
         "opacity": 0.5,
         "type": "mesh3d",
         "x": [
          12,
          12,
          12,
          12,
          12,
          12,
          12,
          12,
          12,
          12,
          13,
          13,
          13,
          13,
          13,
          13,
          13,
          13,
          13,
          13,
          14,
          14,
          14,
          14,
          14,
          14,
          14,
          14,
          14,
          14,
          15,
          15,
          15,
          15,
          15,
          15,
          15,
          15,
          15,
          15,
          16,
          16,
          16,
          16,
          16,
          16,
          16,
          16,
          16,
          16,
          17,
          17,
          17,
          17,
          17,
          17,
          17,
          17,
          17,
          17,
          18,
          18,
          18,
          18,
          18,
          18,
          18,
          18,
          18,
          18,
          19,
          19,
          19,
          19,
          19,
          19,
          19,
          19,
          19,
          19,
          20,
          20,
          20,
          20,
          20,
          20,
          20,
          20,
          20,
          20,
          21,
          21,
          21,
          21,
          21,
          21,
          21,
          21,
          21,
          21
         ],
         "y": [
          1,
          2,
          3,
          4,
          5,
          6,
          7,
          8,
          9,
          10,
          1,
          2,
          3,
          4,
          5,
          6,
          7,
          8,
          9,
          10,
          1,
          2,
          3,
          4,
          5,
          6,
          7,
          8,
          9,
          10,
          1,
          2,
          3,
          4,
          5,
          6,
          7,
          8,
          9,
          10,
          1,
          2,
          3,
          4,
          5,
          6,
          7,
          8,
          9,
          10,
          1,
          2,
          3,
          4,
          5,
          6,
          7,
          8,
          9,
          10,
          1,
          2,
          3,
          4,
          5,
          6,
          7,
          8,
          9,
          10,
          1,
          2,
          3,
          4,
          5,
          6,
          7,
          8,
          9,
          10,
          1,
          2,
          3,
          4,
          5,
          6,
          7,
          8,
          9,
          10,
          1,
          2,
          3,
          4,
          5,
          6,
          7,
          8,
          9,
          10
         ],
         "z": [
          -0.5361702127659574,
          -0.05263157894736842,
          -0.13618677042801555,
          0.017241379310344827,
          -0.004273504273504274,
          -0.07207207207207207,
          -0.14937759336099585,
          -0.1415525114155251,
          -0.2578125,
          -0.3487881981032666,
          -0.5534979423868313,
          -0.0408997955010225,
          -0.08786610878661087,
          -0.100990099009901,
          -0.1090146750524109,
          -0.004246284501061571,
          -0.12317327766179541,
          -0.2651821862348178,
          -0.23417721518987342,
          -0.3553038105046344,
          -0.5536105032822757,
          -0.19047619047619047,
          -0.11368015414258188,
          -0.09606986899563319,
          -0.1,
          -0.10352422907488987,
          -0.2199074074074074,
          -0.23828920570264767,
          -0.3089430894308943,
          -0.37714863498483314,
          -0.49609375,
          -0.14563106796116504,
          -0.102,
          0.02111324376199616,
          -0.007677543186180422,
          0.09496124031007752,
          -0.16363636363636364,
          -0.2621359223300971,
          -0.2571428571428571,
          -0.3561097256857855,
          -0.5214953271028038,
          -0.19746376811594202,
          -0.13246268656716417,
          -0.03155818540433925,
          -0.09090909090909091,
          -0.05385996409335727,
          -0.20786516853932585,
          -0.24816176470588236,
          -0.3395176252319109,
          -0.39952830188679245,
          -0.47654784240150094,
          0.022304832713754646,
          -0.08976660682226212,
          -0.06842105263157895,
          -0.008992805755395683,
          0.08,
          0,
          -0.2966252220248668,
          -0.27207207207207207,
          -0.3792645104120514,
          -0.41415929203539825,
          0.03756708407871199,
          0.09981515711645102,
          0.1564625850340136,
          0.2,
          0.22671353251318102,
          0.3081081081081081,
          0.08838821490467938,
          -0.10396039603960396,
          -0.2525386313465784,
          -0.13747954173486088,
          0.2739059967585089,
          0.32062391681109187,
          0.3747841105354059,
          0.33063209076175043,
          0.38528896672504376,
          0.46105919003115264,
          0.4083769633507853,
          0.1449511400651466,
          -0.035876288659793816,
          0.037209302325581395,
          0.4714946070878274,
          0.46317512274959083,
          0.4943089430894309,
          0.4683954619124797,
          0.5291181364392679,
          0.5869565217391305,
          0.5658536585365853,
          0.5229508196721312,
          0.2782608695652174,
          0.34226190476190477,
          0.633445136559655,
          0.6442762535477767,
          0.6618453865336659,
          0.6556627729812088,
          0.695046439628483,
          0.679078882900539,
          0.6463840399002494,
          0.6060747663551402,
          0.5191831683168316
         ]
        }
       ],
       "layout": {
        "scene": {
         "xaxis": {
          "nticks": 4,
          "range": [
           10,
           25
          ],
          "title": {
           "text": "my sum"
          }
         },
         "yaxis": {
          "nticks": 4,
          "range": [
           0,
           12
          ],
          "title": {
           "text": "dealer show"
          }
         },
         "zaxis": {
          "nticks": 4,
          "range": [
           -1.2,
           1.2
          ],
          "title": {
           "text": "state value"
          }
         }
        },
        "template": {
         "data": {
          "bar": [
           {
            "error_x": {
             "color": "#2a3f5f"
            },
            "error_y": {
             "color": "#2a3f5f"
            },
            "marker": {
             "line": {
              "color": "#E5ECF6",
              "width": 0.5
             },
             "pattern": {
              "fillmode": "overlay",
              "size": 10,
              "solidity": 0.2
             }
            },
            "type": "bar"
           }
          ],
          "barpolar": [
           {
            "marker": {
             "line": {
              "color": "#E5ECF6",
              "width": 0.5
             },
             "pattern": {
              "fillmode": "overlay",
              "size": 10,
              "solidity": 0.2
             }
            },
            "type": "barpolar"
           }
          ],
          "carpet": [
           {
            "aaxis": {
             "endlinecolor": "#2a3f5f",
             "gridcolor": "white",
             "linecolor": "white",
             "minorgridcolor": "white",
             "startlinecolor": "#2a3f5f"
            },
            "baxis": {
             "endlinecolor": "#2a3f5f",
             "gridcolor": "white",
             "linecolor": "white",
             "minorgridcolor": "white",
             "startlinecolor": "#2a3f5f"
            },
            "type": "carpet"
           }
          ],
          "choropleth": [
           {
            "colorbar": {
             "outlinewidth": 0,
             "ticks": ""
            },
            "type": "choropleth"
           }
          ],
          "contour": [
           {
            "colorbar": {
             "outlinewidth": 0,
             "ticks": ""
            },
            "colorscale": [
             [
              0,
              "#0d0887"
             ],
             [
              0.1111111111111111,
              "#46039f"
             ],
             [
              0.2222222222222222,
              "#7201a8"
             ],
             [
              0.3333333333333333,
              "#9c179e"
             ],
             [
              0.4444444444444444,
              "#bd3786"
             ],
             [
              0.5555555555555556,
              "#d8576b"
             ],
             [
              0.6666666666666666,
              "#ed7953"
             ],
             [
              0.7777777777777778,
              "#fb9f3a"
             ],
             [
              0.8888888888888888,
              "#fdca26"
             ],
             [
              1,
              "#f0f921"
             ]
            ],
            "type": "contour"
           }
          ],
          "contourcarpet": [
           {
            "colorbar": {
             "outlinewidth": 0,
             "ticks": ""
            },
            "type": "contourcarpet"
           }
          ],
          "heatmap": [
           {
            "colorbar": {
             "outlinewidth": 0,
             "ticks": ""
            },
            "colorscale": [
             [
              0,
              "#0d0887"
             ],
             [
              0.1111111111111111,
              "#46039f"
             ],
             [
              0.2222222222222222,
              "#7201a8"
             ],
             [
              0.3333333333333333,
              "#9c179e"
             ],
             [
              0.4444444444444444,
              "#bd3786"
             ],
             [
              0.5555555555555556,
              "#d8576b"
             ],
             [
              0.6666666666666666,
              "#ed7953"
             ],
             [
              0.7777777777777778,
              "#fb9f3a"
             ],
             [
              0.8888888888888888,
              "#fdca26"
             ],
             [
              1,
              "#f0f921"
             ]
            ],
            "type": "heatmap"
           }
          ],
          "heatmapgl": [
           {
            "colorbar": {
             "outlinewidth": 0,
             "ticks": ""
            },
            "colorscale": [
             [
              0,
              "#0d0887"
             ],
             [
              0.1111111111111111,
              "#46039f"
             ],
             [
              0.2222222222222222,
              "#7201a8"
             ],
             [
              0.3333333333333333,
              "#9c179e"
             ],
             [
              0.4444444444444444,
              "#bd3786"
             ],
             [
              0.5555555555555556,
              "#d8576b"
             ],
             [
              0.6666666666666666,
              "#ed7953"
             ],
             [
              0.7777777777777778,
              "#fb9f3a"
             ],
             [
              0.8888888888888888,
              "#fdca26"
             ],
             [
              1,
              "#f0f921"
             ]
            ],
            "type": "heatmapgl"
           }
          ],
          "histogram": [
           {
            "marker": {
             "pattern": {
              "fillmode": "overlay",
              "size": 10,
              "solidity": 0.2
             }
            },
            "type": "histogram"
           }
          ],
          "histogram2d": [
           {
            "colorbar": {
             "outlinewidth": 0,
             "ticks": ""
            },
            "colorscale": [
             [
              0,
              "#0d0887"
             ],
             [
              0.1111111111111111,
              "#46039f"
             ],
             [
              0.2222222222222222,
              "#7201a8"
             ],
             [
              0.3333333333333333,
              "#9c179e"
             ],
             [
              0.4444444444444444,
              "#bd3786"
             ],
             [
              0.5555555555555556,
              "#d8576b"
             ],
             [
              0.6666666666666666,
              "#ed7953"
             ],
             [
              0.7777777777777778,
              "#fb9f3a"
             ],
             [
              0.8888888888888888,
              "#fdca26"
             ],
             [
              1,
              "#f0f921"
             ]
            ],
            "type": "histogram2d"
           }
          ],
          "histogram2dcontour": [
           {
            "colorbar": {
             "outlinewidth": 0,
             "ticks": ""
            },
            "colorscale": [
             [
              0,
              "#0d0887"
             ],
             [
              0.1111111111111111,
              "#46039f"
             ],
             [
              0.2222222222222222,
              "#7201a8"
             ],
             [
              0.3333333333333333,
              "#9c179e"
             ],
             [
              0.4444444444444444,
              "#bd3786"
             ],
             [
              0.5555555555555556,
              "#d8576b"
             ],
             [
              0.6666666666666666,
              "#ed7953"
             ],
             [
              0.7777777777777778,
              "#fb9f3a"
             ],
             [
              0.8888888888888888,
              "#fdca26"
             ],
             [
              1,
              "#f0f921"
             ]
            ],
            "type": "histogram2dcontour"
           }
          ],
          "mesh3d": [
           {
            "colorbar": {
             "outlinewidth": 0,
             "ticks": ""
            },
            "type": "mesh3d"
           }
          ],
          "parcoords": [
           {
            "line": {
             "colorbar": {
              "outlinewidth": 0,
              "ticks": ""
             }
            },
            "type": "parcoords"
           }
          ],
          "pie": [
           {
            "automargin": true,
            "type": "pie"
           }
          ],
          "scatter": [
           {
            "marker": {
             "colorbar": {
              "outlinewidth": 0,
              "ticks": ""
             }
            },
            "type": "scatter"
           }
          ],
          "scatter3d": [
           {
            "line": {
             "colorbar": {
              "outlinewidth": 0,
              "ticks": ""
             }
            },
            "marker": {
             "colorbar": {
              "outlinewidth": 0,
              "ticks": ""
             }
            },
            "type": "scatter3d"
           }
          ],
          "scattercarpet": [
           {
            "marker": {
             "colorbar": {
              "outlinewidth": 0,
              "ticks": ""
             }
            },
            "type": "scattercarpet"
           }
          ],
          "scattergeo": [
           {
            "marker": {
             "colorbar": {
              "outlinewidth": 0,
              "ticks": ""
             }
            },
            "type": "scattergeo"
           }
          ],
          "scattergl": [
           {
            "marker": {
             "colorbar": {
              "outlinewidth": 0,
              "ticks": ""
             }
            },
            "type": "scattergl"
           }
          ],
          "scattermapbox": [
           {
            "marker": {
             "colorbar": {
              "outlinewidth": 0,
              "ticks": ""
             }
            },
            "type": "scattermapbox"
           }
          ],
          "scatterpolar": [
           {
            "marker": {
             "colorbar": {
              "outlinewidth": 0,
              "ticks": ""
             }
            },
            "type": "scatterpolar"
           }
          ],
          "scatterpolargl": [
           {
            "marker": {
             "colorbar": {
              "outlinewidth": 0,
              "ticks": ""
             }
            },
            "type": "scatterpolargl"
           }
          ],
          "scatterternary": [
           {
            "marker": {
             "colorbar": {
              "outlinewidth": 0,
              "ticks": ""
             }
            },
            "type": "scatterternary"
           }
          ],
          "surface": [
           {
            "colorbar": {
             "outlinewidth": 0,
             "ticks": ""
            },
            "colorscale": [
             [
              0,
              "#0d0887"
             ],
             [
              0.1111111111111111,
              "#46039f"
             ],
             [
              0.2222222222222222,
              "#7201a8"
             ],
             [
              0.3333333333333333,
              "#9c179e"
             ],
             [
              0.4444444444444444,
              "#bd3786"
             ],
             [
              0.5555555555555556,
              "#d8576b"
             ],
             [
              0.6666666666666666,
              "#ed7953"
             ],
             [
              0.7777777777777778,
              "#fb9f3a"
             ],
             [
              0.8888888888888888,
              "#fdca26"
             ],
             [
              1,
              "#f0f921"
             ]
            ],
            "type": "surface"
           }
          ],
          "table": [
           {
            "cells": {
             "fill": {
              "color": "#EBF0F8"
             },
             "line": {
              "color": "white"
             }
            },
            "header": {
             "fill": {
              "color": "#C8D4E3"
             },
             "line": {
              "color": "white"
             }
            },
            "type": "table"
           }
          ]
         },
         "layout": {
          "annotationdefaults": {
           "arrowcolor": "#2a3f5f",
           "arrowhead": 0,
           "arrowwidth": 1
          },
          "autotypenumbers": "strict",
          "coloraxis": {
           "colorbar": {
            "outlinewidth": 0,
            "ticks": ""
           }
          },
          "colorscale": {
           "diverging": [
            [
             0,
             "#8e0152"
            ],
            [
             0.1,
             "#c51b7d"
            ],
            [
             0.2,
             "#de77ae"
            ],
            [
             0.3,
             "#f1b6da"
            ],
            [
             0.4,
             "#fde0ef"
            ],
            [
             0.5,
             "#f7f7f7"
            ],
            [
             0.6,
             "#e6f5d0"
            ],
            [
             0.7,
             "#b8e186"
            ],
            [
             0.8,
             "#7fbc41"
            ],
            [
             0.9,
             "#4d9221"
            ],
            [
             1,
             "#276419"
            ]
           ],
           "sequential": [
            [
             0,
             "#0d0887"
            ],
            [
             0.1111111111111111,
             "#46039f"
            ],
            [
             0.2222222222222222,
             "#7201a8"
            ],
            [
             0.3333333333333333,
             "#9c179e"
            ],
            [
             0.4444444444444444,
             "#bd3786"
            ],
            [
             0.5555555555555556,
             "#d8576b"
            ],
            [
             0.6666666666666666,
             "#ed7953"
            ],
            [
             0.7777777777777778,
             "#fb9f3a"
            ],
            [
             0.8888888888888888,
             "#fdca26"
            ],
            [
             1,
             "#f0f921"
            ]
           ],
           "sequentialminus": [
            [
             0,
             "#0d0887"
            ],
            [
             0.1111111111111111,
             "#46039f"
            ],
            [
             0.2222222222222222,
             "#7201a8"
            ],
            [
             0.3333333333333333,
             "#9c179e"
            ],
            [
             0.4444444444444444,
             "#bd3786"
            ],
            [
             0.5555555555555556,
             "#d8576b"
            ],
            [
             0.6666666666666666,
             "#ed7953"
            ],
            [
             0.7777777777777778,
             "#fb9f3a"
            ],
            [
             0.8888888888888888,
             "#fdca26"
            ],
            [
             1,
             "#f0f921"
            ]
           ]
          },
          "colorway": [
           "#636efa",
           "#EF553B",
           "#00cc96",
           "#ab63fa",
           "#FFA15A",
           "#19d3f3",
           "#FF6692",
           "#B6E880",
           "#FF97FF",
           "#FECB52"
          ],
          "font": {
           "color": "#2a3f5f"
          },
          "geo": {
           "bgcolor": "white",
           "lakecolor": "white",
           "landcolor": "#E5ECF6",
           "showlakes": true,
           "showland": true,
           "subunitcolor": "white"
          },
          "hoverlabel": {
           "align": "left"
          },
          "hovermode": "closest",
          "mapbox": {
           "style": "light"
          },
          "paper_bgcolor": "white",
          "plot_bgcolor": "#E5ECF6",
          "polar": {
           "angularaxis": {
            "gridcolor": "white",
            "linecolor": "white",
            "ticks": ""
           },
           "bgcolor": "#E5ECF6",
           "radialaxis": {
            "gridcolor": "white",
            "linecolor": "white",
            "ticks": ""
           }
          },
          "scene": {
           "xaxis": {
            "backgroundcolor": "#E5ECF6",
            "gridcolor": "white",
            "gridwidth": 2,
            "linecolor": "white",
            "showbackground": true,
            "ticks": "",
            "zerolinecolor": "white"
           },
           "yaxis": {
            "backgroundcolor": "#E5ECF6",
            "gridcolor": "white",
            "gridwidth": 2,
            "linecolor": "white",
            "showbackground": true,
            "ticks": "",
            "zerolinecolor": "white"
           },
           "zaxis": {
            "backgroundcolor": "#E5ECF6",
            "gridcolor": "white",
            "gridwidth": 2,
            "linecolor": "white",
            "showbackground": true,
            "ticks": "",
            "zerolinecolor": "white"
           }
          },
          "shapedefaults": {
           "line": {
            "color": "#2a3f5f"
           }
          },
          "ternary": {
           "aaxis": {
            "gridcolor": "white",
            "linecolor": "white",
            "ticks": ""
           },
           "baxis": {
            "gridcolor": "white",
            "linecolor": "white",
            "ticks": ""
           },
           "bgcolor": "#E5ECF6",
           "caxis": {
            "gridcolor": "white",
            "linecolor": "white",
            "ticks": ""
           }
          },
          "title": {
           "x": 0.05
          },
          "xaxis": {
           "automargin": true,
           "gridcolor": "white",
           "linecolor": "white",
           "ticks": "",
           "title": {
            "standoff": 15
           },
           "zerolinecolor": "white",
           "zerolinewidth": 2
          },
          "yaxis": {
           "automargin": true,
           "gridcolor": "white",
           "linecolor": "white",
           "ticks": "",
           "title": {
            "standoff": 15
           },
           "zerolinecolor": "white",
           "zerolinewidth": 2
          }
         }
        },
        "title": {
         "text": "has usable ace"
        },
        "width": 700
       }
      }
     },
     "metadata": {},
     "output_type": "display_data"
    }
   ],
   "source": [
    "fig = go.Figure(\n",
    "    data=[\n",
    "        go.Mesh3d(\n",
    "            x=[v[0][0] for v in V if v[0][2] % 2 == 1],\n",
    "            y=[v[0][1] for v in V if v[0][2] % 2 == 1],\n",
    "            z=[v[1] for v in V if v[0][2] % 2 == 1],\n",
    "            opacity=0.5,\n",
    "            color=\"rgba(244,22,100,0.6)\",\n",
    "        )\n",
    "    ]\n",
    ")\n",
    "\n",
    "fig.update_layout(\n",
    "    title=\"has usable ace\",\n",
    "    scene=dict(\n",
    "        xaxis=dict(\n",
    "            nticks=4,\n",
    "            title=\"my sum\",\n",
    "            range=[10, 25],\n",
    "        ),\n",
    "        yaxis=dict(\n",
    "            title=\"dealer show\",\n",
    "            nticks=4,\n",
    "            range=[0, 12],\n",
    "        ),\n",
    "        zaxis=dict(\n",
    "            title=\"state value\",\n",
    "            nticks=4,\n",
    "            range=[-1.2, 1.2],\n",
    "        ),\n",
    "    ),\n",
    "    width=700,\n",
    ")\n",
    "\n",
    "fig.show()\n"
   ]
  },
  {
   "cell_type": "code",
   "execution_count": 14,
   "metadata": {},
   "outputs": [
    {
     "data": {
      "text/plain": [
       "0"
      ]
     },
     "execution_count": 14,
     "metadata": {},
     "output_type": "execute_result"
    }
   ],
   "source": [
    "len([v for v in agent.Q if math.isnan(v)])\n"
   ]
  },
  {
   "cell_type": "code",
   "execution_count": 16,
   "metadata": {},
   "outputs": [
    {
     "data": {
      "text/plain": [
       "[1,\n",
       " 1,\n",
       " 1,\n",
       " 1,\n",
       " 0,\n",
       " 1,\n",
       " 1,\n",
       " 1,\n",
       " 0,\n",
       " 1,\n",
       " 1,\n",
       " 1,\n",
       " 1,\n",
       " 1,\n",
       " 1,\n",
       " 1,\n",
       " 1,\n",
       " 1,\n",
       " 1,\n",
       " 1,\n",
       " 1,\n",
       " 1,\n",
       " 0,\n",
       " 1,\n",
       " 0,\n",
       " 1,\n",
       " 0,\n",
       " 1,\n",
       " 0,\n",
       " 1,\n",
       " 0,\n",
       " 1,\n",
       " 1,\n",
       " 1,\n",
       " 1,\n",
       " 1,\n",
       " 1,\n",
       " 1,\n",
       " 1,\n",
       " 1,\n",
       " 1,\n",
       " 1,\n",
       " 0,\n",
       " 1,\n",
       " 0,\n",
       " 1,\n",
       " 0,\n",
       " 1,\n",
       " 0,\n",
       " 1,\n",
       " 0,\n",
       " 1,\n",
       " 1,\n",
       " 1,\n",
       " 1,\n",
       " 1,\n",
       " 1,\n",
       " 1,\n",
       " 1,\n",
       " 1,\n",
       " 1,\n",
       " 1,\n",
       " 0,\n",
       " 1,\n",
       " 0,\n",
       " 1,\n",
       " 0,\n",
       " 1,\n",
       " 0,\n",
       " 1,\n",
       " 0,\n",
       " 1,\n",
       " 1,\n",
       " 1,\n",
       " 1,\n",
       " 1,\n",
       " 1,\n",
       " 1,\n",
       " 1,\n",
       " 1,\n",
       " 1,\n",
       " 1,\n",
       " 0,\n",
       " 1,\n",
       " 0,\n",
       " 1,\n",
       " 0,\n",
       " 1,\n",
       " 0,\n",
       " 1,\n",
       " 0,\n",
       " 1,\n",
       " 1,\n",
       " 1,\n",
       " 1,\n",
       " 1,\n",
       " 1,\n",
       " 1,\n",
       " 1,\n",
       " 1,\n",
       " 0,\n",
       " 1,\n",
       " 0,\n",
       " 1,\n",
       " 0,\n",
       " 1,\n",
       " 0,\n",
       " 1,\n",
       " 0,\n",
       " 0,\n",
       " 0,\n",
       " 1,\n",
       " 0,\n",
       " 1,\n",
       " 0,\n",
       " 1,\n",
       " 0,\n",
       " 1,\n",
       " 0,\n",
       " 1,\n",
       " 0,\n",
       " 0,\n",
       " 0,\n",
       " 0,\n",
       " 0,\n",
       " 0,\n",
       " 0,\n",
       " 0,\n",
       " 0,\n",
       " 0,\n",
       " 0,\n",
       " 0,\n",
       " 0,\n",
       " 0,\n",
       " 0,\n",
       " 0,\n",
       " 0,\n",
       " 1,\n",
       " 0,\n",
       " 0,\n",
       " 0,\n",
       " 0,\n",
       " 0,\n",
       " 0,\n",
       " 0,\n",
       " 0,\n",
       " 0,\n",
       " 0,\n",
       " 0,\n",
       " 0,\n",
       " 0,\n",
       " 0,\n",
       " 0,\n",
       " 0,\n",
       " 0,\n",
       " 0,\n",
       " 0,\n",
       " 0,\n",
       " 0,\n",
       " 0,\n",
       " 0,\n",
       " 0,\n",
       " 0,\n",
       " 0,\n",
       " 0,\n",
       " 0,\n",
       " 0,\n",
       " 0,\n",
       " 0,\n",
       " 0,\n",
       " 0,\n",
       " 0,\n",
       " 0,\n",
       " 0,\n",
       " 0,\n",
       " 0,\n",
       " 0,\n",
       " 0,\n",
       " 0,\n",
       " 0,\n",
       " 0,\n",
       " 0,\n",
       " 0,\n",
       " 0,\n",
       " 0,\n",
       " 0,\n",
       " 0,\n",
       " 0,\n",
       " 0,\n",
       " 0,\n",
       " 0,\n",
       " 0,\n",
       " 0,\n",
       " 0,\n",
       " 0,\n",
       " 0,\n",
       " 0,\n",
       " 0,\n",
       " 0,\n",
       " 0]"
      ]
     },
     "execution_count": 16,
     "metadata": {},
     "output_type": "execute_result"
    }
   ],
   "source": [
    "agent.pai\n"
   ]
  }
 ],
 "metadata": {
  "interpreter": {
   "hash": "916dbcbb3f70747c44a77c7bcd40155683ae19c65e1c03b4aa3499c5328201f1"
  },
  "kernelspec": {
   "display_name": "Python 3.8.10 64-bit",
   "language": "python",
   "name": "python3"
  },
  "language_info": {
   "codemirror_mode": {
    "name": "ipython",
    "version": 3
   },
   "file_extension": ".py",
   "mimetype": "text/x-python",
   "name": "python",
   "nbconvert_exporter": "python",
   "pygments_lexer": "ipython3",
   "version": "3.8.9"
  },
  "orig_nbformat": 4
 },
 "nbformat": 4,
 "nbformat_minor": 2
}

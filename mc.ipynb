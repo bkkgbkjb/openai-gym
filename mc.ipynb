{
 "cells": [
  {
   "cell_type": "code",
   "execution_count": 89,
   "metadata": {},
   "outputs": [],
   "source": [
    "import numpy as np\n",
    "# from gym.envs.toy_text import BlackjackEnv\n",
    "import gym\n",
    "from typing import Literal, List, Tuple\n",
    "import plotly.graph_objects as go\n",
    "from copy import deepcopy\n",
    "import math"
   ]
  },
  {
   "cell_type": "code",
   "execution_count": 90,
   "metadata": {},
   "outputs": [],
   "source": [
    "# env = BlackjackEnv()\n",
    "np.random.seed(0)\n",
    "env = gym.make('Blackjack-v1')\n",
    "env.seed(0)\n",
    "\n",
    "obs = env.reset()\n"
   ]
  },
  {
   "cell_type": "code",
   "execution_count": 91,
   "metadata": {},
   "outputs": [
    {
     "data": {
      "text/plain": [
       "(18, 1, False)"
      ]
     },
     "execution_count": 91,
     "metadata": {},
     "output_type": "execute_result"
    }
   ],
   "source": [
    "obs"
   ]
  },
  {
   "cell_type": "code",
   "execution_count": 92,
   "metadata": {},
   "outputs": [],
   "source": [
    "MySum = Literal[12, 13, 14, 15, 16, 17, 18, 19, 20, 21]\n",
    "DealerShowing = Literal[1, 2, 3, 4, 5, 6, 7, 8, 9, 10]\n",
    "UsableAce = bool\n",
    "\n",
    "Observation = Tuple[MySum, DealerShowing, UsableAce]\n",
    "\n",
    "Values = List[float]\n",
    "Action_Values = List[float]\n",
    "\n",
    "State = Tuple[MySum, DealerShowing, UsableAce]\n",
    "Action = Literal[0, 1]\n",
    "Reward = Literal[-1, 0, 1]\n",
    "Policy = List[Action]\n",
    "Step = Tuple[State, Action, Reward]\n",
    "Episode = List[Step]\n",
    "\n",
    "TOTAL_NUM_OF_STATES = 200\n",
    "TOTAL_NUM_OF_STATE_ACTION_PAIR = 400\n"
   ]
  },
  {
   "cell_type": "code",
   "execution_count": 93,
   "metadata": {},
   "outputs": [],
   "source": [
    "def get_state_index(s: State) -> int:\n",
    "    my_sum, dealer_show, usable_ace = s\n",
    "    idx = int(usable_ace) + (dealer_show - 1) * 2 + (my_sum - 12) * 20\n",
    "    assert idx >= 0, \"idx is illegal\"\n",
    "    return idx\n",
    "\n",
    "\n",
    "def get_state_from_index(i: int) -> State:\n",
    "    my_sum = i // 20 + 12\n",
    "    dealer_show = (i % 20) // 2 + 1\n",
    "    usable_ace = i % 20 % 2\n",
    "\n",
    "    return (my_sum, dealer_show, usable_ace)\n",
    "\n",
    "\n",
    "def get_state_index_with_action(s: State, a: Action) -> int:\n",
    "    my_sum, dealer_show, usable_ace = s\n",
    "    idx = a + (usable_ace) * 2 + (dealer_show - 1) * 4 + (my_sum - 12) * 40\n",
    "    assert idx >= 0, \"idx is illegal\"\n",
    "    return idx\n",
    "\n",
    "\n",
    "def get_state_from_index_with_action(i: int) -> Tuple[State, Action]:\n",
    "    my_sum = i // 40 + 12\n",
    "    dealer_show = (i % 40) // 4 + 1\n",
    "    usable_ace = (i % 40 % 4) // 2\n",
    "    act = i % 40 % 4 % 2\n",
    "    return ((my_sum, dealer_show, usable_ace), act)\n"
   ]
  },
  {
   "cell_type": "code",
   "execution_count": 94,
   "metadata": {},
   "outputs": [],
   "source": [
    "class Agent:\n",
    "    def __init__(self, env: gym.Env, gamma: float):\n",
    "        self.env = env\n",
    "        self.gamma = gamma\n",
    "\n",
    "        self.clear()\n",
    "\n",
    "    def close(self):\n",
    "        self.env.close()\n",
    "\n",
    "    def step(self, obs: Observation, random_act=False) -> Tuple[Observation, bool]:\n",
    "        assert not self.end, \"cannot step on a ended agent, reset it first\"\n",
    "        (my_sum, dealer_showup, usable_ace) = obs\n",
    "\n",
    "        assert my_sum <= 21, f\"bad sum appears in step: {my_sum}\"\n",
    "\n",
    "        act = (\n",
    "            self.take_action((my_sum, dealer_showup, usable_ace))\n",
    "            if not random_act\n",
    "            else self.take_random_action()\n",
    "        )\n",
    "\n",
    "        (obs, rwd, done, info) = self.env.step(act)\n",
    "\n",
    "        self.current_episode.append(((my_sum, dealer_showup, usable_ace), act, rwd))\n",
    "\n",
    "        (my_sum, dealer_showup, usable_ace) = obs\n",
    "\n",
    "        if done:\n",
    "            self.win_times += 1 if rwd > 0 else 0\n",
    "            self.evaluate()\n",
    "            self.episodes.append(self.current_episode)\n",
    "            self.current_episode = []\n",
    "            self.end = True\n",
    "\n",
    "        return ((my_sum, dealer_showup, usable_ace), done)\n",
    "\n",
    "    def reset(self) -> Observation:\n",
    "        assert (\n",
    "            len(self.current_episode) == 0\n",
    "        ), \"when reset, current episode has some dirty elements, step it first or clear\"\n",
    "\n",
    "        # self.current_episode = []\n",
    "        self.end = False\n",
    "\n",
    "        while True:\n",
    "            (my_sum, dealer_showup, usable_ace) = self.env.reset()\n",
    "            assert my_sum <= 21, f\"too large sum appears in reset: {my_sum}\"\n",
    "            if my_sum < 12 or my_sum == 21:\n",
    "                continue\n",
    "\n",
    "            assert my_sum >= 12, f\"too small sum appears in reset: {my_sum}\"\n",
    "            assert my_sum == 12, f\"no meaning sum appears in reset: {my_sum}\"\n",
    "\n",
    "            return (my_sum, dealer_showup, usable_ace)\n",
    "\n",
    "    def clear(self):\n",
    "        self.current_episode = []\n",
    "        self.episodes = [[] for _ in range(TOTAL_NUM_OF_STATES)]\n",
    "\n",
    "        self.Q = [float(\"nan\") for _ in range(TOTAL_NUM_OF_STATE_ACTION_PAIR)]\n",
    "        self.q_returns = [[] for _ in range(TOTAL_NUM_OF_STATE_ACTION_PAIR)]\n",
    "\n",
    "        self.pai = [\n",
    "            0 if get_state_from_index(i)[0] >= 20 else 1\n",
    "            for i in range(TOTAL_NUM_OF_STATES)\n",
    "        ]\n",
    "\n",
    "        (my_sum, dealer_showup, usable_ace) = self.env.reset()\n",
    "        assert my_sum <= 21, f\"bad sum appears in init state: {my_sum}\"\n",
    "\n",
    "        self.returns = [[] for _ in range(TOTAL_NUM_OF_STATES)]\n",
    "        self.V = [float(\"nan\") for _ in range(TOTAL_NUM_OF_STATES)]\n",
    "        self.win_times = 0\n",
    "        self.end = True\n",
    "\n",
    "    def take_action(self, s: State) -> Literal[0, 1]:\n",
    "        my_sum, deal_show, usable_ace = s\n",
    "        assert my_sum <= 21, f\"bad my_sum feed into agent: {my_sum}\"\n",
    "\n",
    "        new_act = self.pai[get_state_index((my_sum, deal_show, usable_ace))]\n",
    "        # old_act = 0 if my_sum == 20 or my_sum == 21 else 1\n",
    "\n",
    "        # assert old_act == new_act, \"act is not same\"\n",
    "        return new_act\n",
    "\n",
    "    def take_random_action(self) -> Literal[0, 1]:\n",
    "        return np.random.choice([0, 1])\n",
    "\n",
    "    def state_exists(self, s: State, ls: List[State]):\n",
    "        for _s in ls:\n",
    "            if s[0] == _s[0] and s[1] == _s[1] and s[2] == _s[2]:\n",
    "                return True\n",
    "\n",
    "        return False\n",
    "\n",
    "    def evaluate(self):\n",
    "        episode = self.current_episode\n",
    "\n",
    "        G = 0\n",
    "        l = len(episode)\n",
    "        for i, v in enumerate(reversed(episode)):\n",
    "            state, action, reward = v\n",
    "            G = self.gamma * G + reward\n",
    "            if not self.state_exists(state, episode[: l - i - 1]):\n",
    "                idx = get_state_index(state)\n",
    "                self.returns[idx].append(G)\n",
    "                self.V[idx] = np.mean(self.returns[idx])\n",
    "\n",
    "    def control(\n",
    "        self,\n",
    "    ):\n",
    "        episode = self.current_episode\n",
    "\n",
    "        G = 0\n",
    "        l = len(episode)\n",
    "        for i, v in enumerate(reversed(episode)):\n",
    "            s, a, r = v\n",
    "            G = self.gamma * G + r\n",
    "\n",
    "            idx = get_state_index_with_action(s, a)\n",
    "\n",
    "            if not self.state_exists(s, episode[: l - i - 1]):\n",
    "                self.q_returns[idx].append(G)\n",
    "                self.Q[idx] = np.mean(self.q_returns[idx])\n",
    "                self.pai[idx] = np.argmax(\n",
    "                    [self.Q[get_state_index_with_action(s, a)] for a in [0, 1]]\n",
    "                )\n",
    "\n",
    "        # return (q, r, p)\n"
   ]
  },
  {
   "cell_type": "code",
   "execution_count": 95,
   "metadata": {},
   "outputs": [],
   "source": [
    "TOTAL_EPISODES = 100_000\n",
    "\n",
    "agent = Agent(env, 1)\n",
    "\n",
    "\n",
    "for i in range(TOTAL_EPISODES):\n",
    "    (my_sum, dealer_showup, usable_ace) = agent.reset()\n",
    "\n",
    "    while True:\n",
    "        (obs, done) = agent.step((my_sum, dealer_showup, usable_ace))\n",
    "\n",
    "        (my_sum, dealer_showup, usable_ace) = obs\n",
    "\n",
    "        if done:\n",
    "            break\n",
    "\n",
    "\n",
    "agent.close()\n"
   ]
  },
  {
   "cell_type": "code",
   "execution_count": 97,
   "metadata": {},
   "outputs": [
    {
     "name": "stdout",
     "output_type": "stream",
     "text": [
      "win: 29888\n",
      "win rate: 0.29888\n"
     ]
    }
   ],
   "source": [
    "# win_times = np.sum(np.fromiter((r[0] for r in result), dtype=\"int\"))\n",
    "print(f\"win: {agent.win_times}\")\n",
    "print(f\"win rate: {agent.win_times/TOTAL_EPISODES}\")\n"
   ]
  },
  {
   "cell_type": "code",
   "execution_count": 98,
   "metadata": {},
   "outputs": [],
   "source": [
    "(V, R) = (agent.V, agent.returns)\n"
   ]
  },
  {
   "cell_type": "code",
   "execution_count": 99,
   "metadata": {},
   "outputs": [],
   "source": [
    "for r in R:\n",
    "    assert len(r) > 0\n",
    "\n",
    "for v in V:\n",
    "    assert not math.isnan(v)\n"
   ]
  },
  {
   "cell_type": "code",
   "execution_count": 100,
   "metadata": {},
   "outputs": [],
   "source": [
    "V = [(get_state_from_index(i), v) for (i, v) in enumerate(V)]\n"
   ]
  },
  {
   "cell_type": "code",
   "execution_count": 101,
   "metadata": {},
   "outputs": [
    {
     "data": {
      "application/vnd.plotly.v1+json": {
       "config": {
        "plotlyServerURL": "https://plot.ly"
       },
       "data": [
        {
         "color": "rgba(244,22,100,0.6)",
         "opacity": 0.5,
         "type": "mesh3d",
         "x": [
          12,
          12,
          12,
          12,
          12,
          12,
          12,
          12,
          12,
          12,
          13,
          13,
          13,
          13,
          13,
          13,
          13,
          13,
          13,
          13,
          14,
          14,
          14,
          14,
          14,
          14,
          14,
          14,
          14,
          14,
          15,
          15,
          15,
          15,
          15,
          15,
          15,
          15,
          15,
          15,
          16,
          16,
          16,
          16,
          16,
          16,
          16,
          16,
          16,
          16,
          17,
          17,
          17,
          17,
          17,
          17,
          17,
          17,
          17,
          17,
          18,
          18,
          18,
          18,
          18,
          18,
          18,
          18,
          18,
          18,
          19,
          19,
          19,
          19,
          19,
          19,
          19,
          19,
          19,
          19,
          20,
          20,
          20,
          20,
          20,
          20,
          20,
          20,
          20,
          20,
          21,
          21,
          21,
          21,
          21,
          21,
          21,
          21,
          21,
          21
         ],
         "y": [
          1,
          2,
          3,
          4,
          5,
          6,
          7,
          8,
          9,
          10,
          1,
          2,
          3,
          4,
          5,
          6,
          7,
          8,
          9,
          10,
          1,
          2,
          3,
          4,
          5,
          6,
          7,
          8,
          9,
          10,
          1,
          2,
          3,
          4,
          5,
          6,
          7,
          8,
          9,
          10,
          1,
          2,
          3,
          4,
          5,
          6,
          7,
          8,
          9,
          10,
          1,
          2,
          3,
          4,
          5,
          6,
          7,
          8,
          9,
          10,
          1,
          2,
          3,
          4,
          5,
          6,
          7,
          8,
          9,
          10,
          1,
          2,
          3,
          4,
          5,
          6,
          7,
          8,
          9,
          10,
          1,
          2,
          3,
          4,
          5,
          6,
          7,
          8,
          9,
          10,
          1,
          2,
          3,
          4,
          5,
          6,
          7,
          8,
          9,
          10
         ],
         "z": [
          -0.6114101184068891,
          -0.5446808510638298,
          -0.5085427135678392,
          -0.5823950870010235,
          -0.5280172413793104,
          -0.5951115834218916,
          -0.5441478439425051,
          -0.5043227665706052,
          -0.5005117707267144,
          -0.574181626187962,
          -0.6563146997929606,
          -0.5553235908141962,
          -0.5375609756097561,
          -0.5987903225806451,
          -0.582741116751269,
          -0.5618199802176064,
          -0.5390781563126252,
          -0.5467091295116773,
          -0.5798403193612774,
          -0.58008008008008,
          -0.6739780658025922,
          -0.6190009794319294,
          -0.6198267564966313,
          -0.6143724696356275,
          -0.6319082377476538,
          -0.5916919959473151,
          -0.6017526777020448,
          -0.6107317073170732,
          -0.636094674556213,
          -0.6226932668329177,
          -0.6803118908382066,
          -0.6163141993957704,
          -0.6660137120470128,
          -0.6409001956947162,
          -0.6410767696909272,
          -0.6263208453410183,
          -0.6301239275500476,
          -0.5857284440039643,
          -0.6149369544131911,
          -0.6618669314796425,
          -0.7164790174002047,
          -0.6226034308779012,
          -0.6490891658676894,
          -0.6752730883813307,
          -0.6685446009389672,
          -0.6722276741903828,
          -0.6831314072693383,
          -0.6505538771399798,
          -0.6313320825515948,
          -0.6761418853255587,
          -0.7484787018255578,
          -0.6660359508041628,
          -0.7029787234042553,
          -0.6696606786427146,
          -0.6779026217228464,
          -0.6844143272023233,
          -0.676,
          -0.6361886429258903,
          -0.6822709163346613,
          -0.6789944404157602,
          -0.7718253968253969,
          -0.7070805043646945,
          -0.7176991150442478,
          -0.7259615384615384,
          -0.7217068645640075,
          -0.6807465618860511,
          -0.6835205992509363,
          -0.6706864564007421,
          -0.7070240295748613,
          -0.7273374466065496,
          -0.7885338345864662,
          -0.7332695984703633,
          -0.7468839884947267,
          -0.7671361502347418,
          -0.7269303201506592,
          -0.7312252964426877,
          -0.748824082784572,
          -0.7155255544840887,
          -0.7305848513902206,
          -0.7403327865010546,
          0.12942691564713457,
          0.6772315653298836,
          0.6653796653796654,
          0.6447876447876448,
          0.6772585669781932,
          0.6985294117647058,
          0.7850821744627055,
          0.8055198973042362,
          0.7577679137603044,
          0.43371335504885994,
          0.631578947368421,
          0.8575851393188855,
          0.8844984802431611,
          0.8729372937293729,
          0.8813008130081301,
          0.9035369774919614,
          0.9258620689655173,
          0.9327217125382263,
          0.9543147208121827,
          0.8954350370659383
         ]
        }
       ],
       "layout": {
        "scene": {
         "xaxis": {
          "nticks": 4,
          "range": [
           10,
           25
          ],
          "title": {
           "text": "my sum"
          }
         },
         "yaxis": {
          "nticks": 4,
          "range": [
           0,
           12
          ],
          "title": {
           "text": "dealer show"
          }
         },
         "zaxis": {
          "nticks": 4,
          "range": [
           -1.2,
           1.2
          ],
          "title": {
           "text": "state value"
          }
         }
        },
        "template": {
         "data": {
          "bar": [
           {
            "error_x": {
             "color": "#2a3f5f"
            },
            "error_y": {
             "color": "#2a3f5f"
            },
            "marker": {
             "line": {
              "color": "#E5ECF6",
              "width": 0.5
             },
             "pattern": {
              "fillmode": "overlay",
              "size": 10,
              "solidity": 0.2
             }
            },
            "type": "bar"
           }
          ],
          "barpolar": [
           {
            "marker": {
             "line": {
              "color": "#E5ECF6",
              "width": 0.5
             },
             "pattern": {
              "fillmode": "overlay",
              "size": 10,
              "solidity": 0.2
             }
            },
            "type": "barpolar"
           }
          ],
          "carpet": [
           {
            "aaxis": {
             "endlinecolor": "#2a3f5f",
             "gridcolor": "white",
             "linecolor": "white",
             "minorgridcolor": "white",
             "startlinecolor": "#2a3f5f"
            },
            "baxis": {
             "endlinecolor": "#2a3f5f",
             "gridcolor": "white",
             "linecolor": "white",
             "minorgridcolor": "white",
             "startlinecolor": "#2a3f5f"
            },
            "type": "carpet"
           }
          ],
          "choropleth": [
           {
            "colorbar": {
             "outlinewidth": 0,
             "ticks": ""
            },
            "type": "choropleth"
           }
          ],
          "contour": [
           {
            "colorbar": {
             "outlinewidth": 0,
             "ticks": ""
            },
            "colorscale": [
             [
              0,
              "#0d0887"
             ],
             [
              0.1111111111111111,
              "#46039f"
             ],
             [
              0.2222222222222222,
              "#7201a8"
             ],
             [
              0.3333333333333333,
              "#9c179e"
             ],
             [
              0.4444444444444444,
              "#bd3786"
             ],
             [
              0.5555555555555556,
              "#d8576b"
             ],
             [
              0.6666666666666666,
              "#ed7953"
             ],
             [
              0.7777777777777778,
              "#fb9f3a"
             ],
             [
              0.8888888888888888,
              "#fdca26"
             ],
             [
              1,
              "#f0f921"
             ]
            ],
            "type": "contour"
           }
          ],
          "contourcarpet": [
           {
            "colorbar": {
             "outlinewidth": 0,
             "ticks": ""
            },
            "type": "contourcarpet"
           }
          ],
          "heatmap": [
           {
            "colorbar": {
             "outlinewidth": 0,
             "ticks": ""
            },
            "colorscale": [
             [
              0,
              "#0d0887"
             ],
             [
              0.1111111111111111,
              "#46039f"
             ],
             [
              0.2222222222222222,
              "#7201a8"
             ],
             [
              0.3333333333333333,
              "#9c179e"
             ],
             [
              0.4444444444444444,
              "#bd3786"
             ],
             [
              0.5555555555555556,
              "#d8576b"
             ],
             [
              0.6666666666666666,
              "#ed7953"
             ],
             [
              0.7777777777777778,
              "#fb9f3a"
             ],
             [
              0.8888888888888888,
              "#fdca26"
             ],
             [
              1,
              "#f0f921"
             ]
            ],
            "type": "heatmap"
           }
          ],
          "heatmapgl": [
           {
            "colorbar": {
             "outlinewidth": 0,
             "ticks": ""
            },
            "colorscale": [
             [
              0,
              "#0d0887"
             ],
             [
              0.1111111111111111,
              "#46039f"
             ],
             [
              0.2222222222222222,
              "#7201a8"
             ],
             [
              0.3333333333333333,
              "#9c179e"
             ],
             [
              0.4444444444444444,
              "#bd3786"
             ],
             [
              0.5555555555555556,
              "#d8576b"
             ],
             [
              0.6666666666666666,
              "#ed7953"
             ],
             [
              0.7777777777777778,
              "#fb9f3a"
             ],
             [
              0.8888888888888888,
              "#fdca26"
             ],
             [
              1,
              "#f0f921"
             ]
            ],
            "type": "heatmapgl"
           }
          ],
          "histogram": [
           {
            "marker": {
             "pattern": {
              "fillmode": "overlay",
              "size": 10,
              "solidity": 0.2
             }
            },
            "type": "histogram"
           }
          ],
          "histogram2d": [
           {
            "colorbar": {
             "outlinewidth": 0,
             "ticks": ""
            },
            "colorscale": [
             [
              0,
              "#0d0887"
             ],
             [
              0.1111111111111111,
              "#46039f"
             ],
             [
              0.2222222222222222,
              "#7201a8"
             ],
             [
              0.3333333333333333,
              "#9c179e"
             ],
             [
              0.4444444444444444,
              "#bd3786"
             ],
             [
              0.5555555555555556,
              "#d8576b"
             ],
             [
              0.6666666666666666,
              "#ed7953"
             ],
             [
              0.7777777777777778,
              "#fb9f3a"
             ],
             [
              0.8888888888888888,
              "#fdca26"
             ],
             [
              1,
              "#f0f921"
             ]
            ],
            "type": "histogram2d"
           }
          ],
          "histogram2dcontour": [
           {
            "colorbar": {
             "outlinewidth": 0,
             "ticks": ""
            },
            "colorscale": [
             [
              0,
              "#0d0887"
             ],
             [
              0.1111111111111111,
              "#46039f"
             ],
             [
              0.2222222222222222,
              "#7201a8"
             ],
             [
              0.3333333333333333,
              "#9c179e"
             ],
             [
              0.4444444444444444,
              "#bd3786"
             ],
             [
              0.5555555555555556,
              "#d8576b"
             ],
             [
              0.6666666666666666,
              "#ed7953"
             ],
             [
              0.7777777777777778,
              "#fb9f3a"
             ],
             [
              0.8888888888888888,
              "#fdca26"
             ],
             [
              1,
              "#f0f921"
             ]
            ],
            "type": "histogram2dcontour"
           }
          ],
          "mesh3d": [
           {
            "colorbar": {
             "outlinewidth": 0,
             "ticks": ""
            },
            "type": "mesh3d"
           }
          ],
          "parcoords": [
           {
            "line": {
             "colorbar": {
              "outlinewidth": 0,
              "ticks": ""
             }
            },
            "type": "parcoords"
           }
          ],
          "pie": [
           {
            "automargin": true,
            "type": "pie"
           }
          ],
          "scatter": [
           {
            "marker": {
             "colorbar": {
              "outlinewidth": 0,
              "ticks": ""
             }
            },
            "type": "scatter"
           }
          ],
          "scatter3d": [
           {
            "line": {
             "colorbar": {
              "outlinewidth": 0,
              "ticks": ""
             }
            },
            "marker": {
             "colorbar": {
              "outlinewidth": 0,
              "ticks": ""
             }
            },
            "type": "scatter3d"
           }
          ],
          "scattercarpet": [
           {
            "marker": {
             "colorbar": {
              "outlinewidth": 0,
              "ticks": ""
             }
            },
            "type": "scattercarpet"
           }
          ],
          "scattergeo": [
           {
            "marker": {
             "colorbar": {
              "outlinewidth": 0,
              "ticks": ""
             }
            },
            "type": "scattergeo"
           }
          ],
          "scattergl": [
           {
            "marker": {
             "colorbar": {
              "outlinewidth": 0,
              "ticks": ""
             }
            },
            "type": "scattergl"
           }
          ],
          "scattermapbox": [
           {
            "marker": {
             "colorbar": {
              "outlinewidth": 0,
              "ticks": ""
             }
            },
            "type": "scattermapbox"
           }
          ],
          "scatterpolar": [
           {
            "marker": {
             "colorbar": {
              "outlinewidth": 0,
              "ticks": ""
             }
            },
            "type": "scatterpolar"
           }
          ],
          "scatterpolargl": [
           {
            "marker": {
             "colorbar": {
              "outlinewidth": 0,
              "ticks": ""
             }
            },
            "type": "scatterpolargl"
           }
          ],
          "scatterternary": [
           {
            "marker": {
             "colorbar": {
              "outlinewidth": 0,
              "ticks": ""
             }
            },
            "type": "scatterternary"
           }
          ],
          "surface": [
           {
            "colorbar": {
             "outlinewidth": 0,
             "ticks": ""
            },
            "colorscale": [
             [
              0,
              "#0d0887"
             ],
             [
              0.1111111111111111,
              "#46039f"
             ],
             [
              0.2222222222222222,
              "#7201a8"
             ],
             [
              0.3333333333333333,
              "#9c179e"
             ],
             [
              0.4444444444444444,
              "#bd3786"
             ],
             [
              0.5555555555555556,
              "#d8576b"
             ],
             [
              0.6666666666666666,
              "#ed7953"
             ],
             [
              0.7777777777777778,
              "#fb9f3a"
             ],
             [
              0.8888888888888888,
              "#fdca26"
             ],
             [
              1,
              "#f0f921"
             ]
            ],
            "type": "surface"
           }
          ],
          "table": [
           {
            "cells": {
             "fill": {
              "color": "#EBF0F8"
             },
             "line": {
              "color": "white"
             }
            },
            "header": {
             "fill": {
              "color": "#C8D4E3"
             },
             "line": {
              "color": "white"
             }
            },
            "type": "table"
           }
          ]
         },
         "layout": {
          "annotationdefaults": {
           "arrowcolor": "#2a3f5f",
           "arrowhead": 0,
           "arrowwidth": 1
          },
          "autotypenumbers": "strict",
          "coloraxis": {
           "colorbar": {
            "outlinewidth": 0,
            "ticks": ""
           }
          },
          "colorscale": {
           "diverging": [
            [
             0,
             "#8e0152"
            ],
            [
             0.1,
             "#c51b7d"
            ],
            [
             0.2,
             "#de77ae"
            ],
            [
             0.3,
             "#f1b6da"
            ],
            [
             0.4,
             "#fde0ef"
            ],
            [
             0.5,
             "#f7f7f7"
            ],
            [
             0.6,
             "#e6f5d0"
            ],
            [
             0.7,
             "#b8e186"
            ],
            [
             0.8,
             "#7fbc41"
            ],
            [
             0.9,
             "#4d9221"
            ],
            [
             1,
             "#276419"
            ]
           ],
           "sequential": [
            [
             0,
             "#0d0887"
            ],
            [
             0.1111111111111111,
             "#46039f"
            ],
            [
             0.2222222222222222,
             "#7201a8"
            ],
            [
             0.3333333333333333,
             "#9c179e"
            ],
            [
             0.4444444444444444,
             "#bd3786"
            ],
            [
             0.5555555555555556,
             "#d8576b"
            ],
            [
             0.6666666666666666,
             "#ed7953"
            ],
            [
             0.7777777777777778,
             "#fb9f3a"
            ],
            [
             0.8888888888888888,
             "#fdca26"
            ],
            [
             1,
             "#f0f921"
            ]
           ],
           "sequentialminus": [
            [
             0,
             "#0d0887"
            ],
            [
             0.1111111111111111,
             "#46039f"
            ],
            [
             0.2222222222222222,
             "#7201a8"
            ],
            [
             0.3333333333333333,
             "#9c179e"
            ],
            [
             0.4444444444444444,
             "#bd3786"
            ],
            [
             0.5555555555555556,
             "#d8576b"
            ],
            [
             0.6666666666666666,
             "#ed7953"
            ],
            [
             0.7777777777777778,
             "#fb9f3a"
            ],
            [
             0.8888888888888888,
             "#fdca26"
            ],
            [
             1,
             "#f0f921"
            ]
           ]
          },
          "colorway": [
           "#636efa",
           "#EF553B",
           "#00cc96",
           "#ab63fa",
           "#FFA15A",
           "#19d3f3",
           "#FF6692",
           "#B6E880",
           "#FF97FF",
           "#FECB52"
          ],
          "font": {
           "color": "#2a3f5f"
          },
          "geo": {
           "bgcolor": "white",
           "lakecolor": "white",
           "landcolor": "#E5ECF6",
           "showlakes": true,
           "showland": true,
           "subunitcolor": "white"
          },
          "hoverlabel": {
           "align": "left"
          },
          "hovermode": "closest",
          "mapbox": {
           "style": "light"
          },
          "paper_bgcolor": "white",
          "plot_bgcolor": "#E5ECF6",
          "polar": {
           "angularaxis": {
            "gridcolor": "white",
            "linecolor": "white",
            "ticks": ""
           },
           "bgcolor": "#E5ECF6",
           "radialaxis": {
            "gridcolor": "white",
            "linecolor": "white",
            "ticks": ""
           }
          },
          "scene": {
           "xaxis": {
            "backgroundcolor": "#E5ECF6",
            "gridcolor": "white",
            "gridwidth": 2,
            "linecolor": "white",
            "showbackground": true,
            "ticks": "",
            "zerolinecolor": "white"
           },
           "yaxis": {
            "backgroundcolor": "#E5ECF6",
            "gridcolor": "white",
            "gridwidth": 2,
            "linecolor": "white",
            "showbackground": true,
            "ticks": "",
            "zerolinecolor": "white"
           },
           "zaxis": {
            "backgroundcolor": "#E5ECF6",
            "gridcolor": "white",
            "gridwidth": 2,
            "linecolor": "white",
            "showbackground": true,
            "ticks": "",
            "zerolinecolor": "white"
           }
          },
          "shapedefaults": {
           "line": {
            "color": "#2a3f5f"
           }
          },
          "ternary": {
           "aaxis": {
            "gridcolor": "white",
            "linecolor": "white",
            "ticks": ""
           },
           "baxis": {
            "gridcolor": "white",
            "linecolor": "white",
            "ticks": ""
           },
           "bgcolor": "#E5ECF6",
           "caxis": {
            "gridcolor": "white",
            "linecolor": "white",
            "ticks": ""
           }
          },
          "title": {
           "x": 0.05
          },
          "xaxis": {
           "automargin": true,
           "gridcolor": "white",
           "linecolor": "white",
           "ticks": "",
           "title": {
            "standoff": 15
           },
           "zerolinecolor": "white",
           "zerolinewidth": 2
          },
          "yaxis": {
           "automargin": true,
           "gridcolor": "white",
           "linecolor": "white",
           "ticks": "",
           "title": {
            "standoff": 15
           },
           "zerolinecolor": "white",
           "zerolinewidth": 2
          }
         }
        },
        "title": {
         "text": "no usable ace"
        },
        "width": 700
       }
      }
     },
     "metadata": {},
     "output_type": "display_data"
    }
   ],
   "source": [
    "fig = go.Figure(\n",
    "    data=[\n",
    "        go.Mesh3d(\n",
    "            x=[v[0][0] for v in V if v[0][2] % 2 == 0],\n",
    "            y=[v[0][1] for v in V if v[0][2] % 2 == 0],\n",
    "            z=[v[1] for v in V if v[0][2] % 2 == 0],\n",
    "            opacity=0.5,\n",
    "            color=\"rgba(244,22,100,0.6)\",\n",
    "        )\n",
    "    ]\n",
    ")\n",
    "\n",
    "fig.update_layout(\n",
    "    title=\"no usable ace\",\n",
    "    scene=dict(\n",
    "        xaxis=dict(\n",
    "            nticks=4,\n",
    "            title=\"my sum\",\n",
    "            range=[10, 25],\n",
    "        ),\n",
    "        yaxis=dict(\n",
    "            title=\"dealer show\",\n",
    "            nticks=4,\n",
    "            range=[0, 12],\n",
    "        ),\n",
    "        zaxis=dict(\n",
    "            title=\"state value\",\n",
    "            nticks=4,\n",
    "            range=[-1.2, 1.2],\n",
    "        ),\n",
    "    ),\n",
    "    width=700,\n",
    ")\n",
    "\n",
    "fig.show()\n"
   ]
  },
  {
   "cell_type": "code",
   "execution_count": 102,
   "metadata": {},
   "outputs": [
    {
     "data": {
      "application/vnd.plotly.v1+json": {
       "config": {
        "plotlyServerURL": "https://plot.ly"
       },
       "data": [
        {
         "color": "rgba(244,22,100,0.6)",
         "opacity": 0.5,
         "type": "mesh3d",
         "x": [
          12,
          12,
          12,
          12,
          12,
          12,
          12,
          12,
          12,
          12,
          13,
          13,
          13,
          13,
          13,
          13,
          13,
          13,
          13,
          13,
          14,
          14,
          14,
          14,
          14,
          14,
          14,
          14,
          14,
          14,
          15,
          15,
          15,
          15,
          15,
          15,
          15,
          15,
          15,
          15,
          16,
          16,
          16,
          16,
          16,
          16,
          16,
          16,
          16,
          16,
          17,
          17,
          17,
          17,
          17,
          17,
          17,
          17,
          17,
          17,
          18,
          18,
          18,
          18,
          18,
          18,
          18,
          18,
          18,
          18,
          19,
          19,
          19,
          19,
          19,
          19,
          19,
          19,
          19,
          19,
          20,
          20,
          20,
          20,
          20,
          20,
          20,
          20,
          20,
          20,
          21,
          21,
          21,
          21,
          21,
          21,
          21,
          21,
          21,
          21
         ],
         "y": [
          1,
          2,
          3,
          4,
          5,
          6,
          7,
          8,
          9,
          10,
          1,
          2,
          3,
          4,
          5,
          6,
          7,
          8,
          9,
          10,
          1,
          2,
          3,
          4,
          5,
          6,
          7,
          8,
          9,
          10,
          1,
          2,
          3,
          4,
          5,
          6,
          7,
          8,
          9,
          10,
          1,
          2,
          3,
          4,
          5,
          6,
          7,
          8,
          9,
          10,
          1,
          2,
          3,
          4,
          5,
          6,
          7,
          8,
          9,
          10,
          1,
          2,
          3,
          4,
          5,
          6,
          7,
          8,
          9,
          10,
          1,
          2,
          3,
          4,
          5,
          6,
          7,
          8,
          9,
          10,
          1,
          2,
          3,
          4,
          5,
          6,
          7,
          8,
          9,
          10,
          1,
          2,
          3,
          4,
          5,
          6,
          7,
          8,
          9,
          10
         ],
         "z": [
          -0.16666666666666666,
          -0.39215686274509803,
          -0.4523809523809524,
          -0.28846153846153844,
          -0.01694915254237288,
          -0.3090909090909091,
          -0.13793103448275862,
          -0.11864406779661017,
          -0.3018867924528302,
          -0.3183673469387755,
          -0.3805309734513274,
          -0.3333333333333333,
          -0.3103448275862069,
          -0.256,
          -0.19491525423728814,
          -0.3465346534653465,
          -0.3,
          -0.24489795918367346,
          -0.4247787610619469,
          -0.2868217054263566,
          -0.275,
          -0.3282442748091603,
          -0.3333333333333333,
          -0.4351851851851852,
          -0.17557251908396945,
          -0.35074626865671643,
          -0.2845528455284553,
          -0.4166666666666667,
          -0.24390243902439024,
          -0.3436213991769547,
          -0.4153846153846154,
          -0.302158273381295,
          -0.4028776978417266,
          -0.2631578947368421,
          -0.4380165289256198,
          -0.2536231884057971,
          -0.25217391304347825,
          -0.3161764705882353,
          -0.24647887323943662,
          -0.37545787545787546,
          -0.5089820359281437,
          -0.4583333333333333,
          -0.32075471698113206,
          -0.34146341463414637,
          -0.35526315789473684,
          -0.45222929936305734,
          -0.46405228758169936,
          -0.35664335664335667,
          -0.46938775510204084,
          -0.35343383584589616,
          -0.3132530120481928,
          -0.515527950310559,
          -0.40229885057471265,
          -0.3096774193548387,
          -0.47468354430379744,
          -0.425414364640884,
          -0.4107142857142857,
          -0.4152046783625731,
          -0.4110429447852761,
          -0.45524691358024694,
          -0.5248618784530387,
          -0.5,
          -0.55,
          -0.5405405405405406,
          -0.34545454545454546,
          -0.4880952380952381,
          -0.5028248587570622,
          -0.34210526315789475,
          -0.3114754098360656,
          -0.4375876577840112,
          -0.4946236559139785,
          -0.44387755102040816,
          -0.4883720930232558,
          -0.4536082474226804,
          -0.5024875621890548,
          -0.4079601990049751,
          -0.36231884057971014,
          -0.43352601156069365,
          -0.3620689655172414,
          -0.4841688654353562,
          0.2222222222222222,
          0.6055045871559633,
          0.702020202020202,
          0.6146788990825688,
          0.622093023255814,
          0.6,
          0.7760416666666666,
          0.8380952380952381,
          0.7908163265306123,
          0.4336734693877551,
          0.6599264705882353,
          0.9796296296296296,
          0.9905123339658444,
          0.9846153846153847,
          0.9782608695652174,
          0.9865900383141762,
          0.9945255474452555,
          0.9891891891891892,
          0.9901153212520593,
          0.9132743362831859
         ]
        }
       ],
       "layout": {
        "scene": {
         "xaxis": {
          "nticks": 4,
          "range": [
           10,
           25
          ],
          "title": {
           "text": "my sum"
          }
         },
         "yaxis": {
          "nticks": 4,
          "range": [
           0,
           12
          ],
          "title": {
           "text": "dealer show"
          }
         },
         "zaxis": {
          "nticks": 4,
          "range": [
           -1.2,
           1.2
          ],
          "title": {
           "text": "state value"
          }
         }
        },
        "template": {
         "data": {
          "bar": [
           {
            "error_x": {
             "color": "#2a3f5f"
            },
            "error_y": {
             "color": "#2a3f5f"
            },
            "marker": {
             "line": {
              "color": "#E5ECF6",
              "width": 0.5
             },
             "pattern": {
              "fillmode": "overlay",
              "size": 10,
              "solidity": 0.2
             }
            },
            "type": "bar"
           }
          ],
          "barpolar": [
           {
            "marker": {
             "line": {
              "color": "#E5ECF6",
              "width": 0.5
             },
             "pattern": {
              "fillmode": "overlay",
              "size": 10,
              "solidity": 0.2
             }
            },
            "type": "barpolar"
           }
          ],
          "carpet": [
           {
            "aaxis": {
             "endlinecolor": "#2a3f5f",
             "gridcolor": "white",
             "linecolor": "white",
             "minorgridcolor": "white",
             "startlinecolor": "#2a3f5f"
            },
            "baxis": {
             "endlinecolor": "#2a3f5f",
             "gridcolor": "white",
             "linecolor": "white",
             "minorgridcolor": "white",
             "startlinecolor": "#2a3f5f"
            },
            "type": "carpet"
           }
          ],
          "choropleth": [
           {
            "colorbar": {
             "outlinewidth": 0,
             "ticks": ""
            },
            "type": "choropleth"
           }
          ],
          "contour": [
           {
            "colorbar": {
             "outlinewidth": 0,
             "ticks": ""
            },
            "colorscale": [
             [
              0,
              "#0d0887"
             ],
             [
              0.1111111111111111,
              "#46039f"
             ],
             [
              0.2222222222222222,
              "#7201a8"
             ],
             [
              0.3333333333333333,
              "#9c179e"
             ],
             [
              0.4444444444444444,
              "#bd3786"
             ],
             [
              0.5555555555555556,
              "#d8576b"
             ],
             [
              0.6666666666666666,
              "#ed7953"
             ],
             [
              0.7777777777777778,
              "#fb9f3a"
             ],
             [
              0.8888888888888888,
              "#fdca26"
             ],
             [
              1,
              "#f0f921"
             ]
            ],
            "type": "contour"
           }
          ],
          "contourcarpet": [
           {
            "colorbar": {
             "outlinewidth": 0,
             "ticks": ""
            },
            "type": "contourcarpet"
           }
          ],
          "heatmap": [
           {
            "colorbar": {
             "outlinewidth": 0,
             "ticks": ""
            },
            "colorscale": [
             [
              0,
              "#0d0887"
             ],
             [
              0.1111111111111111,
              "#46039f"
             ],
             [
              0.2222222222222222,
              "#7201a8"
             ],
             [
              0.3333333333333333,
              "#9c179e"
             ],
             [
              0.4444444444444444,
              "#bd3786"
             ],
             [
              0.5555555555555556,
              "#d8576b"
             ],
             [
              0.6666666666666666,
              "#ed7953"
             ],
             [
              0.7777777777777778,
              "#fb9f3a"
             ],
             [
              0.8888888888888888,
              "#fdca26"
             ],
             [
              1,
              "#f0f921"
             ]
            ],
            "type": "heatmap"
           }
          ],
          "heatmapgl": [
           {
            "colorbar": {
             "outlinewidth": 0,
             "ticks": ""
            },
            "colorscale": [
             [
              0,
              "#0d0887"
             ],
             [
              0.1111111111111111,
              "#46039f"
             ],
             [
              0.2222222222222222,
              "#7201a8"
             ],
             [
              0.3333333333333333,
              "#9c179e"
             ],
             [
              0.4444444444444444,
              "#bd3786"
             ],
             [
              0.5555555555555556,
              "#d8576b"
             ],
             [
              0.6666666666666666,
              "#ed7953"
             ],
             [
              0.7777777777777778,
              "#fb9f3a"
             ],
             [
              0.8888888888888888,
              "#fdca26"
             ],
             [
              1,
              "#f0f921"
             ]
            ],
            "type": "heatmapgl"
           }
          ],
          "histogram": [
           {
            "marker": {
             "pattern": {
              "fillmode": "overlay",
              "size": 10,
              "solidity": 0.2
             }
            },
            "type": "histogram"
           }
          ],
          "histogram2d": [
           {
            "colorbar": {
             "outlinewidth": 0,
             "ticks": ""
            },
            "colorscale": [
             [
              0,
              "#0d0887"
             ],
             [
              0.1111111111111111,
              "#46039f"
             ],
             [
              0.2222222222222222,
              "#7201a8"
             ],
             [
              0.3333333333333333,
              "#9c179e"
             ],
             [
              0.4444444444444444,
              "#bd3786"
             ],
             [
              0.5555555555555556,
              "#d8576b"
             ],
             [
              0.6666666666666666,
              "#ed7953"
             ],
             [
              0.7777777777777778,
              "#fb9f3a"
             ],
             [
              0.8888888888888888,
              "#fdca26"
             ],
             [
              1,
              "#f0f921"
             ]
            ],
            "type": "histogram2d"
           }
          ],
          "histogram2dcontour": [
           {
            "colorbar": {
             "outlinewidth": 0,
             "ticks": ""
            },
            "colorscale": [
             [
              0,
              "#0d0887"
             ],
             [
              0.1111111111111111,
              "#46039f"
             ],
             [
              0.2222222222222222,
              "#7201a8"
             ],
             [
              0.3333333333333333,
              "#9c179e"
             ],
             [
              0.4444444444444444,
              "#bd3786"
             ],
             [
              0.5555555555555556,
              "#d8576b"
             ],
             [
              0.6666666666666666,
              "#ed7953"
             ],
             [
              0.7777777777777778,
              "#fb9f3a"
             ],
             [
              0.8888888888888888,
              "#fdca26"
             ],
             [
              1,
              "#f0f921"
             ]
            ],
            "type": "histogram2dcontour"
           }
          ],
          "mesh3d": [
           {
            "colorbar": {
             "outlinewidth": 0,
             "ticks": ""
            },
            "type": "mesh3d"
           }
          ],
          "parcoords": [
           {
            "line": {
             "colorbar": {
              "outlinewidth": 0,
              "ticks": ""
             }
            },
            "type": "parcoords"
           }
          ],
          "pie": [
           {
            "automargin": true,
            "type": "pie"
           }
          ],
          "scatter": [
           {
            "marker": {
             "colorbar": {
              "outlinewidth": 0,
              "ticks": ""
             }
            },
            "type": "scatter"
           }
          ],
          "scatter3d": [
           {
            "line": {
             "colorbar": {
              "outlinewidth": 0,
              "ticks": ""
             }
            },
            "marker": {
             "colorbar": {
              "outlinewidth": 0,
              "ticks": ""
             }
            },
            "type": "scatter3d"
           }
          ],
          "scattercarpet": [
           {
            "marker": {
             "colorbar": {
              "outlinewidth": 0,
              "ticks": ""
             }
            },
            "type": "scattercarpet"
           }
          ],
          "scattergeo": [
           {
            "marker": {
             "colorbar": {
              "outlinewidth": 0,
              "ticks": ""
             }
            },
            "type": "scattergeo"
           }
          ],
          "scattergl": [
           {
            "marker": {
             "colorbar": {
              "outlinewidth": 0,
              "ticks": ""
             }
            },
            "type": "scattergl"
           }
          ],
          "scattermapbox": [
           {
            "marker": {
             "colorbar": {
              "outlinewidth": 0,
              "ticks": ""
             }
            },
            "type": "scattermapbox"
           }
          ],
          "scatterpolar": [
           {
            "marker": {
             "colorbar": {
              "outlinewidth": 0,
              "ticks": ""
             }
            },
            "type": "scatterpolar"
           }
          ],
          "scatterpolargl": [
           {
            "marker": {
             "colorbar": {
              "outlinewidth": 0,
              "ticks": ""
             }
            },
            "type": "scatterpolargl"
           }
          ],
          "scatterternary": [
           {
            "marker": {
             "colorbar": {
              "outlinewidth": 0,
              "ticks": ""
             }
            },
            "type": "scatterternary"
           }
          ],
          "surface": [
           {
            "colorbar": {
             "outlinewidth": 0,
             "ticks": ""
            },
            "colorscale": [
             [
              0,
              "#0d0887"
             ],
             [
              0.1111111111111111,
              "#46039f"
             ],
             [
              0.2222222222222222,
              "#7201a8"
             ],
             [
              0.3333333333333333,
              "#9c179e"
             ],
             [
              0.4444444444444444,
              "#bd3786"
             ],
             [
              0.5555555555555556,
              "#d8576b"
             ],
             [
              0.6666666666666666,
              "#ed7953"
             ],
             [
              0.7777777777777778,
              "#fb9f3a"
             ],
             [
              0.8888888888888888,
              "#fdca26"
             ],
             [
              1,
              "#f0f921"
             ]
            ],
            "type": "surface"
           }
          ],
          "table": [
           {
            "cells": {
             "fill": {
              "color": "#EBF0F8"
             },
             "line": {
              "color": "white"
             }
            },
            "header": {
             "fill": {
              "color": "#C8D4E3"
             },
             "line": {
              "color": "white"
             }
            },
            "type": "table"
           }
          ]
         },
         "layout": {
          "annotationdefaults": {
           "arrowcolor": "#2a3f5f",
           "arrowhead": 0,
           "arrowwidth": 1
          },
          "autotypenumbers": "strict",
          "coloraxis": {
           "colorbar": {
            "outlinewidth": 0,
            "ticks": ""
           }
          },
          "colorscale": {
           "diverging": [
            [
             0,
             "#8e0152"
            ],
            [
             0.1,
             "#c51b7d"
            ],
            [
             0.2,
             "#de77ae"
            ],
            [
             0.3,
             "#f1b6da"
            ],
            [
             0.4,
             "#fde0ef"
            ],
            [
             0.5,
             "#f7f7f7"
            ],
            [
             0.6,
             "#e6f5d0"
            ],
            [
             0.7,
             "#b8e186"
            ],
            [
             0.8,
             "#7fbc41"
            ],
            [
             0.9,
             "#4d9221"
            ],
            [
             1,
             "#276419"
            ]
           ],
           "sequential": [
            [
             0,
             "#0d0887"
            ],
            [
             0.1111111111111111,
             "#46039f"
            ],
            [
             0.2222222222222222,
             "#7201a8"
            ],
            [
             0.3333333333333333,
             "#9c179e"
            ],
            [
             0.4444444444444444,
             "#bd3786"
            ],
            [
             0.5555555555555556,
             "#d8576b"
            ],
            [
             0.6666666666666666,
             "#ed7953"
            ],
            [
             0.7777777777777778,
             "#fb9f3a"
            ],
            [
             0.8888888888888888,
             "#fdca26"
            ],
            [
             1,
             "#f0f921"
            ]
           ],
           "sequentialminus": [
            [
             0,
             "#0d0887"
            ],
            [
             0.1111111111111111,
             "#46039f"
            ],
            [
             0.2222222222222222,
             "#7201a8"
            ],
            [
             0.3333333333333333,
             "#9c179e"
            ],
            [
             0.4444444444444444,
             "#bd3786"
            ],
            [
             0.5555555555555556,
             "#d8576b"
            ],
            [
             0.6666666666666666,
             "#ed7953"
            ],
            [
             0.7777777777777778,
             "#fb9f3a"
            ],
            [
             0.8888888888888888,
             "#fdca26"
            ],
            [
             1,
             "#f0f921"
            ]
           ]
          },
          "colorway": [
           "#636efa",
           "#EF553B",
           "#00cc96",
           "#ab63fa",
           "#FFA15A",
           "#19d3f3",
           "#FF6692",
           "#B6E880",
           "#FF97FF",
           "#FECB52"
          ],
          "font": {
           "color": "#2a3f5f"
          },
          "geo": {
           "bgcolor": "white",
           "lakecolor": "white",
           "landcolor": "#E5ECF6",
           "showlakes": true,
           "showland": true,
           "subunitcolor": "white"
          },
          "hoverlabel": {
           "align": "left"
          },
          "hovermode": "closest",
          "mapbox": {
           "style": "light"
          },
          "paper_bgcolor": "white",
          "plot_bgcolor": "#E5ECF6",
          "polar": {
           "angularaxis": {
            "gridcolor": "white",
            "linecolor": "white",
            "ticks": ""
           },
           "bgcolor": "#E5ECF6",
           "radialaxis": {
            "gridcolor": "white",
            "linecolor": "white",
            "ticks": ""
           }
          },
          "scene": {
           "xaxis": {
            "backgroundcolor": "#E5ECF6",
            "gridcolor": "white",
            "gridwidth": 2,
            "linecolor": "white",
            "showbackground": true,
            "ticks": "",
            "zerolinecolor": "white"
           },
           "yaxis": {
            "backgroundcolor": "#E5ECF6",
            "gridcolor": "white",
            "gridwidth": 2,
            "linecolor": "white",
            "showbackground": true,
            "ticks": "",
            "zerolinecolor": "white"
           },
           "zaxis": {
            "backgroundcolor": "#E5ECF6",
            "gridcolor": "white",
            "gridwidth": 2,
            "linecolor": "white",
            "showbackground": true,
            "ticks": "",
            "zerolinecolor": "white"
           }
          },
          "shapedefaults": {
           "line": {
            "color": "#2a3f5f"
           }
          },
          "ternary": {
           "aaxis": {
            "gridcolor": "white",
            "linecolor": "white",
            "ticks": ""
           },
           "baxis": {
            "gridcolor": "white",
            "linecolor": "white",
            "ticks": ""
           },
           "bgcolor": "#E5ECF6",
           "caxis": {
            "gridcolor": "white",
            "linecolor": "white",
            "ticks": ""
           }
          },
          "title": {
           "x": 0.05
          },
          "xaxis": {
           "automargin": true,
           "gridcolor": "white",
           "linecolor": "white",
           "ticks": "",
           "title": {
            "standoff": 15
           },
           "zerolinecolor": "white",
           "zerolinewidth": 2
          },
          "yaxis": {
           "automargin": true,
           "gridcolor": "white",
           "linecolor": "white",
           "ticks": "",
           "title": {
            "standoff": 15
           },
           "zerolinecolor": "white",
           "zerolinewidth": 2
          }
         }
        },
        "title": {
         "text": "has usable ace"
        },
        "width": 700
       }
      }
     },
     "metadata": {},
     "output_type": "display_data"
    }
   ],
   "source": [
    "fig = go.Figure(\n",
    "    data=[\n",
    "        go.Mesh3d(\n",
    "            x=[v[0][0] for v in V if v[0][2] % 2 == 1],\n",
    "            y=[v[0][1] for v in V if v[0][2] % 2 == 1],\n",
    "            z=[v[1] for v in V if v[0][2] % 2 == 1],\n",
    "            opacity=0.5,\n",
    "            color=\"rgba(244,22,100,0.6)\",\n",
    "        )\n",
    "    ]\n",
    ")\n",
    "\n",
    "fig.update_layout(\n",
    "    title=\"has usable ace\",\n",
    "    scene=dict(\n",
    "        xaxis=dict(\n",
    "            nticks=4,\n",
    "            title=\"my sum\",\n",
    "            range=[10, 25],\n",
    "        ),\n",
    "        yaxis=dict(\n",
    "            title=\"dealer show\",\n",
    "            nticks=4,\n",
    "            range=[0, 12],\n",
    "        ),\n",
    "        zaxis=dict(\n",
    "            title=\"state value\",\n",
    "            nticks=4,\n",
    "            range=[-1.2, 1.2],\n",
    "        ),\n",
    "    ),\n",
    "    width=700,\n",
    ")\n",
    "\n",
    "fig.show()\n"
   ]
  }
 ],
 "metadata": {
  "interpreter": {
   "hash": "916dbcbb3f70747c44a77c7bcd40155683ae19c65e1c03b4aa3499c5328201f1"
  },
  "kernelspec": {
   "display_name": "Python 3.8.10 64-bit",
   "language": "python",
   "name": "python3"
  },
  "language_info": {
   "codemirror_mode": {
    "name": "ipython",
    "version": 3
   },
   "file_extension": ".py",
   "mimetype": "text/x-python",
   "name": "python",
   "nbconvert_exporter": "python",
   "pygments_lexer": "ipython3",
   "version": "3.8.9"
  },
  "orig_nbformat": 4
 },
 "nbformat": 4,
 "nbformat_minor": 2
}

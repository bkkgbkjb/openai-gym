{
 "cells": [
  {
   "cell_type": "code",
   "execution_count": 132,
   "metadata": {},
   "outputs": [],
   "source": [
    "import numpy as np\n",
    "# from gym.envs.toy_text import BlackjackEnv\n",
    "import gym\n",
    "from typing import Literal, List, Tuple\n",
    "import plotly.graph_objects as go"
   ]
  },
  {
   "cell_type": "code",
   "execution_count": 133,
   "metadata": {},
   "outputs": [],
   "source": [
    "# env = BlackjackEnv()\n",
    "np.random.seed(0)\n",
    "env = gym.make('Blackjack-v1')\n",
    "env.seed(0)\n",
    "\n",
    "obs = env.reset()\n"
   ]
  },
  {
   "cell_type": "code",
   "execution_count": 134,
   "metadata": {},
   "outputs": [
    {
     "data": {
      "text/plain": [
       "(18, 1, False)"
      ]
     },
     "execution_count": 134,
     "metadata": {},
     "output_type": "execute_result"
    }
   ],
   "source": [
    "obs"
   ]
  },
  {
   "cell_type": "code",
   "execution_count": 135,
   "metadata": {},
   "outputs": [],
   "source": [
    "MySum = Literal[12, 13, 14, 15, 16, 17, 18, 19, 20, 21]\n",
    "DealerShowing = Literal[1, 2, 3, 4, 5, 6, 7, 8, 9, 10]\n",
    "UsableAce = bool\n",
    "\n",
    "Values = List[float]\n",
    "\n",
    "State = Tuple[MySum, DealerShowing, UsableAce]\n",
    "Action = Literal[0, 1]\n",
    "Reward = Literal[-1, 0, 1]\n",
    "EPISODE = List[Tuple[State, Action, Reward]]\n",
    "\n",
    "TOTAL_NUM_OF_STATES = 200"
   ]
  },
  {
   "cell_type": "code",
   "execution_count": 136,
   "metadata": {},
   "outputs": [],
   "source": [
    "def get_state_index(s: State) -> int:\n",
    "    my_sum, dealer_show, usable_ace = s\n",
    "    return int(usable_ace) + (dealer_show - 1) * 2 + (my_sum - 12) * 20\n",
    "\n",
    "\n",
    "def get_state_from_index(i: int) -> State:\n",
    "    my_sum = i // 20 + 12\n",
    "    dealer_show = (i % 20) // 2 + 1\n",
    "    usable_ace = (i % 20 % 2) \n",
    "\n",
    "    return (my_sum, dealer_show, usable_ace)\n"
   ]
  },
  {
   "cell_type": "code",
   "execution_count": 137,
   "metadata": {},
   "outputs": [],
   "source": [
    "class Agent:\n",
    "    def take_action(self, s: State) -> Literal[0, 1]:\n",
    "        my_sum, deal_show, usable_ace = s\n",
    "        assert my_sum <= 21, f\"bad my_sum feed into agent: {my_sum}\"\n",
    "        return 0 if my_sum == 20 or my_sum == 21 else 1\n",
    "        # return 0 if my_sum == 20 else 1\n",
    "\n",
    "    def state_exists(self, s: State, ls: List[State]):\n",
    "        for _s in ls:\n",
    "            if s[0] == _s[0] and s[1] == _s[1] and s[2] == _s[2]:\n",
    "                return True\n",
    "\n",
    "        return False\n",
    "\n",
    "    def predict(\n",
    "        self, episodes: List[EPISODE], gamma: float\n",
    "    ) -> Tuple[Values, List[List[Reward]]]:\n",
    "        V = np.random.random(TOTAL_NUM_OF_STATES)\n",
    "        R = [[] for _ in range(TOTAL_NUM_OF_STATES)]\n",
    "\n",
    "        for episode in episodes:\n",
    "            G = 0\n",
    "            l = len(episode)\n",
    "            for i, v in enumerate(reversed(episode)):\n",
    "                state, action, reward = v\n",
    "                G = gamma * G + reward\n",
    "                if not self.state_exists(state, episode[: l - i - 1]):\n",
    "                    idx = get_state_index(state)\n",
    "                    R[idx].append(G)\n",
    "                    V[idx] = np.average(R[idx])\n",
    "\n",
    "        return (V, R)\n"
   ]
  },
  {
   "cell_type": "code",
   "execution_count": 138,
   "metadata": {},
   "outputs": [],
   "source": [
    "TOTAL_EPISODES = 200_000\n",
    "\n",
    "agent = Agent()\n",
    "\n",
    "result: List[Tuple[bool, int]] = []\n",
    "\n",
    "\n",
    "episodes: List[EPISODE] = []\n",
    "\n",
    "for i in range(TOTAL_EPISODES):\n",
    "    episode: EPISODE = []\n",
    "    (my_sum, dealer_showup, usable_ace) = env.reset()\n",
    "\n",
    "    assert my_sum <= 21, f\"bad sum appears in init state: {my_sum}\"\n",
    "\n",
    "    # print(f\"episode {i}: {my_sum}, {dealer_showup}, {usable_ace}\")\n",
    "\n",
    "    while True:\n",
    "        act = agent.take_action((my_sum, dealer_showup, usable_ace))\n",
    "\n",
    "        # print(f\"take action: {'hit' if act == 1 else 'stick'}\")\n",
    "\n",
    "        (obs, rwd, done, info) = env.step(act)\n",
    "        episode.append(((my_sum, dealer_showup, usable_ace), act, rwd))\n",
    "\n",
    "        (my_sum, dealer_showup, usable_ace) = obs\n",
    "\n",
    "        # print(f\"after taking action: {obs}, {rwd}, {done}, {info}\")\n",
    "\n",
    "        if done:\n",
    "            # print(f\"iteration {i} end, reward: {rwd}\")\n",
    "            result.append((rwd > 0, my_sum))\n",
    "            break\n",
    "    episodes.append(episode)\n",
    "\n",
    "\n",
    "env.close()\n"
   ]
  },
  {
   "cell_type": "code",
   "execution_count": 139,
   "metadata": {},
   "outputs": [
    {
     "name": "stdout",
     "output_type": "stream",
     "text": [
      "win: 59337\n",
      "win rate: 0.296685\n"
     ]
    }
   ],
   "source": [
    "win_times = np.sum(np.fromiter((r[0] for r in result), dtype=\"int\"))\n",
    "print(f\"win: {win_times}\")\n",
    "print(f\"win rate: {win_times/TOTAL_EPISODES}\")\n"
   ]
  },
  {
   "cell_type": "code",
   "execution_count": 140,
   "metadata": {},
   "outputs": [],
   "source": [
    "(V, R) = agent.predict(episodes, 1)\n"
   ]
  },
  {
   "cell_type": "code",
   "execution_count": 141,
   "metadata": {},
   "outputs": [],
   "source": [
    "V = [(get_state_from_index(i), v) for (i, v) in enumerate(V)]\n"
   ]
  },
  {
   "cell_type": "code",
   "execution_count": 142,
   "metadata": {},
   "outputs": [
    {
     "data": {
      "application/vnd.plotly.v1+json": {
       "config": {
        "plotlyServerURL": "https://plot.ly"
       },
       "data": [
        {
         "color": "rgba(244,22,100,0.6)",
         "opacity": 0.5,
         "type": "mesh3d",
         "x": [
          12,
          12,
          12,
          12,
          12,
          12,
          12,
          12,
          12,
          12,
          13,
          13,
          13,
          13,
          13,
          13,
          13,
          13,
          13,
          13,
          14,
          14,
          14,
          14,
          14,
          14,
          14,
          14,
          14,
          14,
          15,
          15,
          15,
          15,
          15,
          15,
          15,
          15,
          15,
          15,
          16,
          16,
          16,
          16,
          16,
          16,
          16,
          16,
          16,
          16,
          17,
          17,
          17,
          17,
          17,
          17,
          17,
          17,
          17,
          17,
          18,
          18,
          18,
          18,
          18,
          18,
          18,
          18,
          18,
          18,
          19,
          19,
          19,
          19,
          19,
          19,
          19,
          19,
          19,
          19,
          20,
          20,
          20,
          20,
          20,
          20,
          20,
          20,
          20,
          20,
          21,
          21,
          21,
          21,
          21,
          21,
          21,
          21,
          21,
          21
         ],
         "y": [
          1,
          2,
          3,
          4,
          5,
          6,
          7,
          8,
          9,
          10,
          1,
          2,
          3,
          4,
          5,
          6,
          7,
          8,
          9,
          10,
          1,
          2,
          3,
          4,
          5,
          6,
          7,
          8,
          9,
          10,
          1,
          2,
          3,
          4,
          5,
          6,
          7,
          8,
          9,
          10,
          1,
          2,
          3,
          4,
          5,
          6,
          7,
          8,
          9,
          10,
          1,
          2,
          3,
          4,
          5,
          6,
          7,
          8,
          9,
          10,
          1,
          2,
          3,
          4,
          5,
          6,
          7,
          8,
          9,
          10,
          1,
          2,
          3,
          4,
          5,
          6,
          7,
          8,
          9,
          10,
          1,
          2,
          3,
          4,
          5,
          6,
          7,
          8,
          9,
          10,
          1,
          2,
          3,
          4,
          5,
          6,
          7,
          8,
          9,
          10
         ],
         "z": [
          -0.6223736513344691,
          -0.5604952166572875,
          -0.5685840707964602,
          -0.5617114646187603,
          -0.5167243367935409,
          -0.5494252873563218,
          -0.5153340635268346,
          -0.5241573033707865,
          -0.49778516057585825,
          -0.5817433081674674,
          -0.6605263157894737,
          -0.6211801896733403,
          -0.5680655066530195,
          -0.5671722643553629,
          -0.5748565466875326,
          -0.5662198391420912,
          -0.5569020021074815,
          -0.5471596998928189,
          -0.5470177324019344,
          -0.5964771817453963,
          -0.6965127238454288,
          -0.6037074148296593,
          -0.596078431372549,
          -0.6085192697768763,
          -0.6054216867469879,
          -0.5864077669902913,
          -0.5556612749762131,
          -0.6028846153846154,
          -0.5847193347193347,
          -0.6259940357852882,
          -0.6956323930846224,
          -0.646033929390188,
          -0.5965391621129326,
          -0.6286601597160604,
          -0.6080637599624942,
          -0.608290638099674,
          -0.6151046405823476,
          -0.5718120805369128,
          -0.6188969258589512,
          -0.6432097348180461,
          -0.7429926692539888,
          -0.6360842844600527,
          -0.6305543800253914,
          -0.6408390410958904,
          -0.6684256816182937,
          -0.6343856655290102,
          -0.6244151424925564,
          -0.608714596949891,
          -0.6264559068219634,
          -0.6688524590163935,
          -0.7178598922247883,
          -0.6585365853658537,
          -0.6514441842310694,
          -0.6582532051282052,
          -0.6715070643642073,
          -0.6788052373158756,
          -0.6495346013759612,
          -0.6317257871662016,
          -0.6730693845550765,
          -0.6737721021611002,
          -0.7514406454091433,
          -0.6880029261155816,
          -0.701651376146789,
          -0.6923076923076923,
          -0.6802030456852792,
          -0.6570356472795498,
          -0.6457399103139013,
          -0.6529543754674645,
          -0.64532744665195,
          -0.6956686930091185,
          -0.7537653239929948,
          -0.6852300242130751,
          -0.679305457122608,
          -0.6989705360312389,
          -0.6768909027535727,
          -0.6772793053545586,
          -0.646600566572238,
          -0.6789154477345701,
          -0.6733380986418871,
          -0.699475065616798,
          0.03513870541611625,
          0.5152909336941813,
          0.49207188160676535,
          0.4902978955998907,
          0.49946294307196565,
          0.577711007921333,
          0.608957569408067,
          0.6403580146460537,
          0.5661178969729156,
          0.30473017988007994,
          0.29744449099287806,
          0.5109020949123557,
          0.5435598165902459,
          0.5643350604490501,
          0.5287694246115078,
          0.5365239294710328,
          0.5645161290322581,
          0.5785054575986566,
          0.5817245817245817,
          0.5338566195709052
         ]
        }
       ],
       "layout": {
        "scene": {
         "xaxis": {
          "nticks": 4,
          "range": [
           10,
           25
          ],
          "title": {
           "text": "my sum"
          }
         },
         "yaxis": {
          "nticks": 4,
          "range": [
           0,
           12
          ],
          "title": {
           "text": "dealer show"
          }
         },
         "zaxis": {
          "nticks": 4,
          "range": [
           -1.2,
           1.2
          ],
          "title": {
           "text": "state value"
          }
         }
        },
        "template": {
         "data": {
          "bar": [
           {
            "error_x": {
             "color": "#2a3f5f"
            },
            "error_y": {
             "color": "#2a3f5f"
            },
            "marker": {
             "line": {
              "color": "#E5ECF6",
              "width": 0.5
             },
             "pattern": {
              "fillmode": "overlay",
              "size": 10,
              "solidity": 0.2
             }
            },
            "type": "bar"
           }
          ],
          "barpolar": [
           {
            "marker": {
             "line": {
              "color": "#E5ECF6",
              "width": 0.5
             },
             "pattern": {
              "fillmode": "overlay",
              "size": 10,
              "solidity": 0.2
             }
            },
            "type": "barpolar"
           }
          ],
          "carpet": [
           {
            "aaxis": {
             "endlinecolor": "#2a3f5f",
             "gridcolor": "white",
             "linecolor": "white",
             "minorgridcolor": "white",
             "startlinecolor": "#2a3f5f"
            },
            "baxis": {
             "endlinecolor": "#2a3f5f",
             "gridcolor": "white",
             "linecolor": "white",
             "minorgridcolor": "white",
             "startlinecolor": "#2a3f5f"
            },
            "type": "carpet"
           }
          ],
          "choropleth": [
           {
            "colorbar": {
             "outlinewidth": 0,
             "ticks": ""
            },
            "type": "choropleth"
           }
          ],
          "contour": [
           {
            "colorbar": {
             "outlinewidth": 0,
             "ticks": ""
            },
            "colorscale": [
             [
              0,
              "#0d0887"
             ],
             [
              0.1111111111111111,
              "#46039f"
             ],
             [
              0.2222222222222222,
              "#7201a8"
             ],
             [
              0.3333333333333333,
              "#9c179e"
             ],
             [
              0.4444444444444444,
              "#bd3786"
             ],
             [
              0.5555555555555556,
              "#d8576b"
             ],
             [
              0.6666666666666666,
              "#ed7953"
             ],
             [
              0.7777777777777778,
              "#fb9f3a"
             ],
             [
              0.8888888888888888,
              "#fdca26"
             ],
             [
              1,
              "#f0f921"
             ]
            ],
            "type": "contour"
           }
          ],
          "contourcarpet": [
           {
            "colorbar": {
             "outlinewidth": 0,
             "ticks": ""
            },
            "type": "contourcarpet"
           }
          ],
          "heatmap": [
           {
            "colorbar": {
             "outlinewidth": 0,
             "ticks": ""
            },
            "colorscale": [
             [
              0,
              "#0d0887"
             ],
             [
              0.1111111111111111,
              "#46039f"
             ],
             [
              0.2222222222222222,
              "#7201a8"
             ],
             [
              0.3333333333333333,
              "#9c179e"
             ],
             [
              0.4444444444444444,
              "#bd3786"
             ],
             [
              0.5555555555555556,
              "#d8576b"
             ],
             [
              0.6666666666666666,
              "#ed7953"
             ],
             [
              0.7777777777777778,
              "#fb9f3a"
             ],
             [
              0.8888888888888888,
              "#fdca26"
             ],
             [
              1,
              "#f0f921"
             ]
            ],
            "type": "heatmap"
           }
          ],
          "heatmapgl": [
           {
            "colorbar": {
             "outlinewidth": 0,
             "ticks": ""
            },
            "colorscale": [
             [
              0,
              "#0d0887"
             ],
             [
              0.1111111111111111,
              "#46039f"
             ],
             [
              0.2222222222222222,
              "#7201a8"
             ],
             [
              0.3333333333333333,
              "#9c179e"
             ],
             [
              0.4444444444444444,
              "#bd3786"
             ],
             [
              0.5555555555555556,
              "#d8576b"
             ],
             [
              0.6666666666666666,
              "#ed7953"
             ],
             [
              0.7777777777777778,
              "#fb9f3a"
             ],
             [
              0.8888888888888888,
              "#fdca26"
             ],
             [
              1,
              "#f0f921"
             ]
            ],
            "type": "heatmapgl"
           }
          ],
          "histogram": [
           {
            "marker": {
             "pattern": {
              "fillmode": "overlay",
              "size": 10,
              "solidity": 0.2
             }
            },
            "type": "histogram"
           }
          ],
          "histogram2d": [
           {
            "colorbar": {
             "outlinewidth": 0,
             "ticks": ""
            },
            "colorscale": [
             [
              0,
              "#0d0887"
             ],
             [
              0.1111111111111111,
              "#46039f"
             ],
             [
              0.2222222222222222,
              "#7201a8"
             ],
             [
              0.3333333333333333,
              "#9c179e"
             ],
             [
              0.4444444444444444,
              "#bd3786"
             ],
             [
              0.5555555555555556,
              "#d8576b"
             ],
             [
              0.6666666666666666,
              "#ed7953"
             ],
             [
              0.7777777777777778,
              "#fb9f3a"
             ],
             [
              0.8888888888888888,
              "#fdca26"
             ],
             [
              1,
              "#f0f921"
             ]
            ],
            "type": "histogram2d"
           }
          ],
          "histogram2dcontour": [
           {
            "colorbar": {
             "outlinewidth": 0,
             "ticks": ""
            },
            "colorscale": [
             [
              0,
              "#0d0887"
             ],
             [
              0.1111111111111111,
              "#46039f"
             ],
             [
              0.2222222222222222,
              "#7201a8"
             ],
             [
              0.3333333333333333,
              "#9c179e"
             ],
             [
              0.4444444444444444,
              "#bd3786"
             ],
             [
              0.5555555555555556,
              "#d8576b"
             ],
             [
              0.6666666666666666,
              "#ed7953"
             ],
             [
              0.7777777777777778,
              "#fb9f3a"
             ],
             [
              0.8888888888888888,
              "#fdca26"
             ],
             [
              1,
              "#f0f921"
             ]
            ],
            "type": "histogram2dcontour"
           }
          ],
          "mesh3d": [
           {
            "colorbar": {
             "outlinewidth": 0,
             "ticks": ""
            },
            "type": "mesh3d"
           }
          ],
          "parcoords": [
           {
            "line": {
             "colorbar": {
              "outlinewidth": 0,
              "ticks": ""
             }
            },
            "type": "parcoords"
           }
          ],
          "pie": [
           {
            "automargin": true,
            "type": "pie"
           }
          ],
          "scatter": [
           {
            "marker": {
             "colorbar": {
              "outlinewidth": 0,
              "ticks": ""
             }
            },
            "type": "scatter"
           }
          ],
          "scatter3d": [
           {
            "line": {
             "colorbar": {
              "outlinewidth": 0,
              "ticks": ""
             }
            },
            "marker": {
             "colorbar": {
              "outlinewidth": 0,
              "ticks": ""
             }
            },
            "type": "scatter3d"
           }
          ],
          "scattercarpet": [
           {
            "marker": {
             "colorbar": {
              "outlinewidth": 0,
              "ticks": ""
             }
            },
            "type": "scattercarpet"
           }
          ],
          "scattergeo": [
           {
            "marker": {
             "colorbar": {
              "outlinewidth": 0,
              "ticks": ""
             }
            },
            "type": "scattergeo"
           }
          ],
          "scattergl": [
           {
            "marker": {
             "colorbar": {
              "outlinewidth": 0,
              "ticks": ""
             }
            },
            "type": "scattergl"
           }
          ],
          "scattermapbox": [
           {
            "marker": {
             "colorbar": {
              "outlinewidth": 0,
              "ticks": ""
             }
            },
            "type": "scattermapbox"
           }
          ],
          "scatterpolar": [
           {
            "marker": {
             "colorbar": {
              "outlinewidth": 0,
              "ticks": ""
             }
            },
            "type": "scatterpolar"
           }
          ],
          "scatterpolargl": [
           {
            "marker": {
             "colorbar": {
              "outlinewidth": 0,
              "ticks": ""
             }
            },
            "type": "scatterpolargl"
           }
          ],
          "scatterternary": [
           {
            "marker": {
             "colorbar": {
              "outlinewidth": 0,
              "ticks": ""
             }
            },
            "type": "scatterternary"
           }
          ],
          "surface": [
           {
            "colorbar": {
             "outlinewidth": 0,
             "ticks": ""
            },
            "colorscale": [
             [
              0,
              "#0d0887"
             ],
             [
              0.1111111111111111,
              "#46039f"
             ],
             [
              0.2222222222222222,
              "#7201a8"
             ],
             [
              0.3333333333333333,
              "#9c179e"
             ],
             [
              0.4444444444444444,
              "#bd3786"
             ],
             [
              0.5555555555555556,
              "#d8576b"
             ],
             [
              0.6666666666666666,
              "#ed7953"
             ],
             [
              0.7777777777777778,
              "#fb9f3a"
             ],
             [
              0.8888888888888888,
              "#fdca26"
             ],
             [
              1,
              "#f0f921"
             ]
            ],
            "type": "surface"
           }
          ],
          "table": [
           {
            "cells": {
             "fill": {
              "color": "#EBF0F8"
             },
             "line": {
              "color": "white"
             }
            },
            "header": {
             "fill": {
              "color": "#C8D4E3"
             },
             "line": {
              "color": "white"
             }
            },
            "type": "table"
           }
          ]
         },
         "layout": {
          "annotationdefaults": {
           "arrowcolor": "#2a3f5f",
           "arrowhead": 0,
           "arrowwidth": 1
          },
          "autotypenumbers": "strict",
          "coloraxis": {
           "colorbar": {
            "outlinewidth": 0,
            "ticks": ""
           }
          },
          "colorscale": {
           "diverging": [
            [
             0,
             "#8e0152"
            ],
            [
             0.1,
             "#c51b7d"
            ],
            [
             0.2,
             "#de77ae"
            ],
            [
             0.3,
             "#f1b6da"
            ],
            [
             0.4,
             "#fde0ef"
            ],
            [
             0.5,
             "#f7f7f7"
            ],
            [
             0.6,
             "#e6f5d0"
            ],
            [
             0.7,
             "#b8e186"
            ],
            [
             0.8,
             "#7fbc41"
            ],
            [
             0.9,
             "#4d9221"
            ],
            [
             1,
             "#276419"
            ]
           ],
           "sequential": [
            [
             0,
             "#0d0887"
            ],
            [
             0.1111111111111111,
             "#46039f"
            ],
            [
             0.2222222222222222,
             "#7201a8"
            ],
            [
             0.3333333333333333,
             "#9c179e"
            ],
            [
             0.4444444444444444,
             "#bd3786"
            ],
            [
             0.5555555555555556,
             "#d8576b"
            ],
            [
             0.6666666666666666,
             "#ed7953"
            ],
            [
             0.7777777777777778,
             "#fb9f3a"
            ],
            [
             0.8888888888888888,
             "#fdca26"
            ],
            [
             1,
             "#f0f921"
            ]
           ],
           "sequentialminus": [
            [
             0,
             "#0d0887"
            ],
            [
             0.1111111111111111,
             "#46039f"
            ],
            [
             0.2222222222222222,
             "#7201a8"
            ],
            [
             0.3333333333333333,
             "#9c179e"
            ],
            [
             0.4444444444444444,
             "#bd3786"
            ],
            [
             0.5555555555555556,
             "#d8576b"
            ],
            [
             0.6666666666666666,
             "#ed7953"
            ],
            [
             0.7777777777777778,
             "#fb9f3a"
            ],
            [
             0.8888888888888888,
             "#fdca26"
            ],
            [
             1,
             "#f0f921"
            ]
           ]
          },
          "colorway": [
           "#636efa",
           "#EF553B",
           "#00cc96",
           "#ab63fa",
           "#FFA15A",
           "#19d3f3",
           "#FF6692",
           "#B6E880",
           "#FF97FF",
           "#FECB52"
          ],
          "font": {
           "color": "#2a3f5f"
          },
          "geo": {
           "bgcolor": "white",
           "lakecolor": "white",
           "landcolor": "#E5ECF6",
           "showlakes": true,
           "showland": true,
           "subunitcolor": "white"
          },
          "hoverlabel": {
           "align": "left"
          },
          "hovermode": "closest",
          "mapbox": {
           "style": "light"
          },
          "paper_bgcolor": "white",
          "plot_bgcolor": "#E5ECF6",
          "polar": {
           "angularaxis": {
            "gridcolor": "white",
            "linecolor": "white",
            "ticks": ""
           },
           "bgcolor": "#E5ECF6",
           "radialaxis": {
            "gridcolor": "white",
            "linecolor": "white",
            "ticks": ""
           }
          },
          "scene": {
           "xaxis": {
            "backgroundcolor": "#E5ECF6",
            "gridcolor": "white",
            "gridwidth": 2,
            "linecolor": "white",
            "showbackground": true,
            "ticks": "",
            "zerolinecolor": "white"
           },
           "yaxis": {
            "backgroundcolor": "#E5ECF6",
            "gridcolor": "white",
            "gridwidth": 2,
            "linecolor": "white",
            "showbackground": true,
            "ticks": "",
            "zerolinecolor": "white"
           },
           "zaxis": {
            "backgroundcolor": "#E5ECF6",
            "gridcolor": "white",
            "gridwidth": 2,
            "linecolor": "white",
            "showbackground": true,
            "ticks": "",
            "zerolinecolor": "white"
           }
          },
          "shapedefaults": {
           "line": {
            "color": "#2a3f5f"
           }
          },
          "ternary": {
           "aaxis": {
            "gridcolor": "white",
            "linecolor": "white",
            "ticks": ""
           },
           "baxis": {
            "gridcolor": "white",
            "linecolor": "white",
            "ticks": ""
           },
           "bgcolor": "#E5ECF6",
           "caxis": {
            "gridcolor": "white",
            "linecolor": "white",
            "ticks": ""
           }
          },
          "title": {
           "x": 0.05
          },
          "xaxis": {
           "automargin": true,
           "gridcolor": "white",
           "linecolor": "white",
           "ticks": "",
           "title": {
            "standoff": 15
           },
           "zerolinecolor": "white",
           "zerolinewidth": 2
          },
          "yaxis": {
           "automargin": true,
           "gridcolor": "white",
           "linecolor": "white",
           "ticks": "",
           "title": {
            "standoff": 15
           },
           "zerolinecolor": "white",
           "zerolinewidth": 2
          }
         }
        },
        "title": {
         "text": "no usable ace"
        },
        "width": 700
       }
      }
     },
     "metadata": {},
     "output_type": "display_data"
    }
   ],
   "source": [
    "fig = go.Figure(\n",
    "    data=[\n",
    "        go.Mesh3d(\n",
    "            x=[v[0][0] for v in V if v[0][2] % 2 == 0],\n",
    "            y=[v[0][1] for v in V if v[0][2] % 2 == 0],\n",
    "            z=[v[1] for v in V if v[0][2] % 2 == 0],\n",
    "            opacity=0.5,\n",
    "            color=\"rgba(244,22,100,0.6)\",\n",
    "        )\n",
    "    ]\n",
    ")\n",
    "\n",
    "fig.update_layout(\n",
    "    title=\"no usable ace\",\n",
    "    scene=dict(\n",
    "        xaxis=dict(\n",
    "            nticks=4,\n",
    "            title=\"my sum\",\n",
    "            range=[10, 25],\n",
    "        ),\n",
    "        yaxis=dict(\n",
    "            title=\"dealer show\",\n",
    "            nticks=4,\n",
    "            range=[0, 12],\n",
    "        ),\n",
    "        zaxis=dict(\n",
    "            title=\"state value\",\n",
    "            nticks=4,\n",
    "            range=[-1.2, 1.2],\n",
    "        ),\n",
    "    ),\n",
    "    width=700,\n",
    ")\n",
    "\n",
    "fig.show()\n"
   ]
  },
  {
   "cell_type": "code",
   "execution_count": 143,
   "metadata": {},
   "outputs": [
    {
     "data": {
      "application/vnd.plotly.v1+json": {
       "config": {
        "plotlyServerURL": "https://plot.ly"
       },
       "data": [
        {
         "color": "rgba(244,22,100,0.6)",
         "opacity": 0.5,
         "type": "mesh3d",
         "x": [
          12,
          12,
          12,
          12,
          12,
          12,
          12,
          12,
          12,
          12,
          13,
          13,
          13,
          13,
          13,
          13,
          13,
          13,
          13,
          13,
          14,
          14,
          14,
          14,
          14,
          14,
          14,
          14,
          14,
          14,
          15,
          15,
          15,
          15,
          15,
          15,
          15,
          15,
          15,
          15,
          16,
          16,
          16,
          16,
          16,
          16,
          16,
          16,
          16,
          16,
          17,
          17,
          17,
          17,
          17,
          17,
          17,
          17,
          17,
          17,
          18,
          18,
          18,
          18,
          18,
          18,
          18,
          18,
          18,
          18,
          19,
          19,
          19,
          19,
          19,
          19,
          19,
          19,
          19,
          19,
          20,
          20,
          20,
          20,
          20,
          20,
          20,
          20,
          20,
          20,
          21,
          21,
          21,
          21,
          21,
          21,
          21,
          21,
          21,
          21
         ],
         "y": [
          1,
          2,
          3,
          4,
          5,
          6,
          7,
          8,
          9,
          10,
          1,
          2,
          3,
          4,
          5,
          6,
          7,
          8,
          9,
          10,
          1,
          2,
          3,
          4,
          5,
          6,
          7,
          8,
          9,
          10,
          1,
          2,
          3,
          4,
          5,
          6,
          7,
          8,
          9,
          10,
          1,
          2,
          3,
          4,
          5,
          6,
          7,
          8,
          9,
          10,
          1,
          2,
          3,
          4,
          5,
          6,
          7,
          8,
          9,
          10,
          1,
          2,
          3,
          4,
          5,
          6,
          7,
          8,
          9,
          10,
          1,
          2,
          3,
          4,
          5,
          6,
          7,
          8,
          9,
          10,
          1,
          2,
          3,
          4,
          5,
          6,
          7,
          8,
          9,
          10,
          1,
          2,
          3,
          4,
          5,
          6,
          7,
          8,
          9,
          10
         ],
         "z": [
          -0.21951219512195122,
          -0.26881720430107525,
          -0.2777777777777778,
          -0.30337078651685395,
          -0.30612244897959184,
          -0.057971014492753624,
          -0.22988505747126436,
          0,
          -0.12087912087912088,
          -0.3153409090909091,
          -0.455026455026455,
          -0.3385416666666667,
          -0.3081081081081081,
          -0.21621621621621623,
          -0.1912568306010929,
          -0.21910112359550563,
          -0.25257731958762886,
          -0.18269230769230768,
          -0.3054187192118227,
          -0.29389788293897884,
          -0.4252336448598131,
          -0.35348837209302325,
          -0.22274881516587677,
          -0.4632768361581921,
          -0.2838427947598253,
          -0.3163841807909605,
          -0.2898550724637681,
          -0.2804232804232804,
          -0.2894736842105263,
          -0.337888198757764,
          -0.49783549783549785,
          -0.2962962962962963,
          -0.30612244897959184,
          -0.25877192982456143,
          -0.45493562231759654,
          -0.29133858267716534,
          -0.33649289099526064,
          -0.3173913043478261,
          -0.3183673469387755,
          -0.388631090487239,
          -0.5714285714285714,
          -0.4661016949152542,
          -0.27340823970037453,
          -0.3035019455252918,
          -0.33587786259541985,
          -0.3682008368200837,
          -0.3786008230452675,
          -0.3413654618473896,
          -0.359375,
          -0.3584158415841584,
          -0.5265017667844523,
          -0.4708171206225681,
          -0.3881118881118881,
          -0.4204081632653061,
          -0.4913494809688581,
          -0.39322033898305087,
          -0.4206896551724138,
          -0.3865814696485623,
          -0.4357142857142857,
          -0.44376634699215345,
          -0.5555555555555556,
          -0.4982456140350877,
          -0.41156462585034015,
          -0.43086816720257237,
          -0.3521594684385382,
          -0.49458483754512633,
          -0.3678571428571429,
          -0.39158576051779936,
          -0.38006230529595014,
          -0.40938511326860844,
          -0.5614035087719298,
          -0.42024539877300615,
          -0.4813753581661891,
          -0.43661971830985913,
          -0.42028985507246375,
          -0.45514950166112955,
          -0.378698224852071,
          -0.4495677233429395,
          -0.4294294294294294,
          -0.47241118669690096,
          0.14824120603015076,
          0.5913705583756346,
          0.717032967032967,
          0.6444444444444445,
          0.6702412868632708,
          0.706199460916442,
          0.7716535433070866,
          0.7777777777777778,
          0.7616707616707616,
          0.4328254847645429,
          0.6729074889867841,
          0.9773755656108597,
          0.9779874213836478,
          0.9802197802197802,
          0.9751082251082251,
          0.9825897714907508,
          0.9922822491730982,
          0.9779411764705882,
          0.9843587069864442,
          0.9210870133263653
         ]
        }
       ],
       "layout": {
        "scene": {
         "xaxis": {
          "nticks": 4,
          "range": [
           10,
           25
          ],
          "title": {
           "text": "my sum"
          }
         },
         "yaxis": {
          "nticks": 4,
          "range": [
           0,
           12
          ],
          "title": {
           "text": "dealer show"
          }
         },
         "zaxis": {
          "nticks": 4,
          "range": [
           -1.2,
           1.2
          ],
          "title": {
           "text": "state value"
          }
         }
        },
        "template": {
         "data": {
          "bar": [
           {
            "error_x": {
             "color": "#2a3f5f"
            },
            "error_y": {
             "color": "#2a3f5f"
            },
            "marker": {
             "line": {
              "color": "#E5ECF6",
              "width": 0.5
             },
             "pattern": {
              "fillmode": "overlay",
              "size": 10,
              "solidity": 0.2
             }
            },
            "type": "bar"
           }
          ],
          "barpolar": [
           {
            "marker": {
             "line": {
              "color": "#E5ECF6",
              "width": 0.5
             },
             "pattern": {
              "fillmode": "overlay",
              "size": 10,
              "solidity": 0.2
             }
            },
            "type": "barpolar"
           }
          ],
          "carpet": [
           {
            "aaxis": {
             "endlinecolor": "#2a3f5f",
             "gridcolor": "white",
             "linecolor": "white",
             "minorgridcolor": "white",
             "startlinecolor": "#2a3f5f"
            },
            "baxis": {
             "endlinecolor": "#2a3f5f",
             "gridcolor": "white",
             "linecolor": "white",
             "minorgridcolor": "white",
             "startlinecolor": "#2a3f5f"
            },
            "type": "carpet"
           }
          ],
          "choropleth": [
           {
            "colorbar": {
             "outlinewidth": 0,
             "ticks": ""
            },
            "type": "choropleth"
           }
          ],
          "contour": [
           {
            "colorbar": {
             "outlinewidth": 0,
             "ticks": ""
            },
            "colorscale": [
             [
              0,
              "#0d0887"
             ],
             [
              0.1111111111111111,
              "#46039f"
             ],
             [
              0.2222222222222222,
              "#7201a8"
             ],
             [
              0.3333333333333333,
              "#9c179e"
             ],
             [
              0.4444444444444444,
              "#bd3786"
             ],
             [
              0.5555555555555556,
              "#d8576b"
             ],
             [
              0.6666666666666666,
              "#ed7953"
             ],
             [
              0.7777777777777778,
              "#fb9f3a"
             ],
             [
              0.8888888888888888,
              "#fdca26"
             ],
             [
              1,
              "#f0f921"
             ]
            ],
            "type": "contour"
           }
          ],
          "contourcarpet": [
           {
            "colorbar": {
             "outlinewidth": 0,
             "ticks": ""
            },
            "type": "contourcarpet"
           }
          ],
          "heatmap": [
           {
            "colorbar": {
             "outlinewidth": 0,
             "ticks": ""
            },
            "colorscale": [
             [
              0,
              "#0d0887"
             ],
             [
              0.1111111111111111,
              "#46039f"
             ],
             [
              0.2222222222222222,
              "#7201a8"
             ],
             [
              0.3333333333333333,
              "#9c179e"
             ],
             [
              0.4444444444444444,
              "#bd3786"
             ],
             [
              0.5555555555555556,
              "#d8576b"
             ],
             [
              0.6666666666666666,
              "#ed7953"
             ],
             [
              0.7777777777777778,
              "#fb9f3a"
             ],
             [
              0.8888888888888888,
              "#fdca26"
             ],
             [
              1,
              "#f0f921"
             ]
            ],
            "type": "heatmap"
           }
          ],
          "heatmapgl": [
           {
            "colorbar": {
             "outlinewidth": 0,
             "ticks": ""
            },
            "colorscale": [
             [
              0,
              "#0d0887"
             ],
             [
              0.1111111111111111,
              "#46039f"
             ],
             [
              0.2222222222222222,
              "#7201a8"
             ],
             [
              0.3333333333333333,
              "#9c179e"
             ],
             [
              0.4444444444444444,
              "#bd3786"
             ],
             [
              0.5555555555555556,
              "#d8576b"
             ],
             [
              0.6666666666666666,
              "#ed7953"
             ],
             [
              0.7777777777777778,
              "#fb9f3a"
             ],
             [
              0.8888888888888888,
              "#fdca26"
             ],
             [
              1,
              "#f0f921"
             ]
            ],
            "type": "heatmapgl"
           }
          ],
          "histogram": [
           {
            "marker": {
             "pattern": {
              "fillmode": "overlay",
              "size": 10,
              "solidity": 0.2
             }
            },
            "type": "histogram"
           }
          ],
          "histogram2d": [
           {
            "colorbar": {
             "outlinewidth": 0,
             "ticks": ""
            },
            "colorscale": [
             [
              0,
              "#0d0887"
             ],
             [
              0.1111111111111111,
              "#46039f"
             ],
             [
              0.2222222222222222,
              "#7201a8"
             ],
             [
              0.3333333333333333,
              "#9c179e"
             ],
             [
              0.4444444444444444,
              "#bd3786"
             ],
             [
              0.5555555555555556,
              "#d8576b"
             ],
             [
              0.6666666666666666,
              "#ed7953"
             ],
             [
              0.7777777777777778,
              "#fb9f3a"
             ],
             [
              0.8888888888888888,
              "#fdca26"
             ],
             [
              1,
              "#f0f921"
             ]
            ],
            "type": "histogram2d"
           }
          ],
          "histogram2dcontour": [
           {
            "colorbar": {
             "outlinewidth": 0,
             "ticks": ""
            },
            "colorscale": [
             [
              0,
              "#0d0887"
             ],
             [
              0.1111111111111111,
              "#46039f"
             ],
             [
              0.2222222222222222,
              "#7201a8"
             ],
             [
              0.3333333333333333,
              "#9c179e"
             ],
             [
              0.4444444444444444,
              "#bd3786"
             ],
             [
              0.5555555555555556,
              "#d8576b"
             ],
             [
              0.6666666666666666,
              "#ed7953"
             ],
             [
              0.7777777777777778,
              "#fb9f3a"
             ],
             [
              0.8888888888888888,
              "#fdca26"
             ],
             [
              1,
              "#f0f921"
             ]
            ],
            "type": "histogram2dcontour"
           }
          ],
          "mesh3d": [
           {
            "colorbar": {
             "outlinewidth": 0,
             "ticks": ""
            },
            "type": "mesh3d"
           }
          ],
          "parcoords": [
           {
            "line": {
             "colorbar": {
              "outlinewidth": 0,
              "ticks": ""
             }
            },
            "type": "parcoords"
           }
          ],
          "pie": [
           {
            "automargin": true,
            "type": "pie"
           }
          ],
          "scatter": [
           {
            "marker": {
             "colorbar": {
              "outlinewidth": 0,
              "ticks": ""
             }
            },
            "type": "scatter"
           }
          ],
          "scatter3d": [
           {
            "line": {
             "colorbar": {
              "outlinewidth": 0,
              "ticks": ""
             }
            },
            "marker": {
             "colorbar": {
              "outlinewidth": 0,
              "ticks": ""
             }
            },
            "type": "scatter3d"
           }
          ],
          "scattercarpet": [
           {
            "marker": {
             "colorbar": {
              "outlinewidth": 0,
              "ticks": ""
             }
            },
            "type": "scattercarpet"
           }
          ],
          "scattergeo": [
           {
            "marker": {
             "colorbar": {
              "outlinewidth": 0,
              "ticks": ""
             }
            },
            "type": "scattergeo"
           }
          ],
          "scattergl": [
           {
            "marker": {
             "colorbar": {
              "outlinewidth": 0,
              "ticks": ""
             }
            },
            "type": "scattergl"
           }
          ],
          "scattermapbox": [
           {
            "marker": {
             "colorbar": {
              "outlinewidth": 0,
              "ticks": ""
             }
            },
            "type": "scattermapbox"
           }
          ],
          "scatterpolar": [
           {
            "marker": {
             "colorbar": {
              "outlinewidth": 0,
              "ticks": ""
             }
            },
            "type": "scatterpolar"
           }
          ],
          "scatterpolargl": [
           {
            "marker": {
             "colorbar": {
              "outlinewidth": 0,
              "ticks": ""
             }
            },
            "type": "scatterpolargl"
           }
          ],
          "scatterternary": [
           {
            "marker": {
             "colorbar": {
              "outlinewidth": 0,
              "ticks": ""
             }
            },
            "type": "scatterternary"
           }
          ],
          "surface": [
           {
            "colorbar": {
             "outlinewidth": 0,
             "ticks": ""
            },
            "colorscale": [
             [
              0,
              "#0d0887"
             ],
             [
              0.1111111111111111,
              "#46039f"
             ],
             [
              0.2222222222222222,
              "#7201a8"
             ],
             [
              0.3333333333333333,
              "#9c179e"
             ],
             [
              0.4444444444444444,
              "#bd3786"
             ],
             [
              0.5555555555555556,
              "#d8576b"
             ],
             [
              0.6666666666666666,
              "#ed7953"
             ],
             [
              0.7777777777777778,
              "#fb9f3a"
             ],
             [
              0.8888888888888888,
              "#fdca26"
             ],
             [
              1,
              "#f0f921"
             ]
            ],
            "type": "surface"
           }
          ],
          "table": [
           {
            "cells": {
             "fill": {
              "color": "#EBF0F8"
             },
             "line": {
              "color": "white"
             }
            },
            "header": {
             "fill": {
              "color": "#C8D4E3"
             },
             "line": {
              "color": "white"
             }
            },
            "type": "table"
           }
          ]
         },
         "layout": {
          "annotationdefaults": {
           "arrowcolor": "#2a3f5f",
           "arrowhead": 0,
           "arrowwidth": 1
          },
          "autotypenumbers": "strict",
          "coloraxis": {
           "colorbar": {
            "outlinewidth": 0,
            "ticks": ""
           }
          },
          "colorscale": {
           "diverging": [
            [
             0,
             "#8e0152"
            ],
            [
             0.1,
             "#c51b7d"
            ],
            [
             0.2,
             "#de77ae"
            ],
            [
             0.3,
             "#f1b6da"
            ],
            [
             0.4,
             "#fde0ef"
            ],
            [
             0.5,
             "#f7f7f7"
            ],
            [
             0.6,
             "#e6f5d0"
            ],
            [
             0.7,
             "#b8e186"
            ],
            [
             0.8,
             "#7fbc41"
            ],
            [
             0.9,
             "#4d9221"
            ],
            [
             1,
             "#276419"
            ]
           ],
           "sequential": [
            [
             0,
             "#0d0887"
            ],
            [
             0.1111111111111111,
             "#46039f"
            ],
            [
             0.2222222222222222,
             "#7201a8"
            ],
            [
             0.3333333333333333,
             "#9c179e"
            ],
            [
             0.4444444444444444,
             "#bd3786"
            ],
            [
             0.5555555555555556,
             "#d8576b"
            ],
            [
             0.6666666666666666,
             "#ed7953"
            ],
            [
             0.7777777777777778,
             "#fb9f3a"
            ],
            [
             0.8888888888888888,
             "#fdca26"
            ],
            [
             1,
             "#f0f921"
            ]
           ],
           "sequentialminus": [
            [
             0,
             "#0d0887"
            ],
            [
             0.1111111111111111,
             "#46039f"
            ],
            [
             0.2222222222222222,
             "#7201a8"
            ],
            [
             0.3333333333333333,
             "#9c179e"
            ],
            [
             0.4444444444444444,
             "#bd3786"
            ],
            [
             0.5555555555555556,
             "#d8576b"
            ],
            [
             0.6666666666666666,
             "#ed7953"
            ],
            [
             0.7777777777777778,
             "#fb9f3a"
            ],
            [
             0.8888888888888888,
             "#fdca26"
            ],
            [
             1,
             "#f0f921"
            ]
           ]
          },
          "colorway": [
           "#636efa",
           "#EF553B",
           "#00cc96",
           "#ab63fa",
           "#FFA15A",
           "#19d3f3",
           "#FF6692",
           "#B6E880",
           "#FF97FF",
           "#FECB52"
          ],
          "font": {
           "color": "#2a3f5f"
          },
          "geo": {
           "bgcolor": "white",
           "lakecolor": "white",
           "landcolor": "#E5ECF6",
           "showlakes": true,
           "showland": true,
           "subunitcolor": "white"
          },
          "hoverlabel": {
           "align": "left"
          },
          "hovermode": "closest",
          "mapbox": {
           "style": "light"
          },
          "paper_bgcolor": "white",
          "plot_bgcolor": "#E5ECF6",
          "polar": {
           "angularaxis": {
            "gridcolor": "white",
            "linecolor": "white",
            "ticks": ""
           },
           "bgcolor": "#E5ECF6",
           "radialaxis": {
            "gridcolor": "white",
            "linecolor": "white",
            "ticks": ""
           }
          },
          "scene": {
           "xaxis": {
            "backgroundcolor": "#E5ECF6",
            "gridcolor": "white",
            "gridwidth": 2,
            "linecolor": "white",
            "showbackground": true,
            "ticks": "",
            "zerolinecolor": "white"
           },
           "yaxis": {
            "backgroundcolor": "#E5ECF6",
            "gridcolor": "white",
            "gridwidth": 2,
            "linecolor": "white",
            "showbackground": true,
            "ticks": "",
            "zerolinecolor": "white"
           },
           "zaxis": {
            "backgroundcolor": "#E5ECF6",
            "gridcolor": "white",
            "gridwidth": 2,
            "linecolor": "white",
            "showbackground": true,
            "ticks": "",
            "zerolinecolor": "white"
           }
          },
          "shapedefaults": {
           "line": {
            "color": "#2a3f5f"
           }
          },
          "ternary": {
           "aaxis": {
            "gridcolor": "white",
            "linecolor": "white",
            "ticks": ""
           },
           "baxis": {
            "gridcolor": "white",
            "linecolor": "white",
            "ticks": ""
           },
           "bgcolor": "#E5ECF6",
           "caxis": {
            "gridcolor": "white",
            "linecolor": "white",
            "ticks": ""
           }
          },
          "title": {
           "x": 0.05
          },
          "xaxis": {
           "automargin": true,
           "gridcolor": "white",
           "linecolor": "white",
           "ticks": "",
           "title": {
            "standoff": 15
           },
           "zerolinecolor": "white",
           "zerolinewidth": 2
          },
          "yaxis": {
           "automargin": true,
           "gridcolor": "white",
           "linecolor": "white",
           "ticks": "",
           "title": {
            "standoff": 15
           },
           "zerolinecolor": "white",
           "zerolinewidth": 2
          }
         }
        },
        "title": {
         "text": "has usable ace"
        },
        "width": 700
       }
      }
     },
     "metadata": {},
     "output_type": "display_data"
    }
   ],
   "source": [
    "fig = go.Figure(\n",
    "    data=[\n",
    "        go.Mesh3d(\n",
    "            x=[v[0][0] for v in V if v[0][2] % 2 == 1],\n",
    "            y=[v[0][1] for v in V if v[0][2] % 2 == 1],\n",
    "            z=[v[1] for v in V if v[0][2] % 2 == 1],\n",
    "            opacity=0.5,\n",
    "            color=\"rgba(244,22,100,0.6)\",\n",
    "        )\n",
    "    ]\n",
    ")\n",
    "\n",
    "fig.update_layout(\n",
    "    title=\"has usable ace\",\n",
    "    scene=dict(\n",
    "        xaxis=dict(\n",
    "            nticks=4,\n",
    "            title=\"my sum\",\n",
    "            range=[10, 25],\n",
    "        ),\n",
    "        yaxis=dict(\n",
    "            title=\"dealer show\",\n",
    "            nticks=4,\n",
    "            range=[0, 12],\n",
    "        ),\n",
    "        zaxis=dict(\n",
    "            title=\"state value\",\n",
    "            nticks=4,\n",
    "            range=[-1.2, 1.2],\n",
    "        ),\n",
    "    ),\n",
    "    width=700,\n",
    ")\n",
    "\n",
    "fig.show()\n"
   ]
  }
 ],
 "metadata": {
  "interpreter": {
   "hash": "916dbcbb3f70747c44a77c7bcd40155683ae19c65e1c03b4aa3499c5328201f1"
  },
  "kernelspec": {
   "display_name": "Python 3.8.10 64-bit",
   "language": "python",
   "name": "python3"
  },
  "language_info": {
   "codemirror_mode": {
    "name": "ipython",
    "version": 3
   },
   "file_extension": ".py",
   "mimetype": "text/x-python",
   "name": "python",
   "nbconvert_exporter": "python",
   "pygments_lexer": "ipython3",
   "version": "3.8.10"
  },
  "orig_nbformat": 4
 },
 "nbformat": 4,
 "nbformat_minor": 2
}

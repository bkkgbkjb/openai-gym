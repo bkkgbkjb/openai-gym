{
 "cells": [
  {
   "cell_type": "code",
   "execution_count": 1,
   "metadata": {},
   "outputs": [],
   "source": [
    "import numpy as np\n",
    "\n",
    "# from gym.envs.toy_text import BlackjackEnv\n",
    "import gym\n",
    "from typing import Literal, List, Tuple, cast, Dict, Optional, Callable, Protocol, Union\n",
    "import plotly.graph_objects as go\n",
    "from copy import deepcopy\n",
    "from abc import abstractmethod, ABC\n",
    "import math\n",
    "import sys\n",
    "from primefac import primegen\n",
    "from tqdm.autonotebook import tqdm\n",
    "import plotly.express as px\n",
    "\n",
    "import io\n"
   ]
  },
  {
   "cell_type": "code",
   "execution_count": 2,
   "metadata": {},
   "outputs": [],
   "source": [
    "RANDOM_SEED = 0\n",
    "np.random.seed(RANDOM_SEED)\n"
   ]
  },
  {
   "cell_type": "code",
   "execution_count": 3,
   "metadata": {},
   "outputs": [
    {
     "data": {
      "text/plain": [
       "<TimeLimit<MountainCarEnv<MountainCar-v0>>>"
      ]
     },
     "execution_count": 3,
     "metadata": {},
     "output_type": "execute_result"
    }
   ],
   "source": [
    "env = gym.make('MountainCar-v0')\n",
    "env.seed(RANDOM_SEED)\n",
    "env\n"
   ]
  },
  {
   "cell_type": "code",
   "execution_count": 4,
   "metadata": {},
   "outputs": [
    {
     "data": {
      "text/plain": [
       "array([-0.589128,  0.      ], dtype=float32)"
      ]
     },
     "execution_count": 4,
     "metadata": {},
     "output_type": "execute_result"
    }
   ],
   "source": [
    "env.reset()"
   ]
  },
  {
   "cell_type": "code",
   "execution_count": 5,
   "metadata": {},
   "outputs": [],
   "source": [
    "# env.render()"
   ]
  },
  {
   "cell_type": "code",
   "execution_count": 6,
   "metadata": {},
   "outputs": [],
   "source": [
    "Position = float\n",
    "Velocity = float\n",
    "State = Tuple[Position, Velocity]\n",
    "\n",
    "Action = Literal[0, 1, 2]\n",
    "\n",
    "StateAction = Tuple[State, Action]\n",
    "Observation = State\n",
    "\n",
    "\"\"\"\n",
    "- 0: Accelerate to the Left\n",
    "- 1: Don't accelerate\n",
    "- 2: Accelerate to the Right\n",
    "\"\"\"\n",
    "Reward = float\n",
    "Step = Tuple[State, Optional[Action], Optional[Reward]]\n",
    "Episode = List[Step]\n",
    "\n",
    "# all_states: List[State] = list(range(1000))\n",
    "all_actions: List[Action] = [0, 1, 2]\n",
    "# nums_of_all_state = len(all_states)\n",
    "# nums_of_all_state_action = len(all_states) * len(all_actions)\n",
    "# allowed_actions: List[List[Action]] = [\n",
    "#     all_actions for _ in range(nums_of_all_state)]\n",
    "\n",
    "\n",
    "Feature = np.ndarray\n",
    "Weight = np.ndarray\n"
   ]
  },
  {
   "cell_type": "code",
   "execution_count": 7,
   "metadata": {},
   "outputs": [],
   "source": [
    "class FeatureInterface(Protocol):\n",
    "    len: int\n",
    "\n",
    "    @abstractmethod\n",
    "    def to_feature(self, sa: StateAction) -> Feature:\n",
    "        raise NotImplementedError()\n",
    "\n",
    "    def one_hot_encode(self, a: Action) -> List[int]:\n",
    "        assert a in all_actions, f\"bad action encountered: {a}\"\n",
    "        if a == 0:\n",
    "            return [1, 0, 0]\n",
    "        elif a == 1:\n",
    "            return [0, 1, 0]\n",
    "        else:\n",
    "            return [0, 0, 1]\n",
    "\n",
    "\n",
    "class Tiling(FeatureInterface):\n",
    "    def __init__(self, n_tilings: int, input_range: List[Tuple[float, float]]):\n",
    "\n",
    "        if n_tilings // 2 == 0:\n",
    "            n_tilings = n_tilings + 1\n",
    "\n",
    "        assert n_tilings > 1, f\"number of tilings cannot be lower than 2: {n_tilings}\"\n",
    "\n",
    "        self.input_range = input_range\n",
    "        self.dimension = len(input_range)\n",
    "\n",
    "        assert self.dimension >= 1, f\"cannot manupilate on 0-dimension\"\n",
    "\n",
    "        self.n_tilings = n_tilings\n",
    "        # self.n_tiles_per_tiling = n_tilings\n",
    "        # self.len = n_tilings * (2 * n_tilings - 1)\n",
    "        self.len = n_tilings * n_tilings * self.dimension + 3\n",
    "\n",
    "        self.tilings = self.compute_tilings()\n",
    "\n",
    "    def get_tiling_point(self, nums: List[float], n_partitions: int) -> List[float]:\n",
    "        assert len(nums) >= 2, f\"unexpected nums encountered: {nums}\"\n",
    "        assert n_partitions >= 2, f\"unexpected n_partitions encountered: {n_partitions}\"\n",
    "\n",
    "        (l, r) = (nums[0], nums[-1])\n",
    "\n",
    "        delta = (r - l) / n_partitions\n",
    "\n",
    "        return [l, *[l + i * delta for i in range(1, n_partitions)], r]\n",
    "\n",
    "    def find_lowest_prime(self) -> int:\n",
    "        return 13\n",
    "        return list(primegen(100 / self.n_tilings))[-1]\n",
    "\n",
    "    def compute_tilings(self) -> List[List[List[float]]]:\n",
    "        points: List[List[List[float]]] = []\n",
    "\n",
    "        for (l, r) in self.input_range:\n",
    "            points_one_dimen: List[List[float]] = []\n",
    "\n",
    "            pivot_points = self.get_tiling_point([l, r], self.n_tilings)\n",
    "            points_one_dimen.append(pivot_points)\n",
    "\n",
    "            move_delta = self.find_lowest_prime()\n",
    "\n",
    "            # print(int(self.n_tilings + 1) / 2)\n",
    "            for i in range(1, int((self.n_tilings + 1) / 2)):\n",
    "                points_one_dimen.append(\n",
    "                    self.move_tiling_points(pivot_points, move_delta * i)\n",
    "                )\n",
    "                points_one_dimen.append(\n",
    "                    self.move_tiling_points(pivot_points, -1 * move_delta * i)\n",
    "                )\n",
    "\n",
    "            points.append(points_one_dimen)\n",
    "\n",
    "        return points\n",
    "\n",
    "    def point_in_range(self, p: float, rang: List[float]) -> List[Literal[0, 1]]:\n",
    "        v: List[Literal[0, 1]] = []\n",
    "        for i in range(1, len(rang)):\n",
    "            if rang[i - 1] <= p < rang[i]:\n",
    "                v.append(1)\n",
    "            else:\n",
    "                v.append(0)\n",
    "\n",
    "        assert (\n",
    "            len(v) == len(rang) - 1\n",
    "        ), f\"bad length of v encountered: {len(v)}, {len(rang)-1}\"\n",
    "\n",
    "        return v\n",
    "\n",
    "    def to_feature(self, sa: StateAction) -> Feature:\n",
    "        ((pos, vel), a) = sa\n",
    "        pos_dim = self.tilings[0]\n",
    "        vel_dim = self.tilings[1]\n",
    "\n",
    "        pos_feat = [self.point_in_range(pos, t) for t in pos_dim]\n",
    "        vel_feat = [self.point_in_range(vel, t) for t in vel_dim]\n",
    "\n",
    "        pos_feat_one_dim = [inner for outer in pos_feat for inner in outer]\n",
    "        vel_feat_one_dim = [inner for outer in vel_feat for inner in outer]\n",
    "\n",
    "        return np.asarray(\n",
    "            [*pos_feat_one_dim, *vel_feat_one_dim, *self.one_hot_encode(a)]\n",
    "        )\n",
    "\n",
    "    def move_tiling_points(\n",
    "        self,\n",
    "        points: List[float],\n",
    "        percentile: int,\n",
    "    ) -> List[float]:\n",
    "        # return [(np.round(lp + delta), np.round(rp + delta)) for (lp, rp) in tiling]\n",
    "        # delta = splitting_points[1] - splitting_points[0]\n",
    "        assert len(points) >= 2, f\"bad points: {points}\"\n",
    "\n",
    "        rang = points[-1] - points[0]\n",
    "\n",
    "        return [p + percentile / 100 * rang for p in points]\n",
    "\n",
    "\n",
    "class TestFeature(FeatureInterface):\n",
    "    def __init__(self):\n",
    "        self.len = 8\n",
    "\n",
    "    def to_feature(self, sa: StateAction) -> Feature:\n",
    "        ((pos, vel), a) = sa\n",
    "        v = [1, pos, vel, pos + vel, pos * vel, *self.one_hot_encode(a)]\n",
    "        assert len(v) == self.len, f\"unexpected length encountered: {len(v)}\"\n",
    "        return np.asarray(v)\n",
    "\n",
    "\n",
    "class AppxInterface(Protocol):\n",
    "    feature_algorithm: FeatureInterface\n",
    "\n",
    "    @abstractmethod\n",
    "    def predict(self, sa: StateAction, w: Weight) -> float:\n",
    "        raise NotImplemented()\n",
    "\n",
    "    @abstractmethod\n",
    "    def gradient(self, sa: StateAction, w: Weight) -> np.ndarray:\n",
    "        raise NotImplemented()\n",
    "\n",
    "\n",
    "class Linear(AppxInterface):\n",
    "    def __init__(self, feature_algorithm: FeatureInterface):\n",
    "        self.feature_algorithm = feature_algorithm\n",
    "\n",
    "    def predict(self, sa: StateAction, w: Weight) -> float:\n",
    "        return np.inner(self.feature_algorithm.to_feature(sa), w)\n",
    "\n",
    "    def gradient(self, sa: StateAction, w: Weight) -> np.ndarray:\n",
    "        return self.feature_algorithm.to_feature(sa)\n",
    "\n",
    "\n",
    "class PolicyInterface(Protocol):\n",
    "    appx_algorithm: AppxInterface\n",
    "\n",
    "    @abstractmethod\n",
    "    def allowed_actions(self, s: State) -> List[Action]:\n",
    "        raise NotImplementedError()\n",
    "\n",
    "    @abstractmethod\n",
    "    def take_action(self, s: State, w: Weight) -> Action:\n",
    "        raise NotImplementedError()\n",
    "\n",
    "\n",
    "class SigmaGreddy(PolicyInterface):\n",
    "    def __init__(self, sigma: float, appx_algorithm: AppxInterface):\n",
    "        assert 0 <= sigma <= 1, \"sima out of bound\"\n",
    "        self.sigma = sigma\n",
    "        self.appx_algorithm = appx_algorithm\n",
    "\n",
    "    def allowed_actions(self, s: State) -> List[Action]:\n",
    "        return all_actions\n",
    "\n",
    "    def take_action(self, s: State, w: Weight) -> Action:\n",
    "        rand = np.random.random()\n",
    "        all_actions = self.allowed_actions(s)\n",
    "        if rand < self.sigma:\n",
    "            return np.random.choice(all_actions)\n",
    "        else:\n",
    "            maxi = np.argmax(\n",
    "                [self.appx_algorithm.predict((s, a), w) for a in all_actions]\n",
    "            )\n",
    "            return all_actions[maxi]\n",
    "\n",
    "\n",
    "class AlwaysRight(PolicyInterface):\n",
    "    def __init__(self, appx_algorithm: AppxInterface):\n",
    "        self.appx_algorithm = appx_algorithm\n",
    "\n",
    "    def allowed_actions(self, s: State) -> List[Action]:\n",
    "        return all_actions\n",
    "\n",
    "    def take_action(self, s: State, w: Weight) -> Action:\n",
    "        return 2\n",
    "\n",
    "\n",
    "class AlgorithmInterface(Protocol):\n",
    "    n_of_omega: int\n",
    "    policy_algorithm: PolicyInterface\n",
    "\n",
    "    @abstractmethod\n",
    "    def after_step(\n",
    "        self, cur_state_action: StateAction, episode: Episode, omega: np.ndarray\n",
    "    ):\n",
    "        raise NotImplementedError()\n",
    "\n",
    "    @abstractmethod\n",
    "    def on_termination(self, episode: Episode, omega: np.ndarray):\n",
    "        raise NotImplementedError()\n",
    "\n",
    "    def allowed_actions(self, s: State) -> List[Action]:\n",
    "        return self.policy_algorithm.allowed_actions(s)\n",
    "\n",
    "    def is_terminal_state(self, s: State) -> bool:\n",
    "        (pos, _) = s\n",
    "        if pos >= 0.5:\n",
    "            return True\n",
    "        return False\n",
    "\n",
    "    def take_action(self, s: State, omega: Weight) -> Action:\n",
    "        if self.is_terminal_state(s):\n",
    "            return np.random.choice(self.allowed_actions(s))\n",
    "\n",
    "        return self.policy_algorithm.take_action(s, omega)\n",
    "\n",
    "    def predict(self, sa: StateAction, w: Weight) -> float:\n",
    "        # assert -1 <= s <= len(all_states), f\"unexpected state encounter: {s}\"\n",
    "        (s, _) = sa\n",
    "        if self.is_terminal_state(s):\n",
    "            return 0\n",
    "\n",
    "        # if s == -1 or s == len(all_states):\n",
    "        #     return 0\n",
    "\n",
    "        return self.policy_algorithm.appx_algorithm.predict(sa, w)\n",
    "\n",
    "    def gradient(self, sa: StateAction, w: Weight) -> np.ndarray:\n",
    "        # assert 0 <= s < len(all_states), f\"unexpected state encounter: {s}\"\n",
    "\n",
    "        return self.policy_algorithm.appx_algorithm.gradient(sa, w)\n",
    "\n",
    "\n",
    "class Sarsa(AlgorithmInterface):\n",
    "    def __init__(\n",
    "        self,\n",
    "        alpha: float,\n",
    "        policy_algorithm=PolicyInterface,\n",
    "        gamma: float = 1.0,\n",
    "    ):\n",
    "        self.alpha = alpha\n",
    "        self.gamma = gamma\n",
    "        self.policy_algorithm = policy_algorithm\n",
    "\n",
    "        self.n_of_omega = self.policy_algorithm.appx_algorithm.feature_algorithm.len\n",
    "\n",
    "    def after_step(\n",
    "        self, this_state_action: StateAction, episode: Episode, omega: np.ndarray\n",
    "    ):\n",
    "        # (this_s, this_a) = this_state_action\n",
    "        history = episode[-1:]\n",
    "        gamma = self.gamma\n",
    "\n",
    "        # if len(history) != (1 + n):\n",
    "        #     return\n",
    "        assert len(history) == (\n",
    "            1\n",
    "        ), f\"unexpected history length encountered: {len(history)}\"\n",
    "\n",
    "        (old_s, old_a, r) = history[0]\n",
    "\n",
    "        rwd = cast(Reward, r) + gamma * self.predict(this_state_action, omega)\n",
    "\n",
    "        omega += (\n",
    "            self.alpha\n",
    "            * (rwd - self.predict((old_s, cast(Action, old_a)), omega))\n",
    "            * self.gradient((old_s, cast(Action, old_a)), omega)\n",
    "        )\n",
    "\n",
    "    def on_termination(self, episode: Episode, omega: Weight):\n",
    "        pass\n"
   ]
  },
  {
   "cell_type": "code",
   "execution_count": 8,
   "metadata": {},
   "outputs": [],
   "source": [
    "class Agent:\n",
    "    def __init__(\n",
    "        self,\n",
    "        env: gym.Env,\n",
    "        algm: AlgorithmInterface,\n",
    "    ):\n",
    "        self.env = env\n",
    "        self.algm = algm\n",
    "        self.clear()\n",
    "\n",
    "    def reset(self):\n",
    "        self.cur_state: State = self.env.reset()\n",
    "        self.ready_act: Optional[Action] = None\n",
    "        self.end = False\n",
    "        self.episode: Episode = []\n",
    "\n",
    "    def clear(self):\n",
    "        self.reset()\n",
    "\n",
    "        self.omega = np.asarray(\n",
    "            # [np.random.random() for _ in range(self.algm.n_of_omega)]\n",
    "            [0.0 for _ in range(self.algm.n_of_omega)]\n",
    "        )\n",
    "        # self.episodes: List[Episode] = []\n",
    "\n",
    "    def step(self) -> Tuple[Observation, bool, Optional[Episode]]:\n",
    "        assert not self.end, \"cannot step on a ended agent\"\n",
    "\n",
    "        act = self.ready_act or self.algm.take_action(self.cur_state, self.omega)\n",
    "        (obs, rwd, stop, _) = self.env.step(act)\n",
    "        obs = cast(Observation, obs)\n",
    "\n",
    "        self.episode.append((self.cur_state, act, rwd))\n",
    "\n",
    "        self.cur_state = obs\n",
    "\n",
    "        self.ready_act = self.algm.take_action(self.cur_state, self.omega)\n",
    "\n",
    "        self.algm.after_step((self.cur_state, self.ready_act), self.episode, self.omega)\n",
    "\n",
    "        if stop:\n",
    "            self.episode.append((self.cur_state, None, None))\n",
    "            # self.episodes.append(self.episode)\n",
    "            self.end = True\n",
    "            self.algm.on_termination(self.episode, self.omega)\n",
    "            # self.episode = []\n",
    "            return (obs, stop, self.episode)\n",
    "\n",
    "        return (obs, stop, None)\n",
    "\n",
    "    def render(self):\n",
    "        self.env.render()\n",
    "\n",
    "    def close(self):\n",
    "        self.clear()\n",
    "        self.env.close()\n",
    "\n",
    "    def predict(self, s: State) -> float:\n",
    "        return np.max(\n",
    "            [\n",
    "                self.algm.predict((s, a), self.omega)\n",
    "                for a in self.algm.allowed_actions(s)\n",
    "            ]\n",
    "        )\n"
   ]
  },
  {
   "cell_type": "code",
   "execution_count": 9,
   "metadata": {},
   "outputs": [
    {
     "name": "stderr",
     "output_type": "stream",
     "text": [
      "100%|██████████| 500/500 [12:32<00:00,  1.50s/it]\n"
     ]
    }
   ],
   "source": [
    "TOTAL_TRAINING_EPISODES = 500\n",
    "MAX_EPISODE_STEPS_IN_TRAINING = 1e3\n",
    "env._max_episode_steps= MAX_EPISODE_STEPS_IN_TRAINING\n",
    "agent = Agent(\n",
    "    cast(gym.Env, env),\n",
    "    # Sarsa(2e-2, SigmaGreddy(0.1, Linear(TestFeature())))\n",
    "    # Sarsa(0.3, SigmaGreddy(0.05, Linear(TestFeature())))\n",
    "    Sarsa(0.1, SigmaGreddy(0, Linear(Tiling(7, [(-1.2, 0.6), (-0.07, 0.07)]))))\n",
    "    # TDN(9, 2e-4, Linear(), Tiling(5))\n",
    ")\n",
    "\n",
    "\n",
    "training = tqdm(range(TOTAL_TRAINING_EPISODES))\n",
    "\n",
    "# last_omega: Optional[np.ndarray] = None\n",
    "\n",
    "run_rewards: List[float] = []\n",
    "\n",
    "for run in training:\n",
    "    agent.reset()\n",
    "    end = False\n",
    "    while not end:\n",
    "        _, end, episode = agent.step()\n",
    "\n",
    "        # agent.render()\n",
    "        \n",
    "\n",
    "        if end:\n",
    "            run_rewards.append(\n",
    "                np.sum(\n",
    "                    [r if r is not None else 0 for (_, _, r) in cast(Episode, episode)]\n",
    "                )\n",
    "            )\n",
    "\n",
    "    # if run > 1:\n",
    "    #     progress.set_postfix_str(\n",
    "    #         str(np.linalg.norm(agent.omega - last_omega)))\n",
    "\n",
    "    # last_omega = deepcopy(agent.omega)\n"
   ]
  },
  {
   "cell_type": "code",
   "execution_count": 21,
   "metadata": {},
   "outputs": [
    {
     "data": {
      "application/vnd.plotly.v1+json": {
       "config": {
        "plotlyServerURL": "https://plot.ly"
       },
       "data": [
        {
         "type": "scatter",
         "x": [
          1,
          2,
          3,
          4,
          5,
          6,
          7,
          8,
          9,
          10,
          11,
          12,
          13,
          14,
          15,
          16,
          17,
          18,
          19,
          20,
          21,
          22,
          23,
          24,
          25,
          26,
          27,
          28,
          29,
          30,
          31,
          32,
          33,
          34,
          35,
          36,
          37,
          38,
          39,
          40,
          41,
          42,
          43,
          44,
          45,
          46,
          47,
          48,
          49,
          50,
          51,
          52,
          53,
          54,
          55,
          56,
          57,
          58,
          59,
          60,
          61,
          62,
          63,
          64,
          65,
          66,
          67,
          68,
          69,
          70,
          71,
          72,
          73,
          74,
          75,
          76,
          77,
          78,
          79,
          80,
          81,
          82,
          83,
          84,
          85,
          86,
          87,
          88,
          89,
          90,
          91,
          92,
          93,
          94,
          95,
          96,
          97,
          98,
          99,
          100,
          101,
          102,
          103,
          104,
          105,
          106,
          107,
          108,
          109,
          110,
          111,
          112,
          113,
          114,
          115,
          116,
          117,
          118,
          119,
          120,
          121,
          122,
          123,
          124,
          125,
          126,
          127,
          128,
          129,
          130,
          131,
          132,
          133,
          134,
          135,
          136,
          137,
          138,
          139,
          140,
          141,
          142,
          143,
          144,
          145,
          146,
          147,
          148,
          149,
          150,
          151,
          152,
          153,
          154,
          155,
          156,
          157,
          158,
          159,
          160,
          161,
          162,
          163,
          164,
          165,
          166,
          167,
          168,
          169,
          170,
          171,
          172,
          173,
          174,
          175,
          176,
          177,
          178,
          179,
          180,
          181,
          182,
          183,
          184,
          185,
          186,
          187,
          188,
          189,
          190,
          191,
          192,
          193,
          194,
          195,
          196,
          197,
          198,
          199,
          200,
          201,
          202,
          203,
          204,
          205,
          206,
          207,
          208,
          209,
          210,
          211,
          212,
          213,
          214,
          215,
          216,
          217,
          218,
          219,
          220,
          221,
          222,
          223,
          224,
          225,
          226,
          227,
          228,
          229,
          230,
          231,
          232,
          233,
          234,
          235,
          236,
          237,
          238,
          239,
          240,
          241,
          242,
          243,
          244,
          245,
          246,
          247,
          248,
          249,
          250,
          251,
          252,
          253,
          254,
          255,
          256,
          257,
          258,
          259,
          260,
          261,
          262,
          263,
          264,
          265,
          266,
          267,
          268,
          269,
          270,
          271,
          272,
          273,
          274,
          275,
          276,
          277,
          278,
          279,
          280,
          281,
          282,
          283,
          284,
          285,
          286,
          287,
          288,
          289,
          290,
          291,
          292,
          293,
          294,
          295,
          296,
          297,
          298,
          299,
          300,
          301,
          302,
          303,
          304,
          305,
          306,
          307,
          308,
          309,
          310,
          311,
          312,
          313,
          314,
          315,
          316,
          317,
          318,
          319,
          320,
          321,
          322,
          323,
          324,
          325,
          326,
          327,
          328,
          329,
          330,
          331,
          332,
          333,
          334,
          335,
          336,
          337,
          338,
          339,
          340,
          341,
          342,
          343,
          344,
          345,
          346,
          347,
          348,
          349,
          350,
          351,
          352,
          353,
          354,
          355,
          356,
          357,
          358,
          359,
          360,
          361,
          362,
          363,
          364,
          365,
          366,
          367,
          368,
          369,
          370,
          371,
          372,
          373,
          374,
          375,
          376,
          377,
          378,
          379,
          380,
          381,
          382,
          383,
          384,
          385,
          386,
          387,
          388,
          389,
          390,
          391,
          392,
          393,
          394,
          395,
          396,
          397,
          398,
          399,
          400,
          401,
          402,
          403,
          404,
          405,
          406,
          407,
          408,
          409,
          410,
          411,
          412,
          413,
          414,
          415,
          416,
          417,
          418,
          419,
          420,
          421,
          422,
          423,
          424,
          425,
          426,
          427,
          428,
          429,
          430,
          431,
          432,
          433,
          434,
          435,
          436,
          437,
          438,
          439,
          440,
          441,
          442,
          443,
          444,
          445,
          446,
          447,
          448,
          449,
          450,
          451,
          452,
          453,
          454,
          455,
          456,
          457,
          458,
          459,
          460,
          461,
          462,
          463,
          464,
          465,
          466,
          467,
          468,
          469,
          470,
          471,
          472,
          473,
          474,
          475,
          476,
          477,
          478,
          479,
          480,
          481,
          482,
          483,
          484,
          485,
          486,
          487,
          488,
          489,
          490,
          491,
          492,
          493,
          494,
          495,
          496,
          497,
          498,
          499,
          500
         ],
         "y": [
          159,
          220,
          210,
          374,
          269,
          579,
          1000,
          235,
          496,
          1000,
          253,
          1000,
          249,
          1000,
          185,
          1000,
          1000,
          542,
          862,
          1000,
          890,
          1000,
          1000,
          623,
          1000,
          778,
          1000,
          911,
          1000,
          1000,
          1000,
          1000,
          707,
          1000,
          1000,
          1000,
          1000,
          1000,
          1000,
          469,
          1000,
          931,
          1000,
          1000,
          1000,
          172,
          1000,
          1000,
          1000,
          1000,
          902,
          1000,
          1000,
          744,
          1000,
          1000,
          1000,
          1000,
          1000,
          1000,
          1000,
          1000,
          1000,
          193,
          1000,
          1000,
          244,
          1000,
          1000,
          1000,
          1000,
          1000,
          1000,
          1000,
          1000,
          1000,
          1000,
          1000,
          1000,
          1000,
          1000,
          1000,
          1000,
          1000,
          1000,
          964,
          1000,
          1000,
          1000,
          1000,
          1000,
          1000,
          721,
          1000,
          1000,
          1000,
          1000,
          575,
          1000,
          1000,
          1000,
          1000,
          1000,
          1000,
          1000,
          1000,
          1000,
          1000,
          484,
          1000,
          1000,
          1000,
          1000,
          820,
          1000,
          1000,
          1000,
          1000,
          1000,
          1000,
          1000,
          299,
          1000,
          1000,
          1000,
          1000,
          1000,
          1000,
          1000,
          1000,
          1000,
          900,
          1000,
          1000,
          1000,
          1000,
          1000,
          1000,
          307,
          1000,
          1000,
          1000,
          1000,
          1000,
          1000,
          1000,
          1000,
          1000,
          885,
          1000,
          1000,
          1000,
          1000,
          1000,
          1000,
          1000,
          1000,
          1000,
          1000,
          1000,
          1000,
          1000,
          1000,
          1000,
          1000,
          962,
          1000,
          1000,
          1000,
          1000,
          1000,
          1000,
          665,
          1000,
          1000,
          1000,
          1000,
          1000,
          1000,
          951,
          1000,
          1000,
          1000,
          1000,
          1000,
          1000,
          1000,
          1000,
          1000,
          1000,
          1000,
          325,
          1000,
          1000,
          1000,
          1000,
          1000,
          1000,
          1000,
          1000,
          1000,
          854,
          1000,
          1000,
          1000,
          1000,
          1000,
          1000,
          1000,
          956,
          1000,
          1000,
          1000,
          1000,
          1000,
          1000,
          886,
          1000,
          1000,
          1000,
          1000,
          1000,
          1000,
          1000,
          1000,
          1000,
          1000,
          1000,
          1000,
          1000,
          1000,
          1000,
          1000,
          1000,
          1000,
          1000,
          1000,
          1000,
          1000,
          1000,
          1000,
          707,
          1000,
          1000,
          1000,
          1000,
          1000,
          1000,
          1000,
          1000,
          1000,
          1000,
          1000,
          1000,
          1000,
          1000,
          1000,
          1000,
          657,
          1000,
          1000,
          1000,
          1000,
          1000,
          1000,
          1000,
          1000,
          147,
          1000,
          1000,
          1000,
          1000,
          1000,
          1000,
          476,
          1000,
          1000,
          1000,
          1000,
          1000,
          1000,
          1000,
          1000,
          1000,
          718,
          1000,
          1000,
          1000,
          1000,
          1000,
          1000,
          1000,
          1000,
          1000,
          1000,
          1000,
          1000,
          1000,
          1000,
          1000,
          1000,
          1000,
          1000,
          1000,
          1000,
          320,
          1000,
          1000,
          1000,
          1000,
          1000,
          1000,
          1000,
          1000,
          1000,
          1000,
          1000,
          1000,
          221,
          1000,
          1000,
          1000,
          1000,
          1000,
          1000,
          1000,
          1000,
          326,
          1000,
          1000,
          1000,
          1000,
          1000,
          1000,
          1000,
          1000,
          1000,
          1000,
          1000,
          1000,
          1000,
          1000,
          1000,
          1000,
          1000,
          1000,
          1000,
          1000,
          1000,
          1000,
          1000,
          1000,
          1000,
          1000,
          1000,
          1000,
          1000,
          1000,
          1000,
          1000,
          1000,
          1000,
          1000,
          1000,
          1000,
          851,
          1000,
          1000,
          1000,
          1000,
          1000,
          1000,
          1000,
          1000,
          1000,
          1000,
          1000,
          1000,
          1000,
          1000,
          740,
          1000,
          1000,
          1000,
          1000,
          1000,
          1000,
          1000,
          1000,
          1000,
          1000,
          1000,
          1000,
          1000,
          730,
          1000,
          1000,
          1000,
          1000,
          1000,
          1000,
          1000,
          1000,
          1000,
          1000,
          1000,
          1000,
          1000,
          1000,
          1000,
          163,
          1000,
          1000,
          1000,
          1000,
          1000,
          1000,
          1000,
          1000,
          1000,
          1000,
          1000,
          872,
          1000,
          1000,
          1000,
          1000,
          1000,
          1000,
          1000,
          1000,
          1000,
          1000,
          1000,
          1000,
          1000,
          1000,
          1000,
          1000,
          1000,
          1000,
          1000,
          1000,
          1000,
          635,
          1000,
          1000,
          1000,
          1000,
          1000,
          1000,
          1000,
          1000,
          1000,
          1000,
          1000,
          1000,
          1000,
          1000,
          1000,
          1000,
          1000,
          1000,
          1000,
          1000,
          1000,
          1000,
          1000,
          1000,
          1000,
          707,
          1000,
          1000,
          1000,
          1000,
          1000,
          1000,
          1000,
          1000,
          1000,
          1000,
          1000,
          1000,
          1000,
          1000,
          1000,
          1000,
          1000,
          1000,
          89,
          1000,
          1000,
          1000,
          1000,
          1000,
          1000,
          1000,
          1000,
          1000,
          1000
         ]
        }
       ],
       "layout": {
        "template": {
         "data": {
          "bar": [
           {
            "error_x": {
             "color": "#2a3f5f"
            },
            "error_y": {
             "color": "#2a3f5f"
            },
            "marker": {
             "line": {
              "color": "#E5ECF6",
              "width": 0.5
             },
             "pattern": {
              "fillmode": "overlay",
              "size": 10,
              "solidity": 0.2
             }
            },
            "type": "bar"
           }
          ],
          "barpolar": [
           {
            "marker": {
             "line": {
              "color": "#E5ECF6",
              "width": 0.5
             },
             "pattern": {
              "fillmode": "overlay",
              "size": 10,
              "solidity": 0.2
             }
            },
            "type": "barpolar"
           }
          ],
          "carpet": [
           {
            "aaxis": {
             "endlinecolor": "#2a3f5f",
             "gridcolor": "white",
             "linecolor": "white",
             "minorgridcolor": "white",
             "startlinecolor": "#2a3f5f"
            },
            "baxis": {
             "endlinecolor": "#2a3f5f",
             "gridcolor": "white",
             "linecolor": "white",
             "minorgridcolor": "white",
             "startlinecolor": "#2a3f5f"
            },
            "type": "carpet"
           }
          ],
          "choropleth": [
           {
            "colorbar": {
             "outlinewidth": 0,
             "ticks": ""
            },
            "type": "choropleth"
           }
          ],
          "contour": [
           {
            "colorbar": {
             "outlinewidth": 0,
             "ticks": ""
            },
            "colorscale": [
             [
              0,
              "#0d0887"
             ],
             [
              0.1111111111111111,
              "#46039f"
             ],
             [
              0.2222222222222222,
              "#7201a8"
             ],
             [
              0.3333333333333333,
              "#9c179e"
             ],
             [
              0.4444444444444444,
              "#bd3786"
             ],
             [
              0.5555555555555556,
              "#d8576b"
             ],
             [
              0.6666666666666666,
              "#ed7953"
             ],
             [
              0.7777777777777778,
              "#fb9f3a"
             ],
             [
              0.8888888888888888,
              "#fdca26"
             ],
             [
              1,
              "#f0f921"
             ]
            ],
            "type": "contour"
           }
          ],
          "contourcarpet": [
           {
            "colorbar": {
             "outlinewidth": 0,
             "ticks": ""
            },
            "type": "contourcarpet"
           }
          ],
          "heatmap": [
           {
            "colorbar": {
             "outlinewidth": 0,
             "ticks": ""
            },
            "colorscale": [
             [
              0,
              "#0d0887"
             ],
             [
              0.1111111111111111,
              "#46039f"
             ],
             [
              0.2222222222222222,
              "#7201a8"
             ],
             [
              0.3333333333333333,
              "#9c179e"
             ],
             [
              0.4444444444444444,
              "#bd3786"
             ],
             [
              0.5555555555555556,
              "#d8576b"
             ],
             [
              0.6666666666666666,
              "#ed7953"
             ],
             [
              0.7777777777777778,
              "#fb9f3a"
             ],
             [
              0.8888888888888888,
              "#fdca26"
             ],
             [
              1,
              "#f0f921"
             ]
            ],
            "type": "heatmap"
           }
          ],
          "heatmapgl": [
           {
            "colorbar": {
             "outlinewidth": 0,
             "ticks": ""
            },
            "colorscale": [
             [
              0,
              "#0d0887"
             ],
             [
              0.1111111111111111,
              "#46039f"
             ],
             [
              0.2222222222222222,
              "#7201a8"
             ],
             [
              0.3333333333333333,
              "#9c179e"
             ],
             [
              0.4444444444444444,
              "#bd3786"
             ],
             [
              0.5555555555555556,
              "#d8576b"
             ],
             [
              0.6666666666666666,
              "#ed7953"
             ],
             [
              0.7777777777777778,
              "#fb9f3a"
             ],
             [
              0.8888888888888888,
              "#fdca26"
             ],
             [
              1,
              "#f0f921"
             ]
            ],
            "type": "heatmapgl"
           }
          ],
          "histogram": [
           {
            "marker": {
             "pattern": {
              "fillmode": "overlay",
              "size": 10,
              "solidity": 0.2
             }
            },
            "type": "histogram"
           }
          ],
          "histogram2d": [
           {
            "colorbar": {
             "outlinewidth": 0,
             "ticks": ""
            },
            "colorscale": [
             [
              0,
              "#0d0887"
             ],
             [
              0.1111111111111111,
              "#46039f"
             ],
             [
              0.2222222222222222,
              "#7201a8"
             ],
             [
              0.3333333333333333,
              "#9c179e"
             ],
             [
              0.4444444444444444,
              "#bd3786"
             ],
             [
              0.5555555555555556,
              "#d8576b"
             ],
             [
              0.6666666666666666,
              "#ed7953"
             ],
             [
              0.7777777777777778,
              "#fb9f3a"
             ],
             [
              0.8888888888888888,
              "#fdca26"
             ],
             [
              1,
              "#f0f921"
             ]
            ],
            "type": "histogram2d"
           }
          ],
          "histogram2dcontour": [
           {
            "colorbar": {
             "outlinewidth": 0,
             "ticks": ""
            },
            "colorscale": [
             [
              0,
              "#0d0887"
             ],
             [
              0.1111111111111111,
              "#46039f"
             ],
             [
              0.2222222222222222,
              "#7201a8"
             ],
             [
              0.3333333333333333,
              "#9c179e"
             ],
             [
              0.4444444444444444,
              "#bd3786"
             ],
             [
              0.5555555555555556,
              "#d8576b"
             ],
             [
              0.6666666666666666,
              "#ed7953"
             ],
             [
              0.7777777777777778,
              "#fb9f3a"
             ],
             [
              0.8888888888888888,
              "#fdca26"
             ],
             [
              1,
              "#f0f921"
             ]
            ],
            "type": "histogram2dcontour"
           }
          ],
          "mesh3d": [
           {
            "colorbar": {
             "outlinewidth": 0,
             "ticks": ""
            },
            "type": "mesh3d"
           }
          ],
          "parcoords": [
           {
            "line": {
             "colorbar": {
              "outlinewidth": 0,
              "ticks": ""
             }
            },
            "type": "parcoords"
           }
          ],
          "pie": [
           {
            "automargin": true,
            "type": "pie"
           }
          ],
          "scatter": [
           {
            "marker": {
             "colorbar": {
              "outlinewidth": 0,
              "ticks": ""
             }
            },
            "type": "scatter"
           }
          ],
          "scatter3d": [
           {
            "line": {
             "colorbar": {
              "outlinewidth": 0,
              "ticks": ""
             }
            },
            "marker": {
             "colorbar": {
              "outlinewidth": 0,
              "ticks": ""
             }
            },
            "type": "scatter3d"
           }
          ],
          "scattercarpet": [
           {
            "marker": {
             "colorbar": {
              "outlinewidth": 0,
              "ticks": ""
             }
            },
            "type": "scattercarpet"
           }
          ],
          "scattergeo": [
           {
            "marker": {
             "colorbar": {
              "outlinewidth": 0,
              "ticks": ""
             }
            },
            "type": "scattergeo"
           }
          ],
          "scattergl": [
           {
            "marker": {
             "colorbar": {
              "outlinewidth": 0,
              "ticks": ""
             }
            },
            "type": "scattergl"
           }
          ],
          "scattermapbox": [
           {
            "marker": {
             "colorbar": {
              "outlinewidth": 0,
              "ticks": ""
             }
            },
            "type": "scattermapbox"
           }
          ],
          "scatterpolar": [
           {
            "marker": {
             "colorbar": {
              "outlinewidth": 0,
              "ticks": ""
             }
            },
            "type": "scatterpolar"
           }
          ],
          "scatterpolargl": [
           {
            "marker": {
             "colorbar": {
              "outlinewidth": 0,
              "ticks": ""
             }
            },
            "type": "scatterpolargl"
           }
          ],
          "scatterternary": [
           {
            "marker": {
             "colorbar": {
              "outlinewidth": 0,
              "ticks": ""
             }
            },
            "type": "scatterternary"
           }
          ],
          "surface": [
           {
            "colorbar": {
             "outlinewidth": 0,
             "ticks": ""
            },
            "colorscale": [
             [
              0,
              "#0d0887"
             ],
             [
              0.1111111111111111,
              "#46039f"
             ],
             [
              0.2222222222222222,
              "#7201a8"
             ],
             [
              0.3333333333333333,
              "#9c179e"
             ],
             [
              0.4444444444444444,
              "#bd3786"
             ],
             [
              0.5555555555555556,
              "#d8576b"
             ],
             [
              0.6666666666666666,
              "#ed7953"
             ],
             [
              0.7777777777777778,
              "#fb9f3a"
             ],
             [
              0.8888888888888888,
              "#fdca26"
             ],
             [
              1,
              "#f0f921"
             ]
            ],
            "type": "surface"
           }
          ],
          "table": [
           {
            "cells": {
             "fill": {
              "color": "#EBF0F8"
             },
             "line": {
              "color": "white"
             }
            },
            "header": {
             "fill": {
              "color": "#C8D4E3"
             },
             "line": {
              "color": "white"
             }
            },
            "type": "table"
           }
          ]
         },
         "layout": {
          "annotationdefaults": {
           "arrowcolor": "#2a3f5f",
           "arrowhead": 0,
           "arrowwidth": 1
          },
          "autotypenumbers": "strict",
          "coloraxis": {
           "colorbar": {
            "outlinewidth": 0,
            "ticks": ""
           }
          },
          "colorscale": {
           "diverging": [
            [
             0,
             "#8e0152"
            ],
            [
             0.1,
             "#c51b7d"
            ],
            [
             0.2,
             "#de77ae"
            ],
            [
             0.3,
             "#f1b6da"
            ],
            [
             0.4,
             "#fde0ef"
            ],
            [
             0.5,
             "#f7f7f7"
            ],
            [
             0.6,
             "#e6f5d0"
            ],
            [
             0.7,
             "#b8e186"
            ],
            [
             0.8,
             "#7fbc41"
            ],
            [
             0.9,
             "#4d9221"
            ],
            [
             1,
             "#276419"
            ]
           ],
           "sequential": [
            [
             0,
             "#0d0887"
            ],
            [
             0.1111111111111111,
             "#46039f"
            ],
            [
             0.2222222222222222,
             "#7201a8"
            ],
            [
             0.3333333333333333,
             "#9c179e"
            ],
            [
             0.4444444444444444,
             "#bd3786"
            ],
            [
             0.5555555555555556,
             "#d8576b"
            ],
            [
             0.6666666666666666,
             "#ed7953"
            ],
            [
             0.7777777777777778,
             "#fb9f3a"
            ],
            [
             0.8888888888888888,
             "#fdca26"
            ],
            [
             1,
             "#f0f921"
            ]
           ],
           "sequentialminus": [
            [
             0,
             "#0d0887"
            ],
            [
             0.1111111111111111,
             "#46039f"
            ],
            [
             0.2222222222222222,
             "#7201a8"
            ],
            [
             0.3333333333333333,
             "#9c179e"
            ],
            [
             0.4444444444444444,
             "#bd3786"
            ],
            [
             0.5555555555555556,
             "#d8576b"
            ],
            [
             0.6666666666666666,
             "#ed7953"
            ],
            [
             0.7777777777777778,
             "#fb9f3a"
            ],
            [
             0.8888888888888888,
             "#fdca26"
            ],
            [
             1,
             "#f0f921"
            ]
           ]
          },
          "colorway": [
           "#636efa",
           "#EF553B",
           "#00cc96",
           "#ab63fa",
           "#FFA15A",
           "#19d3f3",
           "#FF6692",
           "#B6E880",
           "#FF97FF",
           "#FECB52"
          ],
          "font": {
           "color": "#2a3f5f"
          },
          "geo": {
           "bgcolor": "white",
           "lakecolor": "white",
           "landcolor": "#E5ECF6",
           "showlakes": true,
           "showland": true,
           "subunitcolor": "white"
          },
          "hoverlabel": {
           "align": "left"
          },
          "hovermode": "closest",
          "mapbox": {
           "style": "light"
          },
          "paper_bgcolor": "white",
          "plot_bgcolor": "#E5ECF6",
          "polar": {
           "angularaxis": {
            "gridcolor": "white",
            "linecolor": "white",
            "ticks": ""
           },
           "bgcolor": "#E5ECF6",
           "radialaxis": {
            "gridcolor": "white",
            "linecolor": "white",
            "ticks": ""
           }
          },
          "scene": {
           "xaxis": {
            "backgroundcolor": "#E5ECF6",
            "gridcolor": "white",
            "gridwidth": 2,
            "linecolor": "white",
            "showbackground": true,
            "ticks": "",
            "zerolinecolor": "white"
           },
           "yaxis": {
            "backgroundcolor": "#E5ECF6",
            "gridcolor": "white",
            "gridwidth": 2,
            "linecolor": "white",
            "showbackground": true,
            "ticks": "",
            "zerolinecolor": "white"
           },
           "zaxis": {
            "backgroundcolor": "#E5ECF6",
            "gridcolor": "white",
            "gridwidth": 2,
            "linecolor": "white",
            "showbackground": true,
            "ticks": "",
            "zerolinecolor": "white"
           }
          },
          "shapedefaults": {
           "line": {
            "color": "#2a3f5f"
           }
          },
          "ternary": {
           "aaxis": {
            "gridcolor": "white",
            "linecolor": "white",
            "ticks": ""
           },
           "baxis": {
            "gridcolor": "white",
            "linecolor": "white",
            "ticks": ""
           },
           "bgcolor": "#E5ECF6",
           "caxis": {
            "gridcolor": "white",
            "linecolor": "white",
            "ticks": ""
           }
          },
          "title": {
           "x": 0.05
          },
          "xaxis": {
           "automargin": true,
           "gridcolor": "white",
           "linecolor": "white",
           "ticks": "",
           "title": {
            "standoff": 15
           },
           "zerolinecolor": "white",
           "zerolinewidth": 2
          },
          "yaxis": {
           "automargin": true,
           "gridcolor": "white",
           "linecolor": "white",
           "ticks": "",
           "title": {
            "standoff": 15
           },
           "zerolinecolor": "white",
           "zerolinewidth": 2
          }
         }
        }
       }
      }
     },
     "metadata": {},
     "output_type": "display_data"
    }
   ],
   "source": [
    "fig = go.Figure()\n",
    "fig.add_trace(go.Scatter(x=[i + 1 for i in range(len(run_rewards))], y=[r * -1 for r in run_rewards]))\n",
    "fig.show()\n"
   ]
  },
  {
   "cell_type": "code",
   "execution_count": 10,
   "metadata": {},
   "outputs": [
    {
     "data": {
      "text/plain": [
       "array([-7.53123738e+02, -5.79396252e+02, -8.76743569e+02, -8.79210938e+02,\n",
       "       -7.62237307e+02, -3.02225282e+02,  3.42828333e+02, -8.04732208e+01,\n",
       "       -4.25833860e+02, -4.29970673e+02, -3.33492830e+02, -1.15332598e+02,\n",
       "        7.08073772e+02,  0.00000000e+00, -9.57625347e+02, -1.14301725e+03,\n",
       "       -8.83218882e+02, -1.19651442e+03, -1.19620141e+03, -9.59255051e+02,\n",
       "       -4.12598870e+02, -2.73018594e+02, -2.86372027e+02, -1.38375176e+02,\n",
       "       -4.78692734e+01,  1.43515993e+03,  0.00000000e+00,  0.00000000e+00,\n",
       "        0.00000000e+00, -8.86598068e+02, -7.27781833e+02, -5.16174596e+02,\n",
       "       -8.00054133e+02, -7.96846758e+02, -4.65271307e+02, -7.79536910e+01,\n",
       "       -1.30797921e+01,  1.99828390e+02,  1.62465949e+03,  0.00000000e+00,\n",
       "        0.00000000e+00,  0.00000000e+00,  0.00000000e+00,  0.00000000e+00,\n",
       "       -5.10769813e+02, -4.75194478e+02, -1.92424319e+02, -4.19795066e+02,\n",
       "       -4.13528689e+02, -5.39672779e+02, -1.20572913e+03, -1.52453346e+03,\n",
       "       -1.58941193e+03, -1.50606103e+03, -1.40660917e+03,  8.11151786e+02,\n",
       "       -1.17720573e+03, -1.39620301e+03, -1.46917032e+03, -1.38957845e+03,\n",
       "       -1.01128121e+03, -3.23621930e+02,  0.00000000e+00,  4.62194231e-01,\n",
       "       -8.88874356e+02, -1.11212948e+03, -1.42399128e+03, -1.50240967e+03,\n",
       "       -1.42328093e+03, -1.16700715e+03, -4.47597409e+02, -7.68218595e+02,\n",
       "       -7.49806869e+02, -3.36043721e+02,  2.46170171e+02,  0.00000000e+00,\n",
       "        0.00000000e+00,  0.00000000e+00,  7.46033115e-01, -3.84424326e+02,\n",
       "       -4.94076069e+02, -8.04850873e+02, -8.18238129e+02, -5.52794961e+02,\n",
       "       -2.76805737e+02, -2.67622344e+02,  5.16501373e+02,  8.58853990e+02,\n",
       "        0.00000000e+00,  0.00000000e+00,  0.00000000e+00,  0.00000000e+00,\n",
       "        0.00000000e+00,  1.13081358e+00,  2.92996587e+02,  1.43128906e+02,\n",
       "       -2.21105282e+02, -2.34323303e+02, -2.35505549e+03, -2.37247073e+03,\n",
       "       -2.23333950e+03])"
      ]
     },
     "execution_count": 10,
     "metadata": {},
     "output_type": "execute_result"
    }
   ],
   "source": [
    "agent.omega"
   ]
  },
  {
   "cell_type": "code",
   "execution_count": 11,
   "metadata": {},
   "outputs": [
    {
     "data": {
      "text/plain": [
       "[-159.0,\n",
       " -220.0,\n",
       " -210.0,\n",
       " -374.0,\n",
       " -269.0,\n",
       " -579.0,\n",
       " -235.0,\n",
       " -496.0,\n",
       " -253.0,\n",
       " -249.0,\n",
       " -185.0,\n",
       " -542.0,\n",
       " -862.0,\n",
       " -890.0,\n",
       " -623.0,\n",
       " -778.0,\n",
       " -911.0,\n",
       " -707.0,\n",
       " -469.0,\n",
       " -931.0,\n",
       " -172.0,\n",
       " -902.0,\n",
       " -744.0,\n",
       " -193.0,\n",
       " -244.0,\n",
       " -964.0,\n",
       " -721.0,\n",
       " -575.0,\n",
       " -484.0,\n",
       " -820.0,\n",
       " -299.0,\n",
       " -900.0,\n",
       " -307.0,\n",
       " -885.0,\n",
       " -962.0,\n",
       " -665.0,\n",
       " -951.0,\n",
       " -325.0,\n",
       " -854.0,\n",
       " -956.0,\n",
       " -886.0,\n",
       " -707.0,\n",
       " -657.0,\n",
       " -147.0,\n",
       " -476.0,\n",
       " -718.0,\n",
       " -320.0,\n",
       " -221.0,\n",
       " -326.0,\n",
       " -851.0,\n",
       " -740.0,\n",
       " -730.0,\n",
       " -163.0,\n",
       " -872.0,\n",
       " -635.0,\n",
       " -707.0,\n",
       " -89.0]"
      ]
     },
     "execution_count": 11,
     "metadata": {},
     "output_type": "execute_result"
    }
   ],
   "source": [
    "[r for r in run_rewards if r > -1 * MAX_EPISODE_STEPS_IN_TRAINING]\n"
   ]
  },
  {
   "cell_type": "code",
   "execution_count": 12,
   "metadata": {},
   "outputs": [
    {
     "name": "stderr",
     "output_type": "stream",
     "text": [
      "  0%|          | 0/100 [00:00<?, ?it/s]2022-02-18 17:32:00.743 Python[62999:525924] ApplePersistenceIgnoreState: Existing state will not be touched. New state will be written to /var/folders/nv/xnzxl_4n4fq2qgjf6b4vh5p00000gp/T/com.apple.python3.savedState\n",
      "2022-02-18 17:32:00.912 Python[62999:525924] TSM AdjustCapsLockLEDForKeyTransitionHandling - _ISSetPhysicalKeyboardCapsLockLED Inhibit\n",
      " 46%|████▌     | 46/100 [00:30<00:22,  2.36it/s]"
     ]
    },
    {
     "name": "stdout",
     "output_type": "stream",
     "text": [
      "success: 94\n"
     ]
    },
    {
     "name": "stderr",
     "output_type": "stream",
     "text": [
      "100%|██████████| 100/100 [00:54<00:00,  1.82it/s]\n"
     ]
    }
   ],
   "source": [
    "TOTAL_EVALUATE_TIMES = 100\n",
    "success_times = 0\n",
    "MAX_EPISODE_STEPS_IN_EVALUATE = 200\n",
    "env._max_episode_steps= MAX_EPISODE_STEPS_IN_EVALUATE\n",
    "evaluate = tqdm(range(TOTAL_EVALUATE_TIMES))\n",
    "for run in evaluate:\n",
    "    agent.reset()\n",
    "    end = False\n",
    "    i = 0\n",
    "    while not end:\n",
    "        _, end, episode = agent.step()\n",
    "\n",
    "        # agent.render()\n",
    "        i += 1\n",
    "        agent.render()\n",
    "\n",
    "    if i < MAX_EPISODE_STEPS_IN_EVALUATE:\n",
    "        success_times += 1\n",
    "        print(f\"success: {i}\")\n"
   ]
  },
  {
   "cell_type": "code",
   "execution_count": 13,
   "metadata": {},
   "outputs": [],
   "source": [
    "agent.close()"
   ]
  },
  {
   "cell_type": "code",
   "execution_count": 14,
   "metadata": {},
   "outputs": [],
   "source": [
    "# fig = go.Figure()\n",
    "# fig.add_trace(\n",
    "#     go.Scatter(x=[i + 1 for i in range(len(omegas) - 1)],\n",
    "#                y=[np.linalg.norm(omegas[i] - omegas[i-1]) for i in range(1, len(omegas))], mode=\"lines\", name=\"omegas\")\n",
    "# )\n",
    "# fig.show()\n"
   ]
  },
  {
   "cell_type": "code",
   "execution_count": 15,
   "metadata": {},
   "outputs": [],
   "source": [
    "# agent.episodes[:20]\n"
   ]
  },
  {
   "cell_type": "code",
   "execution_count": 16,
   "metadata": {},
   "outputs": [],
   "source": [
    "# agent.omega"
   ]
  },
  {
   "cell_type": "code",
   "execution_count": 17,
   "metadata": {},
   "outputs": [],
   "source": [
    "# true_values = np.load(\"./true_values_arr.npy\", allow_pickle=False)\n",
    "# true_values\n"
   ]
  },
  {
   "cell_type": "code",
   "execution_count": 18,
   "metadata": {},
   "outputs": [],
   "source": [
    "# fig = go.Figure()\n",
    "# s = list(range(1000))\n",
    "# fig.add_trace(\n",
    "#     go.Scatter(x=[i + 1 for i in s], y=true_values, mode=\"lines\", name=\"true values\")\n",
    "# )\n",
    "# fig.add_trace(\n",
    "#     go.Scatter(\n",
    "#         x=[i + 1 for i in s],\n",
    "#         y=[agent.predict(i) for i in s],\n",
    "#         mode=\"lines\",\n",
    "#         name=\"monte-carlo prediction\",\n",
    "#     )\n",
    "# )\n",
    "# fig.show()\n"
   ]
  }
 ],
 "metadata": {
  "interpreter": {
   "hash": "31f2aee4e71d21fbe5cf8b01ff0e069b9275f58929596ceb00d14d90e3e16cd6"
  },
  "kernelspec": {
   "display_name": "Python 3.8.9 64-bit",
   "language": "python",
   "name": "python3"
  },
  "language_info": {
   "codemirror_mode": {
    "name": "ipython",
    "version": 3
   },
   "file_extension": ".py",
   "mimetype": "text/x-python",
   "name": "python",
   "nbconvert_exporter": "python",
   "pygments_lexer": "ipython3",
   "version": "3.8.9"
  },
  "orig_nbformat": 4
 },
 "nbformat": 4,
 "nbformat_minor": 2
}

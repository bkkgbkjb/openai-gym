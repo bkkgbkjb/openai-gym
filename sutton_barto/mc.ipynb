{
 "cells": [
  {
   "cell_type": "code",
   "execution_count": 1,
   "metadata": {},
   "outputs": [],
   "source": [
    "import numpy as np\n",
    "# from gym.envs.toy_text import BlackjackEnv\n",
    "import gym\n",
    "from typing import Literal, List, Tuple, cast\n",
    "import plotly.graph_objects as go\n",
    "from copy import deepcopy\n",
    "import math"
   ]
  },
  {
   "cell_type": "code",
   "execution_count": 2,
   "metadata": {},
   "outputs": [],
   "source": [
    "# env = BlackjackEnv()\n",
    "np.random.seed(0)\n",
    "env = gym.make('Blackjack-v1')\n",
    "env.seed(0)\n",
    "\n",
    "obs = env.reset()\n"
   ]
  },
  {
   "cell_type": "code",
   "execution_count": 3,
   "metadata": {},
   "outputs": [
    {
     "data": {
      "text/plain": [
       "(18, 1, False)"
      ]
     },
     "execution_count": 3,
     "metadata": {},
     "output_type": "execute_result"
    }
   ],
   "source": [
    "obs"
   ]
  },
  {
   "cell_type": "code",
   "execution_count": 4,
   "metadata": {},
   "outputs": [],
   "source": [
    "MySum = Literal[12, 13, 14, 15, 16, 17, 18, 19, 20, 21]\n",
    "DealerShowing = Literal[1, 2, 3, 4, 5, 6, 7, 8, 9, 10]\n",
    "UsableAce = bool\n",
    "\n",
    "Observation = Tuple[MySum, DealerShowing, UsableAce]\n",
    "\n",
    "Values = List[float]\n",
    "Action_Values = List[float]\n",
    "\n",
    "State = Tuple[MySum, DealerShowing, UsableAce]\n",
    "Action = Literal[0, 1]\n",
    "Reward = Literal[-1, 0, 1]\n",
    "Policy = List[Action]\n",
    "Step = Tuple[State, Action, Reward]\n",
    "Episode = List[Step]\n",
    "\n",
    "TOTAL_NUM_OF_STATES = 200\n",
    "TOTAL_NUM_OF_STATE_ACTION_PAIR = 400\n"
   ]
  },
  {
   "cell_type": "code",
   "execution_count": 5,
   "metadata": {},
   "outputs": [],
   "source": [
    "def get_state_index(s: State) -> int:\n",
    "    my_sum, dealer_show, usable_ace = s\n",
    "    idx = int(usable_ace) + (dealer_show - 1) * 2 + (my_sum - 12) * 20\n",
    "    assert idx >= 0, \"idx is illegal\"\n",
    "    return idx\n",
    "\n",
    "\n",
    "def get_state_from_index(i: int) -> State:\n",
    "    my_sum = cast(MySum, i // 20 + 12)\n",
    "    dealer_show = cast(DealerShowing, (i % 20) // 2 + 1)\n",
    "    usable_ace = cast(UsableAce, i % 20 % 2)\n",
    "    assert my_sum >= 12 and my_sum <= 21, f\"my_sum is invalid: {my_sum}\"\n",
    "    assert (\n",
    "        dealer_show >= 1 and dealer_show <= 10\n",
    "    ), f\"dealer show is invalid: {dealer_show}\"\n",
    "    return (my_sum, dealer_show, usable_ace)\n",
    "\n",
    "\n",
    "def get_state_index_with_action(s: State, a: Action) -> int:\n",
    "    my_sum, dealer_show, usable_ace = s\n",
    "    idx = a + int(usable_ace) * 2 + (dealer_show - 1) * 4 + (my_sum - 12) * 40\n",
    "    assert idx >= 0, \"idx is illegal\"\n",
    "    return idx\n",
    "\n",
    "\n",
    "def get_state_from_index_with_action(i: int) -> Tuple[State, Action]:\n",
    "    my_sum = cast(MySum, i // 40 + 12)\n",
    "    dealer_show = cast(DealerShowing, (i % 40) // 4 + 1)\n",
    "    usable_ace = cast(UsableAce, (i % 40 % 4) // 2)\n",
    "    act = cast(Action, i % 40 % 4 % 2)\n",
    "    assert my_sum >= 12 and my_sum <= 21, f\"my_sum is invalid: {my_sum}\"\n",
    "    assert (\n",
    "        dealer_show >= 1 and dealer_show <= 10\n",
    "    ), f\"dealer show is invalid: {dealer_show}\"\n",
    "    return ((my_sum, dealer_show, usable_ace), act)\n",
    "\n",
    "\n",
    "def state_equal(s1: State, s2: State):\n",
    "    return s1[0] == s2[0] and s1[1] == s2[1] and s1[2] == s2[2]\n"
   ]
  },
  {
   "cell_type": "code",
   "execution_count": 6,
   "metadata": {},
   "outputs": [],
   "source": [
    "class Agent:\n",
    "    def __init__(self, env: gym.Env, gamma: float, improve: bool = False):\n",
    "        self.env = env\n",
    "        self.gamma = gamma\n",
    "        self.improve = improve\n",
    "\n",
    "        self.clear()\n",
    "\n",
    "    def close(self):\n",
    "        self.env.close()\n",
    "\n",
    "    def step(self, obs: Observation, random_act=False) -> Tuple[Observation, bool]:\n",
    "        assert not self.end, \"cannot step on a ended agent, reset it first\"\n",
    "        (my_sum, dealer_showup, usable_ace) = obs\n",
    "\n",
    "        assert my_sum <= 21, f\"bad sum appears in step: {my_sum}\"\n",
    "\n",
    "        act = (\n",
    "            self.take_action((my_sum, dealer_showup, usable_ace))\n",
    "            if not random_act\n",
    "            else self.take_random_action()\n",
    "        )\n",
    "\n",
    "        (obs, rwd, done, info) = self.env.step(act)\n",
    "\n",
    "        self.current_episode.append(\n",
    "            ((my_sum, dealer_showup, usable_ace), act, cast(Reward, rwd))\n",
    "        )\n",
    "\n",
    "        (my_sum, dealer_showup, usable_ace) = obs\n",
    "\n",
    "        if done:\n",
    "            self.win_times += 1 if rwd > 0 else 0\n",
    "            self.evaluate(self.improve)\n",
    "            self.episodes.append(self.current_episode)\n",
    "            self.current_episode = []\n",
    "            self.end = True\n",
    "\n",
    "        return ((my_sum, dealer_showup, usable_ace), done)\n",
    "\n",
    "    def reset(self) -> Observation:\n",
    "        assert (\n",
    "            len(self.current_episode) == 0\n",
    "        ), \"when reset, current episode has some dirty elements, step it first or clear\"\n",
    "\n",
    "        # self.current_episode = []\n",
    "        self.end = False\n",
    "\n",
    "        while True:\n",
    "            (my_sum, dealer_showup, usable_ace) = self.env.reset()\n",
    "            assert my_sum <= 21, f\"too large sum appears in reset: {my_sum}\"\n",
    "            if my_sum < 12:\n",
    "                continue\n",
    "\n",
    "            assert my_sum >= 12, f\"too small sum appears in reset: {my_sum}\"\n",
    "\n",
    "            return (my_sum, dealer_showup, usable_ace)\n",
    "\n",
    "    def clear(self):\n",
    "        self.current_episode: Episode = []\n",
    "        self.episodes: List[Episode] = [[] for _ in range(TOTAL_NUM_OF_STATES)]\n",
    "\n",
    "        self.Q = [float(\"nan\") for _ in range(TOTAL_NUM_OF_STATE_ACTION_PAIR)]\n",
    "        self.q_returns = [[] for _ in range(TOTAL_NUM_OF_STATE_ACTION_PAIR)]\n",
    "\n",
    "        self.pai = [1 for i in range(TOTAL_NUM_OF_STATES)]\n",
    "\n",
    "        (my_sum, dealer_showup, usable_ace) = self.env.reset()\n",
    "        assert my_sum <= 21, f\"bad sum appears in init state: {my_sum}\"\n",
    "\n",
    "        self.win_times = 0\n",
    "        self.end = True\n",
    "\n",
    "    def take_action(self, s: State) -> Action:\n",
    "        my_sum, deal_show, usable_ace = s\n",
    "        assert my_sum <= 21, f\"bad my_sum feed into agent: {my_sum}\"\n",
    "\n",
    "        new_act = self.pai[get_state_index((my_sum, deal_show, usable_ace))]\n",
    "        # old_act = 0 if my_sum == 20 or my_sum == 21 else 1\n",
    "\n",
    "        # assert old_act == new_act, \"act is not same\"\n",
    "        return cast(Action, new_act)\n",
    "\n",
    "    def take_random_action(self) -> Action:\n",
    "        return np.random.choice([0, 1])\n",
    "\n",
    "    def state_exists(self, s: State, es: List[Episode]):\n",
    "        for e in es:\n",
    "            (_s) = e[0]\n",
    "            if s[0] == _s[0] and s[1] == _s[1] and s[2] == _s[2]:\n",
    "                return True\n",
    "\n",
    "        return False\n",
    "\n",
    "    def state_action_exists(self, s: State, a: Action, es: Episode):\n",
    "        for e in es:\n",
    "            (_s, _a) = (e[0], e[1])\n",
    "            if s[0] == _s[0] and s[1] == _s[1] and s[2] == _s[2] and _a == a:\n",
    "                return True\n",
    "\n",
    "        return False\n",
    "\n",
    "    def evaluate(self, improve=False):\n",
    "        episode = self.current_episode\n",
    "\n",
    "        G = 0\n",
    "        l = len(episode)\n",
    "        for i, v in enumerate(reversed(episode)):\n",
    "            state, action, reward = v\n",
    "            G = self.gamma * G + reward\n",
    "            if not self.state_action_exists(state, action, episode[: l - i - 1]):\n",
    "                idx = get_state_index_with_action(state, action)\n",
    "                state_idx = get_state_index(state)\n",
    "                self.q_returns[idx].append(G)\n",
    "                self.Q[idx] = np.mean(self.q_returns[idx])\n",
    "                if improve:\n",
    "                    # self.pai[state_idx] = np.argmax(\n",
    "                    new_act = np.argmax(\n",
    "                        [\n",
    "                            self.Q[get_state_index_with_action(state, cast(Action, a))]\n",
    "                            for a in [0, 1]\n",
    "                        ]\n",
    "                    )\n",
    "                    # old_act = self.pai[state_idx]\n",
    "                    self.pai[state_idx] = cast(int, new_act)\n"
   ]
  },
  {
   "cell_type": "code",
   "execution_count": 7,
   "metadata": {},
   "outputs": [],
   "source": [
    "TOTAL_EPISODES = 400_000\n",
    "\n",
    "agent = Agent(env, 1, True)\n",
    "\n",
    "\n",
    "for i in range(TOTAL_EPISODES):\n",
    "    (my_sum, dealer_showup, usable_ace) = agent.reset()\n",
    "\n",
    "    start = True\n",
    "    while True:\n",
    "        (obs, done) = agent.step(\n",
    "            (my_sum, dealer_showup, usable_ace), random_act=True if start else False\n",
    "        )\n",
    "        start = False\n",
    "\n",
    "        (my_sum, dealer_showup, usable_ace) = obs\n",
    "\n",
    "        if done:\n",
    "            break\n",
    "\n",
    "\n",
    "agent.close()\n"
   ]
  },
  {
   "cell_type": "code",
   "execution_count": 63,
   "metadata": {},
   "outputs": [
    {
     "name": "stdout",
     "output_type": "stream",
     "text": [
      "win: 134305\n",
      "win rate: 0.3357625\n"
     ]
    }
   ],
   "source": [
    "# win_times = np.sum(np.fromiter((r[0] for r in result), dtype=\"int\"))\n",
    "print(f\"win: {agent.win_times}\")\n",
    "print(f\"win rate: {agent.win_times/TOTAL_EPISODES}\")\n"
   ]
  },
  {
   "cell_type": "code",
   "execution_count": 64,
   "metadata": {},
   "outputs": [],
   "source": [
    "(Q, R) = (agent.Q, agent.q_returns)"
   ]
  },
  {
   "cell_type": "code",
   "execution_count": 65,
   "metadata": {},
   "outputs": [],
   "source": [
    "for r in R:\n",
    "    assert len(r) > 0\n",
    "\n",
    "for q in Q:\n",
    "    assert not math.isnan(q)\n"
   ]
  },
  {
   "cell_type": "code",
   "execution_count": 66,
   "metadata": {},
   "outputs": [],
   "source": [
    "# V = [(get_state_from_index(i), v) for (i, v) in enumerate(V)]\n",
    "Q = [(get_state_from_index_with_action(i), v) for (i, v) in enumerate(Q)]\n",
    "i = 0\n",
    "V = []\n",
    "while i < len(Q):\n",
    "    q_act0 = Q[i]\n",
    "    q_act1 = Q[i + 1]\n",
    "    assert state_equal(\n",
    "        q_act0[0][0], q_act1[0][0]\n",
    "    ), \"error encountered during Q collapse\"\n",
    "    state_value = (q_act0[0][0], np.max([q_act0[1], q_act1[1]]))\n",
    "    V.append(state_value)\n",
    "    i += 2\n"
   ]
  },
  {
   "cell_type": "code",
   "execution_count": 69,
   "metadata": {},
   "outputs": [
    {
     "data": {
      "application/vnd.plotly.v1+json": {
       "config": {
        "plotlyServerURL": "https://plot.ly"
       },
       "data": [
        {
         "color": "rgba(244,22,100,0.6)",
         "opacity": 0.5,
         "type": "mesh3d",
         "x": [
          12,
          12,
          12,
          12,
          12,
          12,
          12,
          12,
          12,
          12,
          13,
          13,
          13,
          13,
          13,
          13,
          13,
          13,
          13,
          13,
          14,
          14,
          14,
          14,
          14,
          14,
          14,
          14,
          14,
          14,
          15,
          15,
          15,
          15,
          15,
          15,
          15,
          15,
          15,
          15,
          16,
          16,
          16,
          16,
          16,
          16,
          16,
          16,
          16,
          16,
          17,
          17,
          17,
          17,
          17,
          17,
          17,
          17,
          17,
          17,
          18,
          18,
          18,
          18,
          18,
          18,
          18,
          18,
          18,
          18,
          19,
          19,
          19,
          19,
          19,
          19,
          19,
          19,
          19,
          19,
          20,
          20,
          20,
          20,
          20,
          20,
          20,
          20,
          20,
          20,
          21,
          21,
          21,
          21,
          21,
          21,
          21,
          21,
          21,
          21
         ],
         "y": [
          1,
          2,
          3,
          4,
          5,
          6,
          7,
          8,
          9,
          10,
          1,
          2,
          3,
          4,
          5,
          6,
          7,
          8,
          9,
          10,
          1,
          2,
          3,
          4,
          5,
          6,
          7,
          8,
          9,
          10,
          1,
          2,
          3,
          4,
          5,
          6,
          7,
          8,
          9,
          10,
          1,
          2,
          3,
          4,
          5,
          6,
          7,
          8,
          9,
          10,
          1,
          2,
          3,
          4,
          5,
          6,
          7,
          8,
          9,
          10,
          1,
          2,
          3,
          4,
          5,
          6,
          7,
          8,
          9,
          10,
          1,
          2,
          3,
          4,
          5,
          6,
          7,
          8,
          9,
          10,
          1,
          2,
          3,
          4,
          5,
          6,
          7,
          8,
          9,
          10,
          1,
          2,
          3,
          4,
          5,
          6,
          7,
          8,
          9,
          10
         ],
         "z": [
          -0.5036008230452675,
          -0.249386352479136,
          -0.2822806036892119,
          -0.21341138903672166,
          -0.12796697626418987,
          -0.13041237113402063,
          -0.193336698637052,
          -0.2864760058167717,
          -0.299949924887331,
          -0.40169238427078147,
          -0.555609995100441,
          -0.2938689217758985,
          -0.24962926347009393,
          -0.21895261845386535,
          -0.1714704445530044,
          -0.16303821964199322,
          -0.32491332342743934,
          -0.3288557213930348,
          -0.4173377546186641,
          -0.45861324376199614,
          -0.5983446932814022,
          -0.2834978843441467,
          -0.2793704328274311,
          -0.19761075161772026,
          -0.15354713313896987,
          -0.1446663419386264,
          -0.3304007820136852,
          -0.36152019002375296,
          -0.42366412213740456,
          -0.5087656529516995,
          -0.6222118959107806,
          -0.2953983176645225,
          -0.23479980227385072,
          -0.18846345101939332,
          -0.16666666666666666,
          -0.12848605577689243,
          -0.37607655502392345,
          -0.41623160892263883,
          -0.482541222114452,
          -0.5214561234329798,
          -0.6480804387568556,
          -0.291866028708134,
          -0.24420325604341392,
          -0.20793085917641077,
          -0.16228748068006182,
          -0.09417040358744394,
          -0.40539262062440873,
          -0.47125841532884516,
          -0.5045130641330167,
          -0.563810829335161,
          -0.6498845265588915,
          -0.15190499752597725,
          -0.10035478966041561,
          -0.10660426417056683,
          -0.019706922688226377,
          0.018848700967906265,
          -0.10555815039701075,
          -0.3792134831460674,
          -0.4356025758969641,
          -0.4782559068599475,
          -0.42211764705882354,
          0.13732004429678848,
          0.1905759162303665,
          0.20348204570184983,
          0.20440251572327045,
          0.2824146981627297,
          0.3987642585551331,
          0.0957542908762421,
          -0.22403063666826234,
          -0.24252452428790924,
          -0.10551790900290416,
          0.35647382920110193,
          0.3920824295010846,
          0.4414019715224535,
          0.4313063063063063,
          0.5066371681415929,
          0.6233435270132518,
          0.588523786169691,
          0.27850557981562346,
          -0.004411224114691827,
          0.14206036745406825,
          0.6498579545454546,
          0.6483253588516746,
          0.6565155807365439,
          0.6543859649122807,
          0.7079276773296245,
          0.7602808425275828,
          0.7937768950678583,
          0.7472142629735753,
          0.43249958588702997,
          0.6230876216968011,
          0.8741258741258742,
          0.8766383962991519,
          0.889344262295082,
          0.8836653386454183,
          0.8958162428219852,
          0.9369491525423729,
          0.9371621621621622,
          0.9541029207232267,
          0.8887179487179487
         ]
        }
       ],
       "layout": {
        "scene": {
         "xaxis": {
          "nticks": 4,
          "range": [
           10,
           25
          ],
          "title": {
           "text": "my sum"
          }
         },
         "yaxis": {
          "nticks": 4,
          "range": [
           0,
           12
          ],
          "title": {
           "text": "dealer show"
          }
         },
         "zaxis": {
          "nticks": 4,
          "range": [
           -1,
           1
          ],
          "title": {
           "text": "state value"
          }
         }
        },
        "template": {
         "data": {
          "bar": [
           {
            "error_x": {
             "color": "#2a3f5f"
            },
            "error_y": {
             "color": "#2a3f5f"
            },
            "marker": {
             "line": {
              "color": "#E5ECF6",
              "width": 0.5
             },
             "pattern": {
              "fillmode": "overlay",
              "size": 10,
              "solidity": 0.2
             }
            },
            "type": "bar"
           }
          ],
          "barpolar": [
           {
            "marker": {
             "line": {
              "color": "#E5ECF6",
              "width": 0.5
             },
             "pattern": {
              "fillmode": "overlay",
              "size": 10,
              "solidity": 0.2
             }
            },
            "type": "barpolar"
           }
          ],
          "carpet": [
           {
            "aaxis": {
             "endlinecolor": "#2a3f5f",
             "gridcolor": "white",
             "linecolor": "white",
             "minorgridcolor": "white",
             "startlinecolor": "#2a3f5f"
            },
            "baxis": {
             "endlinecolor": "#2a3f5f",
             "gridcolor": "white",
             "linecolor": "white",
             "minorgridcolor": "white",
             "startlinecolor": "#2a3f5f"
            },
            "type": "carpet"
           }
          ],
          "choropleth": [
           {
            "colorbar": {
             "outlinewidth": 0,
             "ticks": ""
            },
            "type": "choropleth"
           }
          ],
          "contour": [
           {
            "colorbar": {
             "outlinewidth": 0,
             "ticks": ""
            },
            "colorscale": [
             [
              0,
              "#0d0887"
             ],
             [
              0.1111111111111111,
              "#46039f"
             ],
             [
              0.2222222222222222,
              "#7201a8"
             ],
             [
              0.3333333333333333,
              "#9c179e"
             ],
             [
              0.4444444444444444,
              "#bd3786"
             ],
             [
              0.5555555555555556,
              "#d8576b"
             ],
             [
              0.6666666666666666,
              "#ed7953"
             ],
             [
              0.7777777777777778,
              "#fb9f3a"
             ],
             [
              0.8888888888888888,
              "#fdca26"
             ],
             [
              1,
              "#f0f921"
             ]
            ],
            "type": "contour"
           }
          ],
          "contourcarpet": [
           {
            "colorbar": {
             "outlinewidth": 0,
             "ticks": ""
            },
            "type": "contourcarpet"
           }
          ],
          "heatmap": [
           {
            "colorbar": {
             "outlinewidth": 0,
             "ticks": ""
            },
            "colorscale": [
             [
              0,
              "#0d0887"
             ],
             [
              0.1111111111111111,
              "#46039f"
             ],
             [
              0.2222222222222222,
              "#7201a8"
             ],
             [
              0.3333333333333333,
              "#9c179e"
             ],
             [
              0.4444444444444444,
              "#bd3786"
             ],
             [
              0.5555555555555556,
              "#d8576b"
             ],
             [
              0.6666666666666666,
              "#ed7953"
             ],
             [
              0.7777777777777778,
              "#fb9f3a"
             ],
             [
              0.8888888888888888,
              "#fdca26"
             ],
             [
              1,
              "#f0f921"
             ]
            ],
            "type": "heatmap"
           }
          ],
          "heatmapgl": [
           {
            "colorbar": {
             "outlinewidth": 0,
             "ticks": ""
            },
            "colorscale": [
             [
              0,
              "#0d0887"
             ],
             [
              0.1111111111111111,
              "#46039f"
             ],
             [
              0.2222222222222222,
              "#7201a8"
             ],
             [
              0.3333333333333333,
              "#9c179e"
             ],
             [
              0.4444444444444444,
              "#bd3786"
             ],
             [
              0.5555555555555556,
              "#d8576b"
             ],
             [
              0.6666666666666666,
              "#ed7953"
             ],
             [
              0.7777777777777778,
              "#fb9f3a"
             ],
             [
              0.8888888888888888,
              "#fdca26"
             ],
             [
              1,
              "#f0f921"
             ]
            ],
            "type": "heatmapgl"
           }
          ],
          "histogram": [
           {
            "marker": {
             "pattern": {
              "fillmode": "overlay",
              "size": 10,
              "solidity": 0.2
             }
            },
            "type": "histogram"
           }
          ],
          "histogram2d": [
           {
            "colorbar": {
             "outlinewidth": 0,
             "ticks": ""
            },
            "colorscale": [
             [
              0,
              "#0d0887"
             ],
             [
              0.1111111111111111,
              "#46039f"
             ],
             [
              0.2222222222222222,
              "#7201a8"
             ],
             [
              0.3333333333333333,
              "#9c179e"
             ],
             [
              0.4444444444444444,
              "#bd3786"
             ],
             [
              0.5555555555555556,
              "#d8576b"
             ],
             [
              0.6666666666666666,
              "#ed7953"
             ],
             [
              0.7777777777777778,
              "#fb9f3a"
             ],
             [
              0.8888888888888888,
              "#fdca26"
             ],
             [
              1,
              "#f0f921"
             ]
            ],
            "type": "histogram2d"
           }
          ],
          "histogram2dcontour": [
           {
            "colorbar": {
             "outlinewidth": 0,
             "ticks": ""
            },
            "colorscale": [
             [
              0,
              "#0d0887"
             ],
             [
              0.1111111111111111,
              "#46039f"
             ],
             [
              0.2222222222222222,
              "#7201a8"
             ],
             [
              0.3333333333333333,
              "#9c179e"
             ],
             [
              0.4444444444444444,
              "#bd3786"
             ],
             [
              0.5555555555555556,
              "#d8576b"
             ],
             [
              0.6666666666666666,
              "#ed7953"
             ],
             [
              0.7777777777777778,
              "#fb9f3a"
             ],
             [
              0.8888888888888888,
              "#fdca26"
             ],
             [
              1,
              "#f0f921"
             ]
            ],
            "type": "histogram2dcontour"
           }
          ],
          "mesh3d": [
           {
            "colorbar": {
             "outlinewidth": 0,
             "ticks": ""
            },
            "type": "mesh3d"
           }
          ],
          "parcoords": [
           {
            "line": {
             "colorbar": {
              "outlinewidth": 0,
              "ticks": ""
             }
            },
            "type": "parcoords"
           }
          ],
          "pie": [
           {
            "automargin": true,
            "type": "pie"
           }
          ],
          "scatter": [
           {
            "marker": {
             "colorbar": {
              "outlinewidth": 0,
              "ticks": ""
             }
            },
            "type": "scatter"
           }
          ],
          "scatter3d": [
           {
            "line": {
             "colorbar": {
              "outlinewidth": 0,
              "ticks": ""
             }
            },
            "marker": {
             "colorbar": {
              "outlinewidth": 0,
              "ticks": ""
             }
            },
            "type": "scatter3d"
           }
          ],
          "scattercarpet": [
           {
            "marker": {
             "colorbar": {
              "outlinewidth": 0,
              "ticks": ""
             }
            },
            "type": "scattercarpet"
           }
          ],
          "scattergeo": [
           {
            "marker": {
             "colorbar": {
              "outlinewidth": 0,
              "ticks": ""
             }
            },
            "type": "scattergeo"
           }
          ],
          "scattergl": [
           {
            "marker": {
             "colorbar": {
              "outlinewidth": 0,
              "ticks": ""
             }
            },
            "type": "scattergl"
           }
          ],
          "scattermapbox": [
           {
            "marker": {
             "colorbar": {
              "outlinewidth": 0,
              "ticks": ""
             }
            },
            "type": "scattermapbox"
           }
          ],
          "scatterpolar": [
           {
            "marker": {
             "colorbar": {
              "outlinewidth": 0,
              "ticks": ""
             }
            },
            "type": "scatterpolar"
           }
          ],
          "scatterpolargl": [
           {
            "marker": {
             "colorbar": {
              "outlinewidth": 0,
              "ticks": ""
             }
            },
            "type": "scatterpolargl"
           }
          ],
          "scatterternary": [
           {
            "marker": {
             "colorbar": {
              "outlinewidth": 0,
              "ticks": ""
             }
            },
            "type": "scatterternary"
           }
          ],
          "surface": [
           {
            "colorbar": {
             "outlinewidth": 0,
             "ticks": ""
            },
            "colorscale": [
             [
              0,
              "#0d0887"
             ],
             [
              0.1111111111111111,
              "#46039f"
             ],
             [
              0.2222222222222222,
              "#7201a8"
             ],
             [
              0.3333333333333333,
              "#9c179e"
             ],
             [
              0.4444444444444444,
              "#bd3786"
             ],
             [
              0.5555555555555556,
              "#d8576b"
             ],
             [
              0.6666666666666666,
              "#ed7953"
             ],
             [
              0.7777777777777778,
              "#fb9f3a"
             ],
             [
              0.8888888888888888,
              "#fdca26"
             ],
             [
              1,
              "#f0f921"
             ]
            ],
            "type": "surface"
           }
          ],
          "table": [
           {
            "cells": {
             "fill": {
              "color": "#EBF0F8"
             },
             "line": {
              "color": "white"
             }
            },
            "header": {
             "fill": {
              "color": "#C8D4E3"
             },
             "line": {
              "color": "white"
             }
            },
            "type": "table"
           }
          ]
         },
         "layout": {
          "annotationdefaults": {
           "arrowcolor": "#2a3f5f",
           "arrowhead": 0,
           "arrowwidth": 1
          },
          "autotypenumbers": "strict",
          "coloraxis": {
           "colorbar": {
            "outlinewidth": 0,
            "ticks": ""
           }
          },
          "colorscale": {
           "diverging": [
            [
             0,
             "#8e0152"
            ],
            [
             0.1,
             "#c51b7d"
            ],
            [
             0.2,
             "#de77ae"
            ],
            [
             0.3,
             "#f1b6da"
            ],
            [
             0.4,
             "#fde0ef"
            ],
            [
             0.5,
             "#f7f7f7"
            ],
            [
             0.6,
             "#e6f5d0"
            ],
            [
             0.7,
             "#b8e186"
            ],
            [
             0.8,
             "#7fbc41"
            ],
            [
             0.9,
             "#4d9221"
            ],
            [
             1,
             "#276419"
            ]
           ],
           "sequential": [
            [
             0,
             "#0d0887"
            ],
            [
             0.1111111111111111,
             "#46039f"
            ],
            [
             0.2222222222222222,
             "#7201a8"
            ],
            [
             0.3333333333333333,
             "#9c179e"
            ],
            [
             0.4444444444444444,
             "#bd3786"
            ],
            [
             0.5555555555555556,
             "#d8576b"
            ],
            [
             0.6666666666666666,
             "#ed7953"
            ],
            [
             0.7777777777777778,
             "#fb9f3a"
            ],
            [
             0.8888888888888888,
             "#fdca26"
            ],
            [
             1,
             "#f0f921"
            ]
           ],
           "sequentialminus": [
            [
             0,
             "#0d0887"
            ],
            [
             0.1111111111111111,
             "#46039f"
            ],
            [
             0.2222222222222222,
             "#7201a8"
            ],
            [
             0.3333333333333333,
             "#9c179e"
            ],
            [
             0.4444444444444444,
             "#bd3786"
            ],
            [
             0.5555555555555556,
             "#d8576b"
            ],
            [
             0.6666666666666666,
             "#ed7953"
            ],
            [
             0.7777777777777778,
             "#fb9f3a"
            ],
            [
             0.8888888888888888,
             "#fdca26"
            ],
            [
             1,
             "#f0f921"
            ]
           ]
          },
          "colorway": [
           "#636efa",
           "#EF553B",
           "#00cc96",
           "#ab63fa",
           "#FFA15A",
           "#19d3f3",
           "#FF6692",
           "#B6E880",
           "#FF97FF",
           "#FECB52"
          ],
          "font": {
           "color": "#2a3f5f"
          },
          "geo": {
           "bgcolor": "white",
           "lakecolor": "white",
           "landcolor": "#E5ECF6",
           "showlakes": true,
           "showland": true,
           "subunitcolor": "white"
          },
          "hoverlabel": {
           "align": "left"
          },
          "hovermode": "closest",
          "mapbox": {
           "style": "light"
          },
          "paper_bgcolor": "white",
          "plot_bgcolor": "#E5ECF6",
          "polar": {
           "angularaxis": {
            "gridcolor": "white",
            "linecolor": "white",
            "ticks": ""
           },
           "bgcolor": "#E5ECF6",
           "radialaxis": {
            "gridcolor": "white",
            "linecolor": "white",
            "ticks": ""
           }
          },
          "scene": {
           "xaxis": {
            "backgroundcolor": "#E5ECF6",
            "gridcolor": "white",
            "gridwidth": 2,
            "linecolor": "white",
            "showbackground": true,
            "ticks": "",
            "zerolinecolor": "white"
           },
           "yaxis": {
            "backgroundcolor": "#E5ECF6",
            "gridcolor": "white",
            "gridwidth": 2,
            "linecolor": "white",
            "showbackground": true,
            "ticks": "",
            "zerolinecolor": "white"
           },
           "zaxis": {
            "backgroundcolor": "#E5ECF6",
            "gridcolor": "white",
            "gridwidth": 2,
            "linecolor": "white",
            "showbackground": true,
            "ticks": "",
            "zerolinecolor": "white"
           }
          },
          "shapedefaults": {
           "line": {
            "color": "#2a3f5f"
           }
          },
          "ternary": {
           "aaxis": {
            "gridcolor": "white",
            "linecolor": "white",
            "ticks": ""
           },
           "baxis": {
            "gridcolor": "white",
            "linecolor": "white",
            "ticks": ""
           },
           "bgcolor": "#E5ECF6",
           "caxis": {
            "gridcolor": "white",
            "linecolor": "white",
            "ticks": ""
           }
          },
          "title": {
           "x": 0.05
          },
          "xaxis": {
           "automargin": true,
           "gridcolor": "white",
           "linecolor": "white",
           "ticks": "",
           "title": {
            "standoff": 15
           },
           "zerolinecolor": "white",
           "zerolinewidth": 2
          },
          "yaxis": {
           "automargin": true,
           "gridcolor": "white",
           "linecolor": "white",
           "ticks": "",
           "title": {
            "standoff": 15
           },
           "zerolinecolor": "white",
           "zerolinewidth": 2
          }
         }
        },
        "title": {
         "text": "no usable ace"
        },
        "width": 700
       }
      }
     },
     "metadata": {},
     "output_type": "display_data"
    }
   ],
   "source": [
    "fig = go.Figure(\n",
    "    data=[\n",
    "        go.Mesh3d(\n",
    "            x=[v[0][0] for v in V if v[0][2] % 2 == 0],\n",
    "            y=[v[0][1] for v in V if v[0][2] % 2 == 0],\n",
    "            z=[v[1] for v in V if v[0][2] % 2 == 0],\n",
    "            opacity=0.5,\n",
    "            color=\"rgba(244,22,100,0.6)\",\n",
    "        )\n",
    "    ]\n",
    ")\n",
    "\n",
    "fig.update_layout(\n",
    "    title=\"no usable ace\",\n",
    "    scene=dict(\n",
    "        xaxis=dict(\n",
    "            nticks=4,\n",
    "            title=\"my sum\",\n",
    "            range=[10, 25],\n",
    "        ),\n",
    "        yaxis=dict(\n",
    "            title=\"dealer show\",\n",
    "            nticks=4,\n",
    "            range=[0, 12],\n",
    "        ),\n",
    "        zaxis=dict(\n",
    "            title=\"state value\",\n",
    "            nticks=4,\n",
    "            range=[-1, 1],\n",
    "        ),\n",
    "    ),\n",
    "    width=700,\n",
    ")\n",
    "\n",
    "fig.show()\n"
   ]
  },
  {
   "cell_type": "code",
   "execution_count": 70,
   "metadata": {},
   "outputs": [
    {
     "data": {
      "application/vnd.plotly.v1+json": {
       "config": {
        "plotlyServerURL": "https://plot.ly"
       },
       "data": [
        {
         "color": "rgba(244,22,100,0.6)",
         "opacity": 0.5,
         "type": "mesh3d",
         "x": [
          12,
          12,
          12,
          12,
          12,
          12,
          12,
          12,
          12,
          12,
          13,
          13,
          13,
          13,
          13,
          13,
          13,
          13,
          13,
          13,
          14,
          14,
          14,
          14,
          14,
          14,
          14,
          14,
          14,
          14,
          15,
          15,
          15,
          15,
          15,
          15,
          15,
          15,
          15,
          15,
          16,
          16,
          16,
          16,
          16,
          16,
          16,
          16,
          16,
          16,
          17,
          17,
          17,
          17,
          17,
          17,
          17,
          17,
          17,
          17,
          18,
          18,
          18,
          18,
          18,
          18,
          18,
          18,
          18,
          18,
          19,
          19,
          19,
          19,
          19,
          19,
          19,
          19,
          19,
          19,
          20,
          20,
          20,
          20,
          20,
          20,
          20,
          20,
          20,
          20,
          21,
          21,
          21,
          21,
          21,
          21,
          21,
          21,
          21,
          21
         ],
         "y": [
          1,
          2,
          3,
          4,
          5,
          6,
          7,
          8,
          9,
          10,
          1,
          2,
          3,
          4,
          5,
          6,
          7,
          8,
          9,
          10,
          1,
          2,
          3,
          4,
          5,
          6,
          7,
          8,
          9,
          10,
          1,
          2,
          3,
          4,
          5,
          6,
          7,
          8,
          9,
          10,
          1,
          2,
          3,
          4,
          5,
          6,
          7,
          8,
          9,
          10,
          1,
          2,
          3,
          4,
          5,
          6,
          7,
          8,
          9,
          10,
          1,
          2,
          3,
          4,
          5,
          6,
          7,
          8,
          9,
          10,
          1,
          2,
          3,
          4,
          5,
          6,
          7,
          8,
          9,
          10,
          1,
          2,
          3,
          4,
          5,
          6,
          7,
          8,
          9,
          10,
          1,
          2,
          3,
          4,
          5,
          6,
          7,
          8,
          9,
          10
         ],
         "z": [
          -0.2283464566929134,
          -0.06315789473684211,
          0.007874015748031496,
          0.2542372881355932,
          0.2903225806451613,
          0.14,
          0.26666666666666666,
          0.10891089108910891,
          0.09565217391304348,
          -0.17787418655097614,
          -0.24081632653061225,
          0.027450980392156862,
          0.05415162454873646,
          0.10204081632653061,
          0.18867924528301888,
          0.23770491803278687,
          0.155893536121673,
          0.049107142857142856,
          -0.06557377049180328,
          -0.15060240963855423,
          -0.32432432432432434,
          0.08214285714285714,
          0.018050541516245487,
          0.11740890688259109,
          0.16129032258064516,
          0.008298755186721992,
          0.17695473251028807,
          0.003787878787878788,
          -0.1803921568627451,
          -0.19516908212560385,
          -0.35251798561151076,
          -0.07017543859649122,
          0.021897810218978103,
          0.03214285714285714,
          0.14388489208633093,
          0.1453287197231834,
          0.031141868512110725,
          0.06159420289855073,
          -0.05,
          -0.23465703971119134,
          -0.3938356164383562,
          0.08304498269896193,
          0.03058103975535168,
          0.05904059040590406,
          0.015267175572519083,
          0.14093959731543623,
          0.042704626334519574,
          -0.03666666666666667,
          -0.21103896103896103,
          -0.2527105921601334,
          -0.345679012345679,
          0.05934718100890208,
          -0.049019607843137254,
          0.05622489959839357,
          0.11295681063122924,
          0.12337662337662338,
          0.006920415224913495,
          -0.10596026490066225,
          -0.1044776119402985,
          -0.26656511805026656,
          -0.4094955489614243,
          0.13253012048192772,
          0.1540880503144654,
          0.21292775665399238,
          0.22435897435897437,
          0.3177570093457944,
          0.41420118343195267,
          0.0855457227138643,
          -0.17100371747211895,
          -0.17899929527836506,
          -0.08192090395480225,
          0.43626062322946174,
          0.3413793103448276,
          0.4124293785310734,
          0.4647887323943662,
          0.40294117647058825,
          0.5807365439093485,
          0.568733153638814,
          0.2520775623268698,
          0.020166898470097356,
          0.12903225806451613,
          0.6214833759590793,
          0.6282722513089005,
          0.6709183673469388,
          0.63,
          0.6831168831168831,
          0.8189189189189189,
          0.7990314769975787,
          0.7562189054726368,
          0.41515544041450775,
          0.6972727272727273,
          0.9854545454545455,
          0.9823747680890538,
          0.9794275491949911,
          0.9860017497812773,
          0.9782608695652174,
          0.9872146118721461,
          0.9879310344827587,
          0.9926605504587156,
          0.9242807825086307
         ]
        }
       ],
       "layout": {
        "scene": {
         "xaxis": {
          "nticks": 4,
          "range": [
           10,
           25
          ],
          "title": {
           "text": "my sum"
          }
         },
         "yaxis": {
          "nticks": 4,
          "range": [
           0,
           12
          ],
          "title": {
           "text": "dealer show"
          }
         },
         "zaxis": {
          "nticks": 4,
          "range": [
           -1,
           1
          ],
          "title": {
           "text": "state value"
          }
         }
        },
        "template": {
         "data": {
          "bar": [
           {
            "error_x": {
             "color": "#2a3f5f"
            },
            "error_y": {
             "color": "#2a3f5f"
            },
            "marker": {
             "line": {
              "color": "#E5ECF6",
              "width": 0.5
             },
             "pattern": {
              "fillmode": "overlay",
              "size": 10,
              "solidity": 0.2
             }
            },
            "type": "bar"
           }
          ],
          "barpolar": [
           {
            "marker": {
             "line": {
              "color": "#E5ECF6",
              "width": 0.5
             },
             "pattern": {
              "fillmode": "overlay",
              "size": 10,
              "solidity": 0.2
             }
            },
            "type": "barpolar"
           }
          ],
          "carpet": [
           {
            "aaxis": {
             "endlinecolor": "#2a3f5f",
             "gridcolor": "white",
             "linecolor": "white",
             "minorgridcolor": "white",
             "startlinecolor": "#2a3f5f"
            },
            "baxis": {
             "endlinecolor": "#2a3f5f",
             "gridcolor": "white",
             "linecolor": "white",
             "minorgridcolor": "white",
             "startlinecolor": "#2a3f5f"
            },
            "type": "carpet"
           }
          ],
          "choropleth": [
           {
            "colorbar": {
             "outlinewidth": 0,
             "ticks": ""
            },
            "type": "choropleth"
           }
          ],
          "contour": [
           {
            "colorbar": {
             "outlinewidth": 0,
             "ticks": ""
            },
            "colorscale": [
             [
              0,
              "#0d0887"
             ],
             [
              0.1111111111111111,
              "#46039f"
             ],
             [
              0.2222222222222222,
              "#7201a8"
             ],
             [
              0.3333333333333333,
              "#9c179e"
             ],
             [
              0.4444444444444444,
              "#bd3786"
             ],
             [
              0.5555555555555556,
              "#d8576b"
             ],
             [
              0.6666666666666666,
              "#ed7953"
             ],
             [
              0.7777777777777778,
              "#fb9f3a"
             ],
             [
              0.8888888888888888,
              "#fdca26"
             ],
             [
              1,
              "#f0f921"
             ]
            ],
            "type": "contour"
           }
          ],
          "contourcarpet": [
           {
            "colorbar": {
             "outlinewidth": 0,
             "ticks": ""
            },
            "type": "contourcarpet"
           }
          ],
          "heatmap": [
           {
            "colorbar": {
             "outlinewidth": 0,
             "ticks": ""
            },
            "colorscale": [
             [
              0,
              "#0d0887"
             ],
             [
              0.1111111111111111,
              "#46039f"
             ],
             [
              0.2222222222222222,
              "#7201a8"
             ],
             [
              0.3333333333333333,
              "#9c179e"
             ],
             [
              0.4444444444444444,
              "#bd3786"
             ],
             [
              0.5555555555555556,
              "#d8576b"
             ],
             [
              0.6666666666666666,
              "#ed7953"
             ],
             [
              0.7777777777777778,
              "#fb9f3a"
             ],
             [
              0.8888888888888888,
              "#fdca26"
             ],
             [
              1,
              "#f0f921"
             ]
            ],
            "type": "heatmap"
           }
          ],
          "heatmapgl": [
           {
            "colorbar": {
             "outlinewidth": 0,
             "ticks": ""
            },
            "colorscale": [
             [
              0,
              "#0d0887"
             ],
             [
              0.1111111111111111,
              "#46039f"
             ],
             [
              0.2222222222222222,
              "#7201a8"
             ],
             [
              0.3333333333333333,
              "#9c179e"
             ],
             [
              0.4444444444444444,
              "#bd3786"
             ],
             [
              0.5555555555555556,
              "#d8576b"
             ],
             [
              0.6666666666666666,
              "#ed7953"
             ],
             [
              0.7777777777777778,
              "#fb9f3a"
             ],
             [
              0.8888888888888888,
              "#fdca26"
             ],
             [
              1,
              "#f0f921"
             ]
            ],
            "type": "heatmapgl"
           }
          ],
          "histogram": [
           {
            "marker": {
             "pattern": {
              "fillmode": "overlay",
              "size": 10,
              "solidity": 0.2
             }
            },
            "type": "histogram"
           }
          ],
          "histogram2d": [
           {
            "colorbar": {
             "outlinewidth": 0,
             "ticks": ""
            },
            "colorscale": [
             [
              0,
              "#0d0887"
             ],
             [
              0.1111111111111111,
              "#46039f"
             ],
             [
              0.2222222222222222,
              "#7201a8"
             ],
             [
              0.3333333333333333,
              "#9c179e"
             ],
             [
              0.4444444444444444,
              "#bd3786"
             ],
             [
              0.5555555555555556,
              "#d8576b"
             ],
             [
              0.6666666666666666,
              "#ed7953"
             ],
             [
              0.7777777777777778,
              "#fb9f3a"
             ],
             [
              0.8888888888888888,
              "#fdca26"
             ],
             [
              1,
              "#f0f921"
             ]
            ],
            "type": "histogram2d"
           }
          ],
          "histogram2dcontour": [
           {
            "colorbar": {
             "outlinewidth": 0,
             "ticks": ""
            },
            "colorscale": [
             [
              0,
              "#0d0887"
             ],
             [
              0.1111111111111111,
              "#46039f"
             ],
             [
              0.2222222222222222,
              "#7201a8"
             ],
             [
              0.3333333333333333,
              "#9c179e"
             ],
             [
              0.4444444444444444,
              "#bd3786"
             ],
             [
              0.5555555555555556,
              "#d8576b"
             ],
             [
              0.6666666666666666,
              "#ed7953"
             ],
             [
              0.7777777777777778,
              "#fb9f3a"
             ],
             [
              0.8888888888888888,
              "#fdca26"
             ],
             [
              1,
              "#f0f921"
             ]
            ],
            "type": "histogram2dcontour"
           }
          ],
          "mesh3d": [
           {
            "colorbar": {
             "outlinewidth": 0,
             "ticks": ""
            },
            "type": "mesh3d"
           }
          ],
          "parcoords": [
           {
            "line": {
             "colorbar": {
              "outlinewidth": 0,
              "ticks": ""
             }
            },
            "type": "parcoords"
           }
          ],
          "pie": [
           {
            "automargin": true,
            "type": "pie"
           }
          ],
          "scatter": [
           {
            "marker": {
             "colorbar": {
              "outlinewidth": 0,
              "ticks": ""
             }
            },
            "type": "scatter"
           }
          ],
          "scatter3d": [
           {
            "line": {
             "colorbar": {
              "outlinewidth": 0,
              "ticks": ""
             }
            },
            "marker": {
             "colorbar": {
              "outlinewidth": 0,
              "ticks": ""
             }
            },
            "type": "scatter3d"
           }
          ],
          "scattercarpet": [
           {
            "marker": {
             "colorbar": {
              "outlinewidth": 0,
              "ticks": ""
             }
            },
            "type": "scattercarpet"
           }
          ],
          "scattergeo": [
           {
            "marker": {
             "colorbar": {
              "outlinewidth": 0,
              "ticks": ""
             }
            },
            "type": "scattergeo"
           }
          ],
          "scattergl": [
           {
            "marker": {
             "colorbar": {
              "outlinewidth": 0,
              "ticks": ""
             }
            },
            "type": "scattergl"
           }
          ],
          "scattermapbox": [
           {
            "marker": {
             "colorbar": {
              "outlinewidth": 0,
              "ticks": ""
             }
            },
            "type": "scattermapbox"
           }
          ],
          "scatterpolar": [
           {
            "marker": {
             "colorbar": {
              "outlinewidth": 0,
              "ticks": ""
             }
            },
            "type": "scatterpolar"
           }
          ],
          "scatterpolargl": [
           {
            "marker": {
             "colorbar": {
              "outlinewidth": 0,
              "ticks": ""
             }
            },
            "type": "scatterpolargl"
           }
          ],
          "scatterternary": [
           {
            "marker": {
             "colorbar": {
              "outlinewidth": 0,
              "ticks": ""
             }
            },
            "type": "scatterternary"
           }
          ],
          "surface": [
           {
            "colorbar": {
             "outlinewidth": 0,
             "ticks": ""
            },
            "colorscale": [
             [
              0,
              "#0d0887"
             ],
             [
              0.1111111111111111,
              "#46039f"
             ],
             [
              0.2222222222222222,
              "#7201a8"
             ],
             [
              0.3333333333333333,
              "#9c179e"
             ],
             [
              0.4444444444444444,
              "#bd3786"
             ],
             [
              0.5555555555555556,
              "#d8576b"
             ],
             [
              0.6666666666666666,
              "#ed7953"
             ],
             [
              0.7777777777777778,
              "#fb9f3a"
             ],
             [
              0.8888888888888888,
              "#fdca26"
             ],
             [
              1,
              "#f0f921"
             ]
            ],
            "type": "surface"
           }
          ],
          "table": [
           {
            "cells": {
             "fill": {
              "color": "#EBF0F8"
             },
             "line": {
              "color": "white"
             }
            },
            "header": {
             "fill": {
              "color": "#C8D4E3"
             },
             "line": {
              "color": "white"
             }
            },
            "type": "table"
           }
          ]
         },
         "layout": {
          "annotationdefaults": {
           "arrowcolor": "#2a3f5f",
           "arrowhead": 0,
           "arrowwidth": 1
          },
          "autotypenumbers": "strict",
          "coloraxis": {
           "colorbar": {
            "outlinewidth": 0,
            "ticks": ""
           }
          },
          "colorscale": {
           "diverging": [
            [
             0,
             "#8e0152"
            ],
            [
             0.1,
             "#c51b7d"
            ],
            [
             0.2,
             "#de77ae"
            ],
            [
             0.3,
             "#f1b6da"
            ],
            [
             0.4,
             "#fde0ef"
            ],
            [
             0.5,
             "#f7f7f7"
            ],
            [
             0.6,
             "#e6f5d0"
            ],
            [
             0.7,
             "#b8e186"
            ],
            [
             0.8,
             "#7fbc41"
            ],
            [
             0.9,
             "#4d9221"
            ],
            [
             1,
             "#276419"
            ]
           ],
           "sequential": [
            [
             0,
             "#0d0887"
            ],
            [
             0.1111111111111111,
             "#46039f"
            ],
            [
             0.2222222222222222,
             "#7201a8"
            ],
            [
             0.3333333333333333,
             "#9c179e"
            ],
            [
             0.4444444444444444,
             "#bd3786"
            ],
            [
             0.5555555555555556,
             "#d8576b"
            ],
            [
             0.6666666666666666,
             "#ed7953"
            ],
            [
             0.7777777777777778,
             "#fb9f3a"
            ],
            [
             0.8888888888888888,
             "#fdca26"
            ],
            [
             1,
             "#f0f921"
            ]
           ],
           "sequentialminus": [
            [
             0,
             "#0d0887"
            ],
            [
             0.1111111111111111,
             "#46039f"
            ],
            [
             0.2222222222222222,
             "#7201a8"
            ],
            [
             0.3333333333333333,
             "#9c179e"
            ],
            [
             0.4444444444444444,
             "#bd3786"
            ],
            [
             0.5555555555555556,
             "#d8576b"
            ],
            [
             0.6666666666666666,
             "#ed7953"
            ],
            [
             0.7777777777777778,
             "#fb9f3a"
            ],
            [
             0.8888888888888888,
             "#fdca26"
            ],
            [
             1,
             "#f0f921"
            ]
           ]
          },
          "colorway": [
           "#636efa",
           "#EF553B",
           "#00cc96",
           "#ab63fa",
           "#FFA15A",
           "#19d3f3",
           "#FF6692",
           "#B6E880",
           "#FF97FF",
           "#FECB52"
          ],
          "font": {
           "color": "#2a3f5f"
          },
          "geo": {
           "bgcolor": "white",
           "lakecolor": "white",
           "landcolor": "#E5ECF6",
           "showlakes": true,
           "showland": true,
           "subunitcolor": "white"
          },
          "hoverlabel": {
           "align": "left"
          },
          "hovermode": "closest",
          "mapbox": {
           "style": "light"
          },
          "paper_bgcolor": "white",
          "plot_bgcolor": "#E5ECF6",
          "polar": {
           "angularaxis": {
            "gridcolor": "white",
            "linecolor": "white",
            "ticks": ""
           },
           "bgcolor": "#E5ECF6",
           "radialaxis": {
            "gridcolor": "white",
            "linecolor": "white",
            "ticks": ""
           }
          },
          "scene": {
           "xaxis": {
            "backgroundcolor": "#E5ECF6",
            "gridcolor": "white",
            "gridwidth": 2,
            "linecolor": "white",
            "showbackground": true,
            "ticks": "",
            "zerolinecolor": "white"
           },
           "yaxis": {
            "backgroundcolor": "#E5ECF6",
            "gridcolor": "white",
            "gridwidth": 2,
            "linecolor": "white",
            "showbackground": true,
            "ticks": "",
            "zerolinecolor": "white"
           },
           "zaxis": {
            "backgroundcolor": "#E5ECF6",
            "gridcolor": "white",
            "gridwidth": 2,
            "linecolor": "white",
            "showbackground": true,
            "ticks": "",
            "zerolinecolor": "white"
           }
          },
          "shapedefaults": {
           "line": {
            "color": "#2a3f5f"
           }
          },
          "ternary": {
           "aaxis": {
            "gridcolor": "white",
            "linecolor": "white",
            "ticks": ""
           },
           "baxis": {
            "gridcolor": "white",
            "linecolor": "white",
            "ticks": ""
           },
           "bgcolor": "#E5ECF6",
           "caxis": {
            "gridcolor": "white",
            "linecolor": "white",
            "ticks": ""
           }
          },
          "title": {
           "x": 0.05
          },
          "xaxis": {
           "automargin": true,
           "gridcolor": "white",
           "linecolor": "white",
           "ticks": "",
           "title": {
            "standoff": 15
           },
           "zerolinecolor": "white",
           "zerolinewidth": 2
          },
          "yaxis": {
           "automargin": true,
           "gridcolor": "white",
           "linecolor": "white",
           "ticks": "",
           "title": {
            "standoff": 15
           },
           "zerolinecolor": "white",
           "zerolinewidth": 2
          }
         }
        },
        "title": {
         "text": "has usable ace"
        },
        "width": 700
       }
      }
     },
     "metadata": {},
     "output_type": "display_data"
    }
   ],
   "source": [
    "fig = go.Figure(\n",
    "    data=[\n",
    "        go.Mesh3d(\n",
    "            x=[v[0][0] for v in V if v[0][2] % 2 == 1],\n",
    "            y=[v[0][1] for v in V if v[0][2] % 2 == 1],\n",
    "            z=[v[1] for v in V if v[0][2] % 2 == 1],\n",
    "            opacity=0.5,\n",
    "            color=\"rgba(244,22,100,0.6)\",\n",
    "        )\n",
    "    ]\n",
    ")\n",
    "\n",
    "fig.update_layout(\n",
    "    title=\"has usable ace\",\n",
    "    scene=dict(\n",
    "        xaxis=dict(\n",
    "            nticks=4,\n",
    "            title=\"my sum\",\n",
    "            range=[10, 25],\n",
    "        ),\n",
    "        yaxis=dict(\n",
    "            title=\"dealer show\",\n",
    "            nticks=4,\n",
    "            range=[0, 12],\n",
    "        ),\n",
    "        zaxis=dict(\n",
    "            title=\"state value\",\n",
    "            nticks=4,\n",
    "            range=[-1, 1],\n",
    "        ),\n",
    "    ),\n",
    "    width=700,\n",
    ")\n",
    "\n",
    "fig.show()\n"
   ]
  },
  {
   "cell_type": "code",
   "execution_count": 83,
   "metadata": {},
   "outputs": [
    {
     "data": {
      "text/plain": [
       "1"
      ]
     },
     "execution_count": 83,
     "metadata": {},
     "output_type": "execute_result"
    }
   ],
   "source": [
    "agent.pai[get_state_index((12, 2, False))]\n"
   ]
  }
 ],
 "metadata": {
  "interpreter": {
   "hash": "916dbcbb3f70747c44a77c7bcd40155683ae19c65e1c03b4aa3499c5328201f1"
  },
  "kernelspec": {
   "display_name": "Python 3.8.10 64-bit",
   "language": "python",
   "name": "python3"
  },
  "language_info": {
   "codemirror_mode": {
    "name": "ipython",
    "version": 3
   },
   "file_extension": ".py",
   "mimetype": "text/x-python",
   "name": "python",
   "nbconvert_exporter": "python",
   "pygments_lexer": "ipython3",
   "version": "3.8.10"
  },
  "orig_nbformat": 4
 },
 "nbformat": 4,
 "nbformat_minor": 2
}
